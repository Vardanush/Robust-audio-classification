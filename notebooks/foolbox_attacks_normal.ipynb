{
 "cells": [
  {
   "cell_type": "code",
   "execution_count": null,
   "metadata": {},
   "outputs": [],
   "source": [
    "import warnings\n",
    "warnings.filterwarnings('ignore')\n",
    "\n",
    "import sys\n",
    "pkg_path = \"/nfs/students/winter-term-2020/project-1/project-1/audio_classification\"\n",
    "if pkg_path not in sys.path:\n",
    "    sys.path.append(pkg_path)\n",
    "\n",
    "import time\n",
    "import yaml\n",
    "import torch\n",
    "from audio_classification.tools import do_train, get_dataloader, get_model, get_transform\n",
    "from audio_classification.tools.train_net import collate\n",
    "from audio_classification.model import lit_m11, LitCRNN\n",
    "from audio_classification.data import BMWDataset\n",
    "\n",
    "from foolbox import PyTorchModel, accuracy, samples\n",
    "from foolbox.attacks import LinfPGD, L2PGD, FGM, FGSM, L2AdditiveGaussianNoiseAttack, L2AdditiveUniformNoiseAttack, L2ClippingAwareAdditiveGaussianNoiseAttack, L2ClippingAwareAdditiveUniformNoiseAttack\n",
    "\n",
    "from torch.utils.data import DataLoader\n",
    "\n",
    "import numpy as np\n",
    "import matplotlib.pyplot as plt\n",
    "%matplotlib inline"
   ]
  },
  {
   "cell_type": "code",
   "execution_count": null,
   "metadata": {},
   "outputs": [],
   "source": [
    "# instantiate a model \n",
    "with open(\"/nfs/students/winter-term-2020/project-1/project-1/audio_classification/configs/crnn_bmw.yaml\", \"r\") as config_file:\n",
    "    configs = yaml.load(config_file)\n",
    "path_to_checkpoint = '/nfs/homedirs/yuny/project-1/weights/' + 'bmw_week3/crnn-bmw-fold1-epoch=33-val_acc=0.984.ckpt'\n",
    "model = LitCRNN.load_from_checkpoint(path_to_checkpoint, cfg=configs)\n",
    "fmodel = PyTorchModel(model, bounds=(-200, 200))\n",
    "# use validattion set\n",
    "val_set = BMWDataset(configs, [1], transform=get_transform(configs))\n",
    "val_loader = DataLoader(val_set, batch_size=10, shuffle=True,\n",
    "                                num_workers=configs[\"DATALOADER\"][\"NUM_WORKERS\"],\n",
    "                                pin_memory=True, collate_fn = collate)\n",
    "it = iter(val_loader)"
   ]
  },
  {
   "cell_type": "code",
   "execution_count": null,
   "metadata": {},
   "outputs": [],
   "source": [
    "# evaluate accuracy on clean data on a batch\n",
    "device = (torch.device('cuda') if torch.cuda.is_available() else torch.device('cpu'))\n",
    "batch = next(it)\n",
    "clips = batch[0].to(device)\n",
    "labels = batch[1].to(device)\n",
    "lengths = batch[2].to(device)   # used only for CRNN\n",
    "inputs = {'x': clips, 'lens': lengths}\n",
    "out = model(clips)\n",
    "preds = torch.argmax(out, dim=1)\n",
    "# clean_acc = accuracy(fmodel, clips, lengths, labels)\n",
    "# print(f\"clean accuracy:  {clean_acc * 100:.1f} %\")"
   ]
  },
  {
   "cell_type": "code",
   "execution_count": null,
   "metadata": {},
   "outputs": [],
   "source": [
    "# Visualize adverserial sample\n",
    "attack = FGM()\n",
    "raw, clipped, is_adv = attack(fmodel, inputs, labels, epsilons=40)\n",
    "\n",
    "is_adv = is_adv.cpu()\n",
    "clipped = clipped.cpu()\n",
    "print(\"It is %s that this is an adverserial sample.\" %(is_adv[16]))\n",
    "plt.pcolormesh(clipped[16].squeeze().numpy(), shading='gouraud')\n",
    "plt.ylabel('Frequency [Hz]')\n",
    "plt.xlabel('Time [sec]')\n",
    "plt.show()"
   ]
  },
  {
   "cell_type": "code",
   "execution_count": null,
   "metadata": {},
   "outputs": [],
   "source": [
    "# The predicted class of the adverserial sample\n",
    "out = model(batch[1][16])\n",
    "pred = torch.argmax(out, dim=1)\n",
    "print(pred)"
   ]
  },
  {
   "cell_type": "code",
   "execution_count": null,
   "metadata": {},
   "outputs": [],
   "source": [
    "# Visualize original sample\n",
    "sample = batch[0]\n",
    "print(\"label %s\" %(batch[1][16]))\n",
    "print(sample[16].shape)\n",
    "plt.pcolormesh(sample[16].squeeze().numpy(), shading='gouraud')\n",
    "plt.ylabel('Frequency [Hz]')\n",
    "plt.xlabel('Time [sec]')\n",
    "plt.show()"
   ]
  },
  {
   "cell_type": "code",
   "execution_count": null,
   "metadata": {},
   "outputs": [],
   "source": [
    "# evaluate robustness with L-inf projected gradient descent attack\n",
    "attack = LinfPGD()\n",
    "epsilons = np.linspace(0.0, 0.5, num=50)\n",
    "\n",
    "start_time = time.perf_counter()\n",
    "raw, clipped, is_adv = attack(fmodel, clips, labels, epsilons=epsilons)\n",
    "end_time = time.perf_counter()\n",
    "print(f\"Generated attacks in {end_time - start_time:0.2f} seconds\")\n",
    "\n",
    "robust_accuracy = 1 - is_adv.double().mean(axis=-1)"
   ]
  },
  {
   "cell_type": "code",
   "execution_count": null,
   "metadata": {},
   "outputs": [],
   "source": [
    "plt.title(\"L-inf Projected Gradient Descent Attack\")\n",
    "plt.xlabel(\"epsilon\")\n",
    "plt.ylabel(\"accuracy\")\n",
    "plt.plot(epsilons, robust_accuracy.to('cpu').numpy())"
   ]
  },
  {
   "cell_type": "code",
   "execution_count": null,
   "metadata": {},
   "outputs": [],
   "source": [
    "# evaluate robustness with L-2 projected gradient descent attack\n",
    "attack = L2PGD()\n",
    "epsilons = np.linspace(0.0, 40, num=50)\n",
    "\n",
    "start_time = time.perf_counter()\n",
    "raw, clipped, is_adv = attack(fmodel, clips, labels, epsilons=epsilons)\n",
    "end_time = time.perf_counter()\n",
    "print(f\"Generated attacks in {end_time - start_time:0.2f} seconds\")\n",
    "\n",
    "robust_accuracy = 1 - is_adv.double().mean(axis=-1)"
   ]
  },
  {
   "cell_type": "code",
   "execution_count": null,
   "metadata": {},
   "outputs": [],
   "source": [
    "plt.title(\"L-2 Projected Gradient Descent Attack\")\n",
    "plt.xlabel(\"epsilon\")\n",
    "plt.ylabel(\"accuracy\")\n",
    "plt.plot(epsilons, robust_accuracy.to('cpu').numpy())"
   ]
  },
  {
   "cell_type": "code",
   "execution_count": null,
   "metadata": {},
   "outputs": [],
   "source": [
    "# evaluate robustness with L-2 Fast Gradient Attack\n",
    "attack = FGM()\n",
    "epsilons = np.linspace(0.0, 40, num=200)\n",
    "\n",
    "start_time = time.perf_counter()\n",
    "raw, clipped, is_adv = attack(fmodel, clips, labels, epsilons=epsilons)\n",
    "end_time = time.perf_counter()\n",
    "print(f\"Generated attacks in {end_time - start_time:0.2f} seconds\")\n",
    "\n",
    "robust_accuracy = 1 - is_adv.double().mean(axis=-1)"
   ]
  },
  {
   "cell_type": "code",
   "execution_count": null,
   "metadata": {},
   "outputs": [],
   "source": [
    "plt.title(\"L-2 Fast Gradient Attack\")\n",
    "plt.xlabel(\"epsilon\")\n",
    "plt.ylabel(\"accuracy\")\n",
    "plt.plot(epsilons, robust_accuracy.to('cpu').numpy())"
   ]
  },
  {
   "cell_type": "code",
   "execution_count": null,
   "metadata": {},
   "outputs": [],
   "source": [
    "# evaluate robustness with L-2 Fast Gradient Attack\n",
    "attack = FGSM()\n",
    "epsilons = np.linspace(0.0, 0.5, num=200)\n",
    "\n",
    "start_time = time.perf_counter()\n",
    "raw, clipped, is_adv = attack(fmodel, clips, labels, epsilons=epsilons)\n",
    "end_time = time.perf_counter()\n",
    "print(f\"Generated attacks in {end_time - start_time:0.2f} seconds\")\n",
    "\n",
    "robust_accuracy = 1 - is_adv.double().mean(axis=-1)"
   ]
  },
  {
   "cell_type": "code",
   "execution_count": null,
   "metadata": {},
   "outputs": [],
   "source": [
    "plt.title(\"L-inf Fast Gradient Attack\")\n",
    "plt.xlabel(\"epsilon\")\n",
    "plt.ylabel(\"accuracy\")\n",
    "plt.plot(epsilons, robust_accuracy.to('cpu').numpy())"
   ]
  },
  {
   "cell_type": "code",
   "execution_count": null,
   "metadata": {},
   "outputs": [],
   "source": [
    "# evaluate robustness with L-2 Additive Gaussian Noise Attack\n",
    "attack = L2ClippingAwareAdditiveGaussianNoiseAttack()\n",
    "epsilons = np.linspace(0.0, 40, num=200)\n",
    "\n",
    "start_time = time.perf_counter()\n",
    "raw, clipped, is_adv = attack(fmodel, clips, labels, epsilons=epsilons)\n",
    "end_time = time.perf_counter()\n",
    "print(f\"Generated attacks in {end_time - start_time:0.2f} seconds\")\n",
    "\n",
    "robust_accuracy = 1 - is_adv.double().mean(axis=-1)"
   ]
  },
  {
   "cell_type": "code",
   "execution_count": null,
   "metadata": {},
   "outputs": [],
   "source": [
    "plt.title(\"L-2 Clipping-Aware Additive Gaussian Noise Attack\")\n",
    "plt.xlabel(\"epsilon\")\n",
    "plt.ylabel(\"accuracy\")\n",
    "plt.plot(epsilons, robust_accuracy.to('cpu').numpy())"
   ]
  }
 ],
 "metadata": {
  "kernelspec": {
   "display_name": "Python 3",
   "language": "python",
   "name": "python3"
  },
  "language_info": {
   "codemirror_mode": {
    "name": "ipython",
    "version": 3
   },
   "file_extension": ".py",
   "mimetype": "text/x-python",
   "name": "python",
   "nbconvert_exporter": "python",
   "pygments_lexer": "ipython3",
   "version": "3.7.8"
  }
 },
 "nbformat": 4,
 "nbformat_minor": 4
}
