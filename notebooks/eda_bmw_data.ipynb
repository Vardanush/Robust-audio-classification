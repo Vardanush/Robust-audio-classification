{
 "cells": [
  {
   "cell_type": "code",
   "execution_count": null,
   "metadata": {},
   "outputs": [],
   "source": [
    "import warnings\n",
    "warnings.filterwarnings('ignore')\n",
    "\n",
    "import matplotlib.pyplot as plt\n",
    "%matplotlib inline\n",
    "\n",
    "import yaml\n",
    "import numpy as np\n",
    "from audio_classification.data import BMWDataset\n",
    "from audio_classification.tools import get_transform"
   ]
  },
  {
   "cell_type": "code",
   "execution_count": null,
   "metadata": {},
   "outputs": [],
   "source": [
    "with open(\"/nfs/homedirs/yuny/project-1/audio_classification/configs/crnn_bmw_half.yaml\", \"r\") as config_file:\n",
    "    configs = yaml.load(config_file)"
   ]
  },
  {
   "cell_type": "code",
   "execution_count": null,
   "metadata": {},
   "outputs": [],
   "source": [
    "sets = BMWDataset(configs, transform=None)\n",
    "print(\"BMW dataset contains {} clips\".format(len(sets)))"
   ]
  },
  {
   "cell_type": "code",
   "execution_count": null,
   "metadata": {},
   "outputs": [],
   "source": [
    "labels = []\n",
    "lengths = []\n",
    "for i in range(0, len(sets)):\n",
    "    sample = sets.__getitem__(i)\n",
    "    lengths.append(sample[0].shape[1])\n",
    "    labels.append(sample[1])"
   ]
  },
  {
   "cell_type": "code",
   "execution_count": null,
   "metadata": {},
   "outputs": [],
   "source": [
    "# distribution of labels\n",
    "labels = np.array(labels)\n",
    "\n",
    "plt.title(\"Histogram for the labels of the BMW audio clips\")\n",
    "plt.hist(labels, bins=6)\n",
    "plt.show()"
   ]
  },
  {
   "cell_type": "code",
   "execution_count": null,
   "metadata": {},
   "outputs": [],
   "source": [
    "# distribution of audio length\n",
    "lengths = np.array(lengths)\n",
    "print(\"BMW audio clips have a median length of {:.2f}\".format(np.median(lengths)))\n",
    "\n",
    "plt.title(\"Histogram for the lengths of the BMW audio clips\")\n",
    "plt.hist(lengths)\n",
    "plt.show()"
   ]
  },
  {
   "cell_type": "code",
   "execution_count": null,
   "metadata": {},
   "outputs": [],
   "source": [
    "# visualize melspectrogram\n",
    "transform = get_transform(configs)\n",
    "sets = BMWDataset(configs, transform=transform)\n",
    "sample = sets.__getitem__(0)\n",
    "print(\"label %s\" %(sample[1]))\n",
    "print(sample[0].shape)\n",
    "plt.pcolormesh(sample[0].squeeze().numpy(), shading='gouraud')\n",
    "plt.ylabel('Frequency [Hz]')\n",
    "plt.xlabel('Time [sec]')\n",
    "plt.show()"
   ]
  }
 ],
 "metadata": {
  "kernelspec": {
   "display_name": "Python 3",
   "language": "python",
   "name": "python3"
  },
  "language_info": {
   "codemirror_mode": {
    "name": "ipython",
    "version": 3
   },
   "file_extension": ".py",
   "mimetype": "text/x-python",
   "name": "python",
   "nbconvert_exporter": "python",
   "pygments_lexer": "ipython3",
   "version": "3.7.8"
  }
 },
 "nbformat": 4,
 "nbformat_minor": 4
}
