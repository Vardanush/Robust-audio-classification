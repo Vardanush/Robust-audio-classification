{
 "cells": [
  {
   "cell_type": "code",
   "execution_count": 1,
   "metadata": {},
   "outputs": [],
   "source": [
    "import warnings\n",
    "warnings.filterwarnings('ignore')\n",
    "\n",
    "import yaml\n",
    "import pandas as pd\n",
    "import numpy as np\n",
    "from sklearn.model_selection import StratifiedKFold \n",
    "from audio_classification.data import BMWDataset"
   ]
  },
  {
   "cell_type": "code",
   "execution_count": 2,
   "metadata": {},
   "outputs": [],
   "source": [
    "with open(\"/nfs/homedirs/yuny/project-1/audio_classification/configs/crnn_bmw_test.yaml\", \"r\") as config_file:\n",
    "    configs = yaml.load(config_file)"
   ]
  },
  {
   "cell_type": "code",
   "execution_count": 3,
   "metadata": {},
   "outputs": [
    {
     "name": "stdout",
     "output_type": "stream",
     "text": [
      "BMW dataset contains 667 clips\n"
     ]
    }
   ],
   "source": [
    "bmw_set = BMWDataset(configs, [10], transform=None)\n",
    "print(\"BMW dataset contains {} clips\".format(len(bmw_set)))"
   ]
  },
  {
   "cell_type": "code",
   "execution_count": 10,
   "metadata": {},
   "outputs": [],
   "source": [
    "X = np.array(bmw_set.audios)\n",
    "y = np.array(bmw_set.labels)"
   ]
  },
  {
   "cell_type": "code",
   "execution_count": 11,
   "metadata": {},
   "outputs": [
    {
     "name": "stdout",
     "output_type": "stream",
     "text": [
      "Fold 1 contains 67 samples with class distribution: \n",
      "{0: 3, 1: 4, 2: 15, 3: 27, 4: 15, 5: 3}\n",
      "Fold 2 contains 67 samples with class distribution: \n",
      "{0: 3, 1: 4, 2: 15, 3: 27, 4: 15, 5: 3}\n",
      "Fold 3 contains 67 samples with class distribution: \n",
      "{0: 3, 1: 4, 2: 15, 3: 27, 4: 15, 5: 3}\n",
      "Fold 4 contains 67 samples with class distribution: \n",
      "{0: 2, 1: 5, 2: 14, 3: 27, 4: 15, 5: 4}\n",
      "Fold 5 contains 67 samples with class distribution: \n",
      "{0: 2, 1: 5, 2: 14, 3: 27, 4: 15, 5: 4}\n",
      "Fold 6 contains 67 samples with class distribution: \n",
      "{0: 2, 1: 5, 2: 14, 3: 27, 4: 15, 5: 4}\n",
      "Fold 7 contains 67 samples with class distribution: \n",
      "{0: 2, 1: 5, 2: 14, 3: 27, 4: 15, 5: 4}\n",
      "Fold 8 contains 66 samples with class distribution: \n",
      "{0: 2, 1: 5, 2: 14, 3: 27, 4: 15, 5: 3}\n",
      "Fold 9 contains 66 samples with class distribution: \n",
      "{0: 2, 1: 4, 2: 15, 3: 27, 4: 15, 5: 3}\n",
      "Fold 10 contains 66 samples with class distribution: \n",
      "{0: 2, 1: 4, 2: 15, 3: 27, 4: 15, 5: 3}\n"
     ]
    }
   ],
   "source": [
    "# STRATIFIES K-FOLD CROSS VALIDATION { 10-fold } \n",
    "kfold = StratifiedKFold(n_splits=10, shuffle=True, random_state=1)\n",
    "meta = []\n",
    "fold = 1\n",
    "for train_ix, test_ix in kfold.split(X, y):\n",
    "    train_X, test_X = X[train_ix], X[test_ix]\n",
    "    train_y, test_y = y[train_ix], y[test_ix]\n",
    "    unique, counts = np.unique(test_y, return_counts=True)\n",
    "    \n",
    "    print(\"Fold {} contains {} samples with class distribution: \".format(fold, len(test_y)))\n",
    "    print(dict(zip(unique, counts)))\n",
    "    fold_meta = np.vstack((X[test_ix] ,np.full(len(test_y), fold) ,y[test_ix])).T.tolist()\n",
    "    meta += fold_meta\n",
    "    \n",
    "    fold = fold + 1"
   ]
  },
  {
   "cell_type": "code",
   "execution_count": 12,
   "metadata": {},
   "outputs": [
    {
     "name": "stdout",
     "output_type": "stream",
     "text": [
      "Meta records of 667 BMW clips is writen to ../datasets/BMW/bmw.csv\n"
     ]
    }
   ],
   "source": [
    "df = pd.DataFrame(meta) # construct data frame and transpose\n",
    "df = df.rename(columns={0: \"slice_file_name\", 1: \"fold\", 2: \"classID\"})\n",
    "file_name = '../datasets/BMW/bmw.csv'\n",
    "df.to_csv(file_name, header=True, index=False, sep=',')\n",
    "print(\"Meta records of {} BMW clips is writen to {}\".format(df.shape[0], file_name))"
   ]
  }
 ],
 "metadata": {
  "kernelspec": {
   "display_name": "Python 3",
   "language": "python",
   "name": "python3"
  },
  "language_info": {
   "codemirror_mode": {
    "name": "ipython",
    "version": 3
   },
   "file_extension": ".py",
   "mimetype": "text/x-python",
   "name": "python",
   "nbconvert_exporter": "python",
   "pygments_lexer": "ipython3",
   "version": "3.7.8"
  }
 },
 "nbformat": 4,
 "nbformat_minor": 4
}
