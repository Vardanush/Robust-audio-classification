{
 "cells": [
  {
   "cell_type": "code",
   "execution_count": 1,
   "metadata": {},
   "outputs": [],
   "source": [
    "import warnings\n",
    "warnings.filterwarnings('ignore')\n",
    "\n",
    "import sys\n",
    "pkg_path = \"/nfs/students/winter-term-2020/project-1/project-1/audio_classification\"\n",
    "if pkg_path not in sys.path:\n",
    "    sys.path.append(pkg_path)\n",
    "    \n",
    "import yaml\n",
    "from audio_classification.tools import do_train"
   ]
  },
  {
   "cell_type": "code",
   "execution_count": 2,
   "metadata": {},
   "outputs": [],
   "source": [
    "import yaml\n",
    "with open(\"/nfs/students/winter-term-2020/project-1/project-1/audio_classification/configs/crnn_bmw.yaml\", \"r\") as config_file:\n",
    "    configs = yaml.load(config_file)"
   ]
  },
  {
   "cell_type": "code",
   "execution_count": 3,
   "metadata": {},
   "outputs": [
    {
     "name": "stderr",
     "output_type": "stream",
     "text": [
      "GPU available: True, used: True\n",
      "TPU available: False, using: 0 TPU cores\n",
      "LOCAL_RANK: 0 - CUDA_VISIBLE_DEVICES: [0]\n",
      "Set SLURM handle signals.\n",
      "\n",
      "   | Name           | Type        | Params\n",
      "------------------------------------------------\n",
      "0  | val_precision  | Precision   | 0     \n",
      "1  | val_recall     | Recall      | 0     \n",
      "2  | test_precision | Precision   | 0     \n",
      "3  | test_recall    | Recall      | 0     \n",
      "4  | conv1          | Conv2d      | 640   \n",
      "5  | bn1            | BatchNorm2d | 128   \n",
      "6  | dropout1       | Dropout     | 0     \n",
      "7  | conv2          | Conv2d      | 73.9 K\n",
      "8  | bn2            | BatchNorm2d | 256   \n",
      "9  | dropout2       | Dropout     | 0     \n",
      "10 | conv3          | Conv2d      | 147 K \n",
      "11 | bn3            | BatchNorm2d | 256   \n",
      "12 | dropout3       | Dropout     | 0     \n",
      "13 | conv4          | Conv2d      | 147 K \n",
      "14 | bn4            | BatchNorm2d | 256   \n",
      "15 | dropout4       | Dropout     | 0     \n",
      "16 | rnn            | GRU         | 21.9 K\n",
      "17 | dropout_rnn    | Dropout     | 0     \n",
      "18 | linear         | Linear      | 198   \n"
     ]
    },
    {
     "name": "stdout",
     "output_type": "stream",
     "text": [
      "Epoch 0:  96%|█████████▌| 120/125 [00:13<00:00,  8.66it/s, loss=1.434, v_num=1, train_loss_step=1.49]\n",
      "Validating: 0it [00:00, ?it/s]\u001b[A\n",
      "Epoch 0: 100%|██████████| 125/125 [00:16<00:00,  7.64it/s, loss=1.438, v_num=1, train_loss_step=1.73, val_loss=1.28, val_acc=0.495, val_precision=0.151, val_recall=0.0939]\n",
      "Epoch 1:  96%|█████████▌| 120/125 [00:13<00:00,  8.72it/s, loss=1.234, v_num=1, train_loss_step=1.07, val_loss=1.28, val_acc=0.495, val_precision=0.151, val_recall=0.0939, train_loss_epoch=1.5]\n",
      "Validating: 0it [00:00, ?it/s]\u001b[A\n",
      "Epoch 1: 100%|██████████| 125/125 [00:16<00:00,  7.70it/s, loss=1.208, v_num=1, train_loss_step=1.28, val_loss=1.02, val_acc=0.737, val_precision=0.184, val_recall=0.148, train_loss_epoch=1.5] \n",
      "Epoch 2:  96%|█████████▌| 120/125 [00:13<00:00,  8.66it/s, loss=1.018, v_num=1, train_loss_step=0.605, val_loss=1.02, val_acc=0.737, val_precision=0.184, val_recall=0.148, train_loss_epoch=1.27]\n",
      "Validating: 0it [00:00, ?it/s]\u001b[A\n",
      "Epoch 2: 100%|██████████| 125/125 [00:16<00:00,  7.68it/s, loss=1.031, v_num=1, train_loss_step=1.13, val_loss=1.06, val_acc=0.576, val_precision=0.187, val_recall=0.118, train_loss_epoch=1.27] \n",
      "Epoch 3:  96%|█████████▌| 120/125 [00:13<00:00,  8.71it/s, loss=0.912, v_num=1, train_loss_step=0.682, val_loss=1.06, val_acc=0.576, val_precision=0.187, val_recall=0.118, train_loss_epoch=1.06]\n",
      "Validating: 0it [00:00, ?it/s]\u001b[A\n",
      "Epoch 3: 100%|██████████| 125/125 [00:16<00:00,  7.69it/s, loss=0.929, v_num=1, train_loss_step=0.764, val_loss=0.895, val_acc=0.697, val_precision=0.176, val_recall=0.136, train_loss_epoch=1.06]\n",
      "Epoch 4:  96%|█████████▌| 120/125 [00:13<00:00,  8.77it/s, loss=0.860, v_num=1, train_loss_step=1.11, val_loss=0.895, val_acc=0.697, val_precision=0.176, val_recall=0.136, train_loss_epoch=0.933] \n",
      "Validating: 0it [00:00, ?it/s]\u001b[A\n",
      "Epoch 4: 100%|██████████| 125/125 [00:16<00:00,  7.74it/s, loss=0.828, v_num=1, train_loss_step=0.793, val_loss=0.707, val_acc=0.717, val_precision=0.191, val_recall=0.145, train_loss_epoch=0.933]\n",
      "Epoch 4: 100%|██████████| 125/125 [00:16<00:00,  7.72it/s, loss=0.828, v_num=1, train_loss_step=0.793, val_loss=0.707, val_acc=0.717, val_precision=0.191, val_recall=0.145, train_loss_epoch=0.933]\n"
     ]
    }
   ],
   "source": [
    "do_train(configs)"
   ]
  },
  {
   "cell_type": "code",
   "execution_count": null,
   "metadata": {},
   "outputs": [],
   "source": []
  }
 ],
 "metadata": {
  "kernelspec": {
   "display_name": "project_1",
   "language": "python",
   "name": "project_1"
  },
  "language_info": {
   "codemirror_mode": {
    "name": "ipython",
    "version": 3
   },
   "file_extension": ".py",
   "mimetype": "text/x-python",
   "name": "python",
   "nbconvert_exporter": "python",
   "pygments_lexer": "ipython3",
   "version": "3.7.9"
  }
 },
 "nbformat": 4,
 "nbformat_minor": 4
}
