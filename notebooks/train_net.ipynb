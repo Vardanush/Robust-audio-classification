{
 "cells": [
  {
   "cell_type": "code",
   "execution_count": 4,
   "metadata": {},
   "outputs": [],
   "source": [
    "import warnings\n",
    "warnings.filterwarnings('ignore')\n",
    "\n",
    "import sys\n",
    "pkg_path = \"/nfs/homedirs/yuny/project-1/audio_classification\"\n",
    "if pkg_path not in sys.path:\n",
    "    sys.path.append(pkg_path)\n",
    "    \n",
    "import yaml\n",
    "from audio_classification.tools import do_train"
   ]
  },
  {
   "cell_type": "code",
   "execution_count": 5,
   "metadata": {},
   "outputs": [],
   "source": [
    "import yaml\n",
    "with open(\"/nfs/homedirs/yuny/project-1/audio_classification/configs/crnn_bmw.yaml\", \"r\") as config_file:\n",
    "    configs = yaml.load(config_file)"
   ]
  },
  {
   "cell_type": "code",
   "execution_count": 6,
   "metadata": {},
   "outputs": [
    {
     "name": "stderr",
     "output_type": "stream",
     "text": [
      "GPU available: True, used: True\n",
      "TPU available: False, using: 0 TPU cores\n",
      "LOCAL_RANK: 0 - CUDA_VISIBLE_DEVICES: [0]\n",
      "Set SLURM handle signals.\n",
      "\n",
      "   | Name        | Type        | Params\n",
      "---------------------------------------------\n",
      "0  | conv1       | Conv2d      | 640   \n",
      "1  | bn1         | BatchNorm2d | 128   \n",
      "2  | dropout1    | Dropout     | 0     \n",
      "3  | conv2       | Conv2d      | 73 K  \n",
      "4  | bn2         | BatchNorm2d | 256   \n",
      "5  | dropout2    | Dropout     | 0     \n",
      "6  | conv3       | Conv2d      | 147 K \n",
      "7  | bn3         | BatchNorm2d | 256   \n",
      "8  | dropout3    | Dropout     | 0     \n",
      "9  | conv4       | Conv2d      | 147 K \n",
      "10 | bn4         | BatchNorm2d | 256   \n",
      "11 | dropout4    | Dropout     | 0     \n",
      "12 | rnn         | GRU         | 21 K  \n",
      "13 | dropout_rnn | Dropout     | 0     \n",
      "14 | linear      | Linear      | 198   \n"
     ]
    },
    {
     "name": "stdout",
     "output_type": "stream",
     "text": [
      "Epoch 0:  78%|███████▊  | 60/77 [00:14<00:03,  4.28it/s, loss=1.013, v_num=1, train_loss_step=0.83] \n",
      "Epoch 0:  78%|███████▊  | 60/77 [00:17<00:05,  3.38it/s, loss=1.028, v_num=1, train_loss_step=0.961, val_loss=0.971, val_acc=0.65]\n",
      "Epoch 1:  78%|███████▊  | 60/77 [00:13<00:03,  4.32it/s, loss=1.146, v_num=1, train_loss_step=0.883, val_loss=0.971, val_acc=0.65, train_loss_epoch=1.18]\n",
      "Epoch 1:  78%|███████▊  | 60/77 [00:17<00:04,  3.44it/s, loss=1.128, v_num=1, train_loss_step=2.16, val_loss=1.2, val_acc=0.467, train_loss_epoch=1.18]  \n",
      "Epoch 2:  78%|███████▊  | 60/77 [00:13<00:03,  4.32it/s, loss=1.011, v_num=1, train_loss_step=1.05, val_loss=1.2, val_acc=0.467, train_loss_epoch=1.09] \n",
      "Epoch 2:  78%|███████▊  | 60/77 [00:17<00:04,  3.44it/s, loss=1.090, v_num=1, train_loss_step=1.11, val_loss=0.987, val_acc=0.667, train_loss_epoch=1.09]\n",
      "Epoch 2:  78%|███████▊  | 60/77 [00:17<00:04,  3.43it/s, loss=1.090, v_num=1, train_loss_step=1.11, val_loss=0.987, val_acc=0.667, train_loss_epoch=1.09]\n"
     ]
    }
   ],
   "source": [
    "do_train(configs)"
   ]
  },
  {
   "cell_type": "code",
   "execution_count": null,
   "metadata": {},
   "outputs": [],
   "source": []
  }
 ],
 "metadata": {
  "kernelspec": {
   "display_name": "Python 3",
   "language": "python",
   "name": "python3"
  },
  "language_info": {
   "codemirror_mode": {
    "name": "ipython",
    "version": 3
   },
   "file_extension": ".py",
   "mimetype": "text/x-python",
   "name": "python",
   "nbconvert_exporter": "python",
   "pygments_lexer": "ipython3",
   "version": "3.8.3"
  }
 },
 "nbformat": 4,
 "nbformat_minor": 4
}
