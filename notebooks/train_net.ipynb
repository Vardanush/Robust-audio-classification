{
 "cells": [
  {
   "cell_type": "code",
   "execution_count": 1,
   "metadata": {},
   "outputs": [
    {
     "name": "stdout",
     "output_type": "stream",
     "text": [
      "Training on device cuda.\n"
     ]
    }
   ],
   "source": [
    "import warnings\n",
    "warnings.filterwarnings('ignore')\n",
    "\n",
    "import sys\n",
    "pkg_path = \"/nfs/homedirs/yuny/project-1/audio_classification/\"\n",
    "if pkg_path not in sys.path:\n",
    "    sys.path.append(pkg_path)\n",
    "    \n",
    "import yaml\n",
    "from audio_classification.tools import do_train"
   ]
  },
  {
   "cell_type": "code",
   "execution_count": 2,
   "metadata": {},
   "outputs": [],
   "source": [
    "import yaml\n",
    "with open(\"/nfs/homedirs/yuny/project-1/audio_classification/configs/crnn.yaml\", \"r\") as config_file:\n",
    "    configs = yaml.load(config_file)"
   ]
  },
  {
   "cell_type": "code",
   "execution_count": 3,
   "metadata": {},
   "outputs": [
    {
     "name": "stderr",
     "output_type": "stream",
     "text": [
      "GPU available: True, used: True\n",
      "TPU available: False, using: 0 TPU cores\n",
      "LOCAL_RANK: 0 - CUDA_VISIBLE_DEVICES: [0]\n",
      "Set SLURM handle signals.\n",
      "\n",
      "   | Name        | Type        | Params\n",
      "---------------------------------------------\n",
      "0  | conv1       | Conv2d      | 640   \n",
      "1  | bn1         | BatchNorm2d | 128   \n",
      "2  | dropout1    | Dropout     | 0     \n",
      "3  | conv2       | Conv2d      | 73 K  \n",
      "4  | bn2         | BatchNorm2d | 256   \n",
      "5  | dropout2    | Dropout     | 0     \n",
      "6  | conv3       | Conv2d      | 147 K \n",
      "7  | bn3         | BatchNorm2d | 256   \n",
      "8  | dropout3    | Dropout     | 0     \n",
      "9  | conv4       | Conv2d      | 147 K \n",
      "10 | bn4         | BatchNorm2d | 256   \n",
      "11 | dropout4    | Dropout     | 0     \n",
      "12 | rnn         | GRU         | 21 K  \n",
      "13 | dropout_rnn | Dropout     | 0     \n",
      "14 | linear      | Linear      | 330   \n"
     ]
    },
    {
     "name": "stdout",
     "output_type": "stream",
     "text": [
      "Epoch 0:  88%|████████▊ | 640/728 [01:44<00:14,  6.12it/s, loss=1.895, v_num=18, train_loss=1.69]\n",
      "Validating: 0it [00:00, ?it/s]\u001b[A\n",
      "Epoch 0:  91%|█████████ | 660/728 [01:51<00:11,  5.91it/s, loss=1.895, v_num=18, train_loss=1.69]\n",
      "Epoch 0:  93%|█████████▎| 680/728 [01:55<00:08,  5.88it/s, loss=1.895, v_num=18, train_loss=1.69]\n",
      "Epoch 0:  96%|█████████▌| 700/728 [01:57<00:04,  5.96it/s, loss=1.908, v_num=18, train_loss=1.41, val_loss=2.21, val_acc=0.155]\n",
      "Epoch 1:  88%|████████▊ | 640/728 [01:43<00:14,  6.17it/s, loss=1.697, v_num=18, train_loss=1.54, val_loss=2.21, val_acc=0.155]\n",
      "Validating: 0it [00:00, ?it/s]\u001b[A\n",
      "Epoch 1:  91%|█████████ | 660/728 [01:51<00:11,  5.94it/s, loss=1.697, v_num=18, train_loss=1.54, val_loss=2.21, val_acc=0.155]\n",
      "Epoch 1:  93%|█████████▎| 680/728 [01:55<00:08,  5.88it/s, loss=1.697, v_num=18, train_loss=1.54, val_loss=2.21, val_acc=0.155]\n",
      "Epoch 1:  96%|█████████▌| 700/728 [01:57<00:04,  5.97it/s, loss=1.629, v_num=18, train_loss=2.25, val_loss=1.58, val_acc=0.349]\n",
      "Epoch 2:  88%|████████▊ | 640/728 [01:46<00:14,  6.02it/s, loss=1.616, v_num=18, train_loss=1.4, val_loss=1.58, val_acc=0.349] \n",
      "Validating: 0it [00:00, ?it/s]\u001b[A\n",
      "Epoch 2:  91%|█████████ | 660/728 [01:55<00:11,  5.73it/s, loss=1.616, v_num=18, train_loss=1.4, val_loss=1.58, val_acc=0.349]\n",
      "Epoch 2:  93%|█████████▎| 680/728 [01:58<00:08,  5.72it/s, loss=1.616, v_num=18, train_loss=1.4, val_loss=1.58, val_acc=0.349]\n",
      "Epoch 2:  96%|█████████▌| 700/728 [02:00<00:04,  5.79it/s, loss=1.633, v_num=18, train_loss=1.63, val_loss=1.5, val_acc=0.398]\n",
      "Epoch 2:  96%|█████████▌| 700/728 [02:00<00:04,  5.79it/s, loss=1.633, v_num=18, train_loss=1.63, val_loss=1.5, val_acc=0.398]\n"
     ]
    }
   ],
   "source": [
    "do_train(configs)"
   ]
  },
  {
   "cell_type": "code",
   "execution_count": 4,
   "metadata": {},
   "outputs": [
    {
     "data": {
      "text/plain": [
       "'/nfs/homedirs/yuny/project-1/notebooks'"
      ]
     },
     "execution_count": 4,
     "metadata": {},
     "output_type": "execute_result"
    }
   ],
   "source": [
    "%pwd"
   ]
  },
  {
   "cell_type": "code",
   "execution_count": null,
   "metadata": {},
   "outputs": [],
   "source": [
    "!python ../project-1/audio_classificationtools\n"
   ]
  }
 ],
 "metadata": {
  "kernelspec": {
   "display_name": "Python 3",
   "language": "python",
   "name": "python3"
  },
  "language_info": {
   "codemirror_mode": {
    "name": "ipython",
    "version": 3
   },
   "file_extension": ".py",
   "mimetype": "text/x-python",
   "name": "python",
   "nbconvert_exporter": "python",
   "pygments_lexer": "ipython3",
   "version": "3.7.8"
  }
 },
 "nbformat": 4,
 "nbformat_minor": 4
}
