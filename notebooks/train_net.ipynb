{
 "cells": [
  {
   "cell_type": "code",
   "execution_count": 1,
   "metadata": {},
   "outputs": [],
   "source": [
    "import warnings\n",
    "warnings.filterwarnings('ignore')\n",
    "\n",
    "import sys\n",
    "pkg_path = \"/nfs/homedirs/yuny/project-1/audio_classification\"\n",
    "if pkg_path not in sys.path:\n",
    "    sys.path.append(pkg_path)\n",
    "    \n",
    "import yaml\n",
    "from audio_classification.tools import do_train"
   ]
  },
  {
   "cell_type": "code",
   "execution_count": 2,
   "metadata": {},
   "outputs": [],
   "source": [
    "with open(\"/nfs/homedirs/yuny/project-1/audio_classification/configs/crnn_bmw.yaml\", \"r\") as config_file:\n",
    "    configs = yaml.load(config_file)"
   ]
  },
  {
   "cell_type": "code",
   "execution_count": 3,
   "metadata": {},
   "outputs": [
    {
     "name": "stderr",
     "output_type": "stream",
     "text": [
      "GPU available: True, used: True\n",
      "TPU available: False, using: 0 TPU cores\n",
      "LOCAL_RANK: 0 - CUDA_VISIBLE_DEVICES: [0]\n",
      "Set SLURM handle signals.\n",
      "\n",
      "   | Name        | Type        | Params\n",
      "---------------------------------------------\n",
      "0  | conv1       | Conv2d      | 640   \n",
      "1  | bn1         | BatchNorm2d | 128   \n",
      "2  | dropout1    | Dropout     | 0     \n",
      "3  | conv2       | Conv2d      | 73 K  \n",
      "4  | bn2         | BatchNorm2d | 256   \n",
      "5  | dropout2    | Dropout     | 0     \n",
      "6  | conv3       | Conv2d      | 147 K \n",
      "7  | bn3         | BatchNorm2d | 256   \n",
      "8  | dropout3    | Dropout     | 0     \n",
      "9  | conv4       | Conv2d      | 147 K \n",
      "10 | bn4         | BatchNorm2d | 256   \n",
      "11 | dropout4    | Dropout     | 0     \n",
      "12 | rnn         | GRU         | 21 K  \n",
      "13 | dropout_rnn | Dropout     | 0     \n",
      "14 | linear      | Linear      | 198   \n"
     ]
    },
    {
     "name": "stdout",
     "output_type": "stream",
     "text": [
      "Epoch 0:  78%|███████▊  | 60/77 [00:48<00:13,  1.24it/s, loss=1.453, v_num=0, train_loss_step=1.75]\n",
      "Epoch 0:  78%|███████▊  | 60/77 [00:56<00:15,  1.07it/s, loss=1.426, v_num=0, train_loss_step=1.3, val_loss=1.2, val_acc=0.633]\n",
      "Epoch 1:  78%|███████▊  | 60/77 [00:48<00:13,  1.23it/s, loss=1.370, v_num=0, train_loss_step=1.44, val_loss=1.2, val_acc=0.633, train_loss_epoch=1.58]\n",
      "Epoch 1:  78%|███████▊  | 60/77 [00:56<00:16,  1.06it/s, loss=1.271, v_num=0, train_loss_step=1.38, val_loss=1.14, val_acc=0.667, train_loss_epoch=1.58]\n",
      "Epoch 2:  78%|███████▊  | 60/77 [00:47<00:13,  1.26it/s, loss=1.449, v_num=0, train_loss_step=1.78, val_loss=1.14, val_acc=0.667, train_loss_epoch=1.36]\n",
      "Epoch 2:  78%|███████▊  | 60/77 [00:55<00:15,  1.08it/s, loss=1.384, v_num=0, train_loss_step=0.84, val_loss=1.22, val_acc=0.567, train_loss_epoch=1.36]\n",
      "Epoch 3:  78%|███████▊  | 60/77 [00:47<00:13,  1.25it/s, loss=1.311, v_num=0, train_loss_step=1.66, val_loss=1.22, val_acc=0.567, train_loss_epoch=1.38]\n",
      "Epoch 3:  78%|███████▊  | 60/77 [00:56<00:15,  1.06it/s, loss=1.353, v_num=0, train_loss_step=1.48, val_loss=0.961, val_acc=0.733, train_loss_epoch=1.38]\n",
      "Epoch 4:  78%|███████▊  | 60/77 [00:47<00:13,  1.26it/s, loss=1.246, v_num=0, train_loss_step=1.01, val_loss=0.961, val_acc=0.733, train_loss_epoch=1.33]\n",
      "Epoch 4:  78%|███████▊  | 60/77 [00:55<00:15,  1.07it/s, loss=1.276, v_num=0, train_loss_step=0.745, val_loss=1.85, val_acc=0.417, train_loss_epoch=1.33]\n",
      "Epoch 5:  78%|███████▊  | 60/77 [00:48<00:13,  1.25it/s, loss=1.117, v_num=0, train_loss_step=1.17, val_loss=1.85, val_acc=0.417, train_loss_epoch=1.22] \n",
      "Epoch 5:  78%|███████▊  | 60/77 [00:55<00:15,  1.07it/s, loss=1.044, v_num=0, train_loss_step=0.935, val_loss=0.932, val_acc=0.683, train_loss_epoch=1.22]\n",
      "Epoch 6:  78%|███████▊  | 60/77 [00:48<00:13,  1.23it/s, loss=1.081, v_num=0, train_loss_step=1.57, val_loss=0.932, val_acc=0.683, train_loss_epoch=1.21] \n",
      "Epoch 6:  78%|███████▊  | 60/77 [00:56<00:15,  1.07it/s, loss=0.980, v_num=0, train_loss_step=1.44, val_loss=0.731, val_acc=0.8, train_loss_epoch=1.21]  \n",
      "Epoch 7:  26%|██▌       | 20/77 [00:35<01:41,  1.78s/it, loss=1.085, v_num=0, train_loss_step=1.16, val_loss=0.731, val_acc=0.8, train_loss_epoch=1.05] \n"
     ]
    }
   ],
   "source": [
    "import torch\n",
    "torch.cuda.empty_cache()\n",
    "do_train(configs)"
   ]
  },
  {
   "cell_type": "code",
   "execution_count": null,
   "metadata": {},
   "outputs": [],
   "source": []
  }
 ],
 "metadata": {
  "kernelspec": {
   "display_name": "Python 3",
   "language": "python",
   "name": "python3"
  },
  "language_info": {
   "codemirror_mode": {
    "name": "ipython",
    "version": 3
   },
   "file_extension": ".py",
   "mimetype": "text/x-python",
   "name": "python",
   "nbconvert_exporter": "python",
   "pygments_lexer": "ipython3",
   "version": "3.7.8"
  }
 },
 "nbformat": 4,
 "nbformat_minor": 4
}
