{
 "cells": [
  {
   "cell_type": "code",
   "execution_count": 1,
   "metadata": {},
   "outputs": [],
   "source": [
    "from typing import Union, Any, Optional, Callable, Tuple\n",
    "from abc import ABC, abstractmethod\n",
    "import eagerpy as ep\n",
    "\n",
    "from foolbox.devutils import flatten\n",
    "from foolbox.devutils import atleast_kd\n",
    "\n",
    "from foolbox.types import Bounds\n",
    "\n",
    "from foolbox.models.base import Model\n",
    "\n",
    "from foolbox.criteria import Misclassification, TargetedMisclassification\n",
    "\n",
    "from foolbox.distances import l1, l2, linf\n",
    "\n",
    "from foolbox.attacks.base import FixedEpsilonAttack\n",
    "from foolbox.attacks.base import T\n",
    "from foolbox.attacks.base import get_criterion\n",
    "from foolbox.attacks.base import raise_if_kwargs\n",
    "\n",
    "def _get_loss_fn(self, model: Model, labels: ep.Tensor, original_lengths=None) -> Callable[[ep.Tensor], ep.Tensor]:\n",
    "    # can be overridden by users\n",
    "    def loss_fn(inputs: ep.Tensor, original_lengths) -> ep.Tensor:\n",
    "        logits = model(inputs, original_lengths)\n",
    "        return ep.crossentropy(logits, labels).sum()\n",
    "\n",
    "    return loss_fn\n",
    "\n",
    "def _value_and_grad(\n",
    "    # can be overridden by users\n",
    "    self,\n",
    "    loss_fn: Callable[[ep.Tensor], ep.Tensor],\n",
    "    x: ep.Tensor,\n",
    "    original_lengths: ep.Tensor,\n",
    ") -> Tuple[ep.Tensor, ep.Tensor]:\n",
    "    return ep.value_and_grad(loss_fn, x, original_lengths)\n",
    "\n",
    "def _run(\n",
    "    self,\n",
    "    model: Model,\n",
    "    inputs: T,\n",
    "    criterion: Union[Misclassification, TargetedMisclassification, T],\n",
    "    *,\n",
    "    epsilon: float,\n",
    "    **kwargs: Any,\n",
    ") -> T:\n",
    "#     raise_if_kwargs(kwargs)\n",
    "    x0, restore_type = ep.astensor_(inputs)\n",
    "    criterion_ = get_criterion(criterion)\n",
    "    original_lengths = kwargs['original_lengths']\n",
    "    del inputs, criterion, kwargs\n",
    "\n",
    "    # perform a gradient ascent (targeted attack) or descent (untargeted attack)\n",
    "    if isinstance(criterion_, Misclassification):\n",
    "        gradient_step_sign = 1.0\n",
    "        classes = criterion_.labels\n",
    "    elif hasattr(criterion_, \"target_classes\"):\n",
    "        gradient_step_sign = -1.0\n",
    "        classes = criterion_.target_classes  # type: ignore\n",
    "    else:\n",
    "        raise ValueError(\"unsupported criterion\")\n",
    "\n",
    "    loss_fn = self.get_loss_fn(model, classes)\n",
    "\n",
    "    if self.abs_stepsize is None:\n",
    "        stepsize = self.rel_stepsize * epsilon\n",
    "    else:\n",
    "        stepsize = self.abs_stepsize\n",
    "\n",
    "    if self.random_start:\n",
    "        x = self.get_random_start(x0, epsilon)\n",
    "        x = ep.clip(x, *model.bounds)\n",
    "    else:\n",
    "        x = x0\n",
    "\n",
    "    for _ in range(self.steps):\n",
    "        _, gradients = self.value_and_grad(loss_fn, x, original_lengths) #!!!!\n",
    "        gradients = self.normalize(gradients, x=x, bounds=model.bounds)\n",
    "        x = x + gradient_step_sign * stepsize * gradients\n",
    "        x = self.project(x, x0, epsilon)\n",
    "        x = ep.clip(x, *model.bounds)\n",
    "\n",
    "    return restore_type(x)"
   ]
  },
  {
   "cell_type": "code",
   "execution_count": 2,
   "metadata": {},
   "outputs": [],
   "source": [
    "import warnings\n",
    "warnings.filterwarnings('ignore')\n",
    "\n",
    "import sys\n",
    "pkg_path = \"/nfs/students/winter-term-2020/project-1/project-1/audio_classification\"\n",
    "if pkg_path not in sys.path:\n",
    "    sys.path.append(pkg_path)\n",
    "\n",
    "pkg_path = \"//nfs/students/winter-term-2020/project-1/project-1/foolbox\"\n",
    "if pkg_path not in sys.path:\n",
    "    sys.path.append(pkg_path)\n",
    "\n",
    "import os\n",
    "import time\n",
    "import types\n",
    "import yaml\n",
    "import torch\n",
    "from audio_classification.tools import do_train, get_dataloader, get_model, get_transform\n",
    "from audio_classification.tools.train_net import collate\n",
    "from audio_classification.model import lit_m11, LitCRNN, SmoothClassifier\n",
    "from audio_classification.data import BMWDataset, UrbanSoundDataset\n",
    "\n",
    "from foolbox import PyTorchModel, accuracy, samples\n",
    "from foolbox.attacks import LinfPGD, L2PGD, FGM, FGSM\n",
    "\n",
    "from torch.utils.data import DataLoader\n",
    "\n",
    "import numpy as np\n",
    "import matplotlib.pyplot as plt\n",
    "%matplotlib inline\n",
    "\n",
    "torch.cuda.empty_cache()\n",
    "device = torch.device('cpu')\n",
    "#device = (torch.device('cuda') if torch.cuda.is_available() else torch.device('cpu'))\n",
    "project_dir = '/nfs/students/winter-term-2020/project-1/project-1/'\n",
    "save_folder = '/nfs/students/winter-term-2020/project-1/project-1/attack_results/'"
   ]
  },
  {
   "cell_type": "code",
   "execution_count": 3,
   "metadata": {},
   "outputs": [],
   "source": [
    "def attack_model(project_dir, config_path, pretrained_path, title):\n",
    "    with open(os.path.join(project_dir, config_path), \"r\") as config_file:\n",
    "        configs = yaml.load(config_file)\n",
    "    print(configs)\n",
    "\n",
    "    # use validattion set\n",
    "    #val_set = BMWDataset(configs, [11], transform=get_transform(configs)) # actually the test set\n",
    "    val_set = UrbanSoundDataset(configs, [1], transform=get_transform(configs))\n",
    "    val_loader = DataLoader(val_set, batch_size=24, shuffle=False,\n",
    "                                    num_workers=configs[\"DATALOADER\"][\"NUM_WORKERS\"],\n",
    "                                    pin_memory=True, collate_fn = collate)\n",
    "\n",
    "    # Get the upper bound and lower bound on the values of the data, to be used as constraint in PGD\n",
    "    lower_bounds = []\n",
    "    upper_bounds = []\n",
    "    for step, (x, y, seq_lens) in enumerate(val_loader):    \n",
    "        upper_bounds.append(torch.max(x))\n",
    "        lower_bounds.append(torch.min(x))\n",
    "    lower_bound = min(lower_bounds)\n",
    "    upper_bound = max(upper_bounds)\n",
    "    print(\"Range of the input data is (%f, %f)\" %(lower_bound, upper_bound))\n",
    "\n",
    "    path_to_checkpoint = os.path.join(project_dir, pretrained_path)\n",
    "    # Get the class weights, used in reloading the model\n",
    "    if configs['DATASET']['WEIGHT']=='NORMAL':\n",
    "        weight = torch.tensor([28.9047, 14.8049,  4.5985,  2.4675,  4.4632, 19.5806]).to(device=device)\n",
    "    elif configs['DATASET']['WEIGHT']=='SQUARED':\n",
    "        weight = torch.tensor([835.4845, 219.1843,  21.1461,   6.0885,  19.9205, 383.4014]).to(device=device)\n",
    "    else:\n",
    "        weight = None\n",
    "\n",
    "    if configs[\"MODEL\"][\"CRNN\"][\"RANDOMISED_SMOOTHING\"] == True:\n",
    "        base_classifier = LitCRNN(cfg=configs, class_weights=weight)\n",
    "        model = SmoothClassifier.load_from_checkpoint(checkpoint_path=path_to_checkpoint, cfg=configs, map_location=device, class_weights=weight, base_classifier = base_classifier.to(device=device))\n",
    "        print(next(model.parameters()).is_cuda)\n",
    "    else:    \n",
    "        model = LitCRNN.load_from_checkpoint(path_to_checkpoint, cfg=configs, class_weights=weight, strict=False, map_location=device)\n",
    "        \n",
    "    fmodel = PyTorchModel(model, bounds=(lower_bound, upper_bound), device=device)\n",
    "\n",
    "    # evaluate accuracy on clean data on a batch\n",
    "    it = iter(val_loader)\n",
    "    batch = next(it)\n",
    "    clips = batch[0].to(device)\n",
    "    labels = batch[1].to(device)\n",
    "    lengths = batch[2].to(device)   # used only for CRNN\n",
    "\n",
    "    # delete some variables to free up memory\n",
    "    del model\n",
    "    del it\n",
    "    del val_loader\n",
    "    del val_set\n",
    "\n",
    "    # evaluate robustness with L-inf Fast Gradient Attack\n",
    "    torch.cuda.empty_cache()\n",
    "    attack = FGSM()\n",
    "\n",
    "    attack.run = types.MethodType(_run, attack)\n",
    "    attack.get_loss_fn = types.MethodType(_get_loss_fn, attack)\n",
    "    attack.value_and_grad = types.MethodType(_value_and_grad, attack)\n",
    "    epsilons = np.linspace(0.0, 10, num=20)\n",
    "\n",
    "    start_time = time.perf_counter()\n",
    "    raw, clipped, is_adv = attack(fmodel, clips, labels, epsilons=epsilons, original_lengths=lengths)\n",
    "    end_time = time.perf_counter()\n",
    "    print(f\"Generated attacks in {end_time - start_time:0.2f} seconds\")\n",
    "\n",
    "    robust_accuracy = 1 - is_adv.double().mean(axis=-1)\n",
    "    print(robust_accuracy)\n",
    "\n",
    "    plt.title(\"L-inf Fast Gradient Attack\")\n",
    "    plt.xlabel(\"epsilon\")\n",
    "    plt.ylabel(\"accuracy\")\n",
    "    plt.ylim(0, 1.1)\n",
    "    plt.plot(epsilons, robust_accuracy.to('cpu').numpy())\n",
    "    plt.savefig(save_folder + title + '-linf-10.png')\n"
   ]
  },
  {
   "cell_type": "code",
   "execution_count": 6,
   "metadata": {},
   "outputs": [
    {
     "name": "stdout",
     "output_type": "stream",
     "text": [
      "{'MODEL': {'NAME': 'LitCRNN', 'NUM_CLASSES': 10, 'CRNN': {'RANDOMISED_SMOOTHING': True, 'INCLUDE_TOP': True, 'INCLUDE_TRANSFORM': False}}, 'DATASET': {'NAME': 'UrbanSounds8K', 'ANNOTATION_PATH': '/nfs/students/winter-term-2020/project-1/datasets/UrbanSound8K/metadata/UrbanSound8K.csv', 'FILE_PATH': '/nfs/students/winter-term-2020/project-1/datasets/UrbanSound8K/audio/', 'VAL_FOLD': 10, 'WEIGHT': 'None'}, 'DATALOADER': {'BATCH_SIZE': 12, 'NUM_WORKERS': 20}, 'TRANSFORM': {'HOP_LENGTH': 256}, 'LOSS': 'label_smoothing_cross_entropy', 'SOLVER': {'LOG_PATH': '../logs/us8k/', 'NUM_GPUS': 1, 'MAX_EPOCH': 125, 'MIN_EPOCH': 1, 'LEARNING_RATE': 0.001, 'WEIGHT_DECAY': 0.01, 'STEP_SIZE': 25, 'SIGMA': 0.25, 'GAMMA': 0.5}, 'CHECKPOINT': {'SAVE_NAME': 'crnn-us8k', 'SAVE_PATH': '../weights', 'SAVE_TOP_K': 1}}\n",
      "Transformed raw audio into melspectrogram in dataloader.\n",
      "Range of the input data is (-100.000000, 41.999760)\n",
      "False\n"
     ]
    },
    {
     "name": "stderr",
     "output_type": "stream",
     "text": [
      "/nfs/homedirs/vashisht/anaconda3/envs/project_1/lib/python3.7/site-packages/foolbox/models/pytorch.py:37: UserWarning: The PyTorch model is in training mode and therefore might not be deterministic. Call the eval() method to set it in evaluation mode if this is not intended.\n",
      "  \"The PyTorch model is in training mode and therefore might\"\n"
     ]
    },
    {
     "name": "stdout",
     "output_type": "stream",
     "text": [
      "Generated attacks in 928.69 seconds\n",
      "tensor([0.8750, 0.6667, 0.6667, 0.5000, 0.4583, 0.3750, 0.5000, 0.5000, 0.4167,\n",
      "        0.2500, 0.3750, 0.3750, 0.4167, 0.2083, 0.4167, 0.3750, 0.3333, 0.2917,\n",
      "        0.3750, 0.2917], dtype=torch.float64)\n"
     ]
    },
    {
     "data": {
      "image/png": "[encoded data removed]",
      "text/plain": [
       "<Figure size 432x288 with 1 Axes>"
      ]
     },
     "metadata": {
      "needs_background": "light"
     },
     "output_type": "display_data"
    }
   ],
   "source": [
    "title = 'us8k_sigma_0.25_rs'\n",
    "config_path = '/nfs/students/winter-term-2020/project-1/project-1/audio_classification/configs/crnn_urbansound8k-0.25.yaml'\n",
    "pretrained_path = '/nfs/students/winter-term-2020/project-1/project-1/weights/week-6/randomised-smoothing/crnn-us8k-epoch=18-val_acc=0.667.ckpt'\n",
    "attack_model(project_dir, config_path, pretrained_path, title)"
   ]
  },
  {
   "cell_type": "code",
   "execution_count": 7,
   "metadata": {},
   "outputs": [
    {
     "name": "stdout",
     "output_type": "stream",
     "text": [
      "{'MODEL': {'NAME': 'LitCRNN', 'NUM_CLASSES': 10, 'CRNN': {'RANDOMISED_SMOOTHING': True, 'INCLUDE_TOP': True, 'INCLUDE_TRANSFORM': False}}, 'DATASET': {'NAME': 'UrbanSounds8K', 'ANNOTATION_PATH': '/nfs/students/winter-term-2020/project-1/datasets/UrbanSound8K/metadata/UrbanSound8K.csv', 'FILE_PATH': '/nfs/students/winter-term-2020/project-1/datasets/UrbanSound8K/audio/', 'VAL_FOLD': 10, 'WEIGHT': 'None'}, 'DATALOADER': {'BATCH_SIZE': 12, 'NUM_WORKERS': 20}, 'TRANSFORM': {'HOP_LENGTH': 256}, 'LOSS': 'label_smoothing_cross_entropy', 'SOLVER': {'LOG_PATH': '../logs/us8k/', 'NUM_GPUS': 1, 'MAX_EPOCH': 125, 'MIN_EPOCH': 1, 'LEARNING_RATE': 0.001, 'WEIGHT_DECAY': 0.01, 'STEP_SIZE': 25, 'SIGMA': 0.5, 'GAMMA': 0.5}, 'CHECKPOINT': {'SAVE_NAME': 'crnn-us8k', 'SAVE_PATH': '../weights', 'SAVE_TOP_K': 1}}\n",
      "Transformed raw audio into melspectrogram in dataloader.\n",
      "Range of the input data is (-100.000000, 41.999760)\n",
      "False\n"
     ]
    },
    {
     "name": "stderr",
     "output_type": "stream",
     "text": [
      "/nfs/homedirs/vashisht/anaconda3/envs/project_1/lib/python3.7/site-packages/foolbox/models/pytorch.py:37: UserWarning: The PyTorch model is in training mode and therefore might not be deterministic. Call the eval() method to set it in evaluation mode if this is not intended.\n",
      "  \"The PyTorch model is in training mode and therefore might\"\n"
     ]
    },
    {
     "name": "stdout",
     "output_type": "stream",
     "text": [
      "Generated attacks in 3640.72 seconds\n",
      "tensor([0.7917, 0.5417, 0.6250, 0.5000, 0.5417, 0.5833, 0.5833, 0.4583, 0.6250,\n",
      "        0.4583, 0.5000, 0.4167, 0.4583, 0.4167, 0.4583, 0.4167, 0.3333, 0.4583,\n",
      "        0.3750, 0.5000], dtype=torch.float64)\n"
     ]
    },
    {
     "data": {
      "image/png": "[encoded data removed]",
      "text/plain": [
       "<Figure size 432x288 with 1 Axes>"
      ]
     },
     "metadata": {
      "needs_background": "light"
     },
     "output_type": "display_data"
    }
   ],
   "source": [
    "title = 'us8k_sigma_0.5_rs'\n",
    "config_path = '/nfs/students/winter-term-2020/project-1/project-1/audio_classification/configs/crnn_urbansound8k-0.5.yaml'\n",
    "pretrained_path = '/nfs/students/winter-term-2020/project-1/project-1/weights/week-6/randomised-smoothing/crnn-us8k-epoch=31-val_acc=0.724.ckpt'\n",
    "attack_model(project_dir, config_path, pretrained_path, title)"
   ]
  },
  {
   "cell_type": "code",
   "execution_count": 8,
   "metadata": {},
   "outputs": [
    {
     "name": "stdout",
     "output_type": "stream",
     "text": [
      "{'MODEL': {'NAME': 'LitCRNN', 'NUM_CLASSES': 10, 'CRNN': {'RANDOMISED_SMOOTHING': True, 'INCLUDE_TOP': True, 'INCLUDE_TRANSFORM': False}}, 'DATASET': {'NAME': 'UrbanSounds8K', 'ANNOTATION_PATH': '/nfs/students/winter-term-2020/project-1/datasets/UrbanSound8K/metadata/UrbanSound8K.csv', 'FILE_PATH': '/nfs/students/winter-term-2020/project-1/datasets/UrbanSound8K/audio/', 'VAL_FOLD': 10, 'WEIGHT': 'None'}, 'DATALOADER': {'BATCH_SIZE': 12, 'NUM_WORKERS': 20}, 'TRANSFORM': {'HOP_LENGTH': 256}, 'LOSS': 'label_smoothing_cross_entropy', 'SOLVER': {'LOG_PATH': '../logs/us8k/', 'NUM_GPUS': 1, 'MAX_EPOCH': 125, 'MIN_EPOCH': 1, 'LEARNING_RATE': 0.001, 'WEIGHT_DECAY': 0.01, 'STEP_SIZE': 25, 'SIGMA': 1, 'GAMMA': 0.5}, 'CHECKPOINT': {'SAVE_NAME': 'crnn-us8k', 'SAVE_PATH': '../weights', 'SAVE_TOP_K': 1}}\n",
      "Transformed raw audio into melspectrogram in dataloader.\n",
      "Range of the input data is (-100.000000, 41.999760)\n",
      "False\n"
     ]
    },
    {
     "name": "stderr",
     "output_type": "stream",
     "text": [
      "/nfs/homedirs/vashisht/anaconda3/envs/project_1/lib/python3.7/site-packages/foolbox/models/pytorch.py:37: UserWarning: The PyTorch model is in training mode and therefore might not be deterministic. Call the eval() method to set it in evaluation mode if this is not intended.\n",
      "  \"The PyTorch model is in training mode and therefore might\"\n"
     ]
    },
    {
     "name": "stdout",
     "output_type": "stream",
     "text": [
      "Generated attacks in 1273.09 seconds\n",
      "tensor([0.7500, 0.6667, 0.5000, 0.2917, 0.3333, 0.2500, 0.2500, 0.4167, 0.2500,\n",
      "        0.2917, 0.5000, 0.4167, 0.5000, 0.3333, 0.3750, 0.5417, 0.3750, 0.4167,\n",
      "        0.5417, 0.4583], dtype=torch.float64)\n"
     ]
    },
    {
     "data": {
      "image/png": "[encoded data removed]",
      "text/plain": [
       "<Figure size 432x288 with 1 Axes>"
      ]
     },
     "metadata": {
      "needs_background": "light"
     },
     "output_type": "display_data"
    }
   ],
   "source": [
    "title = 'us8k_sigma_1_rs'\n",
    "config_path = '/nfs/students/winter-term-2020/project-1/project-1/audio_classification/configs/crnn_urbansound8k.yaml'\n",
    "pretrained_path = '/nfs/students/winter-term-2020/project-1/project-1/weights/week-6/randomised-smoothing/crnn-us8k-epoch=19-val_acc=0.708.ckpt'\n",
    "attack_model(project_dir, config_path, pretrained_path, title)"
   ]
  },
  {
   "cell_type": "markdown",
   "metadata": {},
   "source": [
    "# BMW(val_fold=1, uniform transform, no ls)\n",
    "title = 'bmw_sigma_0.25_rs'\n",
    "config_path = '/nfs/students/winter-term-2020/project-1/project-1/audio_classification/configs/crnn_bmw.yaml'\n",
    "pretrained_path = '/nfs/students/winter-term-2020/project-1/project-1/weights/week-6/randomised-smoothing/crnn-bmw-epoch=38-val_acc=1.000.ckpt'\n",
    "attack_model(project_dir, config_path, pretrained_path, title)"
   ]
  },
  {
   "cell_type": "markdown",
   "metadata": {},
   "source": [
    "# BMW(val_fold=1, uniform transform, ls=0.1)\n",
    "title = 'bmw_sigma_0.5_rs'\n",
    "config_path = '/nfs/students/winter-term-2020/project-1/project-1/audio_classification/configs/crnn_bmw.yaml'\n",
    "pretrained_path = '/nfs/students/winter-term-2020/project-1/project-1/weights/week-6/randomised-smoothing/crnn-bmw-epoch=42-val_acc=1.000.ckpt'\n",
    "attack_model(project_dir, config_path, pretrained_path, title)"
   ]
  },
  {
   "cell_type": "markdown",
   "metadata": {},
   "source": [
    "title = 'bmw_sigma_1_rs'\n",
    "config_path = '/nfs/students/winter-term-2020/project-1/project-1/audio_classification/configs/crnn_bmw.yaml'\n",
    "pretrained_path = '/nfs/students/winter-term-2020/project-1/project-1/weights/week-6/randomised-smoothing/crnn-bmw-epoch=24-val_acc=1.000.ckpt'\n",
    "attack_model(project_dir, config_path, pretrained_path, title)"
   ]
  },
  {
   "cell_type": "code",
   "execution_count": null,
   "metadata": {},
   "outputs": [],
   "source": [
    "# Urbansound8k (Compare the effect of label smoothing)\n",
    "# title = 'us8k_no_ls_no_weight'\n",
    "# config_path = 'logs/us8k/default/crnn-us8k-epoch=41-val_acc=0.797/hparams.yaml'\n",
    "# pretrained_path = 'weights/crnn-us8k-epoch=41-val_acc=0.797.ckpt'\n",
    "\n",
    "# title = 'us8k_e=0.1_ls_no_weight'\n",
    "# config_path = 'logs/us8k/default/crnn-us8k-epoch=61-val_acc=0.793/hparams.yaml'\n",
    "# pretrained_path = 'weights/crnn-us8k-epoch=61-val_acc=0.793.ckpt'"
   ]
  },
  {
   "cell_type": "code",
   "execution_count": null,
   "metadata": {},
   "outputs": [],
   "source": [
    "# # Visualize adverserial sample\n",
    "# attack = FGM()\n",
    "\n",
    "# attack.run = types.MethodType(_run, attack)\n",
    "# attack.get_loss_fn = types.MethodType(_get_loss_fn, attack)\n",
    "# attack.value_and_grad = types.MethodType(_value_and_grad, attack)\n",
    "# # raw, clipped, is_adv = attack(fmodel, clips, labels, epsilons=40)\n",
    "# raw, clipped, is_adv = attack(fmodel, clips, labels, epsilons=100, original_lengths=lengths)\n",
    "\n",
    "# is_adv = is_adv.cpu()\n",
    "# clipped = clipped.cpu()"
   ]
  },
  {
   "cell_type": "code",
   "execution_count": null,
   "metadata": {},
   "outputs": [],
   "source": [
    "# try:\n",
    "#     idx = np.where(is_adv.cpu().numpy()==True)[0][0]\n",
    "#     print(\"Visualize for the number %s sample in the batch\" %(idx))\n",
    "\n",
    "#     # Visualize attack sample\n",
    "#     out = model(clipped.to(device), lengths)\n",
    "#     preds = torch.argmax(out, dim=1)\n",
    "\n",
    "#     idx = np.where(is_adv.cpu().numpy()==True)[0][0]\n",
    "#     sample = clipped[idx]\n",
    "#     print(\"label %s\" %(preds[idx]))\n",
    "#     print(sample[0].shape)\n",
    "#     plt.pcolormesh(sample[0].squeeze().numpy(), shading='gouraud')\n",
    "#     plt.ylabel('Frequency [Hz]')\n",
    "#     plt.xlabel('Time [sec]')\n",
    "#     plt.show()\n",
    "    \n",
    "#     # Visualize original sample\n",
    "#     sample = batch[0]\n",
    "#     print(\"label %s\" %(batch[1][idx]))\n",
    "#     print(sample[idx].shape)\n",
    "#     plt.pcolormesh(sample[idx].squeeze().numpy(), shading='gouraud')\n",
    "#     plt.ylabel('Frequency [Hz]')\n",
    "#     plt.xlabel('Time [sec]')\n",
    "#     plt.show()\n",
    "# except:\n",
    "#     print(\"No adversarial sample to show.\")"
   ]
  },
  {
   "cell_type": "code",
   "execution_count": null,
   "metadata": {},
   "outputs": [],
   "source": [
    "# # evaluate robustness with L-inf Fast Gradient Attack\n",
    "# torch.cuda.empty_cache()\n",
    "# attack = FGSM()\n",
    "\n",
    "# attack.run = types.MethodType(_run, attack)\n",
    "# attack.get_loss_fn = types.MethodType(_get_loss_fn, attack)\n",
    "# attack.value_and_grad = types.MethodType(_value_and_grad, attack)\n",
    "# epsilons = np.linspace(0.0, 1, num=20)\n",
    "\n",
    "# start_time = time.perf_counter()\n",
    "# raw, clipped, is_adv = attack(fmodel, clips, labels, epsilons=epsilons, original_lengths=lengths)\n",
    "# end_time = time.perf_counter()\n",
    "# print(f\"Generated attacks in {end_time - start_time:0.2f} seconds\")\n",
    "\n",
    "# robust_accuracy = 1 - is_adv.double().mean(axis=-1)"
   ]
  },
  {
   "cell_type": "code",
   "execution_count": null,
   "metadata": {},
   "outputs": [],
   "source": [
    "# plt.title(\"L-inf Fast Gradient Attack\")\n",
    "# plt.xlabel(\"epsilon\")\n",
    "# plt.ylabel(\"accuracy\")\n",
    "# plt.ylim(0, 1.1)\n",
    "# plt.plot(epsilons, robust_accuracy.to('cpu').numpy())\n",
    "# plt.savefig(save_folder + title + '-linf-1.png')"
   ]
  },
  {
   "cell_type": "code",
   "execution_count": null,
   "metadata": {},
   "outputs": [],
   "source": [
    "# # evaluate robustness with L-inf Fast Gradient Attack\n",
    "# torch.cuda.empty_cache()\n",
    "# attack = FGSM()\n",
    "\n",
    "# attack.run = types.MethodType(_run, attack)\n",
    "# attack.get_loss_fn = types.MethodType(_get_loss_fn, attack)\n",
    "# attack.value_and_grad = types.MethodType(_value_and_grad, attack)\n",
    "# epsilons = np.linspace(0.0, 5, num=20)\n",
    "\n",
    "# start_time = time.perf_counter()\n",
    "# raw, clipped, is_adv = attack(fmodel, clips, labels, epsilons=epsilons, original_lengths=lengths)\n",
    "# end_time = time.perf_counter()\n",
    "# print(f\"Generated attacks in {end_time - start_time:0.2f} seconds\")\n",
    "\n",
    "# robust_accuracy = 1 - is_adv.double().mean(axis=-1)"
   ]
  },
  {
   "cell_type": "code",
   "execution_count": null,
   "metadata": {},
   "outputs": [],
   "source": [
    "# plt.title(\"L-inf Fast Gradient Attack\")\n",
    "# plt.xlabel(\"epsilon\")\n",
    "# plt.ylabel(\"accuracy\")\n",
    "# plt.ylim(0, 1.1)\n",
    "# plt.plot(epsilons, robust_accuracy.to('cpu').numpy())\n",
    "# plt.savefig(save_folder + title + '-linf-5.png')"
   ]
  },
  {
   "cell_type": "code",
   "execution_count": null,
   "metadata": {},
   "outputs": [],
   "source": [
    "# # evaluate robustness with L-inf Fast Gradient Attack\n",
    "# torch.cuda.empty_cache()\n",
    "# attack = FGSM()\n",
    "\n",
    "# attack.run = types.MethodType(_run, attack)\n",
    "# attack.get_loss_fn = types.MethodType(_get_loss_fn, attack)\n",
    "# attack.value_and_grad = types.MethodType(_value_and_grad, attack)\n",
    "# epsilons = np.linspace(0.0, 20, num=20)\n",
    "\n",
    "# start_time = time.perf_counter()\n",
    "# raw, clipped, is_adv = attack(fmodel, clips, labels, epsilons=epsilons, original_lengths=lengths)\n",
    "# end_time = time.perf_counter()\n",
    "# print(f\"Generated attacks in {end_time - start_time:0.2f} seconds\")\n",
    "\n",
    "# robust_accuracy = 1 - is_adv.double().mean(axis=-1)"
   ]
  },
  {
   "cell_type": "code",
   "execution_count": null,
   "metadata": {},
   "outputs": [],
   "source": [
    "# plt.title(\"L-inf Fast Gradient Attack\")\n",
    "# plt.xlabel(\"epsilon\")\n",
    "# plt.ylabel(\"accuracy\")\n",
    "# plt.ylim(0, 1.1)\n",
    "# plt.plot(epsilons, robust_accuracy.to('cpu').numpy())\n",
    "# plt.savefig(save_folder + title + '-linf-20.png')"
   ]
  },
  {
   "cell_type": "code",
   "execution_count": null,
   "metadata": {},
   "outputs": [],
   "source": [
    "# # evaluate robustness with L-inf Fast Gradient Attack\n",
    "# torch.cuda.empty_cache()\n",
    "# attack = FGSM()\n",
    "\n",
    "# attack.run = types.MethodType(_run, attack)\n",
    "# attack.get_loss_fn = types.MethodType(_get_loss_fn, attack)\n",
    "# attack.value_and_grad = types.MethodType(_value_and_grad, attack)\n",
    "# epsilons = np.linspace(0.0, 100, num=20)\n",
    "\n",
    "# start_time = time.perf_counter()\n",
    "# raw, clipped, is_adv = attack(fmodel, clips, labels, epsilons=epsilons, original_lengths=lengths)\n",
    "# end_time = time.perf_counter()\n",
    "# print(f\"Generated attacks in {end_time - start_time:0.2f} seconds\")\n",
    "\n",
    "# robust_accuracy = 1 - is_adv.double().mean(axis=-1)"
   ]
  },
  {
   "cell_type": "code",
   "execution_count": null,
   "metadata": {},
   "outputs": [],
   "source": [
    "# plt.title(\"L-inf Fast Gradient Attack\")\n",
    "# plt.xlabel(\"epsilon\")\n",
    "# plt.ylabel(\"accuracy\")\n",
    "# plt.ylim(0, 1.1)\n",
    "# plt.plot(epsilons, robust_accuracy.to('cpu').numpy())\n",
    "# plt.savefig(save_folder + title + '-linf-100.png')"
   ]
  },
  {
   "cell_type": "code",
   "execution_count": null,
   "metadata": {},
   "outputs": [],
   "source": [
    "# # evaluate robustness with L-2 Fast Gradient Attack\n",
    "# torch.cuda.empty_cache()\n",
    "# attack = FGM()\n",
    "\n",
    "# attack.run = types.MethodType(_run, attack)\n",
    "# attack.get_loss_fn = types.MethodType(_get_loss_fn, attack)\n",
    "# attack.value_and_grad = types.MethodType(_value_and_grad, attack)\n",
    "# epsilons = np.linspace(0.0, 250, num=50)\n",
    "\n",
    "# start_time = time.perf_counter()\n",
    "# raw, clipped, is_adv = attack(fmodel, clips, labels, epsilons=epsilons, original_lengths=lengths)\n",
    "# end_time = time.perf_counter()\n",
    "# print(f\"Generated attacks in {end_time - start_time:0.2f} seconds\")\n",
    "\n",
    "# robust_accuracy = 1 - is_adv.double().mean(axis=-1)"
   ]
  },
  {
   "cell_type": "code",
   "execution_count": null,
   "metadata": {},
   "outputs": [],
   "source": [
    "# plt.title(\"L-2 Fast Gradient Attack\")\n",
    "# plt.xlabel(\"epsilon\")\n",
    "# plt.ylabel(\"accuracy\")\n",
    "# plt.ylim(0, 1.1)\n",
    "# plt.plot(epsilons, robust_accuracy.to('cpu').numpy())\n",
    "# plt.savefig(save_folder + title + '-l2-250.png')"
   ]
  }
 ],
 "metadata": {
  "kernelspec": {
   "display_name": "project_1",
   "language": "python",
   "name": "project_1"
  },
  "language_info": {
   "codemirror_mode": {
    "name": "ipython",
    "version": 3
   },
   "file_extension": ".py",
   "mimetype": "text/x-python",
   "name": "python",
   "nbconvert_exporter": "python",
   "pygments_lexer": "ipython3",
   "version": "3.7.9"
  }
 },
 "nbformat": 4,
 "nbformat_minor": 4
}
