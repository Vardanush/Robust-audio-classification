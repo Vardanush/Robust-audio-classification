{
 "cells": [
  {
   "cell_type": "code",
   "execution_count": 1,
   "metadata": {},
   "outputs": [],
   "source": [
    "from typing import Union, Any, Optional, Callable, Tuple\n",
    "from abc import ABC, abstractmethod\n",
    "import eagerpy as ep\n",
    "\n",
    "from foolbox.devutils import flatten\n",
    "from foolbox.devutils import atleast_kd\n",
    "\n",
    "from foolbox.types import Bounds\n",
    "\n",
    "from foolbox.models.base import Model\n",
    "\n",
    "from foolbox.criteria import Misclassification, TargetedMisclassification\n",
    "\n",
    "from foolbox.distances import l1, l2, linf\n",
    "\n",
    "from foolbox.attacks.base import FixedEpsilonAttack\n",
    "from foolbox.attacks.base import T\n",
    "from foolbox.attacks.base import get_criterion\n",
    "from foolbox.attacks.base import raise_if_kwargs\n",
    "\n",
    "def _get_loss_fn(self, model: Model, labels: ep.Tensor, original_lengths=None) -> Callable[[ep.Tensor], ep.Tensor]:\n",
    "    # can be overridden by users\n",
    "    def loss_fn(inputs: ep.Tensor, original_lengths) -> ep.Tensor:\n",
    "        logits = model(inputs, original_lengths)\n",
    "        return ep.crossentropy(logits, labels).sum()\n",
    "\n",
    "    return loss_fn\n",
    "\n",
    "def _value_and_grad(\n",
    "    # can be overridden by users\n",
    "    self,\n",
    "    loss_fn: Callable[[ep.Tensor], ep.Tensor],\n",
    "    x: ep.Tensor,\n",
    "    original_lengths: ep.Tensor,\n",
    ") -> Tuple[ep.Tensor, ep.Tensor]:\n",
    "    return ep.value_and_grad(loss_fn, x, original_lengths)\n",
    "\n",
    "def _run(\n",
    "    self,\n",
    "    model: Model,\n",
    "    inputs: T,\n",
    "    criterion: Union[Misclassification, TargetedMisclassification, T],\n",
    "    *,\n",
    "    epsilon: float,\n",
    "    **kwargs: Any,\n",
    ") -> T:\n",
    "#     raise_if_kwargs(kwargs)\n",
    "    x0, restore_type = ep.astensor_(inputs)\n",
    "    criterion_ = get_criterion(criterion)\n",
    "    original_lengths = kwargs['original_lengths']\n",
    "    del inputs, criterion, kwargs\n",
    "\n",
    "    # perform a gradient ascent (targeted attack) or descent (untargeted attack)\n",
    "    if isinstance(criterion_, Misclassification):\n",
    "        gradient_step_sign = 1.0\n",
    "        classes = criterion_.labels\n",
    "    elif hasattr(criterion_, \"target_classes\"):\n",
    "        gradient_step_sign = -1.0\n",
    "        classes = criterion_.target_classes  # type: ignore\n",
    "    else:\n",
    "        raise ValueError(\"unsupported criterion\")\n",
    "\n",
    "    loss_fn = self.get_loss_fn(model, classes)\n",
    "\n",
    "    if self.abs_stepsize is None:\n",
    "        stepsize = self.rel_stepsize * epsilon\n",
    "    else:\n",
    "        stepsize = self.abs_stepsize\n",
    "\n",
    "    if self.random_start:\n",
    "        x = self.get_random_start(x0, epsilon)\n",
    "        x = ep.clip(x, *model.bounds)\n",
    "    else:\n",
    "        x = x0\n",
    "\n",
    "    for _ in range(self.steps):\n",
    "        _, gradients = self.value_and_grad(loss_fn, x, original_lengths) #!!!!\n",
    "        gradients = self.normalize(gradients, x=x, bounds=model.bounds)\n",
    "        x = x + gradient_step_sign * stepsize * gradients\n",
    "        x = self.project(x, x0, epsilon)\n",
    "        x = ep.clip(x, *model.bounds)\n",
    "\n",
    "    return restore_type(x)"
   ]
  },
  {
   "cell_type": "code",
   "execution_count": 2,
   "metadata": {},
   "outputs": [],
   "source": [
    "import warnings\n",
    "warnings.filterwarnings('ignore')\n",
    "\n",
    "import sys\n",
    "pkg_path = \"/nfs/students/winter-term-2020/project-1/project-1/audio_classification\"\n",
    "if pkg_path not in sys.path:\n",
    "    sys.path.append(pkg_path)\n",
    "\n",
    "pkg_path = \"/nfs/students/winter-term-2020/project-1/project-1/foolbox\"\n",
    "if pkg_path not in sys.path:\n",
    "    sys.path.append(pkg_path)\n",
    "\n",
    "import os\n",
    "import time\n",
    "import types\n",
    "import yaml\n",
    "import torch\n",
    "from audio_classification.tools import do_train, get_dataloader, get_model, get_transform\n",
    "from audio_classification.tools.train_net import collate\n",
    "from audio_classification.model import lit_m11, LitCRNN, SmoothClassifier\n",
    "from audio_classification.data import BMWDataset, UrbanSoundDataset\n",
    "\n",
    "from foolbox import PyTorchModel, accuracy, samples\n",
    "from foolbox.attacks import LinfPGD, L2PGD, FGM, FGSM\n",
    "\n",
    "from torch.utils.data import DataLoader\n",
    "\n",
    "import numpy as np\n",
    "import matplotlib.pyplot as plt\n",
    "%matplotlib inline\n",
    "\n",
    "torch.cuda.empty_cache()\n",
    "device = torch.device('cpu')\n",
    "#device = (torch.device('cuda') if torch.cuda.is_available() else torch.device('cpu'))\n",
    "project_dir = '/nfs/students/winter-term-2020/project-1/project-1/'\n",
    "save_folder = '/nfs/students/winter-term-2020/project-1/project-1/attack_results/'"
   ]
  },
  {
   "cell_type": "code",
   "execution_count": 3,
   "metadata": {},
   "outputs": [],
   "source": [
    "def attack_model(project_dir, config_path, pretrained_path, title):\n",
    "    with open(os.path.join(project_dir, config_path), \"r\") as config_file:\n",
    "        configs = yaml.load(config_file)\n",
    "    print(configs)\n",
    "\n",
    "    # use validattion set\n",
    "    val_set = BMWDataset(configs, [11], transform=get_transform(configs)) # actually the test set\n",
    "    #val_set = UrbanSoundDataset(configs, [1], transform=get_transform(configs))\n",
    "    val_loader = DataLoader(val_set, batch_size=24, shuffle=False,\n",
    "                                    num_workers=configs[\"DATALOADER\"][\"NUM_WORKERS\"],\n",
    "                                    pin_memory=True, collate_fn = collate)\n",
    "\n",
    "    # Get the upper bound and lower bound on the values of the data, to be used as constraint in PGD\n",
    "    lower_bounds = []\n",
    "    upper_bounds = []\n",
    "    for step, (x, y, seq_lens) in enumerate(val_loader):    \n",
    "        upper_bounds.append(torch.max(x))\n",
    "        lower_bounds.append(torch.min(x))\n",
    "    lower_bound = min(lower_bounds)\n",
    "    upper_bound = max(upper_bounds)\n",
    "    print(\"Range of the input data is (%f, %f)\" %(lower_bound, upper_bound))\n",
    "\n",
    "    path_to_checkpoint = os.path.join(project_dir, pretrained_path)\n",
    "    # Get the class weights, used in reloading the model\n",
    "    if configs['DATASET']['WEIGHT']=='NORMAL':\n",
    "        weight = torch.tensor([28.9047, 14.8049,  4.5985,  2.4675,  4.4632, 19.5806]).to(device=device)\n",
    "    elif configs['DATASET']['WEIGHT']=='SQUARED':\n",
    "        weight = torch.tensor([835.4845, 219.1843,  21.1461,   6.0885,  19.9205, 383.4014]).to(device=device)\n",
    "    else:\n",
    "        weight = None\n",
    "\n",
    "    if configs[\"MODEL\"][\"CRNN\"][\"RANDOMISED_SMOOTHING\"] == True:\n",
    "        base_classifier = LitCRNN(cfg=configs, class_weights=weight)\n",
    "        model = SmoothClassifier.load_from_checkpoint(checkpoint_path=path_to_checkpoint, cfg=configs, map_location=device, class_weights=weight, base_classifier = base_classifier.to(device=device))\n",
    "    else:    \n",
    "        model = LitCRNN.load_from_checkpoint(path_to_checkpoint, cfg=configs, class_weights=weight, strict=False, map_location=device)\n",
    "        \n",
    "    fmodel = PyTorchModel(model, bounds=(lower_bound, upper_bound), device=device)\n",
    "\n",
    "    # evaluate accuracy on clean data on a batch\n",
    "    it = iter(val_loader)\n",
    "    batch = next(it)\n",
    "    clips = batch[0].to(device)\n",
    "    labels = batch[1].to(device)\n",
    "    lengths = batch[2].to(device)   # used only for CRNN\n",
    "\n",
    "    # delete some variables to free up memory\n",
    "    del it\n",
    "    del val_loader\n",
    "    del val_set\n",
    "\n",
    "    # evaluate robustness with L-inf Fast Gradient Attack\n",
    "    torch.cuda.empty_cache()\n",
    "    attack = FGSM()\n",
    "\n",
    "    attack.run = types.MethodType(_run, attack)\n",
    "    attack.get_loss_fn = types.MethodType(_get_loss_fn, attack)\n",
    "    attack.value_and_grad = types.MethodType(_value_and_grad, attack)\n",
    "    epsilons = np.linspace(0.0, 10, num=20) # 10.....20\n",
    "\n",
    "    start_time = time.perf_counter()\n",
    "    \n",
    "    robust_accuracy = []\n",
    "    for attack_radius in epsilons:  \n",
    "        raw, clipped, is_adv = attack(fmodel, clips, labels, epsilons=attack_radius, original_lengths=lengths)\n",
    "        y_pred = []\n",
    "        for i in range(len(clipped)):  \n",
    "            x = torch.unsqueeze(clipped[i], 0)\n",
    "            y_pred.append(model.predict(x.to(device), seq_len=lengths[i], num_samples=50, alpha=0.05, batch_size=1))\n",
    "        is_adv = torch.tensor(y_pred != batch[1].numpy())\n",
    "        robust_accuracy.append(1 - is_adv.double().mean(axis=-1))\n",
    "\n",
    "    end_time = time.perf_counter()\n",
    "    print(f\"Generated attacks in {end_time - start_time:0.2f} seconds\")\n",
    "\n",
    "    robust_accuracy = torch.stack(robust_accuracy)\n",
    "    print(\"robust accuracy\", robust_accuracy)\n",
    "\n",
    "    plt.title(\"L-2 Fast Gradient Attack\")\n",
    "    plt.xlabel(\"epsilon\")\n",
    "    plt.ylabel(\"accuracy\")\n",
    "    plt.ylim(0, 1.1)\n",
    "    plt.plot(epsilons, robust_accuracy.to('cpu').numpy())\n",
    "    plt.savefig(save_folder + title + '-l2-250.png')\n",
    "    \n",
    "    # to print the adversarial example\n",
    "    '''\n",
    "    try:\n",
    "        idx = np.where(is_adv.cpu().numpy()==True)[0][0]\n",
    "        print(\"Visualize for the number %s sample in the batch\" %(idx))\n",
    "\n",
    "      # Visualize attack sample\n",
    "        out = model(clipped.to(device), lengths)\n",
    "        preds = torch.argmax(out, dim=1)\n",
    "\n",
    "        idx = np.where(is_adv.cpu().numpy()==True)[0][0]\n",
    "        sample = clipped[idx]\n",
    "        print(\"label %s\" %(preds[idx]))\n",
    "        print(sample[0].shape)\n",
    "        plt.pcolormesh(sample[0].squeeze().numpy(), shading='gouraud')\n",
    "        plt.ylabel('Frequency [Hz]')\n",
    "        plt.xlabel('Time [sec]')\n",
    "        plt.show()\n",
    "    \n",
    "      # Visualize original sample\n",
    "        sample = batch[0]\n",
    "        print(\"label %s\" %(batch[1][idx]))\n",
    "        print(sample[idx].shape)\n",
    "        plt.pcolormesh(sample[idx].squeeze().numpy(), shading='gouraud')\n",
    "        plt.ylabel('Frequency [Hz]')\n",
    "        plt.xlabel('Time [sec]')\n",
    "        plt.show()\n",
    "    except:\n",
    "        print(\"No adversarial sample to show.\")\n",
    "    '''"
   ]
  },
  {
   "cell_type": "markdown",
   "metadata": {},
   "source": [
    "title = 'us8k_baseline_l2'\n",
    "config_path = '/nfs/students/winter-term-2020/project-1/project-1/audio_classification/configs/crnn_urbansound8k.yaml'\n",
    "pretrained_path = '/nfs/students/winter-term-2020/project-1/project-1/weights/crnn-us8k-epoch=18-val_acc=0.759.ckpt'\n",
    "attack_model(project_dir, config_path, pretrained_path, title)"
   ]
  },
  {
   "cell_type": "code",
   "execution_count": 4,
   "metadata": {},
   "outputs": [
    {
     "name": "stdout",
     "output_type": "stream",
     "text": [
      "{'MODEL': {'NAME': 'LitCRNN', 'NUM_CLASSES': 6, 'CRNN': {'RANDOMISED_SMOOTHING': True, 'INCLUDE_TOP': True, 'INCLUDE_TRANSFORM': False, 'ATTACK': True}}, 'DATASET': {'NAME': 'BMW', 'ANNOTATION_PATH': '/nfs/students/winter-term-2020/project-1/datasets/BMW/meta/bmw.csv', 'FOLDER_PATH': '/nfs/students/winter-term-2020/project-1/datasets/Brake_Noise', 'WEIGHT': 'NORMAL', 'VAL_FOLD': 1, 'AUGMENTATION': 'none', 'NOISE_PATH': '../datasets/MUSAN/free-sound/'}, 'DATALOADER': {'BATCH_SIZE': 8, 'NUM_WORKERS': 20}, 'TRANSFORM': {'HOP_LENGTH': 256}, 'LOSS': 'cross_entropy', 'SOLVER': {'LOG_PATH': '../logs/bmw/week-7', 'NUM_GPUS': 1, 'MAX_EPOCH': 150, 'MIN_EPOCH': 1, 'LEARNING_RATE': 0.001, 'WEIGHT_DECAY': 0.001, 'STEP_SIZE': 25, 'SIGMA': 0.25, 'GAMMA': 0.5}, 'CHECKPOINT': {'SAVE_NAME': 'crnn-bmw', 'SAVE_PATH': '../weights/bmw/week-7', 'SAVE_TOP_K': 1}}\n",
      "Transformed raw audio into melspectrogram in dataloader.\n",
      "Data augmentation for BMW dataset: none\n",
      "Range of the input data is (-82.704231, 41.936913)\n"
     ]
    },
    {
     "name": "stderr",
     "output_type": "stream",
     "text": [
      "/nfs/homedirs/vashisht/anaconda3/envs/project_1/lib/python3.7/site-packages/foolbox/models/pytorch.py:37: UserWarning: The PyTorch model is in training mode and therefore might not be deterministic. Call the eval() method to set it in evaluation mode if this is not intended.\n",
      "  \"The PyTorch model is in training mode and therefore might\"\n"
     ]
    },
    {
     "ename": "KeyboardInterrupt",
     "evalue": "",
     "output_type": "error",
     "traceback": [
      "\u001b[0;31m---------------------------------------------------------------------------\u001b[0m",
      "\u001b[0;31mKeyboardInterrupt\u001b[0m                         Traceback (most recent call last)",
      "\u001b[0;32m<ipython-input-4-0849d1286f64>\u001b[0m in \u001b[0;36m<module>\u001b[0;34m\u001b[0m\n\u001b[1;32m      2\u001b[0m \u001b[0mconfig_path\u001b[0m \u001b[0;34m=\u001b[0m \u001b[0;34m'/nfs/students/winter-term-2020/project-1/project-1/audio_classification/configs/crnn_bmw-0.25.yaml'\u001b[0m\u001b[0;34m\u001b[0m\u001b[0;34m\u001b[0m\u001b[0m\n\u001b[1;32m      3\u001b[0m \u001b[0mpretrained_path\u001b[0m \u001b[0;34m=\u001b[0m \u001b[0;34m'/nfs/students/winter-term-2020/project-1/project-1/weights/week-6/randomised-smoothing/crnn-bmw-epoch=38-val_acc=1.000.ckpt'\u001b[0m\u001b[0;34m\u001b[0m\u001b[0;34m\u001b[0m\u001b[0m\n\u001b[0;32m----> 4\u001b[0;31m \u001b[0mattack_model\u001b[0m\u001b[0;34m(\u001b[0m\u001b[0mproject_dir\u001b[0m\u001b[0;34m,\u001b[0m \u001b[0mconfig_path\u001b[0m\u001b[0;34m,\u001b[0m \u001b[0mpretrained_path\u001b[0m\u001b[0;34m,\u001b[0m \u001b[0mtitle\u001b[0m\u001b[0;34m)\u001b[0m\u001b[0;34m\u001b[0m\u001b[0;34m\u001b[0m\u001b[0m\n\u001b[0m",
      "\u001b[0;32m<ipython-input-3-499803829708>\u001b[0m in \u001b[0;36mattack_model\u001b[0;34m(project_dir, config_path, pretrained_path, title)\u001b[0m\n\u001b[1;32m     67\u001b[0m         \u001b[0;32mfor\u001b[0m \u001b[0mi\u001b[0m \u001b[0;32min\u001b[0m \u001b[0mrange\u001b[0m\u001b[0;34m(\u001b[0m\u001b[0mlen\u001b[0m\u001b[0;34m(\u001b[0m\u001b[0mclipped\u001b[0m\u001b[0;34m)\u001b[0m\u001b[0;34m)\u001b[0m\u001b[0;34m:\u001b[0m\u001b[0;34m\u001b[0m\u001b[0;34m\u001b[0m\u001b[0m\n\u001b[1;32m     68\u001b[0m             \u001b[0mx\u001b[0m \u001b[0;34m=\u001b[0m \u001b[0mtorch\u001b[0m\u001b[0;34m.\u001b[0m\u001b[0munsqueeze\u001b[0m\u001b[0;34m(\u001b[0m\u001b[0mclipped\u001b[0m\u001b[0;34m[\u001b[0m\u001b[0mi\u001b[0m\u001b[0;34m]\u001b[0m\u001b[0;34m,\u001b[0m \u001b[0;36m0\u001b[0m\u001b[0;34m)\u001b[0m\u001b[0;34m\u001b[0m\u001b[0;34m\u001b[0m\u001b[0m\n\u001b[0;32m---> 69\u001b[0;31m             \u001b[0mpreds\u001b[0m\u001b[0;34m.\u001b[0m\u001b[0mappend\u001b[0m\u001b[0;34m(\u001b[0m\u001b[0mmodel\u001b[0m\u001b[0;34m.\u001b[0m\u001b[0mpredict\u001b[0m\u001b[0;34m(\u001b[0m\u001b[0mx\u001b[0m\u001b[0;34m.\u001b[0m\u001b[0mto\u001b[0m\u001b[0;34m(\u001b[0m\u001b[0mdevice\u001b[0m\u001b[0;34m)\u001b[0m\u001b[0;34m,\u001b[0m \u001b[0mseq_len\u001b[0m\u001b[0;34m=\u001b[0m\u001b[0mlengths\u001b[0m\u001b[0;34m[\u001b[0m\u001b[0mi\u001b[0m\u001b[0;34m]\u001b[0m\u001b[0;34m,\u001b[0m \u001b[0mnum_samples\u001b[0m\u001b[0;34m=\u001b[0m\u001b[0;36m50\u001b[0m\u001b[0;34m,\u001b[0m \u001b[0malpha\u001b[0m\u001b[0;34m=\u001b[0m\u001b[0;36m0.05\u001b[0m\u001b[0;34m,\u001b[0m \u001b[0mbatch_size\u001b[0m\u001b[0;34m=\u001b[0m\u001b[0;36m1\u001b[0m\u001b[0;34m)\u001b[0m\u001b[0;34m)\u001b[0m\u001b[0;34m\u001b[0m\u001b[0;34m\u001b[0m\u001b[0m\n\u001b[0m\u001b[1;32m     70\u001b[0m         \u001b[0mis_adv\u001b[0m \u001b[0;34m=\u001b[0m \u001b[0mtorch\u001b[0m\u001b[0;34m.\u001b[0m\u001b[0mtensor\u001b[0m\u001b[0;34m(\u001b[0m\u001b[0mpreds\u001b[0m \u001b[0;34m!=\u001b[0m \u001b[0mbatch\u001b[0m\u001b[0;34m[\u001b[0m\u001b[0;36m1\u001b[0m\u001b[0;34m]\u001b[0m\u001b[0;34m.\u001b[0m\u001b[0mnumpy\u001b[0m\u001b[0;34m(\u001b[0m\u001b[0;34m)\u001b[0m\u001b[0;34m)\u001b[0m\u001b[0;34m\u001b[0m\u001b[0;34m\u001b[0m\u001b[0m\n\u001b[1;32m     71\u001b[0m         \u001b[0mrobust_accuracy\u001b[0m\u001b[0;34m.\u001b[0m\u001b[0mappend\u001b[0m\u001b[0;34m(\u001b[0m\u001b[0;36m1\u001b[0m \u001b[0;34m-\u001b[0m \u001b[0mis_adv\u001b[0m\u001b[0;34m.\u001b[0m\u001b[0mdouble\u001b[0m\u001b[0;34m(\u001b[0m\u001b[0;34m)\u001b[0m\u001b[0;34m.\u001b[0m\u001b[0mmean\u001b[0m\u001b[0;34m(\u001b[0m\u001b[0maxis\u001b[0m\u001b[0;34m=\u001b[0m\u001b[0;34m-\u001b[0m\u001b[0;36m1\u001b[0m\u001b[0;34m)\u001b[0m\u001b[0;34m)\u001b[0m\u001b[0;34m\u001b[0m\u001b[0;34m\u001b[0m\u001b[0m\n",
      "\u001b[0;32m/nfs/students/winter-term-2020/project-1/project-1/audio_classification/model/smooth_classifier.py\u001b[0m in \u001b[0;36mpredict\u001b[0;34m(self, inputs, num_samples, alpha, batch_size, seq_len)\u001b[0m\n\u001b[1;32m    231\u001b[0m         \u001b[0mself\u001b[0m\u001b[0;34m.\u001b[0m\u001b[0mbase_classifier\u001b[0m\u001b[0;34m.\u001b[0m\u001b[0meval\u001b[0m\u001b[0;34m(\u001b[0m\u001b[0;34m)\u001b[0m\u001b[0;34m\u001b[0m\u001b[0;34m\u001b[0m\u001b[0m\n\u001b[1;32m    232\u001b[0m         \u001b[0;32mif\u001b[0m \u001b[0mself\u001b[0m\u001b[0;34m.\u001b[0m\u001b[0mattack\u001b[0m\u001b[0;34m:\u001b[0m\u001b[0;34m\u001b[0m\u001b[0;34m\u001b[0m\u001b[0m\n\u001b[0;32m--> 233\u001b[0;31m             \u001b[0mclass_counts\u001b[0m \u001b[0;34m=\u001b[0m \u001b[0mself\u001b[0m\u001b[0;34m.\u001b[0m\u001b[0m_sample_noise_predictions\u001b[0m\u001b[0;34m(\u001b[0m\u001b[0minputs\u001b[0m\u001b[0;34m,\u001b[0m \u001b[0mnum_samples\u001b[0m\u001b[0;34m,\u001b[0m \u001b[0mbatch_size\u001b[0m\u001b[0;34m,\u001b[0m \u001b[0mseq_len\u001b[0m\u001b[0;34m)\u001b[0m\u001b[0;34m.\u001b[0m\u001b[0mcpu\u001b[0m\u001b[0;34m(\u001b[0m\u001b[0;34m)\u001b[0m\u001b[0;34m\u001b[0m\u001b[0;34m\u001b[0m\u001b[0m\n\u001b[0m\u001b[1;32m    234\u001b[0m         \u001b[0;32melse\u001b[0m\u001b[0;34m:\u001b[0m\u001b[0;34m\u001b[0m\u001b[0;34m\u001b[0m\u001b[0m\n\u001b[1;32m    235\u001b[0m             \u001b[0mclass_counts\u001b[0m \u001b[0;34m=\u001b[0m \u001b[0mself\u001b[0m\u001b[0;34m.\u001b[0m\u001b[0m_sample_noise_predictions\u001b[0m\u001b[0;34m(\u001b[0m\u001b[0minputs\u001b[0m\u001b[0;34m,\u001b[0m \u001b[0mnum_samples\u001b[0m\u001b[0;34m,\u001b[0m \u001b[0mbatch_size\u001b[0m\u001b[0;34m,\u001b[0m \u001b[0mseq_len\u001b[0m\u001b[0;34m)\u001b[0m\u001b[0;34m\u001b[0m\u001b[0;34m\u001b[0m\u001b[0m\n",
      "\u001b[0;32m/nfs/students/winter-term-2020/project-1/project-1/audio_classification/model/smooth_classifier.py\u001b[0m in \u001b[0;36m_sample_noise_predictions\u001b[0;34m(self, inputs, num_samples, batch_size, seq_len)\u001b[0m\n\u001b[1;32m    285\u001b[0m                 \u001b[0mseq_lens\u001b[0m \u001b[0;34m=\u001b[0m \u001b[0mseq_len\u001b[0m\u001b[0;34m.\u001b[0m\u001b[0mrepeat\u001b[0m\u001b[0;34m(\u001b[0m\u001b[0mthis_batch_size\u001b[0m\u001b[0;34m)\u001b[0m\u001b[0;34m\u001b[0m\u001b[0;34m\u001b[0m\u001b[0m\n\u001b[1;32m    286\u001b[0m \u001b[0;34m\u001b[0m\u001b[0m\n\u001b[0;32m--> 287\u001b[0;31m                 \u001b[0mpredictions\u001b[0m \u001b[0;34m=\u001b[0m \u001b[0mself\u001b[0m\u001b[0;34m.\u001b[0m\u001b[0mbase_classifier\u001b[0m\u001b[0;34m(\u001b[0m\u001b[0;34m(\u001b[0m\u001b[0mbatch\u001b[0m \u001b[0;34m+\u001b[0m \u001b[0mrandom_noise\u001b[0m\u001b[0;34m)\u001b[0m\u001b[0;34m,\u001b[0m \u001b[0mseq_lens\u001b[0m\u001b[0;34m)\u001b[0m\u001b[0;34m\u001b[0m\u001b[0;34m\u001b[0m\u001b[0m\n\u001b[0m\u001b[1;32m    288\u001b[0m                 \u001b[0mclass_counts\u001b[0m \u001b[0;34m+=\u001b[0m \u001b[0;34m(\u001b[0m\u001b[0mpredictions\u001b[0m\u001b[0;34m.\u001b[0m\u001b[0margmax\u001b[0m\u001b[0;34m(\u001b[0m\u001b[0;34m-\u001b[0m\u001b[0;36m1\u001b[0m\u001b[0;34m,\u001b[0m \u001b[0mkeepdim\u001b[0m\u001b[0;34m=\u001b[0m\u001b[0;32mTrue\u001b[0m\u001b[0;34m)\u001b[0m \u001b[0;34m==\u001b[0m \u001b[0mclasses\u001b[0m\u001b[0;34m)\u001b[0m\u001b[0;34m.\u001b[0m\u001b[0mlong\u001b[0m\u001b[0;34m(\u001b[0m\u001b[0;34m)\u001b[0m\u001b[0;34m.\u001b[0m\u001b[0msum\u001b[0m\u001b[0;34m(\u001b[0m\u001b[0;36m0\u001b[0m\u001b[0;34m)\u001b[0m\u001b[0;34m\u001b[0m\u001b[0;34m\u001b[0m\u001b[0m\n\u001b[1;32m    289\u001b[0m \u001b[0;34m\u001b[0m\u001b[0m\n",
      "\u001b[0;32m~/anaconda3/envs/project_1/lib/python3.7/site-packages/torch/nn/modules/module.py\u001b[0m in \u001b[0;36m_call_impl\u001b[0;34m(self, *input, **kwargs)\u001b[0m\n\u001b[1;32m    725\u001b[0m             \u001b[0mresult\u001b[0m \u001b[0;34m=\u001b[0m \u001b[0mself\u001b[0m\u001b[0;34m.\u001b[0m\u001b[0m_slow_forward\u001b[0m\u001b[0;34m(\u001b[0m\u001b[0;34m*\u001b[0m\u001b[0minput\u001b[0m\u001b[0;34m,\u001b[0m \u001b[0;34m**\u001b[0m\u001b[0mkwargs\u001b[0m\u001b[0;34m)\u001b[0m\u001b[0;34m\u001b[0m\u001b[0;34m\u001b[0m\u001b[0m\n\u001b[1;32m    726\u001b[0m         \u001b[0;32melse\u001b[0m\u001b[0;34m:\u001b[0m\u001b[0;34m\u001b[0m\u001b[0;34m\u001b[0m\u001b[0m\n\u001b[0;32m--> 727\u001b[0;31m             \u001b[0mresult\u001b[0m \u001b[0;34m=\u001b[0m \u001b[0mself\u001b[0m\u001b[0;34m.\u001b[0m\u001b[0mforward\u001b[0m\u001b[0;34m(\u001b[0m\u001b[0;34m*\u001b[0m\u001b[0minput\u001b[0m\u001b[0;34m,\u001b[0m \u001b[0;34m**\u001b[0m\u001b[0mkwargs\u001b[0m\u001b[0;34m)\u001b[0m\u001b[0;34m\u001b[0m\u001b[0;34m\u001b[0m\u001b[0m\n\u001b[0m\u001b[1;32m    728\u001b[0m         for hook in itertools.chain(\n\u001b[1;32m    729\u001b[0m                 \u001b[0m_global_forward_hooks\u001b[0m\u001b[0;34m.\u001b[0m\u001b[0mvalues\u001b[0m\u001b[0;34m(\u001b[0m\u001b[0;34m)\u001b[0m\u001b[0;34m,\u001b[0m\u001b[0;34m\u001b[0m\u001b[0;34m\u001b[0m\u001b[0m\n",
      "\u001b[0;32m/nfs/students/winter-term-2020/project-1/project-1/audio_classification/model/crnn.py\u001b[0m in \u001b[0;36mforward\u001b[0;34m(self, x, seq_lens)\u001b[0m\n\u001b[1;32m     80\u001b[0m         \u001b[0mout\u001b[0m \u001b[0;34m=\u001b[0m \u001b[0mF\u001b[0m\u001b[0;34m.\u001b[0m\u001b[0mmax_pool2d\u001b[0m\u001b[0;34m(\u001b[0m\u001b[0mF\u001b[0m\u001b[0;34m.\u001b[0m\u001b[0melu\u001b[0m\u001b[0;34m(\u001b[0m\u001b[0mself\u001b[0m\u001b[0;34m.\u001b[0m\u001b[0mbn2\u001b[0m\u001b[0;34m(\u001b[0m\u001b[0mself\u001b[0m\u001b[0;34m.\u001b[0m\u001b[0mconv2\u001b[0m\u001b[0;34m(\u001b[0m\u001b[0mout\u001b[0m\u001b[0;34m)\u001b[0m\u001b[0;34m)\u001b[0m\u001b[0;34m)\u001b[0m\u001b[0;34m,\u001b[0m \u001b[0;36m3\u001b[0m\u001b[0;34m,\u001b[0m \u001b[0mstride\u001b[0m\u001b[0;34m=\u001b[0m\u001b[0;36m3\u001b[0m\u001b[0;34m)\u001b[0m\u001b[0;34m\u001b[0m\u001b[0;34m\u001b[0m\u001b[0m\n\u001b[1;32m     81\u001b[0m         \u001b[0mout\u001b[0m \u001b[0;34m=\u001b[0m \u001b[0mself\u001b[0m\u001b[0;34m.\u001b[0m\u001b[0mdropout2\u001b[0m\u001b[0;34m(\u001b[0m\u001b[0mout\u001b[0m\u001b[0;34m)\u001b[0m\u001b[0;34m\u001b[0m\u001b[0;34m\u001b[0m\u001b[0m\n\u001b[0;32m---> 82\u001b[0;31m         \u001b[0mout\u001b[0m \u001b[0;34m=\u001b[0m \u001b[0mF\u001b[0m\u001b[0;34m.\u001b[0m\u001b[0mmax_pool2d\u001b[0m\u001b[0;34m(\u001b[0m\u001b[0mF\u001b[0m\u001b[0;34m.\u001b[0m\u001b[0melu\u001b[0m\u001b[0;34m(\u001b[0m\u001b[0mself\u001b[0m\u001b[0;34m.\u001b[0m\u001b[0mbn3\u001b[0m\u001b[0;34m(\u001b[0m\u001b[0mself\u001b[0m\u001b[0;34m.\u001b[0m\u001b[0mconv3\u001b[0m\u001b[0;34m(\u001b[0m\u001b[0mout\u001b[0m\u001b[0;34m)\u001b[0m\u001b[0;34m)\u001b[0m\u001b[0;34m)\u001b[0m\u001b[0;34m,\u001b[0m \u001b[0;36m4\u001b[0m\u001b[0;34m,\u001b[0m \u001b[0mstride\u001b[0m\u001b[0;34m=\u001b[0m\u001b[0;36m4\u001b[0m\u001b[0;34m)\u001b[0m\u001b[0;34m\u001b[0m\u001b[0;34m\u001b[0m\u001b[0m\n\u001b[0m\u001b[1;32m     83\u001b[0m         \u001b[0mout\u001b[0m \u001b[0;34m=\u001b[0m \u001b[0mself\u001b[0m\u001b[0;34m.\u001b[0m\u001b[0mdropout3\u001b[0m\u001b[0;34m(\u001b[0m\u001b[0mout\u001b[0m\u001b[0;34m)\u001b[0m\u001b[0;34m\u001b[0m\u001b[0;34m\u001b[0m\u001b[0m\n\u001b[1;32m     84\u001b[0m         \u001b[0mout\u001b[0m \u001b[0;34m=\u001b[0m \u001b[0mF\u001b[0m\u001b[0;34m.\u001b[0m\u001b[0mmax_pool2d\u001b[0m\u001b[0;34m(\u001b[0m\u001b[0mF\u001b[0m\u001b[0;34m.\u001b[0m\u001b[0melu\u001b[0m\u001b[0;34m(\u001b[0m\u001b[0mself\u001b[0m\u001b[0;34m.\u001b[0m\u001b[0mbn4\u001b[0m\u001b[0;34m(\u001b[0m\u001b[0mself\u001b[0m\u001b[0;34m.\u001b[0m\u001b[0mconv4\u001b[0m\u001b[0;34m(\u001b[0m\u001b[0mout\u001b[0m\u001b[0;34m)\u001b[0m\u001b[0;34m)\u001b[0m\u001b[0;34m)\u001b[0m\u001b[0;34m,\u001b[0m \u001b[0;36m4\u001b[0m\u001b[0;34m,\u001b[0m \u001b[0mstride\u001b[0m\u001b[0;34m=\u001b[0m\u001b[0;36m4\u001b[0m\u001b[0;34m)\u001b[0m\u001b[0;34m\u001b[0m\u001b[0;34m\u001b[0m\u001b[0m\n",
      "\u001b[0;32m~/anaconda3/envs/project_1/lib/python3.7/site-packages/torch/nn/modules/module.py\u001b[0m in \u001b[0;36m_call_impl\u001b[0;34m(self, *input, **kwargs)\u001b[0m\n\u001b[1;32m    725\u001b[0m             \u001b[0mresult\u001b[0m \u001b[0;34m=\u001b[0m \u001b[0mself\u001b[0m\u001b[0;34m.\u001b[0m\u001b[0m_slow_forward\u001b[0m\u001b[0;34m(\u001b[0m\u001b[0;34m*\u001b[0m\u001b[0minput\u001b[0m\u001b[0;34m,\u001b[0m \u001b[0;34m**\u001b[0m\u001b[0mkwargs\u001b[0m\u001b[0;34m)\u001b[0m\u001b[0;34m\u001b[0m\u001b[0;34m\u001b[0m\u001b[0m\n\u001b[1;32m    726\u001b[0m         \u001b[0;32melse\u001b[0m\u001b[0;34m:\u001b[0m\u001b[0;34m\u001b[0m\u001b[0;34m\u001b[0m\u001b[0m\n\u001b[0;32m--> 727\u001b[0;31m             \u001b[0mresult\u001b[0m \u001b[0;34m=\u001b[0m \u001b[0mself\u001b[0m\u001b[0;34m.\u001b[0m\u001b[0mforward\u001b[0m\u001b[0;34m(\u001b[0m\u001b[0;34m*\u001b[0m\u001b[0minput\u001b[0m\u001b[0;34m,\u001b[0m \u001b[0;34m**\u001b[0m\u001b[0mkwargs\u001b[0m\u001b[0;34m)\u001b[0m\u001b[0;34m\u001b[0m\u001b[0;34m\u001b[0m\u001b[0m\n\u001b[0m\u001b[1;32m    728\u001b[0m         for hook in itertools.chain(\n\u001b[1;32m    729\u001b[0m                 \u001b[0m_global_forward_hooks\u001b[0m\u001b[0;34m.\u001b[0m\u001b[0mvalues\u001b[0m\u001b[0;34m(\u001b[0m\u001b[0;34m)\u001b[0m\u001b[0;34m,\u001b[0m\u001b[0;34m\u001b[0m\u001b[0;34m\u001b[0m\u001b[0m\n",
      "\u001b[0;32m~/anaconda3/envs/project_1/lib/python3.7/site-packages/torch/nn/modules/conv.py\u001b[0m in \u001b[0;36mforward\u001b[0;34m(self, input)\u001b[0m\n\u001b[1;32m    421\u001b[0m \u001b[0;34m\u001b[0m\u001b[0m\n\u001b[1;32m    422\u001b[0m     \u001b[0;32mdef\u001b[0m \u001b[0mforward\u001b[0m\u001b[0;34m(\u001b[0m\u001b[0mself\u001b[0m\u001b[0;34m,\u001b[0m \u001b[0minput\u001b[0m\u001b[0;34m:\u001b[0m \u001b[0mTensor\u001b[0m\u001b[0;34m)\u001b[0m \u001b[0;34m->\u001b[0m \u001b[0mTensor\u001b[0m\u001b[0;34m:\u001b[0m\u001b[0;34m\u001b[0m\u001b[0;34m\u001b[0m\u001b[0m\n\u001b[0;32m--> 423\u001b[0;31m         \u001b[0;32mreturn\u001b[0m \u001b[0mself\u001b[0m\u001b[0;34m.\u001b[0m\u001b[0m_conv_forward\u001b[0m\u001b[0;34m(\u001b[0m\u001b[0minput\u001b[0m\u001b[0;34m,\u001b[0m \u001b[0mself\u001b[0m\u001b[0;34m.\u001b[0m\u001b[0mweight\u001b[0m\u001b[0;34m)\u001b[0m\u001b[0;34m\u001b[0m\u001b[0;34m\u001b[0m\u001b[0m\n\u001b[0m\u001b[1;32m    424\u001b[0m \u001b[0;34m\u001b[0m\u001b[0m\n\u001b[1;32m    425\u001b[0m \u001b[0;32mclass\u001b[0m \u001b[0mConv3d\u001b[0m\u001b[0;34m(\u001b[0m\u001b[0m_ConvNd\u001b[0m\u001b[0;34m)\u001b[0m\u001b[0;34m:\u001b[0m\u001b[0;34m\u001b[0m\u001b[0;34m\u001b[0m\u001b[0m\n",
      "\u001b[0;32m~/anaconda3/envs/project_1/lib/python3.7/site-packages/torch/nn/modules/conv.py\u001b[0m in \u001b[0;36m_conv_forward\u001b[0;34m(self, input, weight)\u001b[0m\n\u001b[1;32m    418\u001b[0m                             _pair(0), self.dilation, self.groups)\n\u001b[1;32m    419\u001b[0m         return F.conv2d(input, weight, self.bias, self.stride,\n\u001b[0;32m--> 420\u001b[0;31m                         self.padding, self.dilation, self.groups)\n\u001b[0m\u001b[1;32m    421\u001b[0m \u001b[0;34m\u001b[0m\u001b[0m\n\u001b[1;32m    422\u001b[0m     \u001b[0;32mdef\u001b[0m \u001b[0mforward\u001b[0m\u001b[0;34m(\u001b[0m\u001b[0mself\u001b[0m\u001b[0;34m,\u001b[0m \u001b[0minput\u001b[0m\u001b[0;34m:\u001b[0m \u001b[0mTensor\u001b[0m\u001b[0;34m)\u001b[0m \u001b[0;34m->\u001b[0m \u001b[0mTensor\u001b[0m\u001b[0;34m:\u001b[0m\u001b[0;34m\u001b[0m\u001b[0;34m\u001b[0m\u001b[0m\n",
      "\u001b[0;31mKeyboardInterrupt\u001b[0m: "
     ]
    }
   ],
   "source": [
    "title = 'bmw_sigma_0.25_rs'\n",
    "config_path = '/nfs/students/winter-term-2020/project-1/project-1/audio_classification/configs/crnn_bmw-0.25.yaml'\n",
    "pretrained_path = '/nfs/students/winter-term-2020/project-1/project-1/weights/week-6/randomised-smoothing/crnn-bmw-epoch=38-val_acc=1.000.ckpt'\n",
    "attack_model(project_dir, config_path, pretrained_path, title)"
   ]
  },
  {
   "cell_type": "code",
   "execution_count": 6,
   "metadata": {},
   "outputs": [
    {
     "name": "stdout",
     "output_type": "stream",
     "text": [
      "{'MODEL': {'NAME': 'LitCRNN', 'NUM_CLASSES': 6, 'CRNN': {'RANDOMISED_SMOOTHING': True, 'INCLUDE_TOP': True, 'INCLUDE_TRANSFORM': False, 'ATTACK': True}}, 'DATASET': {'NAME': 'BMW', 'ANNOTATION_PATH': '/nfs/students/winter-term-2020/project-1/datasets/BMW/meta/bmw.csv', 'FOLDER_PATH': '/nfs/students/winter-term-2020/project-1/datasets/Brake_Noise', 'WEIGHT': 'NORMAL', 'VAL_FOLD': 1, 'AUGMENTATION': 'none', 'NOISE_PATH': '../datasets/MUSAN/free-sound/'}, 'DATALOADER': {'BATCH_SIZE': 8, 'NUM_WORKERS': 20}, 'TRANSFORM': {'HOP_LENGTH': 256}, 'LOSS': 'cross_entropy', 'SOLVER': {'LOG_PATH': '../logs/bmw/week-7', 'NUM_GPUS': 1, 'MAX_EPOCH': 150, 'MIN_EPOCH': 1, 'LEARNING_RATE': 0.001, 'WEIGHT_DECAY': 0.001, 'STEP_SIZE': 25, 'SIGMA': 0.5, 'GAMMA': 0.5}, 'CHECKPOINT': {'SAVE_NAME': 'crnn-bmw', 'SAVE_PATH': '../weights/bmw/week-7', 'SAVE_TOP_K': 1}}\n",
      "Transformed raw audio into melspectrogram in dataloader.\n",
      "ERROR! Session/line number was not unique in database. History logging moved to new session 886\n"
     ]
    },
    {
     "ename": "KeyboardInterrupt",
     "evalue": "",
     "output_type": "error",
     "traceback": [
      "\u001b[0;31m---------------------------------------------------------------------------\u001b[0m",
      "\u001b[0;31mKeyboardInterrupt\u001b[0m                         Traceback (most recent call last)",
      "\u001b[0;32m<ipython-input-6-709d776ccf08>\u001b[0m in \u001b[0;36m<module>\u001b[0;34m\u001b[0m\n\u001b[1;32m      2\u001b[0m \u001b[0mconfig_path\u001b[0m \u001b[0;34m=\u001b[0m \u001b[0;34m'/nfs/students/winter-term-2020/project-1/project-1/audio_classification/configs/crnn_bmw-0.5.yaml'\u001b[0m\u001b[0;34m\u001b[0m\u001b[0;34m\u001b[0m\u001b[0m\n\u001b[1;32m      3\u001b[0m \u001b[0mpretrained_path\u001b[0m \u001b[0;34m=\u001b[0m \u001b[0;34m'/nfs/students/winter-term-2020/project-1/project-1/weights/week-6/randomised-smoothing/crnn-bmw-epoch=42-val_acc=1.000.ckpt'\u001b[0m\u001b[0;34m\u001b[0m\u001b[0;34m\u001b[0m\u001b[0m\n\u001b[0;32m----> 4\u001b[0;31m \u001b[0mattack_model\u001b[0m\u001b[0;34m(\u001b[0m\u001b[0mproject_dir\u001b[0m\u001b[0;34m,\u001b[0m \u001b[0mconfig_path\u001b[0m\u001b[0;34m,\u001b[0m \u001b[0mpretrained_path\u001b[0m\u001b[0;34m,\u001b[0m \u001b[0mtitle\u001b[0m\u001b[0;34m)\u001b[0m\u001b[0;34m\u001b[0m\u001b[0;34m\u001b[0m\u001b[0m\n\u001b[0m",
      "\u001b[0;32m<ipython-input-5-78de8a575d29>\u001b[0m in \u001b[0;36mattack_model\u001b[0;34m(project_dir, config_path, pretrained_path, title)\u001b[0m\n\u001b[1;32m      5\u001b[0m \u001b[0;34m\u001b[0m\u001b[0m\n\u001b[1;32m      6\u001b[0m     \u001b[0;31m# use validattion set\u001b[0m\u001b[0;34m\u001b[0m\u001b[0;34m\u001b[0m\u001b[0;34m\u001b[0m\u001b[0m\n\u001b[0;32m----> 7\u001b[0;31m     \u001b[0mval_set\u001b[0m \u001b[0;34m=\u001b[0m \u001b[0mBMWDataset\u001b[0m\u001b[0;34m(\u001b[0m\u001b[0mconfigs\u001b[0m\u001b[0;34m,\u001b[0m \u001b[0;34m[\u001b[0m\u001b[0;36m11\u001b[0m\u001b[0;34m]\u001b[0m\u001b[0;34m,\u001b[0m \u001b[0mtransform\u001b[0m\u001b[0;34m=\u001b[0m\u001b[0mget_transform\u001b[0m\u001b[0;34m(\u001b[0m\u001b[0mconfigs\u001b[0m\u001b[0;34m)\u001b[0m\u001b[0;34m)\u001b[0m \u001b[0;31m# actually the test set\u001b[0m\u001b[0;34m\u001b[0m\u001b[0;34m\u001b[0m\u001b[0m\n\u001b[0m\u001b[1;32m      8\u001b[0m     \u001b[0;31m#val_set = UrbanSoundDataset(configs, [1], transform=get_transform(configs))\u001b[0m\u001b[0;34m\u001b[0m\u001b[0;34m\u001b[0m\u001b[0;34m\u001b[0m\u001b[0m\n\u001b[1;32m      9\u001b[0m     val_loader = DataLoader(val_set, batch_size=24, shuffle=False,\n",
      "\u001b[0;32m/nfs/students/winter-term-2020/project-1/project-1/audio_classification/data/bmw.py\u001b[0m in \u001b[0;36m__init__\u001b[0;34m(self, cfg, folder_list, transform, augment)\u001b[0m\n\u001b[1;32m     21\u001b[0m         \u001b[0msuper\u001b[0m\u001b[0;34m(\u001b[0m\u001b[0;34m)\u001b[0m\u001b[0;34m.\u001b[0m\u001b[0m__init__\u001b[0m\u001b[0;34m(\u001b[0m\u001b[0;34m)\u001b[0m\u001b[0;34m\u001b[0m\u001b[0;34m\u001b[0m\u001b[0m\n\u001b[1;32m     22\u001b[0m         \u001b[0mself\u001b[0m\u001b[0;34m.\u001b[0m\u001b[0mannotation_path\u001b[0m \u001b[0;34m=\u001b[0m \u001b[0mcfg\u001b[0m\u001b[0;34m[\u001b[0m\u001b[0;34m\"DATASET\"\u001b[0m\u001b[0;34m]\u001b[0m\u001b[0;34m[\u001b[0m\u001b[0;34m\"ANNOTATION_PATH\"\u001b[0m\u001b[0;34m]\u001b[0m\u001b[0;34m\u001b[0m\u001b[0;34m\u001b[0m\u001b[0m\n\u001b[0;32m---> 23\u001b[0;31m         \u001b[0;32mif\u001b[0m \u001b[0mos\u001b[0m\u001b[0;34m.\u001b[0m\u001b[0mpath\u001b[0m\u001b[0;34m.\u001b[0m\u001b[0misfile\u001b[0m\u001b[0;34m(\u001b[0m\u001b[0mself\u001b[0m\u001b[0;34m.\u001b[0m\u001b[0mannotation_path\u001b[0m\u001b[0;34m)\u001b[0m\u001b[0;34m:\u001b[0m\u001b[0;34m\u001b[0m\u001b[0;34m\u001b[0m\u001b[0m\n\u001b[0m\u001b[1;32m     24\u001b[0m             \u001b[0mcsv_data\u001b[0m \u001b[0;34m=\u001b[0m \u001b[0mpd\u001b[0m\u001b[0;34m.\u001b[0m\u001b[0mread_csv\u001b[0m\u001b[0;34m(\u001b[0m\u001b[0mself\u001b[0m\u001b[0;34m.\u001b[0m\u001b[0mannotation_path\u001b[0m\u001b[0;34m)\u001b[0m\u001b[0;34m\u001b[0m\u001b[0;34m\u001b[0m\u001b[0m\n\u001b[1;32m     25\u001b[0m         \u001b[0;32melse\u001b[0m\u001b[0;34m:\u001b[0m\u001b[0;34m\u001b[0m\u001b[0;34m\u001b[0m\u001b[0m\n",
      "\u001b[0;32m~/anaconda3/envs/project_1/lib/python3.7/genericpath.py\u001b[0m in \u001b[0;36misfile\u001b[0;34m(path)\u001b[0m\n\u001b[1;32m     28\u001b[0m     \u001b[0;34m\"\"\"Test whether a path is a regular file\"\"\"\u001b[0m\u001b[0;34m\u001b[0m\u001b[0;34m\u001b[0m\u001b[0m\n\u001b[1;32m     29\u001b[0m     \u001b[0;32mtry\u001b[0m\u001b[0;34m:\u001b[0m\u001b[0;34m\u001b[0m\u001b[0;34m\u001b[0m\u001b[0m\n\u001b[0;32m---> 30\u001b[0;31m         \u001b[0mst\u001b[0m \u001b[0;34m=\u001b[0m \u001b[0mos\u001b[0m\u001b[0;34m.\u001b[0m\u001b[0mstat\u001b[0m\u001b[0;34m(\u001b[0m\u001b[0mpath\u001b[0m\u001b[0;34m)\u001b[0m\u001b[0;34m\u001b[0m\u001b[0;34m\u001b[0m\u001b[0m\n\u001b[0m\u001b[1;32m     31\u001b[0m     \u001b[0;32mexcept\u001b[0m \u001b[0mOSError\u001b[0m\u001b[0;34m:\u001b[0m\u001b[0;34m\u001b[0m\u001b[0;34m\u001b[0m\u001b[0m\n\u001b[1;32m     32\u001b[0m         \u001b[0;32mreturn\u001b[0m \u001b[0;32mFalse\u001b[0m\u001b[0;34m\u001b[0m\u001b[0;34m\u001b[0m\u001b[0m\n",
      "\u001b[0;31mKeyboardInterrupt\u001b[0m: "
     ]
    }
   ],
   "source": [
    "title = 'bmw_sigma_0.5_rs'\n",
    "config_path = '/nfs/students/winter-term-2020/project-1/project-1/audio_classification/configs/crnn_bmw-0.5.yaml'\n",
    "pretrained_path = '/nfs/students/winter-term-2020/project-1/project-1/weights/week-6/randomised-smoothing/crnn-bmw-epoch=42-val_acc=1.000.ckpt'\n",
    "attack_model(project_dir, config_path, pretrained_path, title)"
   ]
  },
  {
   "cell_type": "code",
   "execution_count": 6,
   "metadata": {},
   "outputs": [
    {
     "name": "stdout",
     "output_type": "stream",
     "text": [
      "{'MODEL': {'NAME': 'LitCRNN', 'NUM_CLASSES': 6, 'CRNN': {'RANDOMISED_SMOOTHING': True, 'INCLUDE_TOP': True, 'INCLUDE_TRANSFORM': False}}, 'DATASET': {'NAME': 'BMW', 'ANNOTATION_PATH': '/nfs/students/winter-term-2020/project-1/datasets/BMW/meta/bmw.csv', 'FOLDER_PATH': '/nfs/students/winter-term-2020/project-1/datasets/Brake_Noise', 'WEIGHT': 'NORMAL', 'VAL_FOLD': 1, 'AUGMENTATION': 'none', 'NOISE_PATH': '../datasets/MUSAN/free-sound/'}, 'DATALOADER': {'BATCH_SIZE': 8, 'NUM_WORKERS': 20}, 'TRANSFORM': {'HOP_LENGTH': 256}, 'LOSS': 'cross_entropy', 'SOLVER': {'LOG_PATH': '../logs/bmw/week-7', 'NUM_GPUS': 1, 'MAX_EPOCH': 150, 'MIN_EPOCH': 1, 'LEARNING_RATE': 0.001, 'WEIGHT_DECAY': 0.001, 'STEP_SIZE': 25, 'SIGMA': 1, 'GAMMA': 0.5}, 'CHECKPOINT': {'SAVE_NAME': 'crnn-bmw', 'SAVE_PATH': '../weights/bmw/week-7', 'SAVE_TOP_K': 1}}\n",
      "Transformed raw audio into melspectrogram in dataloader.\n",
      "Data augmentation for BMW dataset: none\n",
      "Range of the input data is (-82.704231, 41.936913)\n"
     ]
    },
    {
     "name": "stderr",
     "output_type": "stream",
     "text": [
      "/nfs/homedirs/vashisht/anaconda3/envs/project_1/lib/python3.7/site-packages/foolbox/models/pytorch.py:37: UserWarning: The PyTorch model is in training mode and therefore might not be deterministic. Call the eval() method to set it in evaluation mode if this is not intended.\n",
      "  \"The PyTorch model is in training mode and therefore might\"\n"
     ]
    },
    {
     "name": "stdout",
     "output_type": "stream",
     "text": [
      "Generated attacks in 2950.49 seconds\n",
      "tensor([0.8750, 0.9167, 0.9167, 0.9167, 0.8333, 0.7917, 0.7917, 0.7917, 0.8333,\n",
      "        0.7083, 0.7917, 0.7500, 0.7083, 0.6667, 0.7500, 0.6667, 0.5833, 0.6667,\n",
      "        0.6250, 0.6250, 0.5417, 0.6250, 0.5000, 0.5000, 0.5417, 0.5417, 0.5000,\n",
      "        0.4583, 0.4167, 0.6250, 0.4583, 0.4583, 0.3333, 0.5000, 0.3750, 0.3750,\n",
      "        0.5000, 0.3333, 0.3333, 0.3333, 0.3333, 0.5417, 0.4583, 0.4167, 0.4583,\n",
      "        0.3750, 0.3333, 0.4167, 0.4583, 0.2500], dtype=torch.float64)\n",
      "Visualize for the number 0 sample in the batch\n",
      "No adversarial sample to show.\n"
     ]
    },
    {
     "data": {
      "image/png": "[encoded data removed]",
      "text/plain": [
       "<Figure size 432x288 with 1 Axes>"
      ]
     },
     "metadata": {
      "needs_background": "light"
     },
     "output_type": "display_data"
    }
   ],
   "source": [
    "title = 'bmw_sigma_1_rs'\n",
    "config_path = '/nfs/students/winter-term-2020/project-1/project-1/audio_classification/configs/crnn_bmw.yaml'\n",
    "pretrained_path = '/nfs/students/winter-term-2020/project-1/project-1/weights/week-6/randomised-smoothing/crnn-bmw-epoch=24-val_acc=1.000.ckpt'\n",
    "attack_model(project_dir, config_path, pretrained_path, title)"
   ]
  },
  {
   "cell_type": "code",
   "execution_count": 4,
   "metadata": {},
   "outputs": [
    {
     "name": "stdout",
     "output_type": "stream",
     "text": [
      "{'MODEL': {'NAME': 'LitCRNN', 'NUM_CLASSES': 10, 'CRNN': {'RANDOMISED_SMOOTHING': True, 'INCLUDE_TOP': True, 'INCLUDE_TRANSFORM': False}}, 'DATASET': {'NAME': 'UrbanSounds8K', 'ANNOTATION_PATH': '/nfs/students/winter-term-2020/project-1/datasets/UrbanSound8K/metadata/UrbanSound8K.csv', 'FILE_PATH': '/nfs/students/winter-term-2020/project-1/datasets/UrbanSound8K/audio/', 'VAL_FOLD': 10, 'WEIGHT': 'None'}, 'DATALOADER': {'BATCH_SIZE': 12, 'NUM_WORKERS': 20}, 'TRANSFORM': {'HOP_LENGTH': 256}, 'LOSS': 'cross_entropy', 'SOLVER': {'LOG_PATH': '../logs/us8k/', 'NUM_GPUS': 1, 'MAX_EPOCH': 125, 'MIN_EPOCH': 1, 'LEARNING_RATE': 0.001, 'WEIGHT_DECAY': 0.01, 'STEP_SIZE': 25, 'SIGMA': 0.25, 'GAMMA': 0.5}, 'CHECKPOINT': {'SAVE_NAME': 'crnn-us8k', 'SAVE_PATH': '../weights', 'SAVE_TOP_K': 1}}\n",
      "Transformed raw audio into melspectrogram in dataloader.\n",
      "Range of the input data is (-100.000000, 41.999760)\n"
     ]
    },
    {
     "name": "stderr",
     "output_type": "stream",
     "text": [
      "/nfs/homedirs/vashisht/anaconda3/envs/project_1/lib/python3.7/site-packages/foolbox/models/pytorch.py:37: UserWarning: The PyTorch model is in training mode and therefore might not be deterministic. Call the eval() method to set it in evaluation mode if this is not intended.\n",
      "  \"The PyTorch model is in training mode and therefore might\"\n"
     ]
    },
    {
     "name": "stdout",
     "output_type": "stream",
     "text": [
      "Generated attacks in 2255.88 seconds\n",
      "tensor([0.8333, 0.7917, 0.7083, 0.8750, 0.7500, 0.7917, 0.8333, 0.7500, 0.7083,\n",
      "        0.7500, 0.7083, 0.7083, 0.5833, 0.6250, 0.6250, 0.6250, 0.6667, 0.6250,\n",
      "        0.5833, 0.6250, 0.5833, 0.5417, 0.5833, 0.5000, 0.5417, 0.5417, 0.5417,\n",
      "        0.5417, 0.5417, 0.5833, 0.5833, 0.4583, 0.5000, 0.5000, 0.3750, 0.4167,\n",
      "        0.5417, 0.5833, 0.5000, 0.4583, 0.4167, 0.3750, 0.5417, 0.3750, 0.3750,\n",
      "        0.4583, 0.5000, 0.4583, 0.5000, 0.5833], dtype=torch.float64)\n",
      "Visualize for the number 0 sample in the batch\n",
      "No adversarial sample to show.\n"
     ]
    },
    {
     "data": {
      "image/png": "[encoded data removed]",
      "text/plain": [
       "<Figure size 432x288 with 1 Axes>"
      ]
     },
     "metadata": {
      "needs_background": "light"
     },
     "output_type": "display_data"
    }
   ],
   "source": [
    "title = 'us8k_sigma_0.25_rs'\n",
    "config_path = '/nfs/students/winter-term-2020/project-1/project-1/audio_classification/configs/crnn_urbansound8k-0.25.yaml'\n",
    "pretrained_path = '/nfs/students/winter-term-2020/project-1/project-1/weights/week-6/randomised-smoothing/crnn-us8k-epoch=18-val_acc=0.667.ckpt'\n",
    "attack_model(project_dir, config_path, pretrained_path, title)"
   ]
  },
  {
   "cell_type": "code",
   "execution_count": 5,
   "metadata": {},
   "outputs": [
    {
     "name": "stdout",
     "output_type": "stream",
     "text": [
      "{'MODEL': {'NAME': 'LitCRNN', 'NUM_CLASSES': 10, 'CRNN': {'RANDOMISED_SMOOTHING': True, 'INCLUDE_TOP': True, 'INCLUDE_TRANSFORM': False}}, 'DATASET': {'NAME': 'UrbanSounds8K', 'ANNOTATION_PATH': '/nfs/students/winter-term-2020/project-1/datasets/UrbanSound8K/metadata/UrbanSound8K.csv', 'FILE_PATH': '/nfs/students/winter-term-2020/project-1/datasets/UrbanSound8K/audio/', 'VAL_FOLD': 10, 'WEIGHT': 'None'}, 'DATALOADER': {'BATCH_SIZE': 12, 'NUM_WORKERS': 20}, 'TRANSFORM': {'HOP_LENGTH': 256}, 'LOSS': 'cross_entropy', 'SOLVER': {'LOG_PATH': '../logs/us8k/', 'NUM_GPUS': 1, 'MAX_EPOCH': 125, 'MIN_EPOCH': 1, 'LEARNING_RATE': 0.001, 'WEIGHT_DECAY': 0.01, 'STEP_SIZE': 25, 'SIGMA': 0.5, 'GAMMA': 0.5}, 'CHECKPOINT': {'SAVE_NAME': 'crnn-us8k', 'SAVE_PATH': '../weights', 'SAVE_TOP_K': 1}}\n",
      "Transformed raw audio into melspectrogram in dataloader.\n",
      "Range of the input data is (-100.000000, 41.999760)\n"
     ]
    },
    {
     "name": "stderr",
     "output_type": "stream",
     "text": [
      "/nfs/homedirs/vashisht/anaconda3/envs/project_1/lib/python3.7/site-packages/foolbox/models/pytorch.py:37: UserWarning: The PyTorch model is in training mode and therefore might not be deterministic. Call the eval() method to set it in evaluation mode if this is not intended.\n",
      "  \"The PyTorch model is in training mode and therefore might\"\n"
     ]
    },
    {
     "name": "stdout",
     "output_type": "stream",
     "text": [
      "Generated attacks in 8834.13 seconds\n",
      "tensor([0.8333, 0.7917, 0.8750, 0.7500, 0.8333, 0.7917, 0.7917, 0.7500, 0.6667,\n",
      "        0.7083, 0.6667, 0.7083, 0.7083, 0.5833, 0.5833, 0.6667, 0.7500, 0.6667,\n",
      "        0.6250, 0.5417, 0.7083, 0.6250, 0.6250, 0.6250, 0.6250, 0.6667, 0.5000,\n",
      "        0.6250, 0.6667, 0.5417, 0.4583, 0.5000, 0.5833, 0.5000, 0.5833, 0.6667,\n",
      "        0.5417, 0.5417, 0.5833, 0.5000, 0.4167, 0.6667, 0.4583, 0.6250, 0.6667,\n",
      "        0.6250, 0.5417, 0.6250, 0.5000, 0.5417], dtype=torch.float64)\n",
      "Visualize for the number 0 sample in the batch\n",
      "No adversarial sample to show.\n"
     ]
    },
    {
     "data": {
      "image/png": "[encoded data removed]",
      "text/plain": [
       "<Figure size 432x288 with 1 Axes>"
      ]
     },
     "metadata": {
      "needs_background": "light"
     },
     "output_type": "display_data"
    }
   ],
   "source": [
    "title = 'us8k_sigma_0.5_rs'\n",
    "config_path = '/nfs/students/winter-term-2020/project-1/project-1/audio_classification/configs/crnn_urbansound8k-0.5.yaml'\n",
    "pretrained_path = '/nfs/students/winter-term-2020/project-1/project-1/weights/week-6/randomised-smoothing/crnn-us8k-epoch=31-val_acc=0.724.ckpt'\n",
    "attack_model(project_dir, config_path, pretrained_path, title)"
   ]
  },
  {
   "cell_type": "code",
   "execution_count": 6,
   "metadata": {},
   "outputs": [
    {
     "name": "stdout",
     "output_type": "stream",
     "text": [
      "{'MODEL': {'NAME': 'LitCRNN', 'NUM_CLASSES': 10, 'CRNN': {'RANDOMISED_SMOOTHING': True, 'INCLUDE_TOP': True, 'INCLUDE_TRANSFORM': False}}, 'DATASET': {'NAME': 'UrbanSounds8K', 'ANNOTATION_PATH': '/nfs/students/winter-term-2020/project-1/datasets/UrbanSound8K/metadata/UrbanSound8K.csv', 'FILE_PATH': '/nfs/students/winter-term-2020/project-1/datasets/UrbanSound8K/audio/', 'VAL_FOLD': 10, 'WEIGHT': 'None'}, 'DATALOADER': {'BATCH_SIZE': 12, 'NUM_WORKERS': 20}, 'TRANSFORM': {'HOP_LENGTH': 256}, 'LOSS': 'cross_entropy', 'SOLVER': {'LOG_PATH': '../logs/us8k/', 'NUM_GPUS': 1, 'MAX_EPOCH': 50, 'MIN_EPOCH': 1, 'LEARNING_RATE': 0.001, 'WEIGHT_DECAY': 0.01, 'STEP_SIZE': 25, 'SIGMA': 1, 'GAMMA': 0.5}, 'CHECKPOINT': {'SAVE_NAME': 'crnn-us8k', 'SAVE_PATH': '../weights', 'SAVE_TOP_K': 1}}\n",
      "Transformed raw audio into melspectrogram in dataloader.\n",
      "Range of the input data is (-100.000000, 41.999760)\n"
     ]
    },
    {
     "name": "stderr",
     "output_type": "stream",
     "text": [
      "/nfs/homedirs/vashisht/anaconda3/envs/project_1/lib/python3.7/site-packages/foolbox/models/pytorch.py:37: UserWarning: The PyTorch model is in training mode and therefore might not be deterministic. Call the eval() method to set it in evaluation mode if this is not intended.\n",
      "  \"The PyTorch model is in training mode and therefore might\"\n"
     ]
    },
    {
     "name": "stdout",
     "output_type": "stream",
     "text": [
      "Generated attacks in 3079.90 seconds\n",
      "tensor([0.8750, 0.8333, 0.8333, 0.8333, 0.7500, 0.7500, 0.7083, 0.5833, 0.6250,\n",
      "        0.6250, 0.6250, 0.5833, 0.5833, 0.4583, 0.5000, 0.4583, 0.5417, 0.5833,\n",
      "        0.4583, 0.5000, 0.5000, 0.4167, 0.3750, 0.4583, 0.4583, 0.4167, 0.4583,\n",
      "        0.5417, 0.4583, 0.3333, 0.3750, 0.4583, 0.3750, 0.3750, 0.4583, 0.4167,\n",
      "        0.3750, 0.4583, 0.4167, 0.5000, 0.4167, 0.4583, 0.2917, 0.3750, 0.3333,\n",
      "        0.3333, 0.4583, 0.3333, 0.5417, 0.3333], dtype=torch.float64)\n",
      "Visualize for the number 0 sample in the batch\n",
      "No adversarial sample to show.\n"
     ]
    },
    {
     "data": {
      "image/png": "[encoded data removed]",
      "text/plain": [
       "<Figure size 432x288 with 1 Axes>"
      ]
     },
     "metadata": {
      "needs_background": "light"
     },
     "output_type": "display_data"
    }
   ],
   "source": [
    "title = 'us8k_sigma_1_rs'\n",
    "config_path = '/nfs/students/winter-term-2020/project-1/project-1/audio_classification/configs/crnn_urbansound8k.yaml'\n",
    "pretrained_path = '/nfs/students/winter-term-2020/project-1/project-1/weights/week-6/randomised-smoothing/crnn-us8k-epoch=19-val_acc=0.708.ckpt'\n",
    "attack_model(project_dir, config_path, pretrained_path, title)"
   ]
  },
  {
   "cell_type": "code",
   "execution_count": null,
   "metadata": {},
   "outputs": [],
   "source": [
    "# # Visualize adverserial sample\n",
    "# attack = FGM()\n",
    "\n",
    "# attack.run = types.MethodType(_run, attack)\n",
    "# attack.get_loss_fn = types.MethodType(_get_loss_fn, attack)\n",
    "# attack.value_and_grad = types.MethodType(_value_and_grad, attack)\n",
    "# # raw, clipped, is_adv = attack(fmodel, clips, labels, epsilons=40)\n",
    "# raw, clipped, is_adv = attack(fmodel, clips, labels, epsilons=100, original_lengths=lengths)\n",
    "\n",
    "# is_adv = is_adv.cpu()\n",
    "# clipped = clipped.cpu()"
   ]
  },
  {
   "cell_type": "code",
   "execution_count": null,
   "metadata": {},
   "outputs": [],
   "source": [
    "# try:\n",
    "#     idx = np.where(is_adv.cpu().numpy()==True)[0][0]\n",
    "#     print(\"Visualize for the number %s sample in the batch\" %(idx))\n",
    "\n",
    "#     # Visualize attack sample\n",
    "#     out = model(clipped.to(device), lengths)\n",
    "#     preds = torch.argmax(out, dim=1)\n",
    "\n",
    "#     idx = np.where(is_adv.cpu().numpy()==True)[0][0]\n",
    "#     sample = clipped[idx]\n",
    "#     print(\"label %s\" %(preds[idx]))\n",
    "#     print(sample[0].shape)\n",
    "#     plt.pcolormesh(sample[0].squeeze().numpy(), shading='gouraud')\n",
    "#     plt.ylabel('Frequency [Hz]')\n",
    "#     plt.xlabel('Time [sec]')\n",
    "#     plt.show()\n",
    "    \n",
    "#     # Visualize original sample\n",
    "#     sample = batch[0]\n",
    "#     print(\"label %s\" %(batch[1][idx]))\n",
    "#     print(sample[idx].shape)\n",
    "#     plt.pcolormesh(sample[idx].squeeze().numpy(), shading='gouraud')\n",
    "#     plt.ylabel('Frequency [Hz]')\n",
    "#     plt.xlabel('Time [sec]')\n",
    "#     plt.show()\n",
    "# except:\n",
    "#     print(\"No adversarial sample to show.\")"
   ]
  },
  {
   "cell_type": "code",
   "execution_count": null,
   "metadata": {},
   "outputs": [],
   "source": [
    "# # evaluate robustness with L-inf Fast Gradient Attack\n",
    "# torch.cuda.empty_cache()\n",
    "# attack = FGSM()\n",
    "\n",
    "# attack.run = types.MethodType(_run, attack)\n",
    "# attack.get_loss_fn = types.MethodType(_get_loss_fn, attack)\n",
    "# attack.value_and_grad = types.MethodType(_value_and_grad, attack)\n",
    "# epsilons = np.linspace(0.0, 1, num=20)\n",
    "\n",
    "# start_time = time.perf_counter()\n",
    "# raw, clipped, is_adv = attack(fmodel, clips, labels, epsilons=epsilons, original_lengths=lengths)\n",
    "# end_time = time.perf_counter()\n",
    "# print(f\"Generated attacks in {end_time - start_time:0.2f} seconds\")\n",
    "\n",
    "# robust_accuracy = 1 - is_adv.double().mean(axis=-1)"
   ]
  },
  {
   "cell_type": "code",
   "execution_count": null,
   "metadata": {},
   "outputs": [],
   "source": [
    "# plt.title(\"L-inf Fast Gradient Attack\")\n",
    "# plt.xlabel(\"epsilon\")\n",
    "# plt.ylabel(\"accuracy\")\n",
    "# plt.ylim(0, 1.1)\n",
    "# plt.plot(epsilons, robust_accuracy.to('cpu').numpy())\n",
    "# plt.savefig(save_folder + title + '-linf-1.png')"
   ]
  },
  {
   "cell_type": "code",
   "execution_count": null,
   "metadata": {},
   "outputs": [],
   "source": [
    "# # evaluate robustness with L-inf Fast Gradient Attack\n",
    "# torch.cuda.empty_cache()\n",
    "# attack = FGSM()\n",
    "\n",
    "# attack.run = types.MethodType(_run, attack)\n",
    "# attack.get_loss_fn = types.MethodType(_get_loss_fn, attack)\n",
    "# attack.value_and_grad = types.MethodType(_value_and_grad, attack)\n",
    "# epsilons = np.linspace(0.0, 5, num=20)\n",
    "\n",
    "# start_time = time.perf_counter()\n",
    "# raw, clipped, is_adv = attack(fmodel, clips, labels, epsilons=epsilons, original_lengths=lengths)\n",
    "# end_time = time.perf_counter()\n",
    "# print(f\"Generated attacks in {end_time - start_time:0.2f} seconds\")\n",
    "\n",
    "# robust_accuracy = 1 - is_adv.double().mean(axis=-1)"
   ]
  },
  {
   "cell_type": "code",
   "execution_count": null,
   "metadata": {},
   "outputs": [],
   "source": [
    "# plt.title(\"L-inf Fast Gradient Attack\")\n",
    "# plt.xlabel(\"epsilon\")\n",
    "# plt.ylabel(\"accuracy\")\n",
    "# plt.ylim(0, 1.1)\n",
    "# plt.plot(epsilons, robust_accuracy.to('cpu').numpy())\n",
    "# plt.savefig(save_folder + title + '-linf-5.png')"
   ]
  },
  {
   "cell_type": "code",
   "execution_count": null,
   "metadata": {},
   "outputs": [],
   "source": [
    "# # evaluate robustness with L-inf Fast Gradient Attack\n",
    "# torch.cuda.empty_cache()\n",
    "# attack = FGSM()\n",
    "\n",
    "# attack.run = types.MethodType(_run, attack)\n",
    "# attack.get_loss_fn = types.MethodType(_get_loss_fn, attack)\n",
    "# attack.value_and_grad = types.MethodType(_value_and_grad, attack)\n",
    "# epsilons = np.linspace(0.0, 20, num=20)\n",
    "\n",
    "# start_time = time.perf_counter()\n",
    "# raw, clipped, is_adv = attack(fmodel, clips, labels, epsilons=epsilons, original_lengths=lengths)\n",
    "# end_time = time.perf_counter()\n",
    "# print(f\"Generated attacks in {end_time - start_time:0.2f} seconds\")\n",
    "\n",
    "# robust_accuracy = 1 - is_adv.double().mean(axis=-1)"
   ]
  },
  {
   "cell_type": "code",
   "execution_count": null,
   "metadata": {},
   "outputs": [],
   "source": [
    "# plt.title(\"L-inf Fast Gradient Attack\")\n",
    "# plt.xlabel(\"epsilon\")\n",
    "# plt.ylabel(\"accuracy\")\n",
    "# plt.ylim(0, 1.1)\n",
    "# plt.plot(epsilons, robust_accuracy.to('cpu').numpy())\n",
    "# plt.savefig(save_folder + title + '-linf-20.png')"
   ]
  },
  {
   "cell_type": "code",
   "execution_count": null,
   "metadata": {},
   "outputs": [],
   "source": [
    "# # evaluate robustness with L-inf Fast Gradient Attack\n",
    "# torch.cuda.empty_cache()\n",
    "# attack = FGSM()\n",
    "\n",
    "# attack.run = types.MethodType(_run, attack)\n",
    "# attack.get_loss_fn = types.MethodType(_get_loss_fn, attack)\n",
    "# attack.value_and_grad = types.MethodType(_value_and_grad, attack)\n",
    "# epsilons = np.linspace(0.0, 100, num=20)\n",
    "\n",
    "# start_time = time.perf_counter()\n",
    "# raw, clipped, is_adv = attack(fmodel, clips, labels, epsilons=epsilons, original_lengths=lengths)\n",
    "# end_time = time.perf_counter()\n",
    "# print(f\"Generated attacks in {end_time - start_time:0.2f} seconds\")\n",
    "\n",
    "# robust_accuracy = 1 - is_adv.double().mean(axis=-1)"
   ]
  },
  {
   "cell_type": "code",
   "execution_count": null,
   "metadata": {},
   "outputs": [],
   "source": [
    "# plt.title(\"L-inf Fast Gradient Attack\")\n",
    "# plt.xlabel(\"epsilon\")\n",
    "# plt.ylabel(\"accuracy\")\n",
    "# plt.ylim(0, 1.1)\n",
    "# plt.plot(epsilons, robust_accuracy.to('cpu').numpy())\n",
    "# plt.savefig(save_folder + title + '-linf-100.png')"
   ]
  },
  {
   "cell_type": "code",
   "execution_count": null,
   "metadata": {},
   "outputs": [],
   "source": [
    "# # evaluate robustness with L-2 Fast Gradient Attack\n",
    "# torch.cuda.empty_cache()\n",
    "# attack = FGM()\n",
    "\n",
    "# attack.run = types.MethodType(_run, attack)\n",
    "# attack.get_loss_fn = types.MethodType(_get_loss_fn, attack)\n",
    "# attack.value_and_grad = types.MethodType(_value_and_grad, attack)\n",
    "# epsilons = np.linspace(0.0, 250, num=50)\n",
    "\n",
    "# start_time = time.perf_counter()\n",
    "# raw, clipped, is_adv = attack(fmodel, clips, labels, epsilons=epsilons, original_lengths=lengths)\n",
    "# end_time = time.perf_counter()\n",
    "# print(f\"Generated attacks in {end_time - start_time:0.2f} seconds\")\n",
    "\n",
    "# robust_accuracy = 1 - is_adv.double().mean(axis=-1)"
   ]
  },
  {
   "cell_type": "code",
   "execution_count": null,
   "metadata": {},
   "outputs": [],
   "source": [
    "# plt.title(\"L-2 Fast Gradient Attack\")\n",
    "# plt.xlabel(\"epsilon\")\n",
    "# plt.ylabel(\"accuracy\")\n",
    "# plt.ylim(0, 1.1)\n",
    "# plt.plot(epsilons, robust_accuracy.to('cpu').numpy())\n",
    "# plt.savefig(save_folder + title + '-l2-250.png')"
   ]
  }
 ],
 "metadata": {
  "kernelspec": {
   "display_name": "project_1",
   "language": "python",
   "name": "project_1"
  }
 },
 "nbformat": 4,
 "nbformat_minor": 4
}
