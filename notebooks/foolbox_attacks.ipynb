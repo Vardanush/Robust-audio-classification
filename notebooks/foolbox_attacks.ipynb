{
 "cells": [
  {
   "cell_type": "code",
   "execution_count": 1,
   "metadata": {},
   "outputs": [],
   "source": [
    "from typing import Union, Any, Optional, Callable, Tuple\n",
    "from abc import ABC, abstractmethod\n",
    "import eagerpy as ep\n",
    "\n",
    "from foolbox.devutils import flatten\n",
    "from foolbox.devutils import atleast_kd\n",
    "\n",
    "from foolbox.types import Bounds\n",
    "\n",
    "from foolbox.models.base import Model\n",
    "\n",
    "from foolbox.criteria import Misclassification, TargetedMisclassification\n",
    "\n",
    "from foolbox.distances import l1, l2, linf\n",
    "\n",
    "from foolbox.attacks.base import FixedEpsilonAttack\n",
    "from foolbox.attacks.base import T\n",
    "from foolbox.attacks.base import get_criterion\n",
    "from foolbox.attacks.base import raise_if_kwargs\n",
    "\n",
    "def _get_loss_fn(self, model: Model, labels: ep.Tensor, original_lengths=None) -> Callable[[ep.Tensor], ep.Tensor]:\n",
    "    # can be overridden by users\n",
    "    def loss_fn(inputs: ep.Tensor, original_lengths) -> ep.Tensor:\n",
    "        logits = model(inputs, original_lengths)\n",
    "        return ep.crossentropy(logits, labels).sum()\n",
    "\n",
    "    return loss_fn\n",
    "\n",
    "def _value_and_grad(\n",
    "    # can be overridden by users\n",
    "    self,\n",
    "    loss_fn: Callable[[ep.Tensor], ep.Tensor],\n",
    "    x: ep.Tensor,\n",
    "    original_lengths: ep.Tensor,\n",
    ") -> Tuple[ep.Tensor, ep.Tensor]:\n",
    "    return ep.value_and_grad(loss_fn, x, original_lengths)\n",
    "\n",
    "def _run(\n",
    "    self,\n",
    "    model: Model,\n",
    "    inputs: T,\n",
    "    criterion: Union[Misclassification, TargetedMisclassification, T],\n",
    "    *,\n",
    "    epsilon: float,\n",
    "    **kwargs: Any,\n",
    ") -> T:\n",
    "#     raise_if_kwargs(kwargs)\n",
    "    x0, restore_type = ep.astensor_(inputs)\n",
    "    criterion_ = get_criterion(criterion)\n",
    "    original_lengths = kwargs['original_lengths']\n",
    "    del inputs, criterion, kwargs\n",
    "\n",
    "    # perform a gradient ascent (targeted attack) or descent (untargeted attack)\n",
    "    if isinstance(criterion_, Misclassification):\n",
    "        gradient_step_sign = 1.0\n",
    "        classes = criterion_.labels\n",
    "    elif hasattr(criterion_, \"target_classes\"):\n",
    "        gradient_step_sign = -1.0\n",
    "        classes = criterion_.target_classes  # type: ignore\n",
    "    else:\n",
    "        raise ValueError(\"unsupported criterion\")\n",
    "\n",
    "    loss_fn = self.get_loss_fn(model, classes)\n",
    "\n",
    "    if self.abs_stepsize is None:\n",
    "        stepsize = self.rel_stepsize * epsilon\n",
    "    else:\n",
    "        stepsize = self.abs_stepsize\n",
    "\n",
    "    if self.random_start:\n",
    "        x = self.get_random_start(x0, epsilon)\n",
    "        x = ep.clip(x, *model.bounds)\n",
    "    else:\n",
    "        x = x0\n",
    "\n",
    "    for _ in range(self.steps):\n",
    "        _, gradients = self.value_and_grad(loss_fn, x, original_lengths) #!!!!\n",
    "        gradients = self.normalize(gradients, x=x, bounds=model.bounds)\n",
    "        x = x + gradient_step_sign * stepsize * gradients\n",
    "        x = self.project(x, x0, epsilon)\n",
    "        x = ep.clip(x, *model.bounds)\n",
    "\n",
    "    return restore_type(x)"
   ]
  },
  {
   "cell_type": "code",
   "execution_count": 2,
   "metadata": {},
   "outputs": [],
   "source": [
    "import warnings\n",
    "warnings.filterwarnings('ignore')\n",
    "\n",
    "import sys\n",
    "pkg_path = \"/nfs/homedirs/yuny/project-1/audio_classification\"\n",
    "if pkg_path not in sys.path:\n",
    "    sys.path.append(pkg_path)\n",
    "\n",
    "pkg_path = \"/nfs/homedirs/yuny/project-1/foolbox\"\n",
    "if pkg_path not in sys.path:\n",
    "    sys.path.append(pkg_path)\n",
    "\n",
    "import os\n",
    "import time\n",
    "import types\n",
    "import yaml\n",
    "import torch\n",
    "from audio_classification.tools import do_train, get_dataloader, get_model, get_transform\n",
    "from audio_classification.tools.train_net import collate\n",
    "from audio_classification.model import lit_m11, LitCRNN\n",
    "from audio_classification.data import BMWDataset, UrbanSoundDataset\n",
    "\n",
    "from foolbox import PyTorchModel, accuracy, samples\n",
    "from foolbox.attacks import LinfPGD, L2PGD, FGM, FGSM\n",
    "\n",
    "from torch.utils.data import DataLoader\n",
    "\n",
    "import numpy as np\n",
    "import matplotlib.pyplot as plt\n",
    "%matplotlib inline\n",
    "\n",
    "torch.cuda.empty_cache()\n",
    "device = torch.device('cpu')\n",
    "# device = (torch.device('cuda') if torch.cuda.is_available() else torch.device('cpu'))\n",
    "project_dir = '/nfs/homedirs/yuny/project-1/'\n",
    "save_folder = '/nfs/homedirs/yuny/project-1/attack_results/'"
   ]
  },
  {
   "cell_type": "code",
   "execution_count": 3,
   "metadata": {},
   "outputs": [],
   "source": [
    "def attack_model(project_dir, config_path, pretrained_path, title):\n",
    "    with open(os.path.join(project_dir, config_path), \"r\") as config_file:\n",
    "        configs = yaml.load(config_file)\n",
    "    print(configs)\n",
    "\n",
    "    # use validattion set\n",
    "    val_set = BMWDataset(configs, [11], transform=get_transform(configs)) # actually the test set\n",
    "    # val_set = UrbanSoundDataset(configs, [10], transform=get_transform(configs))\n",
    "    val_loader = DataLoader(val_set, batch_size=24, shuffle=False,\n",
    "                                    num_workers=configs[\"DATALOADER\"][\"NUM_WORKERS\"],\n",
    "                                    pin_memory=True, collate_fn = collate)\n",
    "\n",
    "    # Get the upper bound and lower bound on the values of the data, to be used as constraint in PGD\n",
    "    lower_bounds = []\n",
    "    upper_bounds = []\n",
    "    for step, (x, y, seq_lens) in enumerate(val_loader):    \n",
    "        upper_bounds.append(torch.max(x))\n",
    "        lower_bounds.append(torch.min(x))\n",
    "    lower_bound = min(lower_bounds)\n",
    "    upper_bound = max(upper_bounds)\n",
    "    print(\"Range of the input data is (%f, %f)\" %(lower_bound, upper_bound))\n",
    "\n",
    "    path_to_checkpoint = os.path.join(project_dir, pretrained_path)\n",
    "    # Get the class weights, used in reloading the model\n",
    "    if configs['DATASET']['WEIGHT']=='NORMAL':\n",
    "        weight = torch.tensor([28.9047, 14.8049,  4.5985,  2.4675,  4.4632, 19.5806]).to(device=device)\n",
    "    elif configs['DATASET']['WEIGHT']=='SQUARED':\n",
    "        weight = torch.tensor([835.4845, 219.1843,  21.1461,   6.0885,  19.9205, 383.4014]).to(device=device)\n",
    "    else:\n",
    "        weight = None\n",
    "\n",
    "    model = LitCRNN.load_from_checkpoint(path_to_checkpoint, cfg=configs, class_weights=weight, strict=False, map_location=device)\n",
    "    fmodel = PyTorchModel(model, bounds=(lower_bound, upper_bound), device=device)\n",
    "\n",
    "    # evaluate accuracy on clean data on a batch\n",
    "    it = iter(val_loader)\n",
    "    batch = next(it)\n",
    "    clips = batch[0].to(device)\n",
    "    labels = batch[1].to(device)\n",
    "    lengths = batch[2].to(device)   # used only for CRNN\n",
    "\n",
    "    # delete some variables to free up memory\n",
    "    del model\n",
    "    del it\n",
    "    del val_loader\n",
    "    del val_set\n",
    "\n",
    "    # evaluate robustness with L-inf Fast Gradient Attack\n",
    "    torch.cuda.empty_cache()\n",
    "    attack = FGSM()\n",
    "\n",
    "    attack.run = types.MethodType(_run, attack)\n",
    "    attack.get_loss_fn = types.MethodType(_get_loss_fn, attack)\n",
    "    attack.value_and_grad = types.MethodType(_value_and_grad, attack)\n",
    "    epsilons = np.linspace(0.0, 10, num=100)\n",
    "\n",
    "    start_time = time.perf_counter()\n",
    "    raw, clipped, is_adv = attack(fmodel, clips, labels, epsilons=epsilons, original_lengths=lengths)\n",
    "    end_time = time.perf_counter()\n",
    "    print(f\"Generated attacks in {end_time - start_time:0.2f} seconds\")\n",
    "\n",
    "    robust_accuracy = 1 - is_adv.double().mean(axis=-1)\n",
    "    print(robust_accuracy)\n",
    "\n",
    "    plt.title(\"L-inf Fast Gradient Attack\")\n",
    "    plt.xlabel(\"epsilon\")\n",
    "    plt.ylabel(\"accuracy\")\n",
    "    plt.ylim(0, 1.1)\n",
    "    plt.plot(epsilons, robust_accuracy.to('cpu').numpy())\n",
    "    plt.savefig(save_folder + title + '-linf-10.png')\n"
   ]
  },
  {
   "cell_type": "code",
   "execution_count": 4,
   "metadata": {},
   "outputs": [
    {
     "name": "stdout",
     "output_type": "stream",
     "text": [
      "{'MODEL': {'NAME': 'LitCRNN', 'NUM_CLASSES': 6, 'CRNN': {'INCLUDE_TOP': True}}, 'DATASET': {'NAME': 'BMW', 'ANNOTATION_PATH': '/nfs/students/winter-term-2020/project-1/datasets/BMW/meta/bmw.csv', 'FOLDER_PATH': '/nfs/students/winter-term-2020/project-1/datasets/Brake_Noise', 'WEIGHT': 'None', 'VAL_FOLD': 10}, 'DATALOADER': {'BATCH_SIZE': 8, 'NUM_WORKERS': 20}, 'LOSS': 'cross_entropy', 'SOLVER': {'LOG_PATH': '../logs/bmw/', 'NUM_GPUS': 1, 'MAX_EPOCH': 125, 'MIN_EPOCH': 1, 'LEARNING_RATE': 0.001, 'WEIGHT_DECAY': 0.001, 'STEP_SIZE': 25, 'GAMMA': 0.5}, 'CHECKPOINT': {'SAVE_NAME': 'crnn-bmw', 'SAVE_PATH': '../weights/bmw/', 'SAVE_TOP_K': 1}}\n",
      "Range of the input data is (-82.704231, 41.936913)\n"
     ]
    },
    {
     "name": "stderr",
     "output_type": "stream",
     "text": [
      "/nfs/homedirs/yuny/project-1/foolbox/foolbox/models/pytorch.py:37: UserWarning: The PyTorch model is in training mode and therefore might not be deterministic. Call the eval() method to set it in evaluation mode if this is not intended.\n",
      "  \"The PyTorch model is in training mode and therefore might\"\n"
     ]
    },
    {
     "name": "stdout",
     "output_type": "stream",
     "text": [
      "Generated attacks in 6609.87 seconds\n",
      "tensor([0.9167, 0.9167, 0.8750, 0.7917, 0.7500, 0.7917, 0.7917, 0.5417, 0.5833,\n",
      "        0.5833, 0.6250, 0.4583, 0.6250, 0.3333, 0.5833, 0.2917, 0.5417, 0.3750,\n",
      "        0.5000, 0.2083, 0.4583, 0.3333, 0.2500, 0.2917, 0.2917, 0.2917, 0.2083,\n",
      "        0.2083, 0.2083, 0.4583, 0.2500, 0.2500, 0.2500, 0.2500, 0.3333, 0.3333,\n",
      "        0.4167, 0.2083, 0.3333, 0.1667, 0.3750, 0.1667, 0.4167, 0.2500, 0.2500,\n",
      "        0.2500, 0.2500, 0.2500, 0.4167, 0.2500, 0.3333, 0.2917, 0.2500, 0.3333,\n",
      "        0.3750, 0.2500, 0.1667, 0.2500, 0.1667, 0.2917, 0.2500, 0.2083, 0.2917,\n",
      "        0.2917, 0.2917, 0.2917, 0.3750, 0.2083, 0.1250, 0.3750, 0.3333, 0.3750,\n",
      "        0.4167, 0.2917, 0.2917, 0.2083, 0.2917, 0.4167, 0.2917, 0.3750, 0.3333,\n",
      "        0.3333, 0.3750, 0.1667, 0.2083, 0.2917, 0.3750, 0.3333, 0.2917, 0.2500,\n",
      "        0.6667, 0.2917, 0.4583, 0.2500, 0.2917, 0.4167, 0.2917, 0.2500, 0.3333,\n",
      "        0.2917], dtype=torch.float64)\n"
     ]
    },
    {
     "data": {
      "image/png": "[encoded data removed]",
      "text/plain": [
       "<Figure size 432x288 with 1 Axes>"
      ]
     },
     "metadata": {
      "needs_background": "light"
     },
     "output_type": "display_data"
    }
   ],
   "source": [
    "# BMW (Compare the effect of label smoothing)\n",
    "title = 'bmw_no_ls_no_weight'\n",
    "config_path = 'logs/bmw/crnn_none_10fold_cv/version_9/hparams.yaml'\n",
    "pretrained_path = 'weights/bmw/crnn_none_10fold_cv/crnn-bmw-fold10-epoch=41-val_acc=0.967.ckpt'\n",
    "attack_model(project_dir, config_path, pretrained_path, title)"
   ]
  },
  {
   "cell_type": "code",
   "execution_count": 5,
   "metadata": {},
   "outputs": [
    {
     "name": "stdout",
     "output_type": "stream",
     "text": [
      "{'CHECKPOINT': {'SAVE_NAME': 'crnn-bmw', 'SAVE_PATH': '../weights/bmw/', 'SAVE_TOP_K': 1}, 'DATALOADER': {'BATCH_SIZE': 8, 'NUM_WORKERS': 20}, 'DATASET': {'ANNOTATION_PATH': '/nfs/students/winter-term-2020/project-1/datasets/BMW/meta/bmw.csv', 'FOLDER_PATH': '/nfs/students/winter-term-2020/project-1/datasets/Brake_Noise', 'NAME': 'BMW', 'VAL_FOLD': 10, 'WEIGHT': 'None'}, 'LOSS': 'label_smoothing_cross_entropy', 'MODEL': {'CRNN': {'INCLUDE_TOP': True}, 'NAME': 'LitCRNN', 'NUM_CLASSES': 6}, 'SOLVER': {'GAMMA': 0.5, 'LEARNING_RATE': 0.001, 'LOG_PATH': '../logs/bmw/', 'MAX_EPOCH': 125, 'MIN_EPOCH': 1, 'NUM_GPUS': 1, 'STEP_SIZE': 25, 'WEIGHT_DECAY': 0.001}}\n",
      "Range of the input data is (-82.704231, 41.936913)\n"
     ]
    },
    {
     "name": "stderr",
     "output_type": "stream",
     "text": [
      "/nfs/homedirs/yuny/project-1/foolbox/foolbox/models/pytorch.py:37: UserWarning: The PyTorch model is in training mode and therefore might not be deterministic. Call the eval() method to set it in evaluation mode if this is not intended.\n",
      "  \"The PyTorch model is in training mode and therefore might\"\n"
     ]
    },
    {
     "name": "stdout",
     "output_type": "stream",
     "text": [
      "Generated attacks in 6624.64 seconds\n",
      "tensor([0.8750, 0.8333, 0.7917, 0.7500, 0.7500, 0.7500, 0.6667, 0.5417, 0.4583,\n",
      "        0.4167, 0.4583, 0.3750, 0.3333, 0.3750, 0.3750, 0.3750, 0.2917, 0.2917,\n",
      "        0.3333, 0.3750, 0.3333, 0.2917, 0.2917, 0.2500, 0.3333, 0.3750, 0.4167,\n",
      "        0.4583, 0.4167, 0.2500, 0.2500, 0.3333, 0.2917, 0.2917, 0.2500, 0.3333,\n",
      "        0.2917, 0.3333, 0.2917, 0.2500, 0.3750, 0.3333, 0.2917, 0.2917, 0.2500,\n",
      "        0.2917, 0.2917, 0.3333, 0.3333, 0.3333, 0.3750, 0.2917, 0.2083, 0.3333,\n",
      "        0.2917, 0.2917, 0.2917, 0.2500, 0.3333, 0.3750, 0.2500, 0.2500, 0.2917,\n",
      "        0.4167, 0.4167, 0.2917, 0.2917, 0.5000, 0.3750, 0.3750, 0.3750, 0.3750,\n",
      "        0.3333, 0.2917, 0.3333, 0.3750, 0.3333, 0.4167, 0.2917, 0.4583, 0.3750,\n",
      "        0.3333, 0.3333, 0.4167, 0.3333, 0.3750, 0.3750, 0.3750, 0.3333, 0.2917,\n",
      "        0.3333, 0.3750, 0.3750, 0.3750, 0.3750, 0.2917, 0.4167, 0.2917, 0.3750,\n",
      "        0.3333], dtype=torch.float64)\n"
     ]
    },
    {
     "data": {
      "image/png": "[encoded data removed]",
      "text/plain": [
       "<Figure size 432x288 with 1 Axes>"
      ]
     },
     "metadata": {
      "needs_background": "light"
     },
     "output_type": "display_data"
    }
   ],
   "source": [
    "title = 'bmw_e=0.1_ls_no_weight'\n",
    "config_path = 'logs/bmw/default/crnn_bmw_ls0.01_none/hparams.yaml'\n",
    "pretrained_path = 'weights/bmw/crnn-bmw-ls-none-epoch=62-val_acc=0.967.ckpt'\n",
    "attack_model(project_dir, config_path, pretrained_path, title)"
   ]
  },
  {
   "cell_type": "code",
   "execution_count": 6,
   "metadata": {},
   "outputs": [
    {
     "name": "stdout",
     "output_type": "stream",
     "text": [
      "{'CHECKPOINT': {'SAVE_NAME': 'crnn-bmw', 'SAVE_PATH': '../weights/bmw/', 'SAVE_TOP_K': 1}, 'DATALOADER': {'BATCH_SIZE': 60, 'NUM_WORKERS': 20}, 'DATASET': {'ANNOTATION_PATH': '/nfs/students/winter-term-2020/project-1/datasets/BMW/meta/bmw.csv', 'FOLDER_PATH': '/nfs/students/winter-term-2020/project-1/datasets/Brake_Noise', 'NAME': 'BMW', 'VAL_FOLD': 10, 'WEIGHT': 'None'}, 'LOSS': 'label_smoothing_cross_entropy', 'MODEL': {'CRNN': {'INCLUDE_TOP': True}, 'NAME': 'LitCRNN', 'NUM_CLASSES': 6}, 'SOLVER': {'GAMMA': 0.5, 'LEARNING_RATE': 0.001, 'LOG_PATH': '../logs/bmw/', 'MAX_EPOCH': 125, 'MIN_EPOCH': 1, 'NUM_GPUS': 1, 'STEP_SIZE': 25, 'WEIGHT_DECAY': 0.001}}\n",
      "Range of the input data is (-82.704231, 41.936913)\n"
     ]
    },
    {
     "name": "stderr",
     "output_type": "stream",
     "text": [
      "/nfs/homedirs/yuny/project-1/foolbox/foolbox/models/pytorch.py:37: UserWarning: The PyTorch model is in training mode and therefore might not be deterministic. Call the eval() method to set it in evaluation mode if this is not intended.\n",
      "  \"The PyTorch model is in training mode and therefore might\"\n"
     ]
    },
    {
     "name": "stdout",
     "output_type": "stream",
     "text": [
      "Generated attacks in 6623.76 seconds\n",
      "tensor([0.9167, 0.8750, 0.8333, 0.7917, 0.7083, 0.5417, 0.5417, 0.5833, 0.7083,\n",
      "        0.3750, 0.4167, 0.4583, 0.2083, 0.2500, 0.3750, 0.2917, 0.2083, 0.2083,\n",
      "        0.2083, 0.2083, 0.2500, 0.2083, 0.2083, 0.2083, 0.2083, 0.2917, 0.2500,\n",
      "        0.2083, 0.2917, 0.2500, 0.1667, 0.2083, 0.3750, 0.2500, 0.2083, 0.2917,\n",
      "        0.2083, 0.2083, 0.1667, 0.1667, 0.2083, 0.3750, 0.2083, 0.2083, 0.1667,\n",
      "        0.1667, 0.2083, 0.2083, 0.2083, 0.2500, 0.2917, 0.2083, 0.2500, 0.2083,\n",
      "        0.2083, 0.2500, 0.1250, 0.2083, 0.1667, 0.2083, 0.1667, 0.1667, 0.1250,\n",
      "        0.1667, 0.2083, 0.1667, 0.2500, 0.4167, 0.1250, 0.1667, 0.1667, 0.1667,\n",
      "        0.1667, 0.0833, 0.1667, 0.1667, 0.1667, 0.1250, 0.1250, 0.1250, 0.1250,\n",
      "        0.1250, 0.1250, 0.1250, 0.3333, 0.0833, 0.1667, 0.2500, 0.1667, 0.2083,\n",
      "        0.1250, 0.3333, 0.0833, 0.1250, 0.0833, 0.1250, 0.0833, 0.1250, 0.1667,\n",
      "        0.1250], dtype=torch.float64)\n"
     ]
    },
    {
     "data": {
      "image/png": "[encoded data removed]",
      "text/plain": [
       "<Figure size 432x288 with 1 Axes>"
      ]
     },
     "metadata": {
      "needs_background": "light"
     },
     "output_type": "display_data"
    }
   ],
   "source": [
    "title = 'bmw_e=0.01_ls_no_weight'\n",
    "config_path = 'logs/bmw/default/crnn_bmw_ls_none/hparams.yaml'\n",
    "pretrained_path = 'weights/bmw/crnn-bmw-ls0.01-none-epoch=96-val_acc=0.967.ckpt'\n",
    "attack_model(project_dir, config_path, pretrained_path, title)"
   ]
  },
  {
   "cell_type": "code",
   "execution_count": 7,
   "metadata": {},
   "outputs": [],
   "source": [
    "# BMW (Compare the effect of class weight)\n",
    "# title = 'No label smoothing, normal class weight'\n",
    "# config_path = ''\n",
    "# pretrained_path = 'weights/bmw/crnn_normal_10fold_cv/crnn-bmw-fold10-epoch=123-val_acc=0.983.ckpt'"
   ]
  },
  {
   "cell_type": "code",
   "execution_count": 8,
   "metadata": {},
   "outputs": [
    {
     "name": "stdout",
     "output_type": "stream",
     "text": [
      "{'CHECKPOINT': {'SAVE_NAME': 'crnn-bmw', 'SAVE_PATH': '../weights/bmw/', 'SAVE_TOP_K': 1}, 'DATALOADER': {'BATCH_SIZE': 60, 'NUM_WORKERS': 20}, 'DATASET': {'ANNOTATION_PATH': '/nfs/students/winter-term-2020/project-1/datasets/BMW/meta/bmw.csv', 'FOLDER_PATH': '/nfs/students/winter-term-2020/project-1/datasets/Brake_Noise', 'NAME': 'BMW', 'VAL_FOLD': 10, 'WEIGHT': 'NORMAL'}, 'LOSS': 'label_smoothing_cross_entropy', 'MODEL': {'CRNN': {'INCLUDE_TOP': True}, 'NAME': 'LitCRNN', 'NUM_CLASSES': 6}, 'SOLVER': {'GAMMA': 0.5, 'LEARNING_RATE': 0.001, 'LOG_PATH': '../logs/bmw/', 'MAX_EPOCH': 125, 'MIN_EPOCH': 1, 'NUM_GPUS': 1, 'STEP_SIZE': 25, 'WEIGHT_DECAY': 0.001}}\n",
      "Range of the input data is (-82.704231, 41.936913)\n"
     ]
    },
    {
     "name": "stderr",
     "output_type": "stream",
     "text": [
      "/nfs/homedirs/yuny/project-1/foolbox/foolbox/models/pytorch.py:37: UserWarning: The PyTorch model is in training mode and therefore might not be deterministic. Call the eval() method to set it in evaluation mode if this is not intended.\n",
      "  \"The PyTorch model is in training mode and therefore might\"\n"
     ]
    },
    {
     "name": "stdout",
     "output_type": "stream",
     "text": [
      "Generated attacks in 6621.36 seconds\n",
      "tensor([0.9167, 0.8333, 0.6667, 0.6667, 0.5417, 0.5833, 0.5000, 0.4583, 0.4583,\n",
      "        0.4583, 0.5000, 0.4583, 0.3750, 0.3333, 0.3750, 0.3333, 0.3750, 0.2917,\n",
      "        0.3333, 0.4167, 0.4167, 0.2917, 0.2083, 0.3750, 0.3333, 0.2917, 0.2500,\n",
      "        0.2500, 0.3333, 0.2917, 0.3750, 0.2917, 0.3333, 0.2917, 0.3750, 0.2083,\n",
      "        0.3750, 0.2083, 0.2083, 0.1667, 0.2917, 0.1667, 0.2083, 0.2500, 0.2083,\n",
      "        0.1250, 0.2917, 0.2917, 0.2500, 0.2917, 0.2500, 0.2500, 0.2917, 0.2083,\n",
      "        0.2500, 0.2500, 0.2917, 0.2500, 0.2500, 0.2083, 0.2083, 0.2500, 0.3333,\n",
      "        0.2500, 0.2500, 0.2500, 0.2083, 0.3333, 0.2083, 0.1667, 0.2917, 0.2083,\n",
      "        0.2500, 0.1667, 0.2500, 0.2083, 0.2917, 0.1667, 0.1667, 0.1250, 0.1667,\n",
      "        0.1250, 0.0833, 0.1667, 0.2500, 0.1250, 0.2500, 0.3333, 0.2083, 0.2083,\n",
      "        0.1667, 0.2083, 0.1667, 0.1667, 0.2500, 0.2083, 0.1667, 0.1667, 0.1250,\n",
      "        0.1250], dtype=torch.float64)\n"
     ]
    },
    {
     "data": {
      "image/png": "[encoded data removed]",
      "text/plain": [
       "<Figure size 432x288 with 1 Axes>"
      ]
     },
     "metadata": {
      "needs_background": "light"
     },
     "output_type": "display_data"
    }
   ],
   "source": [
    "title = 'bmw_e=0.1_ls_normal_weight'\n",
    "config_path = 'logs/bmw/default/crnn_bmw_ls_normal/hparams.yaml'\n",
    "pretrained_path = 'weights/bmw/crnn-bmw-ls-normal-epoch=74-val_acc=0.983.ckpt'\n",
    "attack_model(project_dir, config_path, pretrained_path, title)"
   ]
  },
  {
   "cell_type": "code",
   "execution_count": 9,
   "metadata": {},
   "outputs": [
    {
     "name": "stdout",
     "output_type": "stream",
     "text": [
      "{'CHECKPOINT': {'SAVE_NAME': 'crnn-bmw-fold10', 'SAVE_PATH': '../weights/bmw/', 'SAVE_TOP_K': 1}, 'DATALOADER': {'BATCH_SIZE': 8, 'NUM_WORKERS': 20}, 'DATASET': {'ANNOTATION_PATH': '/nfs/students/winter-term-2020/project-1/datasets/BMW/meta/bmw.csv', 'FOLDER_PATH': '/nfs/students/winter-term-2020/project-1/datasets/Brake_Noise', 'NAME': 'BMW', 'VAL_FOLD': 10, 'WEIGHT': 'SQUARED'}, 'MODEL': {'CRNN': {'INCLUDE_TOP': True}, 'NAME': 'LitCRNN', 'NUM_CLASSES': 6}, 'SOLVER': {'GAMMA': 0.5, 'LEARNING_RATE': 0.001, 'LOG_PATH': '../logs/bmw/', 'MAX_EPOCH': 125, 'MIN_EPOCH': 10, 'NUM_GPUS': 1, 'STEP_SIZE': 25, 'WEIGHT_DECAY': 0.001}}\n",
      "Range of the input data is (-82.704231, 41.936913)\n"
     ]
    },
    {
     "ename": "KeyError",
     "evalue": "'LOSS'",
     "output_type": "error",
     "traceback": [
      "\u001b[0;31m---------------------------------------------------------------------------\u001b[0m",
      "\u001b[0;31mKeyError\u001b[0m                                  Traceback (most recent call last)",
      "\u001b[0;32m<ipython-input-9-ff18331d053a>\u001b[0m in \u001b[0;36m<module>\u001b[0;34m()\u001b[0m\n\u001b[1;32m      2\u001b[0m \u001b[0mconfig_path\u001b[0m \u001b[0;34m=\u001b[0m \u001b[0;34m'logs/bmw/crnn_squared_10fold_cv/version_9/hparams.yaml'\u001b[0m\u001b[0;34m\u001b[0m\u001b[0;34m\u001b[0m\u001b[0m\n\u001b[1;32m      3\u001b[0m \u001b[0mpretrained_path\u001b[0m \u001b[0;34m=\u001b[0m \u001b[0;34m'weights/bmw/crnn_squared_10fold_cv/crnn-bmw-fold10-epoch=111-val_acc=0.967.ckpt'\u001b[0m\u001b[0;34m\u001b[0m\u001b[0;34m\u001b[0m\u001b[0m\n\u001b[0;32m----> 4\u001b[0;31m \u001b[0mattack_model\u001b[0m\u001b[0;34m(\u001b[0m\u001b[0mproject_dir\u001b[0m\u001b[0;34m,\u001b[0m \u001b[0mconfig_path\u001b[0m\u001b[0;34m,\u001b[0m \u001b[0mpretrained_path\u001b[0m\u001b[0;34m,\u001b[0m \u001b[0mtitle\u001b[0m\u001b[0;34m)\u001b[0m\u001b[0;34m\u001b[0m\u001b[0;34m\u001b[0m\u001b[0m\n\u001b[0m",
      "\u001b[0;32m<ipython-input-3-0267884d8fa5>\u001b[0m in \u001b[0;36mattack_model\u001b[0;34m(project_dir, config_path, pretrained_path, title)\u001b[0m\n\u001b[1;32m     30\u001b[0m         \u001b[0mweight\u001b[0m \u001b[0;34m=\u001b[0m \u001b[0;32mNone\u001b[0m\u001b[0;34m\u001b[0m\u001b[0;34m\u001b[0m\u001b[0m\n\u001b[1;32m     31\u001b[0m \u001b[0;34m\u001b[0m\u001b[0m\n\u001b[0;32m---> 32\u001b[0;31m     \u001b[0mmodel\u001b[0m \u001b[0;34m=\u001b[0m \u001b[0mLitCRNN\u001b[0m\u001b[0;34m.\u001b[0m\u001b[0mload_from_checkpoint\u001b[0m\u001b[0;34m(\u001b[0m\u001b[0mpath_to_checkpoint\u001b[0m\u001b[0;34m,\u001b[0m \u001b[0mcfg\u001b[0m\u001b[0;34m=\u001b[0m\u001b[0mconfigs\u001b[0m\u001b[0;34m,\u001b[0m \u001b[0mclass_weights\u001b[0m\u001b[0;34m=\u001b[0m\u001b[0mweight\u001b[0m\u001b[0;34m,\u001b[0m \u001b[0mstrict\u001b[0m\u001b[0;34m=\u001b[0m\u001b[0;32mFalse\u001b[0m\u001b[0;34m,\u001b[0m \u001b[0mmap_location\u001b[0m\u001b[0;34m=\u001b[0m\u001b[0mdevice\u001b[0m\u001b[0;34m)\u001b[0m\u001b[0;34m\u001b[0m\u001b[0;34m\u001b[0m\u001b[0m\n\u001b[0m\u001b[1;32m     33\u001b[0m     \u001b[0mfmodel\u001b[0m \u001b[0;34m=\u001b[0m \u001b[0mPyTorchModel\u001b[0m\u001b[0;34m(\u001b[0m\u001b[0mmodel\u001b[0m\u001b[0;34m,\u001b[0m \u001b[0mbounds\u001b[0m\u001b[0;34m=\u001b[0m\u001b[0;34m(\u001b[0m\u001b[0mlower_bound\u001b[0m\u001b[0;34m,\u001b[0m \u001b[0mupper_bound\u001b[0m\u001b[0;34m)\u001b[0m\u001b[0;34m,\u001b[0m \u001b[0mdevice\u001b[0m\u001b[0;34m=\u001b[0m\u001b[0mdevice\u001b[0m\u001b[0;34m)\u001b[0m\u001b[0;34m\u001b[0m\u001b[0;34m\u001b[0m\u001b[0m\n\u001b[1;32m     34\u001b[0m \u001b[0;34m\u001b[0m\u001b[0m\n",
      "\u001b[0;32m/nfs/homedirs/yuny/miniconda3/envs/project/lib/python3.7/site-packages/pytorch_lightning/core/saving.py\u001b[0m in \u001b[0;36mload_from_checkpoint\u001b[0;34m(cls, checkpoint_path, map_location, hparams_file, strict, **kwargs)\u001b[0m\n\u001b[1;32m    152\u001b[0m         \u001b[0mcheckpoint\u001b[0m\u001b[0;34m[\u001b[0m\u001b[0mcls\u001b[0m\u001b[0;34m.\u001b[0m\u001b[0mCHECKPOINT_HYPER_PARAMS_KEY\u001b[0m\u001b[0;34m]\u001b[0m\u001b[0;34m.\u001b[0m\u001b[0mupdate\u001b[0m\u001b[0;34m(\u001b[0m\u001b[0mkwargs\u001b[0m\u001b[0;34m)\u001b[0m\u001b[0;34m\u001b[0m\u001b[0;34m\u001b[0m\u001b[0m\n\u001b[1;32m    153\u001b[0m \u001b[0;34m\u001b[0m\u001b[0m\n\u001b[0;32m--> 154\u001b[0;31m         \u001b[0mmodel\u001b[0m \u001b[0;34m=\u001b[0m \u001b[0mcls\u001b[0m\u001b[0;34m.\u001b[0m\u001b[0m_load_model_state\u001b[0m\u001b[0;34m(\u001b[0m\u001b[0mcheckpoint\u001b[0m\u001b[0;34m,\u001b[0m \u001b[0mstrict\u001b[0m\u001b[0;34m=\u001b[0m\u001b[0mstrict\u001b[0m\u001b[0;34m,\u001b[0m \u001b[0;34m**\u001b[0m\u001b[0mkwargs\u001b[0m\u001b[0;34m)\u001b[0m\u001b[0;34m\u001b[0m\u001b[0;34m\u001b[0m\u001b[0m\n\u001b[0m\u001b[1;32m    155\u001b[0m         \u001b[0;32mreturn\u001b[0m \u001b[0mmodel\u001b[0m\u001b[0;34m\u001b[0m\u001b[0;34m\u001b[0m\u001b[0m\n\u001b[1;32m    156\u001b[0m \u001b[0;34m\u001b[0m\u001b[0m\n",
      "\u001b[0;32m/nfs/homedirs/yuny/miniconda3/envs/project/lib/python3.7/site-packages/pytorch_lightning/core/saving.py\u001b[0m in \u001b[0;36m_load_model_state\u001b[0;34m(cls, checkpoint, strict, **cls_kwargs_new)\u001b[0m\n\u001b[1;32m    192\u001b[0m             \u001b[0m_cls_kwargs\u001b[0m \u001b[0;34m=\u001b[0m \u001b[0;34m{\u001b[0m\u001b[0mk\u001b[0m\u001b[0;34m:\u001b[0m \u001b[0mv\u001b[0m \u001b[0;32mfor\u001b[0m \u001b[0mk\u001b[0m\u001b[0;34m,\u001b[0m \u001b[0mv\u001b[0m \u001b[0;32min\u001b[0m \u001b[0m_cls_kwargs\u001b[0m\u001b[0;34m.\u001b[0m\u001b[0mitems\u001b[0m\u001b[0;34m(\u001b[0m\u001b[0;34m)\u001b[0m \u001b[0;32mif\u001b[0m \u001b[0mk\u001b[0m \u001b[0;32min\u001b[0m \u001b[0mcls_init_args_name\u001b[0m\u001b[0;34m}\u001b[0m\u001b[0;34m\u001b[0m\u001b[0;34m\u001b[0m\u001b[0m\n\u001b[1;32m    193\u001b[0m \u001b[0;34m\u001b[0m\u001b[0m\n\u001b[0;32m--> 194\u001b[0;31m         \u001b[0mmodel\u001b[0m \u001b[0;34m=\u001b[0m \u001b[0mcls\u001b[0m\u001b[0;34m(\u001b[0m\u001b[0;34m**\u001b[0m\u001b[0m_cls_kwargs\u001b[0m\u001b[0;34m)\u001b[0m\u001b[0;34m\u001b[0m\u001b[0;34m\u001b[0m\u001b[0m\n\u001b[0m\u001b[1;32m    195\u001b[0m \u001b[0;34m\u001b[0m\u001b[0m\n\u001b[1;32m    196\u001b[0m         \u001b[0;31m# give model a chance to load something\u001b[0m\u001b[0;34m\u001b[0m\u001b[0;34m\u001b[0m\u001b[0;34m\u001b[0m\u001b[0m\n",
      "\u001b[0;32m/nfs/homedirs/yuny/project-1/audio_classification/model/crnn.py\u001b[0m in \u001b[0;36m__init__\u001b[0;34m(self, cfg, class_weights)\u001b[0m\n\u001b[1;32m     28\u001b[0m         \u001b[0mself\u001b[0m\u001b[0;34m.\u001b[0m\u001b[0minclude_top\u001b[0m \u001b[0;34m=\u001b[0m \u001b[0mcfg\u001b[0m\u001b[0;34m[\u001b[0m\u001b[0;34m\"MODEL\"\u001b[0m\u001b[0;34m]\u001b[0m\u001b[0;34m[\u001b[0m\u001b[0;34m\"CRNN\"\u001b[0m\u001b[0;34m]\u001b[0m\u001b[0;34m[\u001b[0m\u001b[0;34m\"INCLUDE_TOP\"\u001b[0m\u001b[0;34m]\u001b[0m\u001b[0;34m\u001b[0m\u001b[0;34m\u001b[0m\u001b[0m\n\u001b[1;32m     29\u001b[0m         \u001b[0mself\u001b[0m\u001b[0;34m.\u001b[0m\u001b[0mnum_classes\u001b[0m \u001b[0;34m=\u001b[0m \u001b[0mcfg\u001b[0m\u001b[0;34m[\u001b[0m\u001b[0;34m\"MODEL\"\u001b[0m\u001b[0;34m]\u001b[0m\u001b[0;34m[\u001b[0m\u001b[0;34m\"NUM_CLASSES\"\u001b[0m\u001b[0;34m]\u001b[0m\u001b[0;34m\u001b[0m\u001b[0;34m\u001b[0m\u001b[0m\n\u001b[0;32m---> 30\u001b[0;31m         \u001b[0mself\u001b[0m\u001b[0;34m.\u001b[0m\u001b[0mloss\u001b[0m \u001b[0;34m=\u001b[0m \u001b[0mget_loss\u001b[0m\u001b[0;34m(\u001b[0m\u001b[0mloss_fn\u001b[0m\u001b[0;34m=\u001b[0m\u001b[0mcfg\u001b[0m\u001b[0;34m[\u001b[0m\u001b[0;34m'LOSS'\u001b[0m\u001b[0;34m]\u001b[0m\u001b[0;34m)\u001b[0m\u001b[0;34m\u001b[0m\u001b[0;34m\u001b[0m\u001b[0m\n\u001b[0m\u001b[1;32m     31\u001b[0m         \u001b[0mself\u001b[0m\u001b[0;34m.\u001b[0m\u001b[0mclass_weights\u001b[0m \u001b[0;34m=\u001b[0m \u001b[0mclass_weights\u001b[0m\u001b[0;34m\u001b[0m\u001b[0;34m\u001b[0m\u001b[0m\n\u001b[1;32m     32\u001b[0m \u001b[0;34m\u001b[0m\u001b[0m\n",
      "\u001b[0;31mKeyError\u001b[0m: 'LOSS'"
     ]
    }
   ],
   "source": [
    "title = 'bmw_no_ls_squared_weight'\n",
    "config_path = 'logs/bmw/crnn_squared_10fold_cv/version_9/hparams.yaml'\n",
    "pretrained_path = 'weights/bmw/crnn_squared_10fold_cv/crnn-bmw-fold10-epoch=111-val_acc=0.967.ckpt'\n",
    "attack_model(project_dir, config_path, pretrained_path, title)"
   ]
  },
  {
   "cell_type": "code",
   "execution_count": null,
   "metadata": {},
   "outputs": [],
   "source": [
    "title = 'bmw_e=0.1_ls_squared_weight'\n",
    "config_path = 'logs/bmw/default/crnn_bmw_ls_squared/hparams.yaml'\n",
    "pretrained_path = 'weights/bmw/crnn-bmw-ls-squared-epoch=90-val_acc=0.967.ckpt'\n",
    "attack_model(project_dir, config_path, pretrained_path, title)"
   ]
  },
  {
   "cell_type": "code",
   "execution_count": null,
   "metadata": {},
   "outputs": [],
   "source": [
    "# Urbansound8k (Compare the effect of label smoothing)\n",
    "# title = 'us8k_no_ls_no_weight'\n",
    "# config_path = 'logs/us8k/default/crnn-us8k-epoch=41-val_acc=0.797/hparams.yaml'\n",
    "# pretrained_path = 'weights/crnn-us8k-epoch=41-val_acc=0.797.ckpt'\n",
    "\n",
    "# title = 'us8k_e=0.1_ls_no_weight'\n",
    "# config_path = 'logs/us8k/default/crnn-us8k-epoch=61-val_acc=0.793/hparams.yaml'\n",
    "# pretrained_path = 'weights/crnn-us8k-epoch=61-val_acc=0.793.ckpt'"
   ]
  },
  {
   "cell_type": "code",
   "execution_count": null,
   "metadata": {},
   "outputs": [],
   "source": [
    "# # Visualize adverserial sample\n",
    "# attack = FGM()\n",
    "\n",
    "# attack.run = types.MethodType(_run, attack)\n",
    "# attack.get_loss_fn = types.MethodType(_get_loss_fn, attack)\n",
    "# attack.value_and_grad = types.MethodType(_value_and_grad, attack)\n",
    "# # raw, clipped, is_adv = attack(fmodel, clips, labels, epsilons=40)\n",
    "# raw, clipped, is_adv = attack(fmodel, clips, labels, epsilons=100, original_lengths=lengths)\n",
    "\n",
    "# is_adv = is_adv.cpu()\n",
    "# clipped = clipped.cpu()"
   ]
  },
  {
   "cell_type": "code",
   "execution_count": null,
   "metadata": {},
   "outputs": [],
   "source": [
    "# try:\n",
    "#     idx = np.where(is_adv.cpu().numpy()==True)[0][0]\n",
    "#     print(\"Visualize for the number %s sample in the batch\" %(idx))\n",
    "\n",
    "#     # Visualize attack sample\n",
    "#     out = model(clipped.to(device), lengths)\n",
    "#     preds = torch.argmax(out, dim=1)\n",
    "\n",
    "#     idx = np.where(is_adv.cpu().numpy()==True)[0][0]\n",
    "#     sample = clipped[idx]\n",
    "#     print(\"label %s\" %(preds[idx]))\n",
    "#     print(sample[0].shape)\n",
    "#     plt.pcolormesh(sample[0].squeeze().numpy(), shading='gouraud')\n",
    "#     plt.ylabel('Frequency [Hz]')\n",
    "#     plt.xlabel('Time [sec]')\n",
    "#     plt.show()\n",
    "    \n",
    "#     # Visualize original sample\n",
    "#     sample = batch[0]\n",
    "#     print(\"label %s\" %(batch[1][idx]))\n",
    "#     print(sample[idx].shape)\n",
    "#     plt.pcolormesh(sample[idx].squeeze().numpy(), shading='gouraud')\n",
    "#     plt.ylabel('Frequency [Hz]')\n",
    "#     plt.xlabel('Time [sec]')\n",
    "#     plt.show()\n",
    "# except:\n",
    "#     print(\"No adversarial sample to show.\")"
   ]
  },
  {
   "cell_type": "code",
   "execution_count": null,
   "metadata": {},
   "outputs": [],
   "source": [
    "# # evaluate robustness with L-inf Fast Gradient Attack\n",
    "# torch.cuda.empty_cache()\n",
    "# attack = FGSM()\n",
    "\n",
    "# attack.run = types.MethodType(_run, attack)\n",
    "# attack.get_loss_fn = types.MethodType(_get_loss_fn, attack)\n",
    "# attack.value_and_grad = types.MethodType(_value_and_grad, attack)\n",
    "# epsilons = np.linspace(0.0, 1, num=20)\n",
    "\n",
    "# start_time = time.perf_counter()\n",
    "# raw, clipped, is_adv = attack(fmodel, clips, labels, epsilons=epsilons, original_lengths=lengths)\n",
    "# end_time = time.perf_counter()\n",
    "# print(f\"Generated attacks in {end_time - start_time:0.2f} seconds\")\n",
    "\n",
    "# robust_accuracy = 1 - is_adv.double().mean(axis=-1)"
   ]
  },
  {
   "cell_type": "code",
   "execution_count": null,
   "metadata": {},
   "outputs": [],
   "source": [
    "# plt.title(\"L-inf Fast Gradient Attack\")\n",
    "# plt.xlabel(\"epsilon\")\n",
    "# plt.ylabel(\"accuracy\")\n",
    "# plt.ylim(0, 1.1)\n",
    "# plt.plot(epsilons, robust_accuracy.to('cpu').numpy())\n",
    "# plt.savefig(save_folder + title + '-linf-1.png')"
   ]
  },
  {
   "cell_type": "code",
   "execution_count": null,
   "metadata": {},
   "outputs": [],
   "source": [
    "# # evaluate robustness with L-inf Fast Gradient Attack\n",
    "# torch.cuda.empty_cache()\n",
    "# attack = FGSM()\n",
    "\n",
    "# attack.run = types.MethodType(_run, attack)\n",
    "# attack.get_loss_fn = types.MethodType(_get_loss_fn, attack)\n",
    "# attack.value_and_grad = types.MethodType(_value_and_grad, attack)\n",
    "# epsilons = np.linspace(0.0, 5, num=20)\n",
    "\n",
    "# start_time = time.perf_counter()\n",
    "# raw, clipped, is_adv = attack(fmodel, clips, labels, epsilons=epsilons, original_lengths=lengths)\n",
    "# end_time = time.perf_counter()\n",
    "# print(f\"Generated attacks in {end_time - start_time:0.2f} seconds\")\n",
    "\n",
    "# robust_accuracy = 1 - is_adv.double().mean(axis=-1)"
   ]
  },
  {
   "cell_type": "code",
   "execution_count": null,
   "metadata": {},
   "outputs": [],
   "source": [
    "# plt.title(\"L-inf Fast Gradient Attack\")\n",
    "# plt.xlabel(\"epsilon\")\n",
    "# plt.ylabel(\"accuracy\")\n",
    "# plt.ylim(0, 1.1)\n",
    "# plt.plot(epsilons, robust_accuracy.to('cpu').numpy())\n",
    "# plt.savefig(save_folder + title + '-linf-5.png')"
   ]
  },
  {
   "cell_type": "code",
   "execution_count": null,
   "metadata": {},
   "outputs": [],
   "source": [
    "# # evaluate robustness with L-inf Fast Gradient Attack\n",
    "# torch.cuda.empty_cache()\n",
    "# attack = FGSM()\n",
    "\n",
    "# attack.run = types.MethodType(_run, attack)\n",
    "# attack.get_loss_fn = types.MethodType(_get_loss_fn, attack)\n",
    "# attack.value_and_grad = types.MethodType(_value_and_grad, attack)\n",
    "# epsilons = np.linspace(0.0, 20, num=20)\n",
    "\n",
    "# start_time = time.perf_counter()\n",
    "# raw, clipped, is_adv = attack(fmodel, clips, labels, epsilons=epsilons, original_lengths=lengths)\n",
    "# end_time = time.perf_counter()\n",
    "# print(f\"Generated attacks in {end_time - start_time:0.2f} seconds\")\n",
    "\n",
    "# robust_accuracy = 1 - is_adv.double().mean(axis=-1)"
   ]
  },
  {
   "cell_type": "code",
   "execution_count": null,
   "metadata": {},
   "outputs": [],
   "source": [
    "# plt.title(\"L-inf Fast Gradient Attack\")\n",
    "# plt.xlabel(\"epsilon\")\n",
    "# plt.ylabel(\"accuracy\")\n",
    "# plt.ylim(0, 1.1)\n",
    "# plt.plot(epsilons, robust_accuracy.to('cpu').numpy())\n",
    "# plt.savefig(save_folder + title + '-linf-20.png')"
   ]
  },
  {
   "cell_type": "code",
   "execution_count": null,
   "metadata": {},
   "outputs": [],
   "source": [
    "# # evaluate robustness with L-inf Fast Gradient Attack\n",
    "# torch.cuda.empty_cache()\n",
    "# attack = FGSM()\n",
    "\n",
    "# attack.run = types.MethodType(_run, attack)\n",
    "# attack.get_loss_fn = types.MethodType(_get_loss_fn, attack)\n",
    "# attack.value_and_grad = types.MethodType(_value_and_grad, attack)\n",
    "# epsilons = np.linspace(0.0, 100, num=20)\n",
    "\n",
    "# start_time = time.perf_counter()\n",
    "# raw, clipped, is_adv = attack(fmodel, clips, labels, epsilons=epsilons, original_lengths=lengths)\n",
    "# end_time = time.perf_counter()\n",
    "# print(f\"Generated attacks in {end_time - start_time:0.2f} seconds\")\n",
    "\n",
    "# robust_accuracy = 1 - is_adv.double().mean(axis=-1)"
   ]
  },
  {
   "cell_type": "code",
   "execution_count": null,
   "metadata": {},
   "outputs": [],
   "source": [
    "# plt.title(\"L-inf Fast Gradient Attack\")\n",
    "# plt.xlabel(\"epsilon\")\n",
    "# plt.ylabel(\"accuracy\")\n",
    "# plt.ylim(0, 1.1)\n",
    "# plt.plot(epsilons, robust_accuracy.to('cpu').numpy())\n",
    "# plt.savefig(save_folder + title + '-linf-100.png')"
   ]
  },
  {
   "cell_type": "code",
   "execution_count": null,
   "metadata": {},
   "outputs": [],
   "source": [
    "# # evaluate robustness with L-2 Fast Gradient Attack\n",
    "# torch.cuda.empty_cache()\n",
    "# attack = FGM()\n",
    "\n",
    "# attack.run = types.MethodType(_run, attack)\n",
    "# attack.get_loss_fn = types.MethodType(_get_loss_fn, attack)\n",
    "# attack.value_and_grad = types.MethodType(_value_and_grad, attack)\n",
    "# epsilons = np.linspace(0.0, 250, num=50)\n",
    "\n",
    "# start_time = time.perf_counter()\n",
    "# raw, clipped, is_adv = attack(fmodel, clips, labels, epsilons=epsilons, original_lengths=lengths)\n",
    "# end_time = time.perf_counter()\n",
    "# print(f\"Generated attacks in {end_time - start_time:0.2f} seconds\")\n",
    "\n",
    "# robust_accuracy = 1 - is_adv.double().mean(axis=-1)"
   ]
  },
  {
   "cell_type": "code",
   "execution_count": null,
   "metadata": {},
   "outputs": [],
   "source": [
    "# plt.title(\"L-2 Fast Gradient Attack\")\n",
    "# plt.xlabel(\"epsilon\")\n",
    "# plt.ylabel(\"accuracy\")\n",
    "# plt.ylim(0, 1.1)\n",
    "# plt.plot(epsilons, robust_accuracy.to('cpu').numpy())\n",
    "# plt.savefig(save_folder + title + '-l2-250.png')"
   ]
  }
 ],
 "metadata": {
  "kernelspec": {
   "display_name": "Python 3",
   "language": "python",
   "name": "python3"
  },
  "language_info": {
   "codemirror_mode": {
    "name": "ipython",
    "version": 3
   },
   "file_extension": ".py",
   "mimetype": "text/x-python",
   "name": "python",
   "nbconvert_exporter": "python",
   "pygments_lexer": "ipython3",
   "version": "3.7.8"
  }
 },
 "nbformat": 4,
 "nbformat_minor": 4
}
