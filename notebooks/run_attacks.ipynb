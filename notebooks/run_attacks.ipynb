{
 "cells": [
  {
   "cell_type": "code",
   "execution_count": 1,
   "metadata": {},
   "outputs": [],
   "source": [
    "import matplotlib.pyplot as plt\n",
    "%matplotlib inline\n",
    "\n",
    "import warnings\n",
    "warnings.filterwarnings('ignore')\n",
    "\n",
    "import sys\n",
    "pkg_path = \"/nfs/homedirs/yuny/project-1/audio_classification\"\n",
    "if pkg_path not in sys.path:\n",
    "    sys.path.append(pkg_path)\n",
    "\n",
    "pkg_path = \"/nfs/homedirs/yuny/project-1/foolbox\"\n",
    "if pkg_path not in sys.path:\n",
    "    sys.path.append(pkg_path)\n",
    "\n",
    "import os\n",
    "import yaml\n",
    "import torch\n",
    "from audio_classification.tools import attack_model, attack_model_for_randomize_smoothing\n",
    "\n",
    "torch.cuda.empty_cache()\n",
    "# device = torch.device('cpu')\n",
    "device = (torch.device('cuda') if torch.cuda.is_available() else torch.device('cpu'))\n",
    "project_dir = '/nfs/homedirs/yuny/project-1/'\n",
    "save_folder = '/nfs/homedirs/yuny/project-1/attack_results/'"
   ]
  },
  {
   "cell_type": "code",
   "execution_count": 2,
   "metadata": {},
   "outputs": [
    {
     "name": "stdout",
     "output_type": "stream",
     "text": [
      "{'CHECKPOINT': {'SAVE_NAME': 'crnn-us8k-audio-rs-0.005', 'SAVE_PATH': '../weights/us8k/', 'SAVE_TOP_K': 1}, 'DATALOADER': {'BATCH_SIZE': 12, 'NUM_WORKERS': 20}, 'DATASET': {'ANNOTATION_PATH': '../datasets/UrbanSound8K/metadata/UrbanSound8K.csv', 'AUGMENTATION': 'none', 'FILE_PATH': '../datasets/UrbanSound8K/audio/', 'NAME': 'UrbanSounds8K', 'NOISE_PATH': '../datasets/MUSAN/free-sound/', 'VAL_FOLD': 10, 'WEIGHT': 'None'}, 'LOSS': 'cross_entropy', 'MODEL': {'CRNN': {'INCLUDE_TOP': True, 'INCLUDE_TRANSFORM': True, 'RANDOMISED_SMOOTHING': True}, 'NAME': 'LitCRNN', 'NUM_CLASSES': 10}, 'SOLVER': {'GAMMA': 0.5, 'LEARNING_RATE': 0.001, 'LOG_PATH': '../logs/us8k/', 'MAX_EPOCH': 150, 'MIN_EPOCH': 1, 'NUM_GPUS': 1, 'SIGMA': 0.005, 'STEP_SIZE': 25, 'WEIGHT_DECAY': 0.01}, 'TRANSFORM': {'HOP_LENGTH': 256}, 'ATTACK': True}\n",
      "Range of the input data is (-1.000000, 1.000000)\n"
     ]
    },
    {
     "name": "stderr",
     "output_type": "stream",
     "text": [
      "/nfs/homedirs/yuny/project-1/foolbox/foolbox/models/pytorch.py:37: UserWarning: The PyTorch model is in training mode and therefore might not be deterministic. Call the eval() method to set it in evaluation mode if this is not intended.\n",
      "  \"The PyTorch model is in training mode and therefore might\"\n"
     ]
    },
    {
     "name": "stdout",
     "output_type": "stream",
     "text": [
      "Generated attacks in 238.66 seconds\n",
      "tensor([0.8167, 0.7000, 0.3000, 0.3000, 0.3000, 0.2833, 0.2667, 0.2500, 0.2333,\n",
      "        0.2500, 0.2500, 0.2500, 0.2167, 0.2000, 0.2000, 0.2000, 0.2000, 0.2000,\n",
      "        0.2000, 0.1833], dtype=torch.float64)\n"
     ]
    },
    {
     "data": {
      "image/png": "[encoded data removed]",
      "text/plain": [
       "<Figure size 432x288 with 1 Axes>"
      ]
     },
     "metadata": {
      "needs_background": "light"
     },
     "output_type": "display_data"
    }
   ],
   "source": [
    "torch.cuda.empty_cache()\n",
    "project=\"UrbanSound8k\"\n",
    "max_rad = 0.1\n",
    "title = 'us8k_audio_rs_0.005'\n",
    "config_path = 'logs/us8k/crnn-us8k-audio-rs-0.005/version_0/hparams.yaml'\n",
    "pretrained_path = 'weights/us8k/crnn-us8k-audio-rs-0.005-epoch=68-val_acc=0.791.ckpt'\n",
    "attack_model_for_randomize_smoothing(project_dir, config_path, pretrained_path, title, \n",
    "                                     project=project, attack_type = 'linf', max_radius=max_rad, save_folder=save_folder)"
   ]
  },
  {
   "cell_type": "code",
   "execution_count": 5,
   "metadata": {},
   "outputs": [
    {
     "name": "stdout",
     "output_type": "stream",
     "text": [
      "{'CHECKPOINT': {'SAVE_NAME': 'crnn-us8k-audio-rs-0.01', 'SAVE_PATH': '../weights/us8k/', 'SAVE_TOP_K': 1}, 'DATALOADER': {'BATCH_SIZE': 12, 'NUM_WORKERS': 20}, 'DATASET': {'ANNOTATION_PATH': '../datasets/UrbanSound8K/metadata/UrbanSound8K.csv', 'AUGMENTATION': 'none', 'FILE_PATH': '../datasets/UrbanSound8K/audio/', 'NAME': 'UrbanSounds8K', 'NOISE_PATH': '../datasets/MUSAN/free-sound/', 'VAL_FOLD': 10, 'WEIGHT': 'None'}, 'LOSS': 'cross_entropy', 'MODEL': {'CRNN': {'INCLUDE_TOP': True, 'INCLUDE_TRANSFORM': True, 'RANDOMISED_SMOOTHING': True}, 'NAME': 'LitCRNN', 'NUM_CLASSES': 10}, 'SOLVER': {'GAMMA': 0.5, 'LEARNING_RATE': 0.001, 'LOG_PATH': '../logs/us8k/', 'MAX_EPOCH': 150, 'MIN_EPOCH': 1, 'NUM_GPUS': 1, 'SIGMA': 0.01, 'STEP_SIZE': 25, 'WEIGHT_DECAY': 0.01}, 'TRANSFORM': {'HOP_LENGTH': 256}, 'ATTACK': True}\n",
      "Range of the input data is (-1.000000, 1.000000)\n"
     ]
    },
    {
     "name": "stderr",
     "output_type": "stream",
     "text": [
      "/nfs/homedirs/yuny/project-1/foolbox/foolbox/models/pytorch.py:37: UserWarning: The PyTorch model is in training mode and therefore might not be deterministic. Call the eval() method to set it in evaluation mode if this is not intended.\n",
      "  \"The PyTorch model is in training mode and therefore might\"\n"
     ]
    },
    {
     "name": "stdout",
     "output_type": "stream",
     "text": [
      "Generated attacks in 240.08 seconds\n",
      "tensor([0.8167, 0.8000, 0.8000, 0.8000, 0.7833, 0.7500, 0.7500, 0.7333, 0.7333,\n",
      "        0.7333, 0.7167, 0.6833, 0.6333, 0.5500, 0.4000, 0.2833, 0.2000, 0.1667,\n",
      "        0.1500, 0.1500], dtype=torch.float64)\n"
     ]
    },
    {
     "data": {
      "image/png": "[encoded data removed]",
      "text/plain": [
       "<Figure size 432x288 with 1 Axes>"
      ]
     },
     "metadata": {
      "needs_background": "light"
     },
     "output_type": "display_data"
    }
   ],
   "source": [
    "torch.cuda.empty_cache()\n",
    "project=\"UrbanSound8k\"\n",
    "max_rad = 0.1\n",
    "title = 'us8k_audio_rs_0.01'\n",
    "config_path = 'logs/us8k/crnn-us8k-audio-rs-0.01/version_0/hparams.yaml'\n",
    "pretrained_path = 'weights/us8k/crnn-us8k-audio-rs-0.01-epoch=107-val_acc=0.789.ckpt'\n",
    "attack_model_for_randomize_smoothing(project_dir, config_path, pretrained_path, title, \n",
    "                                     project=project, attack_type = 'linf', max_radius=max_rad, save_folder=save_folder)"
   ]
  },
  {
   "cell_type": "code",
   "execution_count": 6,
   "metadata": {},
   "outputs": [
    {
     "name": "stdout",
     "output_type": "stream",
     "text": [
      "{'CHECKPOINT': {'SAVE_NAME': 'crnn-us8k-audio-rs-0.05', 'SAVE_PATH': '../weights/us8k/', 'SAVE_TOP_K': 1}, 'DATALOADER': {'BATCH_SIZE': 12, 'NUM_WORKERS': 20}, 'DATASET': {'ANNOTATION_PATH': '../datasets/UrbanSound8K/metadata/UrbanSound8K.csv', 'AUGMENTATION': 'none', 'FILE_PATH': '../datasets/UrbanSound8K/audio/', 'NAME': 'UrbanSounds8K', 'NOISE_PATH': '../datasets/MUSAN/free-sound/', 'VAL_FOLD': 10, 'WEIGHT': 'None'}, 'LOSS': 'cross_entropy', 'MODEL': {'CRNN': {'INCLUDE_TOP': True, 'INCLUDE_TRANSFORM': True, 'RANDOMISED_SMOOTHING': True}, 'NAME': 'LitCRNN', 'NUM_CLASSES': 10}, 'SOLVER': {'GAMMA': 0.5, 'LEARNING_RATE': 0.001, 'LOG_PATH': '../logs/us8k/', 'MAX_EPOCH': 150, 'MIN_EPOCH': 1, 'NUM_GPUS': 1, 'SIGMA': 0.05, 'STEP_SIZE': 25, 'WEIGHT_DECAY': 0.01}, 'TRANSFORM': {'HOP_LENGTH': 256}, 'ATTACK': True}\n",
      "Range of the input data is (-1.000000, 1.000000)\n"
     ]
    },
    {
     "name": "stderr",
     "output_type": "stream",
     "text": [
      "/nfs/homedirs/yuny/project-1/foolbox/foolbox/models/pytorch.py:37: UserWarning: The PyTorch model is in training mode and therefore might not be deterministic. Call the eval() method to set it in evaluation mode if this is not intended.\n",
      "  \"The PyTorch model is in training mode and therefore might\"\n"
     ]
    },
    {
     "name": "stdout",
     "output_type": "stream",
     "text": [
      "Generated attacks in 240.20 seconds\n",
      "tensor([0.1167, 0.1167, 0.1167, 0.1000, 0.0833, 0.0833, 0.0667, 0.0500, 0.0500,\n",
      "        0.0500, 0.0500, 0.0500, 0.0333, 0.0333, 0.0333, 0.0333, 0.0333, 0.0167,\n",
      "        0.0167, 0.0167], dtype=torch.float64)\n"
     ]
    },
    {
     "data": {
      "image/png": "[encoded data removed]",
      "text/plain": [
       "<Figure size 432x288 with 1 Axes>"
      ]
     },
     "metadata": {
      "needs_background": "light"
     },
     "output_type": "display_data"
    }
   ],
   "source": [
    "torch.cuda.empty_cache()\n",
    "project=\"UrbanSound8k\"\n",
    "max_rad = 0.1\n",
    "title = 'us8k_audio_rs_0.05'\n",
    "config_path = 'logs/us8k/crnn-us8k-audio-rs-0.05/version_0/hparams.yaml'\n",
    "pretrained_path = 'weights/us8k/crnn-us8k-audio-rs-0.05-epoch=129-val_acc=0.701.ckpt'\n",
    "attack_model_for_randomize_smoothing(project_dir, config_path, pretrained_path, title, \n",
    "                                     project=project, attack_type = 'linf', max_radius=max_rad, save_folder=save_folder)"
   ]
  },
  {
   "cell_type": "code",
   "execution_count": null,
   "metadata": {},
   "outputs": [],
   "source": [
    "torch.cuda.empty_cache()\n",
    "project=\"BMW\"\n",
    "max_rad = 0.1\n",
    "title = 'bmw_audio_rs_0.005'\n",
    "config_path = 'logs/bmw/crnn-bmw-audio-rs-0.005/version_0/hparams.yaml'\n",
    "pretrained_path = 'weights/bmw/crnn-bmw-audio-rs-0.005-epoch=31-val_acc=1.000.ckpt'\n",
    "attack_model_for_randomize_smoothing(project_dir, config_path, pretrained_path, title, \n",
    "                                     project=project, attack_type = 'l2', max_radius=max_rad, save_folder=save_folder)"
   ]
  },
  {
   "cell_type": "code",
   "execution_count": null,
   "metadata": {},
   "outputs": [],
   "source": [
    "project=\"BMW\"\n",
    "max_rad = 0.1\n",
    "title = 'bmw_audio_rs_0.01'\n",
    "config_path = 'logs/bmw/crnn-bmw-audio-rs-0.01/version_0/hparams.yaml'\n",
    "pretrained_path = 'weights/bmw/crnn-bmw-audio-rs-0.01-epoch=90-val_acc=0.951.ckpt'\n",
    "attack_model_for_randomize_smoothing(project_dir, config_path, pretrained_path, title, \n",
    "                                     project=project, attack_type = 'l2', max_radius=max_rad, save_folder=save_folder)"
   ]
  },
  {
   "cell_type": "code",
   "execution_count": null,
   "metadata": {},
   "outputs": [],
   "source": [
    "project=\"BMW\"\n",
    "max_rad = 0.1\n",
    "title = 'bmw_audio_rs_0.05'\n",
    "config_path = 'logs/bmw/crnn-bmw-audio-rs-1-new/version_1_rs_0.05/hparams.yaml'\n",
    "pretrained_path = 'weights/bmw/crnn-bmw-audio-rs-0.05-epoch=71-val_acc=0.934.ckpt'\n",
    "attack_model_for_randomize_smoothing(project_dir, config_path, pretrained_path, title, \n",
    "                                     project=project, attack_type = 'l2', max_radius=max_rad, save_folder=save_folder)"
   ]
  },
  {
   "cell_type": "code",
   "execution_count": null,
   "metadata": {},
   "outputs": [],
   "source": []
  }
 ],
 "metadata": {
  "kernelspec": {
   "display_name": "Python 3",
   "language": "python",
   "name": "python3"
  },
  "language_info": {
   "codemirror_mode": {
    "name": "ipython",
    "version": 3
   },
   "file_extension": ".py",
   "mimetype": "text/x-python",
   "name": "python",
   "nbconvert_exporter": "python",
   "pygments_lexer": "ipython3",
   "version": "3.7.8"
  }
 },
 "nbformat": 4,
 "nbformat_minor": 4
}
