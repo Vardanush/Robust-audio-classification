{
 "cells": [
  {
   "cell_type": "code",
   "execution_count": 1,
   "metadata": {},
   "outputs": [],
   "source": [
    "import matplotlib.pyplot as plt\n",
    "%matplotlib inline\n",
    "\n",
    "import warnings\n",
    "warnings.filterwarnings('ignore')\n",
    "\n",
    "import sys\n",
    "pkg_path = \"/nfs/homedirs/yuny/project-1/audio_classification\"\n",
    "if pkg_path not in sys.path:\n",
    "    sys.path.append(pkg_path)\n",
    "\n",
    "pkg_path = \"/nfs/homedirs/yuny/project-1/foolbox\"\n",
    "if pkg_path not in sys.path:\n",
    "    sys.path.append(pkg_path)\n",
    "\n",
    "import os\n",
    "import yaml\n",
    "import torch\n",
    "from audio_classification.tools import attack_model, attack_model_for_randomize_smoothing\n",
    "from audio_classification.tools.foolbox_attack import attack_model_per_class\n",
    "\n",
    "torch.cuda.empty_cache()\n",
    "# device = torch.device('cpu')\n",
    "device = (torch.device('cuda') if torch.cuda.is_available() else torch.device('cpu'))\n",
    "project_dir = '/nfs/homedirs/yuny/project-1/'\n",
    "save_folder = '/nfs/homedirs/yuny/project-1/attack_results/'"
   ]
  },
  {
   "cell_type": "code",
   "execution_count": null,
   "metadata": {},
   "outputs": [
    {
     "name": "stdout",
     "output_type": "stream",
     "text": [
      "{'ATTACK': True, 'CHECKPOINT': {'SAVE_NAME': 'crnn-us8k-verify-baseline', 'SAVE_PATH': '../weights/us8k', 'SAVE_TOP_K': 1}, 'DATALOADER': {'BATCH_SIZE': 12, 'NUM_WORKERS': 20}, 'DATASET': {'ANNOTATION_PATH': '../datasets/UrbanSound8K/metadata/UrbanSound8K.csv', 'AUGMENTATION': 'none', 'FILE_PATH': '../datasets/UrbanSound8K/audio/', 'NAME': 'UrbanSounds8K', 'NOISE_PATH': '../datasets/MUSAN/free-sound/', 'VAL_FOLD': 10, 'WEIGHT': 'None'}, 'LOSS': 'cross_entropy', 'MODEL': {'CRNN': {'INCLUDE_TOP': True, 'INCLUDE_TRANSFORM': True, 'RANDOMISED_SMOOTHING': False}, 'NAME': 'LitCRNN', 'NUM_CLASSES': 10}, 'SOLVER': {'GAMMA': 0.5, 'LEARNING_RATE': 0.001, 'LOG_PATH': '../logs/us8k/', 'MAX_EPOCH': 125, 'MIN_EPOCH': 1, 'NUM_GPUS': 1, 'SIGMA': 1, 'STEP_SIZE': 25, 'WEIGHT_DECAY': 0.01}, 'TRANSFORM': {'HOP_LENGTH': 256}}\n"
     ]
    }
   ],
   "source": [
    "torch.cuda.empty_cache()\n",
    "project=\"UrbanSound8k\"\n",
    "max_rad = 0.1\n",
    "title = 'us8k_baseline'\n",
    "config_path = 'logs/us8k/crnn-us8k-verify-baseline/version_0/hparams.yaml'\n",
    "pretrained_path = 'weights/us8k/crnn-us8k-verify-baseline-epoch=58-val_acc=0.784.ckpt'\n",
    "attack_model(project_dir, config_path, pretrained_path, title, \n",
    "                                     project=project, attack_type = 'linf', max_radius=max_rad, save_folder=save_folder)"
   ]
  },
  {
   "cell_type": "code",
   "execution_count": null,
   "metadata": {},
   "outputs": [],
   "source": [
    "torch.cuda.empty_cache()\n",
    "project=\"UrbanSound8k\"\n",
    "max_rad = 0.1\n",
    "title = 'us8k_audio_rs_0.005'\n",
    "config_path = 'logs/us8k/crnn-us8k-audio-rs-0.005/version_0/hparams.yaml'\n",
    "pretrained_path = 'weights/us8k/crnn-us8k-audio-rs-0.005-epoch=68-val_acc=0.791.ckpt'\n",
    "attack_model_for_randomize_smoothing(project_dir, config_path, pretrained_path, title, \n",
    "                                     project=project, attack_type = 'linf', max_radius=max_rad, save_folder=save_folder)"
   ]
  },
  {
   "cell_type": "code",
   "execution_count": null,
   "metadata": {},
   "outputs": [],
   "source": [
    "torch.cuda.empty_cache()\n",
    "project=\"UrbanSound8k\"\n",
    "max_rad = 0.1\n",
    "title = 'us8k_audio_rs_0.01'\n",
    "config_path = 'logs/us8k/crnn-us8k-audio-rs-0.01/version_0/hparams.yaml'\n",
    "pretrained_path = 'weights/us8k/crnn-us8k-audio-rs-0.01-epoch=107-val_acc=0.789.ckpt'\n",
    "attack_model_for_randomize_smoothing(project_dir, config_path, pretrained_path, title, \n",
    "                                     project=project, attack_type = 'linf', max_radius=max_rad, save_folder=save_folder)"
   ]
  },
  {
   "cell_type": "code",
   "execution_count": null,
   "metadata": {},
   "outputs": [],
   "source": [
    "torch.cuda.empty_cache()\n",
    "project=\"UrbanSound8k\"\n",
    "max_rad = 0.1\n",
    "title = 'us8k_audio_rs_0.05'\n",
    "config_path = 'logs/us8k/crnn-us8k-audio-rs-0.05/version_0/hparams.yaml'\n",
    "pretrained_path = 'weights/us8k/crnn-us8k-audio-rs-0.05-epoch=129-val_acc=0.701.ckpt'\n",
    "attack_model_for_randomize_smoothing(project_dir, config_path, pretrained_path, title, \n",
    "                                     project=project, attack_type = 'linf', max_radius=max_rad, save_folder=save_folder)"
   ]
  },
  {
   "cell_type": "code",
   "execution_count": 2,
   "metadata": {},
   "outputs": [
    {
     "name": "stdout",
     "output_type": "stream",
     "text": [
      "{'CHECKPOINT': {'SAVE_NAME': 'crnn-bmw-audio-rs-0.005', 'SAVE_PATH': '../weights/bmw/', 'SAVE_TOP_K': 1}, 'DATALOADER': {'BATCH_SIZE': 8, 'NUM_WORKERS': 20}, 'DATASET': {'ANNOTATION_PATH': '/nfs/students/winter-term-2020/project-1/datasets/BMW/meta/bmw.csv', 'AUGMENTATION': 'none', 'FOLDER_PATH': '/nfs/students/winter-term-2020/project-1/datasets/Brake_Noise', 'NAME': 'BMW', 'NOISE_PATH': '../datasets/MUSAN/free-sound/', 'VAL_FOLD': 1, 'WEIGHT': 'NORMAL'}, 'LOSS': 'cross_entropy', 'MODEL': {'CRNN': {'INCLUDE_TOP': True, 'INCLUDE_TRANSFORM': True, 'RANDOMISED_SMOOTHING': True}, 'NAME': 'LitCRNN', 'NUM_CLASSES': 6}, 'SOLVER': {'GAMMA': 0.5, 'LEARNING_RATE': 0.001, 'LOG_PATH': '../logs/bmw/', 'MAX_EPOCH': 150, 'MIN_EPOCH': 1, 'NUM_GPUS': 1, 'SIGMA': 0.005, 'STEP_SIZE': 25, 'WEIGHT_DECAY': 0.001}, 'TRANSFORM': {'HOP_LENGTH': 256}, 'ATTACK': True}\n",
      "Data augmentation for BMW dataset: none\n",
      "Range of the input data is (-1.000000, 0.999969)\n"
     ]
    },
    {
     "name": "stderr",
     "output_type": "stream",
     "text": [
      "/nfs/homedirs/yuny/project-1/foolbox/foolbox/models/pytorch.py:37: UserWarning: The PyTorch model is in training mode and therefore might not be deterministic. Call the eval() method to set it in evaluation mode if this is not intended.\n",
      "  \"The PyTorch model is in training mode and therefore might\"\n"
     ]
    },
    {
     "name": "stdout",
     "output_type": "stream",
     "text": [
      "[2, 2, 2, 2, 2, 2, 2, 2, 2, 2, 2, 2, 2, 2, 2, 2, 2, 2, 2, 3] tensor([0, 0, 1, 1, 1, 1, 2, 2, 2, 2, 2, 2, 2, 2, 2, 2, 2, 2, 2, 3],\n",
      "       device='cuda:0')\n",
      "[3, 3, 3, 3, 3, 3, 3, 3, 3, 3, 3, 3, 3, 3, 3, 3, 3, 2, 3, 3] tensor([3, 3, 3, 3, 3, 3, 3, 3, 3, 3, 3, 3, 3, 3, 3, 3, 3, 3, 3, 3],\n",
      "       device='cuda:0')\n",
      "[3, 3, 3, 2, 2, 2, 2, 2, 2, 2, 2, 2, 2, 2, 2, 2, 2, 5, 5, 2] tensor([3, 3, 3, 4, 4, 4, 4, 4, 4, 4, 4, 4, 4, 4, 4, 4, 4, 5, 5, 5],\n",
      "       device='cuda:0')\n",
      "[2, 2, 2, 2, 2, 2, 2, 2, 2, 2, 2, 2, 2, 2, 2, 2, 2, 2, 2, 3] tensor([0, 0, 1, 1, 1, 1, 2, 2, 2, 2, 2, 2, 2, 2, 2, 2, 2, 2, 2, 3],\n",
      "       device='cuda:0')\n",
      "[3, 3, 3, 2, 3, 3, 3, 3, 3, 3, 2, 3, 3, 3, 3, 3, 3, 2, 3, 3] tensor([3, 3, 3, 3, 3, 3, 3, 3, 3, 3, 3, 3, 3, 3, 3, 3, 3, 3, 3, 3],\n",
      "       device='cuda:0')\n",
      "[3, 3, 3, 2, 2, 2, 2, 2, 2, 2, 2, 2, 2, 2, 2, 2, 2, 5, 5, 2] tensor([3, 3, 3, 4, 4, 4, 4, 4, 4, 4, 4, 4, 4, 4, 4, 4, 4, 5, 5, 5],\n",
      "       device='cuda:0')\n",
      "[2, 2, 2, 2, 2, 2, 2, 2, 2, 2, 2, 2, 2, 2, 2, 2, 2, 2, 2, 3] tensor([0, 0, 1, 1, 1, 1, 2, 2, 2, 2, 2, 2, 2, 2, 2, 2, 2, 2, 2, 3],\n",
      "       device='cuda:0')\n",
      "[3, 3, 3, 2, 3, 3, 3, 3, 3, 3, 2, 3, 5, 2, 3, 3, 3, 2, 3, 3] tensor([3, 3, 3, 3, 3, 3, 3, 3, 3, 3, 3, 3, 3, 3, 3, 3, 3, 3, 3, 3],\n",
      "       device='cuda:0')\n",
      "[3, 3, 3, 2, 2, 2, 2, 2, 2, 2, 2, 2, 2, 2, 2, 2, 2, 5, 5, 2] tensor([3, 3, 3, 4, 4, 4, 4, 4, 4, 4, 4, 4, 4, 4, 4, 4, 4, 5, 5, 5],\n",
      "       device='cuda:0')\n",
      "[2, 2, 2, 2, 2, 2, 2, 2, 2, 2, 2, 2, 2, 2, 2, 2, 2, 2, 2, 3] tensor([0, 0, 1, 1, 1, 1, 2, 2, 2, 2, 2, 2, 2, 2, 2, 2, 2, 2, 2, 3],\n",
      "       device='cuda:0')\n",
      "[3, 3, 3, 2, 3, 3, 3, 3, 3, 3, 2, 3, 3, 2, 3, 3, 3, 2, 3, 3] tensor([3, 3, 3, 3, 3, 3, 3, 3, 3, 3, 3, 3, 3, 3, 3, 3, 3, 3, 3, 3],\n",
      "       device='cuda:0')\n",
      "[3, 3, 3, 2, 2, 2, 2, 2, 2, 2, 2, 2, 2, 2, 2, 2, 2, 5, 5, 2] tensor([3, 3, 3, 4, 4, 4, 4, 4, 4, 4, 4, 4, 4, 4, 4, 4, 4, 5, 5, 5],\n",
      "       device='cuda:0')\n",
      "[2, 2, 2, 2, 2, 2, 2, 2, 2, 2, 2, 2, 2, 2, 2, 2, 2, 2, 2, 3] tensor([0, 0, 1, 1, 1, 1, 2, 2, 2, 2, 2, 2, 2, 2, 2, 2, 2, 2, 2, 3],\n",
      "       device='cuda:0')\n",
      "[2, 3, 2, 2, 3, 3, 3, 3, 3, 3, 2, 3, 3, 2, 3, 3, 3, 2, 3, 3] tensor([3, 3, 3, 3, 3, 3, 3, 3, 3, 3, 3, 3, 3, 3, 3, 3, 3, 3, 3, 3],\n",
      "       device='cuda:0')\n",
      "[3, 3, 3, 2, 2, 2, 2, 2, 2, 2, 2, 2, 2, 2, 2, 2, 2, 5, 2, 2] tensor([3, 3, 3, 4, 4, 4, 4, 4, 4, 4, 4, 4, 4, 4, 4, 4, 4, 5, 5, 5],\n",
      "       device='cuda:0')\n",
      "[2, 2, 2, 2, 2, 2, 2, 2, 2, 2, 2, 2, 2, 2, 2, 2, 2, 2, 2, 3] tensor([0, 0, 1, 1, 1, 1, 2, 2, 2, 2, 2, 2, 2, 2, 2, 2, 2, 2, 2, 3],\n",
      "       device='cuda:0')\n",
      "[2, 3, 2, 2, 3, 2, 3, 3, 3, 3, 2, 3, 3, 2, 3, 3, 3, 2, 3, 3] tensor([3, 3, 3, 3, 3, 3, 3, 3, 3, 3, 3, 3, 3, 3, 3, 3, 3, 3, 3, 3],\n",
      "       device='cuda:0')\n",
      "[3, 3, 3, 2, 2, 2, 2, 2, 2, 2, 2, 2, 2, 2, 2, 2, 2, 5, 2, 2] tensor([3, 3, 3, 4, 4, 4, 4, 4, 4, 4, 4, 4, 4, 4, 4, 4, 4, 5, 5, 5],\n",
      "       device='cuda:0')\n",
      "[2, 2, 2, 2, 2, 2, 2, 2, 2, 2, 2, 2, 2, 2, 2, 2, 2, 2, 2, 3] tensor([0, 0, 1, 1, 1, 1, 2, 2, 2, 2, 2, 2, 2, 2, 2, 2, 2, 2, 2, 3],\n",
      "       device='cuda:0')\n",
      "[2, 3, 2, 2, 3, 2, 3, 3, 3, 3, 2, 3, 3, 2, 3, 3, 3, 2, 3, 3] tensor([3, 3, 3, 3, 3, 3, 3, 3, 3, 3, 3, 3, 3, 3, 3, 3, 3, 3, 3, 3],\n",
      "       device='cuda:0')\n",
      "[3, 3, 3, 2, 2, 2, 2, 2, 2, 2, 2, 2, 2, 2, 2, 2, 2, 5, 2, 2] tensor([3, 3, 3, 4, 4, 4, 4, 4, 4, 4, 4, 4, 4, 4, 4, 4, 4, 5, 5, 5],\n",
      "       device='cuda:0')\n",
      "[2, 2, 2, 2, 2, 2, 2, 2, 2, 2, 2, 2, 2, 2, 2, 2, 2, 2, 2, 3] tensor([0, 0, 1, 1, 1, 1, 2, 2, 2, 2, 2, 2, 2, 2, 2, 2, 2, 2, 2, 3],\n",
      "       device='cuda:0')\n",
      "[2, 2, 2, 2, 3, 2, 3, 3, 3, 3, 2, 3, 3, 2, 3, 3, 3, 2, 2, 3] tensor([3, 3, 3, 3, 3, 3, 3, 3, 3, 3, 3, 3, 3, 3, 3, 3, 3, 3, 3, 3],\n",
      "       device='cuda:0')\n",
      "[3, 3, 3, 2, 2, 2, 2, 2, 2, 2, 2, 2, 2, 2, 2, 2, 2, 5, 2, 2] tensor([3, 3, 3, 4, 4, 4, 4, 4, 4, 4, 4, 4, 4, 4, 4, 4, 4, 5, 5, 5],\n",
      "       device='cuda:0')\n",
      "[2, 2, 2, 2, 2, 2, 2, 2, 2, 2, 2, 2, 2, 2, 2, 2, 2, 2, 2, 3] tensor([0, 0, 1, 1, 1, 1, 2, 2, 2, 2, 2, 2, 2, 2, 2, 2, 2, 2, 2, 3],\n",
      "       device='cuda:0')\n",
      "[2, 2, 2, 2, 3, 2, 3, 3, 3, 3, 2, 3, 3, 2, 3, 3, 3, 2, 2, 3] tensor([3, 3, 3, 3, 3, 3, 3, 3, 3, 3, 3, 3, 3, 3, 3, 3, 3, 3, 3, 3],\n",
      "       device='cuda:0')\n",
      "[3, 3, 3, 2, 2, 2, 2, 2, 2, 2, 2, 2, 2, 2, 2, 2, 2, 5, 2, 2] tensor([3, 3, 3, 4, 4, 4, 4, 4, 4, 4, 4, 4, 4, 4, 4, 4, 4, 5, 5, 5],\n",
      "       device='cuda:0')\n",
      "[2, 2, 2, 2, 2, 2, 2, 2, 2, 2, 2, 2, 2, 2, 2, 2, 2, 2, 2, 3] tensor([0, 0, 1, 1, 1, 1, 2, 2, 2, 2, 2, 2, 2, 2, 2, 2, 2, 2, 2, 3],\n",
      "       device='cuda:0')\n",
      "[2, 2, 2, 2, 3, 2, 3, 3, 3, 2, 2, 3, 3, 2, 3, 3, 3, 2, 2, 3] tensor([3, 3, 3, 3, 3, 3, 3, 3, 3, 3, 3, 3, 3, 3, 3, 3, 3, 3, 3, 3],\n",
      "       device='cuda:0')\n",
      "[2, 3, 3, 2, 2, 2, 2, 2, 2, 2, 2, 2, 2, 2, 2, 2, 2, 5, 2, 2] tensor([3, 3, 3, 4, 4, 4, 4, 4, 4, 4, 4, 4, 4, 4, 4, 4, 4, 5, 5, 5],\n",
      "       device='cuda:0')\n",
      "[2, 2, 2, 2, 2, 2, 2, 2, 2, 2, 2, 2, 2, 2, 2, 2, 2, 2, 2, 3] tensor([0, 0, 1, 1, 1, 1, 2, 2, 2, 2, 2, 2, 2, 2, 2, 2, 2, 2, 2, 3],\n",
      "       device='cuda:0')\n",
      "[2, 2, 2, 2, 3, 2, 3, 3, 3, 2, 2, 3, 3, 2, 3, 3, 3, 2, 2, 3] tensor([3, 3, 3, 3, 3, 3, 3, 3, 3, 3, 3, 3, 3, 3, 3, 3, 3, 3, 3, 3],\n",
      "       device='cuda:0')\n",
      "[2, 3, 3, 2, 2, 2, 2, 2, 2, 2, 2, 2, 2, 2, 2, 2, 2, 5, 2, 2] tensor([3, 3, 3, 4, 4, 4, 4, 4, 4, 4, 4, 4, 4, 4, 4, 4, 4, 5, 5, 5],\n",
      "       device='cuda:0')\n",
      "[2, 2, 2, 2, 2, 2, 2, 2, 2, 2, 2, 2, 2, 2, 2, 2, 2, 2, 2, 3] tensor([0, 0, 1, 1, 1, 1, 2, 2, 2, 2, 2, 2, 2, 2, 2, 2, 2, 2, 2, 3],\n",
      "       device='cuda:0')\n",
      "[2, 2, 2, 2, 3, 2, 3, 3, 3, 2, 2, 3, 3, 2, 3, 3, 3, 2, 2, 3] tensor([3, 3, 3, 3, 3, 3, 3, 3, 3, 3, 3, 3, 3, 3, 3, 3, 3, 3, 3, 3],\n",
      "       device='cuda:0')\n",
      "[2, 3, 3, 2, 2, 2, 2, 2, 2, 2, 2, 2, 2, 2, 2, 2, 2, 5, 2, 2] tensor([3, 3, 3, 4, 4, 4, 4, 4, 4, 4, 4, 4, 4, 4, 4, 4, 4, 5, 5, 5],\n",
      "       device='cuda:0')\n",
      "[2, 2, 2, 2, 2, 2, 2, 2, 2, 2, 2, 2, 2, 2, 2, 2, 2, 2, 2, 3] tensor([0, 0, 1, 1, 1, 1, 2, 2, 2, 2, 2, 2, 2, 2, 2, 2, 2, 2, 2, 3],\n",
      "       device='cuda:0')\n",
      "[2, 2, 2, 2, 3, 2, 3, 3, 3, 2, 2, 3, 3, 2, 3, 3, 3, 2, 2, 3] tensor([3, 3, 3, 3, 3, 3, 3, 3, 3, 3, 3, 3, 3, 3, 3, 3, 3, 3, 3, 3],\n",
      "       device='cuda:0')\n",
      "[2, 3, 3, 2, 2, 2, 2, 2, 2, 2, 2, 2, 2, 2, 2, 2, 2, 5, 2, 2] tensor([3, 3, 3, 4, 4, 4, 4, 4, 4, 4, 4, 4, 4, 4, 4, 4, 4, 5, 5, 5],\n",
      "       device='cuda:0')\n",
      "[2, 2, 2, 2, 2, 2, 2, 2, 2, 2, 2, 2, 2, 2, 2, 2, 2, 2, 2, 3] tensor([0, 0, 1, 1, 1, 1, 2, 2, 2, 2, 2, 2, 2, 2, 2, 2, 2, 2, 2, 3],\n",
      "       device='cuda:0')\n",
      "[2, 2, 2, 2, 3, 2, 3, 3, 3, 2, 2, 3, 3, 2, 2, 3, 3, 2, 2, 3] tensor([3, 3, 3, 3, 3, 3, 3, 3, 3, 3, 3, 3, 3, 3, 3, 3, 3, 3, 3, 3],\n",
      "       device='cuda:0')\n",
      "[2, 3, 3, 2, 2, 2, 2, 2, 2, 2, 2, 2, 2, 2, 2, 2, 2, 5, 2, 2] tensor([3, 3, 3, 4, 4, 4, 4, 4, 4, 4, 4, 4, 4, 4, 4, 4, 4, 5, 5, 5],\n",
      "       device='cuda:0')\n",
      "[2, 2, 2, 2, 2, 2, 2, 2, 2, 2, 2, 2, 2, 2, 2, 2, 2, 2, 2, 3] tensor([0, 0, 1, 1, 1, 1, 2, 2, 2, 2, 2, 2, 2, 2, 2, 2, 2, 2, 2, 3],\n",
      "       device='cuda:0')\n",
      "[2, 2, 2, 2, 3, 2, 3, 3, 2, 2, 2, 2, 3, 2, 2, 3, 3, 2, 2, 3] tensor([3, 3, 3, 3, 3, 3, 3, 3, 3, 3, 3, 3, 3, 3, 3, 3, 3, 3, 3, 3],\n",
      "       device='cuda:0')\n",
      "[2, 3, 3, 2, 2, 2, 2, 2, 2, 2, 2, 2, 2, 2, 2, 2, 2, 5, 2, 2] tensor([3, 3, 3, 4, 4, 4, 4, 4, 4, 4, 4, 4, 4, 4, 4, 4, 4, 5, 5, 5],\n",
      "       device='cuda:0')\n",
      "[2, 2, 2, 2, 2, 2, 2, 2, 2, 2, 2, 2, 2, 2, 2, 2, 2, 2, 2, 3] tensor([0, 0, 1, 1, 1, 1, 2, 2, 2, 2, 2, 2, 2, 2, 2, 2, 2, 2, 2, 3],\n",
      "       device='cuda:0')\n",
      "[2, 2, 2, 2, 3, 2, 3, 3, 2, 2, 2, 2, 3, 2, 2, 3, 3, 2, 2, 3] tensor([3, 3, 3, 3, 3, 3, 3, 3, 3, 3, 3, 3, 3, 3, 3, 3, 3, 3, 3, 3],\n",
      "       device='cuda:0')\n",
      "[2, 3, 3, 2, 2, 2, 2, 2, 2, 2, 2, 2, 2, 2, 2, 2, 2, 5, 2, 2] tensor([3, 3, 3, 4, 4, 4, 4, 4, 4, 4, 4, 4, 4, 4, 4, 4, 4, 5, 5, 5],\n",
      "       device='cuda:0')\n",
      "[2, 2, 2, 2, 2, 2, 2, 2, 2, 2, 2, 2, 2, 2, 2, 2, 2, 2, 2, 3] tensor([0, 0, 1, 1, 1, 1, 2, 2, 2, 2, 2, 2, 2, 2, 2, 2, 2, 2, 2, 3],\n",
      "       device='cuda:0')\n",
      "[2, 2, 2, 2, 3, 2, 3, 3, 2, 2, 2, 2, 3, 2, 2, 3, 3, 2, 2, 3] tensor([3, 3, 3, 3, 3, 3, 3, 3, 3, 3, 3, 3, 3, 3, 3, 3, 3, 3, 3, 3],\n",
      "       device='cuda:0')\n",
      "[2, 3, 3, 2, 2, 2, 2, 2, 2, 2, 2, 2, 2, 2, 2, 2, 2, 5, 2, 2] tensor([3, 3, 3, 4, 4, 4, 4, 4, 4, 4, 4, 4, 4, 4, 4, 4, 4, 5, 5, 5],\n",
      "       device='cuda:0')\n",
      "[2, 2, 2, 2, 2, 2, 2, 2, 2, 2, 2, 2, 2, 2, 2, 2, 2, 2, 2, 3] tensor([0, 0, 1, 1, 1, 1, 2, 2, 2, 2, 2, 2, 2, 2, 2, 2, 2, 2, 2, 3],\n",
      "       device='cuda:0')\n",
      "[2, 2, 2, 2, 3, 2, 3, 3, 2, 2, 2, 2, 3, 2, 2, 3, 3, 2, 2, 3] tensor([3, 3, 3, 3, 3, 3, 3, 3, 3, 3, 3, 3, 3, 3, 3, 3, 3, 3, 3, 3],\n",
      "       device='cuda:0')\n",
      "[2, 3, 3, 2, 2, 2, 2, 2, 2, 2, 2, 2, 2, 2, 2, 2, 2, 5, 2, 2] tensor([3, 3, 3, 4, 4, 4, 4, 4, 4, 4, 4, 4, 4, 4, 4, 4, 4, 5, 5, 5],\n",
      "       device='cuda:0')\n"
     ]
    },
    {
     "name": "stdout",
     "output_type": "stream",
     "text": [
      "[2, 2, 2, 2, 2, 2, 2, 2, 2, 2, 2, 2, 2, 2, 2, 2, 2, 2, 2, 3] tensor([0, 0, 1, 1, 1, 1, 2, 2, 2, 2, 2, 2, 2, 2, 2, 2, 2, 2, 2, 3],\n",
      "       device='cuda:0')\n",
      "[2, 2, 2, 2, 3, 2, 3, 3, 2, 2, 2, 2, 3, 2, 2, 3, 3, 2, 2, 3] tensor([3, 3, 3, 3, 3, 3, 3, 3, 3, 3, 3, 3, 3, 3, 3, 3, 3, 3, 3, 3],\n",
      "       device='cuda:0')\n",
      "[2, 3, 3, 2, 2, 2, 2, 2, 2, 2, 2, 2, 2, 2, 2, 2, 2, 5, 2, 2] tensor([3, 3, 3, 4, 4, 4, 4, 4, 4, 4, 4, 4, 4, 4, 4, 4, 4, 5, 5, 5],\n",
      "       device='cuda:0')\n",
      "[2, 2, 2, 2, 2, 2, 2, 2, 2, 2, 2, 2, 2, 2, 2, 2, 2, 2, 2, 3] tensor([0, 0, 1, 1, 1, 1, 2, 2, 2, 2, 2, 2, 2, 2, 2, 2, 2, 2, 2, 3],\n",
      "       device='cuda:0')\n",
      "[2, 2, 2, 2, 3, 2, 3, 3, 2, 2, 2, 2, 3, 2, 2, 3, 3, 2, 2, 3] tensor([3, 3, 3, 3, 3, 3, 3, 3, 3, 3, 3, 3, 3, 3, 3, 3, 3, 3, 3, 3],\n",
      "       device='cuda:0')\n",
      "[2, 3, 3, 2, 2, 2, 2, 2, 2, 2, 2, 2, 2, 2, 2, 2, 2, 5, 2, 2] tensor([3, 3, 3, 4, 4, 4, 4, 4, 4, 4, 4, 4, 4, 4, 4, 4, 4, 5, 5, 5],\n",
      "       device='cuda:0')\n",
      "Generated attacks in 590.21 seconds\n",
      "[0.6333333333333333, 0.6, 0.5666666666666667, 0.5833333333333333, 0.5333333333333333, 0.5166666666666666, 0.5166666666666666, 0.4833333333333333, 0.4833333333333333, 0.44999999999999996, 0.44999999999999996, 0.44999999999999996, 0.44999999999999996, 0.43333333333333335, 0.4, 0.4, 0.4, 0.4, 0.4, 0.4]\n"
     ]
    },
    {
     "data": {
      "image/png": "[encoded data removed]",
      "text/plain": [
       "<Figure size 432x288 with 1 Axes>"
      ]
     },
     "metadata": {
      "needs_background": "light"
     },
     "output_type": "display_data"
    }
   ],
   "source": [
    "torch.cuda.empty_cache()\n",
    "project=\"BMW\"\n",
    "max_rad = 0.1\n",
    "title = 'bmw_audio_rs_0.005'\n",
    "config_path = 'logs/bmw/crnn-bmw-audio-rs-0.005/version_0/hparams.yaml'\n",
    "pretrained_path = 'weights/bmw/crnn-bmw-audio-rs-0.005-epoch=31-val_acc=1.000.ckpt'\n",
    "attack_model_for_randomize_smoothing(project_dir, config_path, pretrained_path, title, \n",
    "                                     project=project, attack_type = 'l2', max_radius=max_rad, save_folder=save_folder)"
   ]
  },
  {
   "cell_type": "code",
   "execution_count": 2,
   "metadata": {},
   "outputs": [
    {
     "name": "stdout",
     "output_type": "stream",
     "text": [
      "{'CHECKPOINT': {'SAVE_NAME': 'crnn-bmw-audio-rs-0.01', 'SAVE_PATH': '../weights/bmw/', 'SAVE_TOP_K': 1}, 'DATALOADER': {'BATCH_SIZE': 8, 'NUM_WORKERS': 20}, 'DATASET': {'ANNOTATION_PATH': '/nfs/students/winter-term-2020/project-1/datasets/BMW/meta/bmw.csv', 'AUGMENTATION': 'none', 'FOLDER_PATH': '/nfs/students/winter-term-2020/project-1/datasets/Brake_Noise', 'NAME': 'BMW', 'NOISE_PATH': '../datasets/MUSAN/free-sound/', 'VAL_FOLD': 1, 'WEIGHT': 'NORMAL'}, 'LOSS': 'cross_entropy', 'MODEL': {'CRNN': {'INCLUDE_TOP': True, 'INCLUDE_TRANSFORM': True, 'RANDOMISED_SMOOTHING': True}, 'NAME': 'LitCRNN', 'NUM_CLASSES': 6}, 'SOLVER': {'GAMMA': 0.5, 'LEARNING_RATE': 0.001, 'LOG_PATH': '../logs/bmw/', 'MAX_EPOCH': 150, 'MIN_EPOCH': 1, 'NUM_GPUS': 1, 'SIGMA': 0.01, 'STEP_SIZE': 25, 'WEIGHT_DECAY': 0.001}, 'TRANSFORM': {'HOP_LENGTH': 256}, 'ATTACK': True}\n",
      "Data augmentation for BMW dataset: none\n",
      "Range of the input data is (-1.000000, 0.999969)\n"
     ]
    },
    {
     "name": "stderr",
     "output_type": "stream",
     "text": [
      "/nfs/homedirs/yuny/project-1/foolbox/foolbox/models/pytorch.py:37: UserWarning: The PyTorch model is in training mode and therefore might not be deterministic. Call the eval() method to set it in evaluation mode if this is not intended.\n",
      "  \"The PyTorch model is in training mode and therefore might\"\n"
     ]
    },
    {
     "name": "stdout",
     "output_type": "stream",
     "text": [
      "Generated attacks in 583.49 seconds\n",
      "[0.6333333333333333, 0.6, 0.5666666666666667, 0.55, 0.5333333333333333, 0.5166666666666666, 0.5166666666666666, 0.4833333333333333, 0.4666666666666667, 0.4666666666666667, 0.44999999999999996, 0.44999999999999996, 0.44999999999999996, 0.43333333333333335, 0.43333333333333335, 0.41666666666666663, 0.4, 0.3833333333333333, 0.3833333333333333, 0.3833333333333333]\n"
     ]
    },
    {
     "data": {
      "image/png": "[encoded data removed]",
      "text/plain": [
       "<Figure size 432x288 with 1 Axes>"
      ]
     },
     "metadata": {
      "needs_background": "light"
     },
     "output_type": "display_data"
    }
   ],
   "source": [
    "project=\"BMW\"\n",
    "max_rad = 0.1\n",
    "title = 'bmw_audio_rs_0.01'\n",
    "config_path = 'logs/bmw/crnn-bmw-audio-rs-0.01/version_0/hparams.yaml'\n",
    "pretrained_path = 'weights/bmw/crnn-bmw-audio-rs-0.01-epoch=90-val_acc=0.951.ckpt'\n",
    "attack_model_for_randomize_smoothing(project_dir, config_path, pretrained_path, title, \n",
    "                                     project=project, attack_type = 'l2', max_radius=max_rad, save_folder=save_folder)"
   ]
  },
  {
   "cell_type": "code",
   "execution_count": 3,
   "metadata": {},
   "outputs": [
    {
     "name": "stdout",
     "output_type": "stream",
     "text": [
      "{'CHECKPOINT': {'SAVE_NAME': 'crnn-bmw-audio-rs-1-new', 'SAVE_PATH': '../weights/bmw/', 'SAVE_TOP_K': 1}, 'DATALOADER': {'BATCH_SIZE': 8, 'NUM_WORKERS': 20}, 'DATASET': {'ANNOTATION_PATH': '/nfs/students/winter-term-2020/project-1/datasets/BMW/meta/bmw.csv', 'AUGMENTATION': 'none', 'FOLDER_PATH': '/nfs/students/winter-term-2020/project-1/datasets/Brake_Noise', 'NAME': 'BMW', 'NOISE_PATH': '../datasets/MUSAN/free-sound/', 'VAL_FOLD': 1, 'WEIGHT': 'NORMAL'}, 'LOSS': 'cross_entropy', 'MODEL': {'CRNN': {'INCLUDE_TOP': True, 'INCLUDE_TRANSFORM': True, 'RANDOMISED_SMOOTHING': True}, 'NAME': 'LitCRNN', 'NUM_CLASSES': 6}, 'SOLVER': {'GAMMA': 0.5, 'LEARNING_RATE': 0.001, 'LOG_PATH': '../logs/bmw/', 'MAX_EPOCH': 150, 'MIN_EPOCH': 1, 'NUM_GPUS': 1, 'SIGMA': 0.05, 'STEP_SIZE': 25, 'WEIGHT_DECAY': 0.001}, 'TRANSFORM': {'HOP_LENGTH': 256}, 'ATTACK': True}\n",
      "Data augmentation for BMW dataset: none\n",
      "Range of the input data is (-1.000000, 0.999969)\n"
     ]
    },
    {
     "name": "stderr",
     "output_type": "stream",
     "text": [
      "/nfs/homedirs/yuny/project-1/foolbox/foolbox/models/pytorch.py:37: UserWarning: The PyTorch model is in training mode and therefore might not be deterministic. Call the eval() method to set it in evaluation mode if this is not intended.\n",
      "  \"The PyTorch model is in training mode and therefore might\"\n"
     ]
    },
    {
     "name": "stdout",
     "output_type": "stream",
     "text": [
      "Generated attacks in 583.63 seconds\n",
      "[0.5, 0.5, 0.5, 0.4833333333333333, 0.4833333333333333, 0.4833333333333333, 0.4833333333333333, 0.44999999999999996, 0.43333333333333335, 0.43333333333333335, 0.41666666666666663, 0.41666666666666663, 0.4, 0.4, 0.4, 0.4, 0.4, 0.4, 0.4, 0.3833333333333333]\n"
     ]
    },
    {
     "data": {
      "image/png": "[encoded data removed]",
      "text/plain": [
       "<Figure size 432x288 with 1 Axes>"
      ]
     },
     "metadata": {
      "needs_background": "light"
     },
     "output_type": "display_data"
    }
   ],
   "source": [
    "project=\"BMW\"\n",
    "max_rad = 0.1\n",
    "title = 'bmw_audio_rs_0.05'\n",
    "config_path = 'logs/bmw/crnn-bmw-audio-rs-1-new/version_1_rs_0.05/hparams.yaml'\n",
    "pretrained_path = 'weights/bmw/crnn-bmw-audio-rs-0.05-epoch=71-val_acc=0.934.ckpt'\n",
    "attack_model_for_randomize_smoothing(project_dir, config_path, pretrained_path, title, \n",
    "                                     project=project, attack_type = 'l2', max_radius=max_rad, save_folder=save_folder)"
   ]
  },
  {
   "cell_type": "code",
   "execution_count": 2,
   "metadata": {},
   "outputs": [
    {
     "name": "stdout",
     "output_type": "stream",
     "text": [
      "{'CHECKPOINT': {'SAVE_NAME': 'crnn-bmw-verify-baseline', 'SAVE_PATH': '../weights/bmw/', 'SAVE_TOP_K': 1}, 'DATALOADER': {'BATCH_SIZE': 8, 'NUM_WORKERS': 20}, 'DATASET': {'ANNOTATION_PATH': '/nfs/students/winter-term-2020/project-1/datasets/BMW/meta/bmw.csv', 'AUGMENTATION': 'none', 'FOLDER_PATH': '/nfs/students/winter-term-2020/project-1/datasets/Brake_Noise', 'NAME': 'BMW', 'NOISE_PATH': '../datasets/MUSAN/free-sound/', 'VAL_FOLD': 1, 'WEIGHT': 'NORMAL'}, 'LOSS': 'cross_entropy', 'MODEL': {'CRNN': {'INCLUDE_TOP': True, 'INCLUDE_TRANSFORM': True, 'RANDOMISED_SMOOTHING': False}, 'NAME': 'LitCRNN', 'NUM_CLASSES': 6}, 'SOLVER': {'GAMMA': 0.5, 'LEARNING_RATE': 0.001, 'LOG_PATH': '../logs/bmw/', 'MAX_EPOCH': 150, 'MIN_EPOCH': 1, 'NUM_GPUS': 1, 'SIGMA': 0.25, 'STEP_SIZE': 25, 'WEIGHT_DECAY': 0.001}, 'TRANSFORM': {'HOP_LENGTH': 256}, 'ATTACK': True}\n",
      "Data augmentation for BMW dataset: none\n",
      "Range of the input data is (-1.000000, 0.999969)\n"
     ]
    },
    {
     "name": "stderr",
     "output_type": "stream",
     "text": [
      "/nfs/homedirs/yuny/project-1/foolbox/foolbox/models/pytorch.py:37: UserWarning: The PyTorch model is in training mode and therefore might not be deterministic. Call the eval() method to set it in evaluation mode if this is not intended.\n",
      "  \"The PyTorch model is in training mode and therefore might\"\n"
     ]
    },
    {
     "name": "stdout",
     "output_type": "stream",
     "text": [
      "Generated attacks in 86.90 seconds\n",
      "[0.9666666666666667, 0.6666666666666667, 0.65, 0.6166666666666667, 0.5833333333333333, 0.6, 0.6166666666666667, 0.6, 0.5833333333333333, 0.6, 0.6166666666666667, 0.6166666666666667, 0.5666666666666667, 0.5666666666666667, 0.5833333333333333, 0.55, 0.5166666666666666, 0.5166666666666666, 0.5, 0.5]\n"
     ]
    },
    {
     "data": {
      "image/png": "[encoded data removed]",
      "text/plain": [
       "<Figure size 432x288 with 1 Axes>"
      ]
     },
     "metadata": {
      "needs_background": "light"
     },
     "output_type": "display_data"
    }
   ],
   "source": [
    "torch.cuda.empty_cache()\n",
    "project=\"BMW\"\n",
    "max_rad = 0.1\n",
    "title = 'bmw_audio_verify_baseline'\n",
    "config_path = 'logs/bmw/crnn-bmw-verify-baseline/version_0/hparams.yaml'\n",
    "pretrained_path = 'weights/bmw/crnn-bmw-verify-baseline-epoch=100-val_acc=0.984.ckpt'\n",
    "attack_model(project_dir, config_path, pretrained_path, title, \n",
    "                                     project=project, attack_type = 'linf', max_radius=max_rad, save_folder=save_folder)"
   ]
  },
  {
   "cell_type": "code",
   "execution_count": 4,
   "metadata": {},
   "outputs": [
    {
     "name": "stdout",
     "output_type": "stream",
     "text": [
      "{'CHECKPOINT': {'SAVE_NAME': 'crnn-bmw-verify-baseline', 'SAVE_PATH': '../weights/bmw/', 'SAVE_TOP_K': 1}, 'DATALOADER': {'BATCH_SIZE': 8, 'NUM_WORKERS': 20}, 'DATASET': {'ANNOTATION_PATH': '/nfs/students/winter-term-2020/project-1/datasets/BMW/meta/bmw.csv', 'AUGMENTATION': 'none', 'FOLDER_PATH': '/nfs/students/winter-term-2020/project-1/datasets/Brake_Noise', 'NAME': 'BMW', 'NOISE_PATH': '../datasets/MUSAN/free-sound/', 'VAL_FOLD': 1, 'WEIGHT': 'NORMAL'}, 'LOSS': 'cross_entropy', 'MODEL': {'CRNN': {'INCLUDE_TOP': True, 'INCLUDE_TRANSFORM': True, 'RANDOMISED_SMOOTHING': False}, 'NAME': 'LitCRNN', 'NUM_CLASSES': 6}, 'SOLVER': {'GAMMA': 0.5, 'LEARNING_RATE': 0.001, 'LOG_PATH': '../logs/bmw/', 'MAX_EPOCH': 150, 'MIN_EPOCH': 1, 'NUM_GPUS': 1, 'SIGMA': 0.25, 'STEP_SIZE': 25, 'WEIGHT_DECAY': 0.001}, 'TRANSFORM': {'HOP_LENGTH': 256}, 'ATTACK': True}\n",
      "Data augmentation for BMW dataset: none\n",
      "Range of the input data is (-1.000000, 0.999969)\n"
     ]
    },
    {
     "name": "stderr",
     "output_type": "stream",
     "text": [
      "/nfs/homedirs/yuny/project-1/foolbox/foolbox/models/pytorch.py:37: UserWarning: The PyTorch model is in training mode and therefore might not be deterministic. Call the eval() method to set it in evaluation mode if this is not intended.\n",
      "  \"The PyTorch model is in training mode and therefore might\"\n"
     ]
    },
    {
     "name": "stdout",
     "output_type": "stream",
     "text": [
      "Per class freeuncy of prediction class from adversarial samples:\n",
      "{0: {1: 1, 2: 1},\n",
      " 1: {1: 1, 2: 2, 5: 1},\n",
      " 2: {2: 13},\n",
      " 3: {0: 1, 2: 3, 3: 20},\n",
      " 4: {1: 1, 2: 13},\n",
      " 5: {2: 1, 5: 2}}\n",
      "Per class freeuncy of sucessful attacks from adversarial samples:\n",
      "{0: {'True': 2},\n",
      " 1: {'False': 1, 'True': 3},\n",
      " 2: {'False': 13},\n",
      " 3: {'False': 20, 'True': 4},\n",
      " 4: {'True': 14},\n",
      " 5: {'False': 2, 'True': 1}}\n"
     ]
    }
   ],
   "source": [
    "torch.cuda.empty_cache()\n",
    "project=\"BMW\"\n",
    "max_rad = 0.1\n",
    "title = 'bmw_audio_verify_baseline'\n",
    "config_path = 'logs/bmw/crnn-bmw-verify-baseline/version_0/hparams.yaml'\n",
    "pretrained_path = 'weights/bmw/crnn-bmw-verify-baseline-epoch=100-val_acc=0.984.ckpt'\n",
    "class_count, is_adv_count = attack_model_per_class(project_dir, config_path, pretrained_path, project=project, attack_type = 'linf', epsilon=0.05)"
   ]
  },
  {
   "cell_type": "code",
   "execution_count": null,
   "metadata": {},
   "outputs": [],
   "source": [
    "torch.cuda.empty_cache()\n",
    "project=\"BMW\"\n",
    "max_rad = 0.1\n",
    "title = 'bmw_audio_verify_baseline'\n",
    "config_path = 'logs/bmw/crnn-bmw-verify-baseline/version_0/hparams.yaml'\n",
    "pretrained_path = 'weights/bmw/crnn-bmw-verify-baseline-epoch=100-val_acc=0.984.ckpt'\n",
    "class_count, is_adv_count = attack_model_per_class(project_dir, config_path, pretrained_path, project=project, attack_type = 'linf', epsilon=0.05)"
   ]
  }
 ],
 "metadata": {
  "kernelspec": {
   "display_name": "Python 3",
   "language": "python",
   "name": "python3"
  },
  "language_info": {
   "codemirror_mode": {
    "name": "ipython",
    "version": 3
   },
   "file_extension": ".py",
   "mimetype": "text/x-python",
   "name": "python",
   "nbconvert_exporter": "python",
   "pygments_lexer": "ipython3",
   "version": "3.7.8"
  }
 },
 "nbformat": 4,
 "nbformat_minor": 4
}
