{
 "cells": [
  {
   "cell_type": "code",
   "execution_count": 1,
   "metadata": {},
   "outputs": [],
   "source": [
    "import matplotlib.pyplot as plt\n",
    "%matplotlib inline\n",
    "\n",
    "import warnings\n",
    "warnings.filterwarnings('ignore')\n",
    "\n",
    "import sys\n",
    "pkg_path = \"/nfs/homedirs/nikoghos/project-1/\"\n",
    "if pkg_path not in sys.path:\n",
    "    sys.path.append(pkg_path)\n",
    "\n",
    "pkg_path = \"/nfs/homedirs/nikoghos/project-1/foolbox\"\n",
    "if pkg_path not in sys.path:\n",
    "    sys.path.append(pkg_path)\n",
    "\n",
    "import os\n",
    "import yaml\n",
    "import torch\n",
    "from audio_classification.tools import attack_model, attack_model_for_randomize_smoothing\n",
    "from audio_classification.tools.foolbox_attack import attack_model_per_class\n",
    "\n",
    "torch.cuda.empty_cache()\n",
    "# device = torch.device('cpu')\n",
    "device = (torch.device('cuda') if torch.cuda.is_available() else torch.device('cpu'))\n",
    "project_dir = '/nfs/homedirs/nikoghos/project-1/'\n",
    "save_folder = '/nfs/homedirs/nikoghos/project-1/attack_results/'"
   ]
  },
  {
   "cell_type": "code",
   "execution_count": null,
   "metadata": {},
   "outputs": [
    {
     "name": "stdout",
     "output_type": "stream",
     "text": [
      "cuda\n",
      "{'ATTACK': True, 'CHECKPOINT': {'SAVE_NAME': 'crnn-bmw_fold2_random', 'SAVE_PATH': '../weights/crnn_bmw', 'SAVE_TOP_K': 1}, 'DATALOADER': {'BATCH_SIZE': 6, 'NUM_WORKERS': 20}, 'DATASET': {'ANNOTATION_PATH': '/nfs/students/winter-term-2020/project-1/datasets/BMW/meta/bmw.csv', 'AUGMENTATION': 'random', 'FOLDER_PATH': '/nfs/students/winter-term-2020/project-1/datasets/Brake_Noise', 'NAME': 'BMW', 'NOISE_PATH': '/nfs/students/winter-term-2020/project-1/MUSAN/free-sound/', 'VAL_FOLD': 2, 'WEIGHT': 'NORMAL'}, 'MODEL': {'CRNN': {'INCLUDE_TOP': True, 'INCLUDE_TRANSFORM': False, 'MIXUP': True, 'RANDOMISED_SMOOTHING': False}, 'NAME': 'LitCRNN', 'NUM_CLASSES': 6}, 'SOLVER': {'ALPHA': 1.7522326562381854, 'GAMMA': 0.5, 'LEARNING_RATE': 0.00021701925536763377, 'LOG_PATH': '../logs/', 'MAX_EPOCH': 150, 'MIN_EPOCH': 10, 'NUM_GPUS': 1, 'SIGMA': 0.25, 'STEP_SIZE': 10, 'WEIGHT_DECAY': 2.9720995669595073e-08}, 'TRANSFORM': {'HOP_LENGTH': 256}}\n",
      "Transformed raw audio into melspectrogram in dataloader.\n",
      "Data augmentation for BMW dataset: none\n",
      "Range of the input data is (-82.704231, 41.936913)\n"
     ]
    },
    {
     "name": "stderr",
     "output_type": "stream",
     "text": [
      "/nfs/homedirs/nikoghos/anaconda3/lib/python3.8/site-packages/foolbox/models/pytorch.py:36: UserWarning: The PyTorch model is in training mode and therefore might not be deterministic. Call the eval() method to set it in evaluation mode if this is not intended.\n",
      "  warnings.warn(\n",
      "Exception ignored in: <function _MultiProcessingDataLoaderIter.__del__ at 0x7fc4dc9b53a0>\n",
      "Traceback (most recent call last):\n",
      "  File \"/nfs/homedirs/nikoghos/anaconda3/lib/python3.8/site-packages/torch/utils/data/dataloader.py\", line 1203, in __del__\n",
      "    self._shutdown_workers()\n",
      "  File \"/nfs/homedirs/nikoghos/anaconda3/lib/python3.8/site-packages/torch/utils/data/dataloader.py\", line 1177, in _shutdown_workers\n",
      "    w.join(timeout=_utils.MP_STATUS_CHECK_INTERVAL)\n",
      "  File \"/nfs/homedirs/nikoghos/anaconda3/lib/python3.8/multiprocessing/process.py\", line 149, in join\n",
      "    res = self._popen.wait(timeout)\n",
      "  File \"/nfs/homedirs/nikoghos/anaconda3/lib/python3.8/multiprocessing/popen_fork.py\", line 44, in wait\n",
      "    if not wait([self.sentinel], timeout):\n",
      "  File \"/nfs/homedirs/nikoghos/anaconda3/lib/python3.8/multiprocessing/connection.py\", line 931, in wait\n",
      "    ready = selector.select(timeout)\n",
      "  File \"/nfs/homedirs/nikoghos/anaconda3/lib/python3.8/selectors.py\", line 415, in select\n",
      "    fd_event_list = self._selector.poll(timeout)\n",
      "KeyboardInterrupt: \n"
     ]
    }
   ],
   "source": [
    "project=\"BMW\"\n",
    "max_rad = 10\n",
    "title = 'bmw_random'\n",
    "config_path = 'logs/crnn-bmw_fold2_random/version_1/hparams.yaml'\n",
    "pretrained_path = 'weights/crnn_bmw/crnn-bmw_fold2_random-epoch=58-val_acc=0.915.ckpt'\n",
    "eps_random, rob_random_inf = attack_model(project_dir, config_path, pretrained_path, title, \n",
    "                                     project=project, attack_type = 'linf', max_radius=max_rad, save_folder=save_folder)"
   ]
  },
  {
   "cell_type": "code",
   "execution_count": 2,
   "metadata": {},
   "outputs": [],
   "source": [
    "rob_random_linf = [0.7333333333333334, 0.6333333333333333, 0.6166666666666667, 0.5333333333333333, 0.5, 0.5, 0.44999999999999996, 0.4666666666666667, 0.44999999999999996, 0.44999999999999996, 0.41666666666666663, 0.4, 0.3666666666666667, 0.4, 0.35, 0.33333333333333337, 0.35, 0.33333333333333337, 0.41666666666666663, 0.3666666666666667]"
   ]
  },
  {
   "cell_type": "code",
   "execution_count": 80,
   "metadata": {},
   "outputs": [],
   "source": [
    "rob_label_sm = [0.8666666666666667, 0.75, 0.7, 0.6166666666666667, 0.6666666666666667, 0.6166666666666667, 0.41666666666666663, 0.44999999999999996, 0.4, 0.33333333333333337, 0.35, 0.44999999999999996, 0.41666666666666663, 0.3833333333333333, 0.2833333333333333, 0.35, 0.44999999999999996, 0.33333333333333337, 0.3833333333333333, 0.30000000000000004]\n"
   ]
  },
  {
   "cell_type": "code",
   "execution_count": null,
   "metadata": {},
   "outputs": [],
   "source": [
    "project=\"BMW\"\n",
    "max_rad = 10\n",
    "title = 'bmw_random'\n",
    "config_path = 'logs/crnn-bmw_fold2_noise/version_0/hparams.yaml'\n",
    "pretrained_path = 'weights/crnn_bmw/crnn-bmw_fold2_noise-epoch=112-val_acc=0.924.ckpt'\n",
    "eps_noise, rob_noise_inf = attack_model(project_dir, config_path, pretrained_path, title, \n",
    "                                     project=project, attack_type = 'linf', max_radius=max_rad, save_folder=save_folder)"
   ]
  },
  {
   "cell_type": "code",
   "execution_count": 66,
   "metadata": {},
   "outputs": [],
   "source": [
    "rob_noise_linf = [0.7, 0.6833333333333333, 0.6333333333333333, 0.65, 0.6333333333333333, 0.6166666666666667, 0.5666666666666667, 0.5333333333333333, 0.5166666666666666, 0.5, 0.5166666666666666, 0.55, 0.4833333333333333, 0.5166666666666666, 0.4666666666666667, 0.5166666666666666, 0.4666666666666667, 0.4666666666666667, 0.43333333333333335, 0.43333333333333335]"
   ]
  },
  {
   "cell_type": "code",
   "execution_count": 67,
   "metadata": {},
   "outputs": [
    {
     "name": "stdout",
     "output_type": "stream",
     "text": [
      "cuda\n",
      "{'ATTACK': True, 'CHECKPOINT': {'SAVE_NAME': 'crnn-bmw', 'SAVE_PATH': '../weights/bmw_final_fold2_baseline', 'SAVE_TOP_K': 1}, 'DATALOADER': {'BATCH_SIZE': 8, 'NUM_WORKERS': 20}, 'DATASET': {'ANNOTATION_PATH': '/nfs/students/winter-term-2020/project-1/datasets/BMW/meta/bmw.csv', 'AUGMENTATION': 'none', 'FOLDER_PATH': '/nfs/students/winter-term-2020/project-1/datasets/Brake_Noise', 'NAME': 'BMW', 'NOISE_PATH': '/nfs/students/winter-term-2020/project-1/MUSAN/free-sound/', 'VAL_FOLD': 2, 'WEIGHT': 'NORMAL'}, 'MODEL': {'CRNN': {'INCLUDE_TOP': True, 'INCLUDE_TRANSFORM': False, 'MIXUP': True, 'RANDOMISED_SMOOTHING': False}, 'NAME': 'LitCRNN', 'NUM_CLASSES': 6}, 'SOLVER': {'ALPHA': 1.7522326562381854, 'GAMMA': 0.5, 'LEARNING_RATE': 0.00021701925536763377, 'LOG_PATH': '../logs/', 'MAX_EPOCH': 150, 'MIN_EPOCH': 10, 'NUM_GPUS': 1, 'SIGMA': 0.25, 'STEP_SIZE': 10, 'WEIGHT_DECAY': 2.9720995669595073e-08}, 'TRANSFORM': {'HOP_LENGTH': 256}}\n",
      "Transformed raw audio into melspectrogram in dataloader.\n",
      "Data augmentation for BMW dataset: none\n"
     ]
    },
    {
     "ename": "KeyboardInterrupt",
     "evalue": "",
     "output_type": "error",
     "traceback": [
      "\u001b[0;31m---------------------------------------------------------------------------\u001b[0m",
      "\u001b[0;31mKeyboardInterrupt\u001b[0m                         Traceback (most recent call last)",
      "\u001b[0;32m<ipython-input-67-12cef41c2f20>\u001b[0m in \u001b[0;36m<module>\u001b[0;34m\u001b[0m\n\u001b[1;32m      4\u001b[0m \u001b[0mconfig_path\u001b[0m \u001b[0;34m=\u001b[0m \u001b[0;34m'logs/crnn-bmw/version_26/hparams.yaml'\u001b[0m\u001b[0;34m\u001b[0m\u001b[0;34m\u001b[0m\u001b[0m\n\u001b[1;32m      5\u001b[0m \u001b[0mpretrained_path\u001b[0m \u001b[0;34m=\u001b[0m \u001b[0;34m'weights/bmw_final_fold2_baseline/crnn-bmw-epoch=128-val_acc=0.951.ckpt'\u001b[0m\u001b[0;34m\u001b[0m\u001b[0;34m\u001b[0m\u001b[0m\n\u001b[0;32m----> 6\u001b[0;31m eps_baseline, rob_baseline_inf = attack_model(project_dir, config_path, pretrained_path, title, \n\u001b[0m\u001b[1;32m      7\u001b[0m                                      project=project, attack_type = 'linf', max_radius=max_rad, save_folder=save_folder)\n",
      "\u001b[0;32m~/project-1/audio_classification/tools/foolbox_attack.py\u001b[0m in \u001b[0;36mattack_model\u001b[0;34m(project_dir, config_path, pretrained_path, title, project, attack_type, max_radius, save_folder)\u001b[0m\n\u001b[1;32m    127\u001b[0m     \u001b[0mlower_bounds\u001b[0m \u001b[0;34m=\u001b[0m \u001b[0;34m[\u001b[0m\u001b[0;34m]\u001b[0m\u001b[0;34m\u001b[0m\u001b[0;34m\u001b[0m\u001b[0m\n\u001b[1;32m    128\u001b[0m     \u001b[0mupper_bounds\u001b[0m \u001b[0;34m=\u001b[0m \u001b[0;34m[\u001b[0m\u001b[0;34m]\u001b[0m\u001b[0;34m\u001b[0m\u001b[0;34m\u001b[0m\u001b[0m\n\u001b[0;32m--> 129\u001b[0;31m     \u001b[0;32mfor\u001b[0m \u001b[0mstep\u001b[0m\u001b[0;34m,\u001b[0m \u001b[0;34m(\u001b[0m\u001b[0mx\u001b[0m\u001b[0;34m,\u001b[0m \u001b[0my\u001b[0m\u001b[0;34m,\u001b[0m \u001b[0mseq_lens\u001b[0m\u001b[0;34m)\u001b[0m \u001b[0;32min\u001b[0m \u001b[0menumerate\u001b[0m\u001b[0;34m(\u001b[0m\u001b[0mval_loader\u001b[0m\u001b[0;34m)\u001b[0m\u001b[0;34m:\u001b[0m\u001b[0;34m\u001b[0m\u001b[0;34m\u001b[0m\u001b[0m\n\u001b[0m\u001b[1;32m    130\u001b[0m         \u001b[0mupper_bounds\u001b[0m\u001b[0;34m.\u001b[0m\u001b[0mappend\u001b[0m\u001b[0;34m(\u001b[0m\u001b[0mtorch\u001b[0m\u001b[0;34m.\u001b[0m\u001b[0mmax\u001b[0m\u001b[0;34m(\u001b[0m\u001b[0mx\u001b[0m\u001b[0;34m)\u001b[0m\u001b[0;34m)\u001b[0m\u001b[0;34m\u001b[0m\u001b[0;34m\u001b[0m\u001b[0m\n\u001b[1;32m    131\u001b[0m         \u001b[0mlower_bounds\u001b[0m\u001b[0;34m.\u001b[0m\u001b[0mappend\u001b[0m\u001b[0;34m(\u001b[0m\u001b[0mtorch\u001b[0m\u001b[0;34m.\u001b[0m\u001b[0mmin\u001b[0m\u001b[0;34m(\u001b[0m\u001b[0mx\u001b[0m\u001b[0;34m)\u001b[0m\u001b[0;34m)\u001b[0m\u001b[0;34m\u001b[0m\u001b[0;34m\u001b[0m\u001b[0m\n",
      "\u001b[0;32m~/anaconda3/lib/python3.8/site-packages/torch/utils/data/dataloader.py\u001b[0m in \u001b[0;36m__next__\u001b[0;34m(self)\u001b[0m\n\u001b[1;32m    433\u001b[0m         \u001b[0;32mif\u001b[0m \u001b[0mself\u001b[0m\u001b[0;34m.\u001b[0m\u001b[0m_sampler_iter\u001b[0m \u001b[0;32mis\u001b[0m \u001b[0;32mNone\u001b[0m\u001b[0;34m:\u001b[0m\u001b[0;34m\u001b[0m\u001b[0;34m\u001b[0m\u001b[0m\n\u001b[1;32m    434\u001b[0m             \u001b[0mself\u001b[0m\u001b[0;34m.\u001b[0m\u001b[0m_reset\u001b[0m\u001b[0;34m(\u001b[0m\u001b[0;34m)\u001b[0m\u001b[0;34m\u001b[0m\u001b[0;34m\u001b[0m\u001b[0m\n\u001b[0;32m--> 435\u001b[0;31m         \u001b[0mdata\u001b[0m \u001b[0;34m=\u001b[0m \u001b[0mself\u001b[0m\u001b[0;34m.\u001b[0m\u001b[0m_next_data\u001b[0m\u001b[0;34m(\u001b[0m\u001b[0;34m)\u001b[0m\u001b[0;34m\u001b[0m\u001b[0;34m\u001b[0m\u001b[0m\n\u001b[0m\u001b[1;32m    436\u001b[0m         \u001b[0mself\u001b[0m\u001b[0;34m.\u001b[0m\u001b[0m_num_yielded\u001b[0m \u001b[0;34m+=\u001b[0m \u001b[0;36m1\u001b[0m\u001b[0;34m\u001b[0m\u001b[0;34m\u001b[0m\u001b[0m\n\u001b[1;32m    437\u001b[0m         \u001b[0;32mif\u001b[0m \u001b[0mself\u001b[0m\u001b[0;34m.\u001b[0m\u001b[0m_dataset_kind\u001b[0m \u001b[0;34m==\u001b[0m \u001b[0m_DatasetKind\u001b[0m\u001b[0;34m.\u001b[0m\u001b[0mIterable\u001b[0m \u001b[0;32mand\u001b[0m\u001b[0;31m \u001b[0m\u001b[0;31m\\\u001b[0m\u001b[0;34m\u001b[0m\u001b[0;34m\u001b[0m\u001b[0m\n",
      "\u001b[0;32m~/anaconda3/lib/python3.8/site-packages/torch/utils/data/dataloader.py\u001b[0m in \u001b[0;36m_next_data\u001b[0;34m(self)\u001b[0m\n\u001b[1;32m   1066\u001b[0m \u001b[0;34m\u001b[0m\u001b[0m\n\u001b[1;32m   1067\u001b[0m             \u001b[0;32massert\u001b[0m \u001b[0;32mnot\u001b[0m \u001b[0mself\u001b[0m\u001b[0;34m.\u001b[0m\u001b[0m_shutdown\u001b[0m \u001b[0;32mand\u001b[0m \u001b[0mself\u001b[0m\u001b[0;34m.\u001b[0m\u001b[0m_tasks_outstanding\u001b[0m \u001b[0;34m>\u001b[0m \u001b[0;36m0\u001b[0m\u001b[0;34m\u001b[0m\u001b[0;34m\u001b[0m\u001b[0m\n\u001b[0;32m-> 1068\u001b[0;31m             \u001b[0midx\u001b[0m\u001b[0;34m,\u001b[0m \u001b[0mdata\u001b[0m \u001b[0;34m=\u001b[0m \u001b[0mself\u001b[0m\u001b[0;34m.\u001b[0m\u001b[0m_get_data\u001b[0m\u001b[0;34m(\u001b[0m\u001b[0;34m)\u001b[0m\u001b[0;34m\u001b[0m\u001b[0;34m\u001b[0m\u001b[0m\n\u001b[0m\u001b[1;32m   1069\u001b[0m             \u001b[0mself\u001b[0m\u001b[0;34m.\u001b[0m\u001b[0m_tasks_outstanding\u001b[0m \u001b[0;34m-=\u001b[0m \u001b[0;36m1\u001b[0m\u001b[0;34m\u001b[0m\u001b[0;34m\u001b[0m\u001b[0m\n\u001b[1;32m   1070\u001b[0m             \u001b[0;32mif\u001b[0m \u001b[0mself\u001b[0m\u001b[0;34m.\u001b[0m\u001b[0m_dataset_kind\u001b[0m \u001b[0;34m==\u001b[0m \u001b[0m_DatasetKind\u001b[0m\u001b[0;34m.\u001b[0m\u001b[0mIterable\u001b[0m\u001b[0;34m:\u001b[0m\u001b[0;34m\u001b[0m\u001b[0;34m\u001b[0m\u001b[0m\n",
      "\u001b[0;32m~/anaconda3/lib/python3.8/site-packages/torch/utils/data/dataloader.py\u001b[0m in \u001b[0;36m_get_data\u001b[0;34m(self)\u001b[0m\n\u001b[1;32m   1022\u001b[0m         \u001b[0;32melif\u001b[0m \u001b[0mself\u001b[0m\u001b[0;34m.\u001b[0m\u001b[0m_pin_memory\u001b[0m\u001b[0;34m:\u001b[0m\u001b[0;34m\u001b[0m\u001b[0;34m\u001b[0m\u001b[0m\n\u001b[1;32m   1023\u001b[0m             \u001b[0;32mwhile\u001b[0m \u001b[0mself\u001b[0m\u001b[0;34m.\u001b[0m\u001b[0m_pin_memory_thread\u001b[0m\u001b[0;34m.\u001b[0m\u001b[0mis_alive\u001b[0m\u001b[0;34m(\u001b[0m\u001b[0;34m)\u001b[0m\u001b[0;34m:\u001b[0m\u001b[0;34m\u001b[0m\u001b[0;34m\u001b[0m\u001b[0m\n\u001b[0;32m-> 1024\u001b[0;31m                 \u001b[0msuccess\u001b[0m\u001b[0;34m,\u001b[0m \u001b[0mdata\u001b[0m \u001b[0;34m=\u001b[0m \u001b[0mself\u001b[0m\u001b[0;34m.\u001b[0m\u001b[0m_try_get_data\u001b[0m\u001b[0;34m(\u001b[0m\u001b[0;34m)\u001b[0m\u001b[0;34m\u001b[0m\u001b[0;34m\u001b[0m\u001b[0m\n\u001b[0m\u001b[1;32m   1025\u001b[0m                 \u001b[0;32mif\u001b[0m \u001b[0msuccess\u001b[0m\u001b[0;34m:\u001b[0m\u001b[0;34m\u001b[0m\u001b[0;34m\u001b[0m\u001b[0m\n\u001b[1;32m   1026\u001b[0m                     \u001b[0;32mreturn\u001b[0m \u001b[0mdata\u001b[0m\u001b[0;34m\u001b[0m\u001b[0;34m\u001b[0m\u001b[0m\n",
      "\u001b[0;32m~/anaconda3/lib/python3.8/site-packages/torch/utils/data/dataloader.py\u001b[0m in \u001b[0;36m_try_get_data\u001b[0;34m(self, timeout)\u001b[0m\n\u001b[1;32m    870\u001b[0m         \u001b[0;31m#   (bool: whether successfully get data, any: data if successful else None)\u001b[0m\u001b[0;34m\u001b[0m\u001b[0;34m\u001b[0m\u001b[0;34m\u001b[0m\u001b[0m\n\u001b[1;32m    871\u001b[0m         \u001b[0;32mtry\u001b[0m\u001b[0;34m:\u001b[0m\u001b[0;34m\u001b[0m\u001b[0;34m\u001b[0m\u001b[0m\n\u001b[0;32m--> 872\u001b[0;31m             \u001b[0mdata\u001b[0m \u001b[0;34m=\u001b[0m \u001b[0mself\u001b[0m\u001b[0;34m.\u001b[0m\u001b[0m_data_queue\u001b[0m\u001b[0;34m.\u001b[0m\u001b[0mget\u001b[0m\u001b[0;34m(\u001b[0m\u001b[0mtimeout\u001b[0m\u001b[0;34m=\u001b[0m\u001b[0mtimeout\u001b[0m\u001b[0;34m)\u001b[0m\u001b[0;34m\u001b[0m\u001b[0;34m\u001b[0m\u001b[0m\n\u001b[0m\u001b[1;32m    873\u001b[0m             \u001b[0;32mreturn\u001b[0m \u001b[0;34m(\u001b[0m\u001b[0;32mTrue\u001b[0m\u001b[0;34m,\u001b[0m \u001b[0mdata\u001b[0m\u001b[0;34m)\u001b[0m\u001b[0;34m\u001b[0m\u001b[0;34m\u001b[0m\u001b[0m\n\u001b[1;32m    874\u001b[0m         \u001b[0;32mexcept\u001b[0m \u001b[0mException\u001b[0m \u001b[0;32mas\u001b[0m \u001b[0me\u001b[0m\u001b[0;34m:\u001b[0m\u001b[0;34m\u001b[0m\u001b[0;34m\u001b[0m\u001b[0m\n",
      "\u001b[0;32m~/anaconda3/lib/python3.8/queue.py\u001b[0m in \u001b[0;36mget\u001b[0;34m(self, block, timeout)\u001b[0m\n\u001b[1;32m    177\u001b[0m                     \u001b[0;32mif\u001b[0m \u001b[0mremaining\u001b[0m \u001b[0;34m<=\u001b[0m \u001b[0;36m0.0\u001b[0m\u001b[0;34m:\u001b[0m\u001b[0;34m\u001b[0m\u001b[0;34m\u001b[0m\u001b[0m\n\u001b[1;32m    178\u001b[0m                         \u001b[0;32mraise\u001b[0m \u001b[0mEmpty\u001b[0m\u001b[0;34m\u001b[0m\u001b[0;34m\u001b[0m\u001b[0m\n\u001b[0;32m--> 179\u001b[0;31m                     \u001b[0mself\u001b[0m\u001b[0;34m.\u001b[0m\u001b[0mnot_empty\u001b[0m\u001b[0;34m.\u001b[0m\u001b[0mwait\u001b[0m\u001b[0;34m(\u001b[0m\u001b[0mremaining\u001b[0m\u001b[0;34m)\u001b[0m\u001b[0;34m\u001b[0m\u001b[0;34m\u001b[0m\u001b[0m\n\u001b[0m\u001b[1;32m    180\u001b[0m             \u001b[0mitem\u001b[0m \u001b[0;34m=\u001b[0m \u001b[0mself\u001b[0m\u001b[0;34m.\u001b[0m\u001b[0m_get\u001b[0m\u001b[0;34m(\u001b[0m\u001b[0;34m)\u001b[0m\u001b[0;34m\u001b[0m\u001b[0;34m\u001b[0m\u001b[0m\n\u001b[1;32m    181\u001b[0m             \u001b[0mself\u001b[0m\u001b[0;34m.\u001b[0m\u001b[0mnot_full\u001b[0m\u001b[0;34m.\u001b[0m\u001b[0mnotify\u001b[0m\u001b[0;34m(\u001b[0m\u001b[0;34m)\u001b[0m\u001b[0;34m\u001b[0m\u001b[0;34m\u001b[0m\u001b[0m\n",
      "\u001b[0;32m~/anaconda3/lib/python3.8/threading.py\u001b[0m in \u001b[0;36mwait\u001b[0;34m(self, timeout)\u001b[0m\n\u001b[1;32m    304\u001b[0m             \u001b[0;32melse\u001b[0m\u001b[0;34m:\u001b[0m\u001b[0;34m\u001b[0m\u001b[0;34m\u001b[0m\u001b[0m\n\u001b[1;32m    305\u001b[0m                 \u001b[0;32mif\u001b[0m \u001b[0mtimeout\u001b[0m \u001b[0;34m>\u001b[0m \u001b[0;36m0\u001b[0m\u001b[0;34m:\u001b[0m\u001b[0;34m\u001b[0m\u001b[0;34m\u001b[0m\u001b[0m\n\u001b[0;32m--> 306\u001b[0;31m                     \u001b[0mgotit\u001b[0m \u001b[0;34m=\u001b[0m \u001b[0mwaiter\u001b[0m\u001b[0;34m.\u001b[0m\u001b[0macquire\u001b[0m\u001b[0;34m(\u001b[0m\u001b[0;32mTrue\u001b[0m\u001b[0;34m,\u001b[0m \u001b[0mtimeout\u001b[0m\u001b[0;34m)\u001b[0m\u001b[0;34m\u001b[0m\u001b[0;34m\u001b[0m\u001b[0m\n\u001b[0m\u001b[1;32m    307\u001b[0m                 \u001b[0;32melse\u001b[0m\u001b[0;34m:\u001b[0m\u001b[0;34m\u001b[0m\u001b[0;34m\u001b[0m\u001b[0m\n\u001b[1;32m    308\u001b[0m                     \u001b[0mgotit\u001b[0m \u001b[0;34m=\u001b[0m \u001b[0mwaiter\u001b[0m\u001b[0;34m.\u001b[0m\u001b[0macquire\u001b[0m\u001b[0;34m(\u001b[0m\u001b[0;32mFalse\u001b[0m\u001b[0;34m)\u001b[0m\u001b[0;34m\u001b[0m\u001b[0;34m\u001b[0m\u001b[0m\n",
      "\u001b[0;31mKeyboardInterrupt\u001b[0m: "
     ]
    }
   ],
   "source": [
    "project=\"BMW\"\n",
    "max_rad = 10\n",
    "title = 'bmw_gaussian'\n",
    "config_path = 'logs/crnn-bmw/version_26/hparams.yaml'\n",
    "pretrained_path = 'weights/bmw_final_fold2_baseline/crnn-bmw-epoch=128-val_acc=0.951.ckpt'\n",
    "eps_baseline, rob_baseline_inf = attack_model(project_dir, config_path, pretrained_path, title, \n",
    "                                     project=project, attack_type = 'linf', max_radius=max_rad, save_folder=save_folder)"
   ]
  },
  {
   "cell_type": "code",
   "execution_count": 75,
   "metadata": {},
   "outputs": [],
   "source": [
    "rob_mixup_linf = [0.85, 0.7166666666666667, 0.65, 0.5833333333333333, 0.5333333333333333, 0.55, 0.55, 0.5333333333333333, 0.4833333333333333, 0.4666666666666667, 0.43333333333333335, 0.44999999999999996, 0.41666666666666663, 0.3833333333333333, 0.44999999999999996, 0.41666666666666663, 0.3833333333333333, 0.4, 0.3666666666666667, 0.3833333333333333]"
   ]
  },
  {
   "cell_type": "code",
   "execution_count": 28,
   "metadata": {},
   "outputs": [
    {
     "name": "stdout",
     "output_type": "stream",
     "text": [
      "{'ATTACK': True, 'CHECKPOINT': {'SAVE_NAME': 'crnn-bmw_fold4_uniform', 'SAVE_PATH': '../weights/crnn_bmw', 'SAVE_TOP_K': 1}, 'DATALOADER': {'BATCH_SIZE': 3, 'NUM_WORKERS': 20}, 'DATASET': {'ANNOTATION_PATH': '/nfs/students/winter-term-2020/project-1/datasets/BMW/meta/bmw.csv', 'AUGMENTATION': 'uniform', 'FOLDER_PATH': '/nfs/students/winter-term-2020/project-1/datasets/Brake_Noise', 'NAME': 'BMW', 'NOISE_PATH': '/nfs/students/winter-term-2020/project-1/MUSAN/free-sound/', 'VAL_FOLD': 2, 'WEIGHT': 'NORMAL'}, 'MODEL': {'CRNN': {'INCLUDE_TOP': True, 'INCLUDE_TRANSFORM': False, 'MIXUP': True, 'RANDOMISED_SMOOTHING': False}, 'NAME': 'LitCRNN', 'NUM_CLASSES': 6}, 'SOLVER': {'ALPHA': 1.7522326562381854, 'GAMMA': 0.5, 'LEARNING_RATE': 0.00021701925536763377, 'LOG_PATH': '../logs/fold4_uniform', 'MAX_EPOCH': 150, 'MIN_EPOCH': 10, 'NUM_GPUS': 1, 'SIGMA': 0.25, 'STEP_SIZE': 10, 'WEIGHT_DECAY': 2.9720995669595073e-08}, 'TRANSFORM': {'HOP_LENGTH': 256}}\n",
      "Transformed raw audio into melspectrogram in dataloader.\n",
      "Data augmentation for BMW dataset: none\n",
      "Range of the input data is (-82.704231, 41.936913)\n"
     ]
    },
    {
     "name": "stderr",
     "output_type": "stream",
     "text": [
      "/nfs/homedirs/nikoghos/anaconda3/lib/python3.8/site-packages/foolbox/models/pytorch.py:36: UserWarning: The PyTorch model is in training mode and therefore might not be deterministic. Call the eval() method to set it in evaluation mode if this is not intended.\n",
      "  warnings.warn(\n"
     ]
    },
    {
     "name": "stdout",
     "output_type": "stream",
     "text": [
      "Generated attacks in 83.18 seconds\n",
      "[0.7333333333333334, 0.6666666666666667, 0.5166666666666666, 0.44999999999999996, 0.44999999999999996, 0.43333333333333335, 0.44999999999999996, 0.3666666666666667, 0.3833333333333333, 0.3666666666666667, 0.33333333333333337, 0.33333333333333337, 0.3833333333333333, 0.30000000000000004, 0.33333333333333337, 0.30000000000000004, 0.33333333333333337, 0.30000000000000004, 0.30000000000000004, 0.33333333333333337]\n"
     ]
    }
   ],
   "source": [
    "project=\"BMW\"\n",
    "max_rad = 10\n",
    "title = 'bmw_uniform'\n",
    "config_path = 'logs/fold4_uniform/crnn-bmw_fold4_uniform/version_0/hparams.yaml'\n",
    "pretrained_path = 'weights/crnn_bmw/crnn-bmw_fold4_uniform-epoch=31-val_acc=0.957.ckpt'\n",
    "_, rob_uniform_linf = attack_model(project_dir, config_path, pretrained_path, title, \n",
    "                                     project=project, attack_type = 'linf', max_radius=max_rad, save_folder=save_folder)"
   ]
  },
  {
   "cell_type": "code",
   "execution_count": 8,
   "metadata": {},
   "outputs": [],
   "source": [
    "rob_uniform_linf = [0.7333333333333334, 0.6666666666666667, 0.5166666666666666, 0.44999999999999996, 0.44999999999999996, 0.43333333333333335, 0.44999999999999996, 0.3666666666666667, 0.3833333333333333, 0.3666666666666667, 0.33333333333333337, 0.33333333333333337, 0.3833333333333333, 0.30000000000000004, 0.33333333333333337, 0.30000000000000004, 0.33333333333333337, 0.30000000000000004, 0.30000000000000004, 0.33333333333333337]"
   ]
  },
  {
   "cell_type": "code",
   "execution_count": 32,
   "metadata": {},
   "outputs": [
    {
     "name": "stdout",
     "output_type": "stream",
     "text": [
      "{'ATTACK': True, 'CHECKPOINT': {'SAVE_NAME': 'crnn-bmw_fold2_gaussian', 'SAVE_PATH': '../weights/crnn_bmw', 'SAVE_TOP_K': 1}, 'DATALOADER': {'BATCH_SIZE': 4, 'NUM_WORKERS': 20}, 'DATASET': {'ANNOTATION_PATH': '/nfs/students/winter-term-2020/project-1/datasets/BMW/meta/bmw.csv', 'AUGMENTATION': 'gaussian', 'FOLDER_PATH': '/nfs/students/winter-term-2020/project-1/datasets/Brake_Noise', 'NAME': 'BMW', 'NOISE_PATH': '/nfs/students/winter-term-2020/project-1/MUSAN/free-sound/', 'VAL_FOLD': 2, 'WEIGHT': 'NORMAL'}, 'MODEL': {'CRNN': {'INCLUDE_TOP': True, 'INCLUDE_TRANSFORM': False, 'MIXUP': True, 'RANDOMISED_SMOOTHING': False}, 'NAME': 'LitCRNN', 'NUM_CLASSES': 6}, 'SOLVER': {'ALPHA': 1.7522326562381854, 'GAMMA': 0.5, 'LEARNING_RATE': 0.00021701925536763377, 'LOG_PATH': '../logs/fold2_gaussian', 'MAX_EPOCH': 150, 'MIN_EPOCH': 10, 'NUM_GPUS': 1, 'SIGMA': 0.25, 'STEP_SIZE': 10, 'WEIGHT_DECAY': 2.9720995669595073e-08}, 'TRANSFORM': {'HOP_LENGTH': 256}}\n",
      "Transformed raw audio into melspectrogram in dataloader.\n",
      "Data augmentation for BMW dataset: none\n",
      "Range of the input data is (-82.704231, 41.936913)\n"
     ]
    },
    {
     "name": "stderr",
     "output_type": "stream",
     "text": [
      "/nfs/homedirs/nikoghos/anaconda3/lib/python3.8/site-packages/foolbox/models/pytorch.py:36: UserWarning: The PyTorch model is in training mode and therefore might not be deterministic. Call the eval() method to set it in evaluation mode if this is not intended.\n",
      "  warnings.warn(\n"
     ]
    },
    {
     "name": "stdout",
     "output_type": "stream",
     "text": [
      "Generated attacks in 83.94 seconds\n",
      "[0.7, 0.5666666666666667, 0.4666666666666667, 0.4, 0.35, 0.3833333333333333, 0.3666666666666667, 0.35, 0.33333333333333337, 0.35, 0.35, 0.30000000000000004, 0.33333333333333337, 0.2833333333333333, 0.35, 0.35, 0.31666666666666665, 0.31666666666666665, 0.30000000000000004, 0.30000000000000004]\n"
     ]
    }
   ],
   "source": [
    "project=\"BMW\"\n",
    "max_rad = 10\n",
    "title = 'bmw_gaussian'\n",
    "config_path = 'logs/fold2_gaussian/crnn-bmw_fold2_gaussian/version_0/hparams.yaml'\n",
    "pretrained_path = 'weights/crnn_bmw/crnn-bmw_fold2_gaussian-epoch=38-val_acc=0.925.ckpt'\n",
    "_, rob_gaussian_linf = attack_model(project_dir, config_path, pretrained_path, title, \n",
    "                                     project=project, attack_type = 'linf', max_radius=max_rad, save_folder=save_folder)"
   ]
  },
  {
   "cell_type": "code",
   "execution_count": 9,
   "metadata": {},
   "outputs": [],
   "source": [
    "rob_gaussian_linf = [0.7, 0.5666666666666667, 0.4666666666666667, 0.4, 0.35, 0.3833333333333333, 0.3666666666666667, 0.35, 0.33333333333333337, 0.35, 0.35, 0.30000000000000004, 0.33333333333333337, 0.2833333333333333, 0.35, 0.35, 0.31666666666666665, 0.31666666666666665, 0.30000000000000004, 0.30000000000000004]"
   ]
  },
  {
   "cell_type": "code",
   "execution_count": 77,
   "metadata": {},
   "outputs": [],
   "source": [
    "rob_baseline_linf = [0.8666666666666667, 0.75, 0.6333333333333333, 0.5333333333333333, 0.44999999999999996, 0.4, 0.41666666666666663, 0.3666666666666667, 0.33333333333333337, 0.33333333333333337, 0.4666666666666667, 0.3833333333333333, 0.41666666666666663, 0.3833333333333333, 0.2833333333333333, 0.3666666666666667, 0.43333333333333335, 0.33333333333333337, 0.30000000000000004, 0.31666666666666665]\n"
   ]
  },
  {
   "cell_type": "code",
   "execution_count": 78,
   "metadata": {},
   "outputs": [],
   "source": [
    "rob_adv_linf = [0.9166666666666666, 0.7166666666666667, 0.4833333333333333, 0.3833333333333333, 0.3833333333333333, 0.4, 0.3833333333333333, 0.3833333333333333, 0.3833333333333333, 0.3833333333333333, 0.4, 0.41666666666666663, 0.4, 0.4, 0.4, 0.4, 0.4, 0.4, 0.4, 0.4]\n"
   ]
  },
  {
   "cell_type": "code",
   "execution_count": 61,
   "metadata": {},
   "outputs": [],
   "source": [
    "import numpy as np\n",
    "eps_linf = np.linspace(0.0, 10, 20)"
   ]
  },
  {
   "cell_type": "code",
   "execution_count": 81,
   "metadata": {},
   "outputs": [
    {
     "data": {
      "image/png": "[encoded data removed]",
      "text/plain": [
       "<Figure size 432x288 with 1 Axes>"
      ]
     },
     "metadata": {
      "needs_background": "light"
     },
     "output_type": "display_data"
    }
   ],
   "source": [
    "plt.title(\"L-inf Fast Gradient Attack\")\n",
    "plt.xlabel(\"attack radius\")\n",
    "plt.ylabel(\"robust accuracy\")\n",
    "plt.ylim(0, 1.0)\n",
    "plt.plot(eps_linf, rob_baseline_linf)\n",
    "plt.plot(eps_linf, rob_mixup_linf)\n",
    "plt.plot(eps_linf, rob_label_sm)\n",
    "plt.plot(eps_linf, rob_adv_linf)\n",
    "\n",
    "\n",
    "plt.legend([\"Baseline\", \"Mixup\", \"Label Smoothing\" , \"SmoothADV\"])\n",
    "plt.savefig('filename.png', dpi=450)\n",
    "plt.show()\n"
   ]
  },
  {
   "cell_type": "code",
   "execution_count": 16,
   "metadata": {},
   "outputs": [
    {
     "name": "stdout",
     "output_type": "stream",
     "text": [
      "{'ATTACK': True, 'CHECKPOINT': {'SAVE_NAME': 'crnn-bmw_fold2_noise', 'SAVE_PATH': '../weights/crnn_bmw', 'SAVE_TOP_K': 1}, 'DATALOADER': {'BATCH_SIZE': 8, 'NUM_WORKERS': 20}, 'DATASET': {'ANNOTATION_PATH': '/nfs/students/winter-term-2020/project-1/datasets/BMW/meta/bmw.csv', 'AUGMENTATION': 'noise', 'FOLDER_PATH': '/nfs/students/winter-term-2020/project-1/datasets/Brake_Noise', 'NAME': 'BMW', 'NOISE_PATH': '/nfs/students/winter-term-2020/project-1/MUSAN/free-sound/', 'VAL_FOLD': 2, 'WEIGHT': 'NORMAL'}, 'MODEL': {'CRNN': {'INCLUDE_TOP': True, 'INCLUDE_TRANSFORM': False, 'MIXUP': True, 'RANDOMISED_SMOOTHING': False}, 'NAME': 'LitCRNN', 'NUM_CLASSES': 6}, 'SOLVER': {'ALPHA': 1.7522326562381854, 'GAMMA': 0.5, 'LEARNING_RATE': 0.00021701925536763377, 'LOG_PATH': '../logs/', 'MAX_EPOCH': 150, 'MIN_EPOCH': 10, 'NUM_GPUS': 1, 'SIGMA': 0.25, 'STEP_SIZE': 10, 'WEIGHT_DECAY': 2.9720995669595073e-08}, 'TRANSFORM': {'HOP_LENGTH': 256}}\n",
      "Transformed raw audio into melspectrogram in dataloader.\n",
      "Data augmentation for BMW dataset: none\n",
      "Range of the input data is (-82.704231, 41.936913)\n"
     ]
    },
    {
     "name": "stderr",
     "output_type": "stream",
     "text": [
      "/nfs/homedirs/nikoghos/anaconda3/lib/python3.8/site-packages/foolbox/models/pytorch.py:36: UserWarning: The PyTorch model is in training mode and therefore might not be deterministic. Call the eval() method to set it in evaluation mode if this is not intended.\n",
      "  warnings.warn(\n"
     ]
    },
    {
     "name": "stdout",
     "output_type": "stream",
     "text": [
      "Generated attacks in 206.74 seconds\n",
      "[0.7166666666666667, 0.7666666666666666, 0.75, 0.75, 0.7666666666666666, 0.6666666666666667, 0.7, 0.7, 0.7166666666666667, 0.7166666666666667, 0.7333333333333334, 0.6666666666666667, 0.7833333333333333, 0.6833333333333333, 0.7166666666666667, 0.6666666666666667, 0.6833333333333333, 0.6833333333333333, 0.7333333333333334, 0.7333333333333334, 0.6666666666666667, 0.7, 0.6666666666666667, 0.65, 0.6666666666666667, 0.7166666666666667, 0.65, 0.7, 0.65, 0.65, 0.7, 0.6166666666666667, 0.6833333333333333, 0.6833333333333333, 0.65, 0.6166666666666667, 0.6666666666666667, 0.6, 0.65, 0.6, 0.6333333333333333, 0.65, 0.6166666666666667, 0.65, 0.6666666666666667, 0.6166666666666667, 0.6666666666666667, 0.6833333333333333, 0.6666666666666667, 0.6666666666666667]\n"
     ]
    }
   ],
   "source": [
    "project=\"BMW\"\n",
    "max_rad = 250\n",
    "title = 'bmw_noise'\n",
    "config_path = 'logs/crnn-bmw_fold2_noise/version_0/hparams.yaml'\n",
    "pretrained_path = 'weights/crnn_bmw/crnn-bmw_fold2_noise-epoch=112-val_acc=0.924.ckpt'\n",
    "eps_noise, rob_noise = attack_model(project_dir, config_path, pretrained_path, title, \n",
    "                                     project=project, attack_type = 'l2', max_radius=max_rad, save_folder=save_folder)"
   ]
  },
  {
   "cell_type": "code",
   "execution_count": 69,
   "metadata": {},
   "outputs": [],
   "source": [
    "rob_noise = [0.7166666666666667, 0.7666666666666666, 0.75, 0.75, 0.7666666666666666, 0.6666666666666667, 0.7, 0.7, 0.7166666666666667, 0.7166666666666667, 0.7333333333333334, 0.6666666666666667, 0.7833333333333333, 0.6833333333333333, 0.7166666666666667, 0.6666666666666667, 0.6833333333333333, 0.6833333333333333, 0.7333333333333334, 0.7333333333333334, 0.6666666666666667, 0.7, 0.6666666666666667, 0.65, 0.6666666666666667, 0.7166666666666667, 0.65, 0.7, 0.65, 0.65, 0.7, 0.6166666666666667, 0.6833333333333333, 0.6833333333333333, 0.65, 0.6166666666666667, 0.6666666666666667, 0.6, 0.65, 0.6, 0.6333333333333333, 0.65, 0.6166666666666667, 0.65, 0.6666666666666667, 0.6166666666666667, 0.6666666666666667, 0.6833333333333333, 0.6666666666666667, 0.6666666666666667]"
   ]
  },
  {
   "cell_type": "code",
   "execution_count": 19,
   "metadata": {},
   "outputs": [
    {
     "name": "stdout",
     "output_type": "stream",
     "text": [
      "{'ATTACK': True, 'CHECKPOINT': {'SAVE_NAME': 'crnn-bmw_fold2_random', 'SAVE_PATH': '../weights/crnn_bmw', 'SAVE_TOP_K': 1}, 'DATALOADER': {'BATCH_SIZE': 6, 'NUM_WORKERS': 20}, 'DATASET': {'ANNOTATION_PATH': '/nfs/students/winter-term-2020/project-1/datasets/BMW/meta/bmw.csv', 'AUGMENTATION': 'random', 'FOLDER_PATH': '/nfs/students/winter-term-2020/project-1/datasets/Brake_Noise', 'NAME': 'BMW', 'NOISE_PATH': '/nfs/students/winter-term-2020/project-1/MUSAN/free-sound/', 'VAL_FOLD': 2, 'WEIGHT': 'NORMAL'}, 'MODEL': {'CRNN': {'INCLUDE_TOP': True, 'INCLUDE_TRANSFORM': False, 'MIXUP': True, 'RANDOMISED_SMOOTHING': False}, 'NAME': 'LitCRNN', 'NUM_CLASSES': 6}, 'SOLVER': {'ALPHA': 1.7522326562381854, 'GAMMA': 0.5, 'LEARNING_RATE': 0.00021701925536763377, 'LOG_PATH': '../logs/', 'MAX_EPOCH': 150, 'MIN_EPOCH': 10, 'NUM_GPUS': 1, 'SIGMA': 0.25, 'STEP_SIZE': 10, 'WEIGHT_DECAY': 2.9720995669595073e-08}, 'TRANSFORM': {'HOP_LENGTH': 256}}\n",
      "Transformed raw audio into melspectrogram in dataloader.\n",
      "Data augmentation for BMW dataset: none\n",
      "Range of the input data is (-82.704231, 41.936913)\n"
     ]
    },
    {
     "name": "stderr",
     "output_type": "stream",
     "text": [
      "/nfs/homedirs/nikoghos/anaconda3/lib/python3.8/site-packages/foolbox/models/pytorch.py:36: UserWarning: The PyTorch model is in training mode and therefore might not be deterministic. Call the eval() method to set it in evaluation mode if this is not intended.\n",
      "  warnings.warn(\n"
     ]
    },
    {
     "name": "stdout",
     "output_type": "stream",
     "text": [
      "Generated attacks in 206.82 seconds\n",
      "[0.7, 0.7333333333333334, 0.7166666666666667, 0.6833333333333333, 0.7, 0.65, 0.7, 0.7, 0.6666666666666667, 0.7333333333333334, 0.7166666666666667, 0.6833333333333333, 0.7166666666666667, 0.65, 0.75, 0.6833333333333333, 0.7166666666666667, 0.7166666666666667, 0.6666666666666667, 0.6833333333333333, 0.6166666666666667, 0.6833333333333333, 0.65, 0.65, 0.6333333333333333, 0.6333333333333333, 0.6833333333333333, 0.5833333333333333, 0.65, 0.6833333333333333, 0.6666666666666667, 0.6666666666666667, 0.6, 0.65, 0.6, 0.6333333333333333, 0.5833333333333333, 0.55, 0.6333333333333333, 0.6666666666666667, 0.6166666666666667, 0.6333333333333333, 0.6, 0.65, 0.5666666666666667, 0.5333333333333333, 0.6166666666666667, 0.5833333333333333, 0.5666666666666667, 0.6166666666666667]\n"
     ]
    }
   ],
   "source": [
    "project=\"BMW\"\n",
    "max_rad = 250\n",
    "title = 'bmw_random'\n",
    "config_path = 'logs/crnn-bmw_fold2_random/version_1/hparams.yaml'\n",
    "pretrained_path = 'weights/crnn_bmw/crnn-bmw_fold2_random-epoch=58-val_acc=0.915.ckpt'\n",
    "eps_random, rob_random = attack_model(project_dir, config_path, pretrained_path, title, \n",
    "                                     project=project, attack_type = 'l2', max_radius=max_rad, save_folder=save_folder)"
   ]
  },
  {
   "cell_type": "code",
   "execution_count": 38,
   "metadata": {},
   "outputs": [],
   "source": [
    "rob_random = [0.7, 0.7333333333333334, 0.7166666666666667, 0.6833333333333333, 0.7, 0.65, 0.7, 0.7, 0.6666666666666667, 0.7333333333333334, 0.7166666666666667, 0.6833333333333333, 0.7166666666666667, 0.65, 0.75, 0.6833333333333333, 0.7166666666666667, 0.7166666666666667, 0.6666666666666667, 0.6833333333333333, 0.6166666666666667, 0.6833333333333333, 0.65, 0.65, 0.6333333333333333, 0.6333333333333333, 0.6833333333333333, 0.5833333333333333, 0.65, 0.6833333333333333, 0.6666666666666667, 0.6666666666666667, 0.6, 0.65, 0.6, 0.6333333333333333, 0.5833333333333333, 0.55, 0.6333333333333333, 0.6666666666666667, 0.6166666666666667, 0.6333333333333333, 0.6, 0.65, 0.5666666666666667, 0.5333333333333333, 0.6166666666666667, 0.5833333333333333, 0.5666666666666667, 0.6166666666666667]"
   ]
  },
  {
   "cell_type": "code",
   "execution_count": 20,
   "metadata": {},
   "outputs": [
    {
     "name": "stdout",
     "output_type": "stream",
     "text": [
      "{'ATTACK': True, 'CHECKPOINT': {'SAVE_NAME': 'crnn-bmw', 'SAVE_PATH': '../weights/bmw_final_fold2_baseline', 'SAVE_TOP_K': 1}, 'DATALOADER': {'BATCH_SIZE': 8, 'NUM_WORKERS': 20}, 'DATASET': {'ANNOTATION_PATH': '/nfs/students/winter-term-2020/project-1/datasets/BMW/meta/bmw.csv', 'AUGMENTATION': 'none', 'FOLDER_PATH': '/nfs/students/winter-term-2020/project-1/datasets/Brake_Noise', 'NAME': 'BMW', 'NOISE_PATH': '/nfs/students/winter-term-2020/project-1/MUSAN/free-sound/', 'VAL_FOLD': 2, 'WEIGHT': 'NORMAL'}, 'MODEL': {'CRNN': {'INCLUDE_TOP': True, 'INCLUDE_TRANSFORM': False, 'MIXUP': True, 'RANDOMISED_SMOOTHING': False}, 'NAME': 'LitCRNN', 'NUM_CLASSES': 6}, 'SOLVER': {'ALPHA': 1.7522326562381854, 'GAMMA': 0.5, 'LEARNING_RATE': 0.00021701925536763377, 'LOG_PATH': '../logs/', 'MAX_EPOCH': 150, 'MIN_EPOCH': 10, 'NUM_GPUS': 1, 'SIGMA': 0.25, 'STEP_SIZE': 10, 'WEIGHT_DECAY': 2.9720995669595073e-08}, 'TRANSFORM': {'HOP_LENGTH': 256}}\n",
      "Transformed raw audio into melspectrogram in dataloader.\n",
      "Data augmentation for BMW dataset: none\n",
      "Range of the input data is (-82.704231, 41.936913)\n"
     ]
    },
    {
     "name": "stderr",
     "output_type": "stream",
     "text": [
      "/nfs/homedirs/nikoghos/anaconda3/lib/python3.8/site-packages/foolbox/models/pytorch.py:36: UserWarning: The PyTorch model is in training mode and therefore might not be deterministic. Call the eval() method to set it in evaluation mode if this is not intended.\n",
      "  warnings.warn(\n"
     ]
    },
    {
     "name": "stdout",
     "output_type": "stream",
     "text": [
      "Generated attacks in 207.72 seconds\n",
      "[0.85, 0.8666666666666667, 0.8166666666666667, 0.7666666666666666, 0.8666666666666667, 0.7833333333333333, 0.7833333333333333, 0.8166666666666667, 0.7833333333333333, 0.8, 0.7666666666666666, 0.7833333333333333, 0.8333333333333334, 0.7666666666666666, 0.8, 0.7166666666666667, 0.7333333333333334, 0.7833333333333333, 0.7333333333333334, 0.7166666666666667, 0.7, 0.75, 0.7166666666666667, 0.7333333333333334, 0.75, 0.7333333333333334, 0.7333333333333334, 0.7, 0.7333333333333334, 0.65, 0.6833333333333333, 0.7, 0.7333333333333334, 0.7166666666666667, 0.7, 0.7, 0.6166666666666667, 0.6666666666666667, 0.65, 0.7166666666666667, 0.65, 0.65, 0.6666666666666667, 0.65, 0.65, 0.6666666666666667, 0.6333333333333333, 0.6333333333333333, 0.6166666666666667, 0.6166666666666667]\n"
     ]
    }
   ],
   "source": [
    "project=\"BMW\"\n",
    "max_rad = 250\n",
    "title = 'bmw_baseline'\n",
    "config_path = 'logs/crnn-bmw/version_26/hparams.yaml'\n",
    "pretrained_path = 'weights/bmw_final_fold2_baseline/crnn-bmw-epoch=128-val_acc=0.951.ckpt'\n",
    "eps_baseline, rob_baseline = attack_model(project_dir, config_path, pretrained_path, title, \n",
    "                                     project=project, attack_type = 'l2', max_radius=max_rad, save_folder=save_folder)"
   ]
  },
  {
   "cell_type": "code",
   "execution_count": 39,
   "metadata": {},
   "outputs": [],
   "source": [
    "rob_mixup = [0.85, 0.8666666666666667, 0.8166666666666667, 0.7666666666666666, 0.8666666666666667, 0.7833333333333333, 0.7833333333333333, 0.8166666666666667, 0.7833333333333333, 0.8, 0.7666666666666666, 0.7833333333333333, 0.8333333333333334, 0.7666666666666666, 0.8, 0.7166666666666667, 0.7333333333333334, 0.7833333333333333, 0.7333333333333334, 0.7166666666666667, 0.7, 0.75, 0.7166666666666667, 0.7333333333333334, 0.75, 0.7333333333333334, 0.7333333333333334, 0.7, 0.7333333333333334, 0.65, 0.6833333333333333, 0.7, 0.7333333333333334, 0.7166666666666667, 0.7, 0.7, 0.6166666666666667, 0.6666666666666667, 0.65, 0.7166666666666667, 0.65, 0.65, 0.6666666666666667, 0.65, 0.65, 0.6666666666666667, 0.6333333333333333, 0.6333333333333333, 0.6166666666666667, 0.6166666666666667]"
   ]
  },
  {
   "cell_type": "code",
   "execution_count": 36,
   "metadata": {},
   "outputs": [
    {
     "name": "stdout",
     "output_type": "stream",
     "text": [
      "{'ATTACK': True, 'CHECKPOINT': {'SAVE_NAME': 'crnn-bmw_fold4_uniform', 'SAVE_PATH': '../weights/crnn_bmw', 'SAVE_TOP_K': 1}, 'DATALOADER': {'BATCH_SIZE': 3, 'NUM_WORKERS': 20}, 'DATASET': {'ANNOTATION_PATH': '/nfs/students/winter-term-2020/project-1/datasets/BMW/meta/bmw.csv', 'AUGMENTATION': 'uniform', 'FOLDER_PATH': '/nfs/students/winter-term-2020/project-1/datasets/Brake_Noise', 'NAME': 'BMW', 'NOISE_PATH': '/nfs/students/winter-term-2020/project-1/MUSAN/free-sound/', 'VAL_FOLD': 2, 'WEIGHT': 'NORMAL'}, 'MODEL': {'CRNN': {'INCLUDE_TOP': True, 'INCLUDE_TRANSFORM': False, 'MIXUP': True, 'RANDOMISED_SMOOTHING': False}, 'NAME': 'LitCRNN', 'NUM_CLASSES': 6}, 'SOLVER': {'ALPHA': 1.7522326562381854, 'GAMMA': 0.5, 'LEARNING_RATE': 0.00021701925536763377, 'LOG_PATH': '../logs/fold4_uniform', 'MAX_EPOCH': 150, 'MIN_EPOCH': 10, 'NUM_GPUS': 1, 'SIGMA': 0.25, 'STEP_SIZE': 10, 'WEIGHT_DECAY': 2.9720995669595073e-08}, 'TRANSFORM': {'HOP_LENGTH': 256}}\n",
      "Transformed raw audio into melspectrogram in dataloader.\n",
      "Data augmentation for BMW dataset: none\n",
      "Range of the input data is (-82.704231, 41.936913)\n"
     ]
    },
    {
     "name": "stderr",
     "output_type": "stream",
     "text": [
      "/nfs/homedirs/nikoghos/anaconda3/lib/python3.8/site-packages/foolbox/models/pytorch.py:36: UserWarning: The PyTorch model is in training mode and therefore might not be deterministic. Call the eval() method to set it in evaluation mode if this is not intended.\n",
      "  warnings.warn(\n"
     ]
    },
    {
     "name": "stdout",
     "output_type": "stream",
     "text": [
      "Generated attacks in 207.86 seconds\n",
      "[0.7666666666666666, 0.8, 0.7333333333333334, 0.7, 0.6833333333333333, 0.6833333333333333, 0.6833333333333333, 0.6666666666666667, 0.65, 0.7, 0.6666666666666667, 0.6666666666666667, 0.6833333333333333, 0.65, 0.65, 0.6333333333333333, 0.6666666666666667, 0.6166666666666667, 0.6, 0.6166666666666667, 0.65, 0.6, 0.6333333333333333, 0.6166666666666667, 0.6333333333333333, 0.6, 0.6333333333333333, 0.55, 0.5666666666666667, 0.6, 0.55, 0.6166666666666667, 0.5833333333333333, 0.5833333333333333, 0.5166666666666666, 0.55, 0.5166666666666666, 0.5666666666666667, 0.6, 0.55, 0.5333333333333333, 0.55, 0.5666666666666667, 0.5333333333333333, 0.4666666666666667, 0.5333333333333333, 0.5166666666666666, 0.55, 0.5166666666666666, 0.5]\n"
     ]
    }
   ],
   "source": [
    "project=\"BMW\"\n",
    "max_rad = 250\n",
    "title = 'bmw_uniform'\n",
    "config_path = 'logs/crnn-bmw_fold2_uniform/crnn-bmw_fold4_uniform/version_0/hparams.yaml'\n",
    "pretrained_path = 'weights/crnn_bmw/crnn-bmw_fold2_uniform-epoch=31-val_acc=0.957.ckpt'\n",
    "_, rob_uniform = attack_model(project_dir, config_path, pretrained_path, title, \n",
    "                                     project=project, attack_type = 'l2', max_radius=max_rad, save_folder=save_folder)"
   ]
  },
  {
   "cell_type": "code",
   "execution_count": 23,
   "metadata": {},
   "outputs": [],
   "source": [
    "rob_uniform = [0.7666666666666666, 0.8, 0.7333333333333334, 0.7, 0.6833333333333333, 0.6833333333333333, 0.6833333333333333, 0.6666666666666667, 0.65, 0.7, 0.6666666666666667, 0.6666666666666667, 0.6833333333333333, 0.65, 0.65, 0.6333333333333333, 0.6666666666666667, 0.6166666666666667, 0.6, 0.6166666666666667, 0.65, 0.6, 0.6333333333333333, 0.6166666666666667, 0.6333333333333333, 0.6, 0.6333333333333333, 0.55, 0.5666666666666667, 0.6, 0.55, 0.6166666666666667, 0.5833333333333333, 0.5833333333333333, 0.5166666666666666, 0.55, 0.5166666666666666, 0.5666666666666667, 0.6, 0.55, 0.5333333333333333, 0.55, 0.5666666666666667, 0.5333333333333333, 0.4666666666666667, 0.5333333333333333, 0.5166666666666666, 0.55, 0.5166666666666666, 0.5]"
   ]
  },
  {
   "cell_type": "code",
   "execution_count": 37,
   "metadata": {},
   "outputs": [
    {
     "name": "stdout",
     "output_type": "stream",
     "text": [
      "{'ATTACK': True, 'CHECKPOINT': {'SAVE_NAME': 'crnn-bmw_fold2_gaussian', 'SAVE_PATH': '../weights/crnn_bmw', 'SAVE_TOP_K': 1}, 'DATALOADER': {'BATCH_SIZE': 4, 'NUM_WORKERS': 20}, 'DATASET': {'ANNOTATION_PATH': '/nfs/students/winter-term-2020/project-1/datasets/BMW/meta/bmw.csv', 'AUGMENTATION': 'gaussian', 'FOLDER_PATH': '/nfs/students/winter-term-2020/project-1/datasets/Brake_Noise', 'NAME': 'BMW', 'NOISE_PATH': '/nfs/students/winter-term-2020/project-1/MUSAN/free-sound/', 'VAL_FOLD': 2, 'WEIGHT': 'NORMAL'}, 'MODEL': {'CRNN': {'INCLUDE_TOP': True, 'INCLUDE_TRANSFORM': False, 'MIXUP': True, 'RANDOMISED_SMOOTHING': False}, 'NAME': 'LitCRNN', 'NUM_CLASSES': 6}, 'SOLVER': {'ALPHA': 1.7522326562381854, 'GAMMA': 0.5, 'LEARNING_RATE': 0.00021701925536763377, 'LOG_PATH': '../logs/fold2_gaussian', 'MAX_EPOCH': 150, 'MIN_EPOCH': 10, 'NUM_GPUS': 1, 'SIGMA': 0.25, 'STEP_SIZE': 10, 'WEIGHT_DECAY': 2.9720995669595073e-08}, 'TRANSFORM': {'HOP_LENGTH': 256}}\n",
      "Transformed raw audio into melspectrogram in dataloader.\n",
      "Data augmentation for BMW dataset: none\n",
      "Range of the input data is (-82.704231, 41.936913)\n"
     ]
    },
    {
     "name": "stderr",
     "output_type": "stream",
     "text": [
      "/nfs/homedirs/nikoghos/anaconda3/lib/python3.8/site-packages/foolbox/models/pytorch.py:36: UserWarning: The PyTorch model is in training mode and therefore might not be deterministic. Call the eval() method to set it in evaluation mode if this is not intended.\n",
      "  warnings.warn(\n"
     ]
    },
    {
     "name": "stdout",
     "output_type": "stream",
     "text": [
      "Generated attacks in 208.62 seconds\n",
      "[0.7666666666666666, 0.7166666666666667, 0.65, 0.6666666666666667, 0.6333333333333333, 0.6333333333333333, 0.7, 0.6833333333333333, 0.65, 0.6666666666666667, 0.6166666666666667, 0.6333333333333333, 0.6166666666666667, 0.5333333333333333, 0.55, 0.5333333333333333, 0.5666666666666667, 0.5833333333333333, 0.5666666666666667, 0.5666666666666667, 0.5666666666666667, 0.5333333333333333, 0.55, 0.5333333333333333, 0.5166666666666666, 0.4833333333333333, 0.5166666666666666, 0.4833333333333333, 0.5166666666666666, 0.5166666666666666, 0.5, 0.4833333333333333, 0.55, 0.4666666666666667, 0.5, 0.5166666666666666, 0.5166666666666666, 0.4833333333333333, 0.5166666666666666, 0.4833333333333333, 0.4833333333333333, 0.4833333333333333, 0.43333333333333335, 0.4833333333333333, 0.4833333333333333, 0.4666666666666667, 0.4666666666666667, 0.44999999999999996, 0.44999999999999996, 0.4]\n"
     ]
    }
   ],
   "source": [
    "project=\"BMW\"\n",
    "max_rad = 250\n",
    "title = 'bmw_gaussian'\n",
    "config_path = 'logs/fold2_gaussian/crnn-bmw_fold2_gaussian/version_0/hparams.yaml'\n",
    "pretrained_path = 'weights/crnn_bmw/crnn-bmw_fold2_gaussian-epoch=38-val_acc=0.925.ckpt'\n",
    "_, rob_gaussian = attack_model(project_dir, config_path, pretrained_path, title, \n",
    "                                     project=project, attack_type = 'l2', max_radius=max_rad, save_folder=save_folder)"
   ]
  },
  {
   "cell_type": "code",
   "execution_count": 70,
   "metadata": {},
   "outputs": [],
   "source": [
    "rob_baseline = [0.85, 0.85, 0.8666666666666667, 0.8333333333333334, 0.8166666666666667, 0.8333333333333334, 0.8666666666666667, 0.8, 0.8, 0.7833333333333333, 0.7666666666666666, 0.7833333333333333, 0.75, 0.75, 0.8, 0.8, 0.75, 0.7, 0.7166666666666667, 0.75, 0.7166666666666667, 0.7666666666666666, 0.7166666666666667, 0.7, 0.6833333333333333, 0.7, 0.7, 0.75, 0.6833333333333333, 0.7166666666666667, 0.7, 0.6166666666666667, 0.75, 0.7, 0.6833333333333333, 0.6333333333333333, 0.7, 0.7, 0.6333333333333333, 0.6166666666666667, 0.6666666666666667, 0.7166666666666667, 0.6166666666666667, 0.6833333333333333, 0.65, 0.65, 0.6833333333333333, 0.55, 0.6666666666666667, 0.6166666666666667]"
   ]
  },
  {
   "cell_type": "code",
   "execution_count": 71,
   "metadata": {},
   "outputs": [],
   "source": [
    "rob_label_sm = [0.8666666666666667, 0.8166666666666667, 0.85, 0.8333333333333334, 0.8166666666666667, 0.7833333333333333, 0.75, 0.75, 0.75, 0.75, 0.7666666666666666, 0.75, 0.75, 0.7333333333333334, 0.75, 0.7333333333333334, 0.7, 0.7333333333333334, 0.7333333333333334, 0.7333333333333334, 0.75, 0.7333333333333334, 0.6833333333333333, 0.7333333333333334, 0.6833333333333333, 0.7166666666666667, 0.6833333333333333, 0.7166666666666667, 0.7166666666666667, 0.6833333333333333, 0.75, 0.7, 0.7166666666666667, 0.7, 0.6833333333333333, 0.6833333333333333, 0.65, 0.7, 0.65, 0.65, 0.65, 0.65, 0.6333333333333333, 0.7, 0.6666666666666667, 0.65, 0.6333333333333333, 0.6833333333333333, 0.6333333333333333, 0.6666666666666667]\n"
   ]
  },
  {
   "cell_type": "code",
   "execution_count": 72,
   "metadata": {},
   "outputs": [],
   "source": [
    "rob_smoothadv = [0.95, 0.95, 0.9333333333333333, 0.9333333333333333, 0.9333333333333333, 0.9166666666666666, 0.9, 0.8666666666666667, 0.85, 0.85, 0.85, 0.85, 0.85, 0.8333333333333334, 0.8166666666666667, 0.8166666666666667, 0.8, 0.8, 0.7833333333333333, 0.7666666666666666, 0.75, 0.7333333333333334, 0.7166666666666667, 0.7, 0.7, 0.6833333333333333, 0.6833333333333333, 0.6666666666666667, 0.65, 0.6333333333333333, 0.6333333333333333, 0.6333333333333333, 0.6333333333333333, 0.6333333333333333, 0.65, 0.65, 0.65, 0.65, 0.6666666666666667, 0.6666666666666667, 0.6666666666666667, 0.6666666666666667, 0.6666666666666667, 0.6666666666666667, 0.65, 0.6166666666666667, 0.6166666666666667, 0.6166666666666667, 0.6, 0.6]\n"
   ]
  },
  {
   "cell_type": "code",
   "execution_count": 24,
   "metadata": {},
   "outputs": [],
   "source": [
    "rob_gaussian = [0.7666666666666666, 0.7166666666666667, 0.65, 0.6666666666666667, 0.6333333333333333, 0.6333333333333333, 0.7, 0.6833333333333333, 0.65, 0.6666666666666667, 0.6166666666666667, 0.6333333333333333, 0.6166666666666667, 0.5333333333333333, 0.55, 0.5333333333333333, 0.5666666666666667, 0.5833333333333333, 0.5666666666666667, 0.5666666666666667, 0.5666666666666667, 0.5333333333333333, 0.55, 0.5333333333333333, 0.5166666666666666, 0.4833333333333333, 0.5166666666666666, 0.4833333333333333, 0.5166666666666666, 0.5166666666666666, 0.5, 0.4833333333333333, 0.55, 0.4666666666666667, 0.5, 0.5166666666666666, 0.5166666666666666, 0.4833333333333333, 0.5166666666666666, 0.4833333333333333, 0.4833333333333333, 0.4833333333333333, 0.43333333333333335, 0.4833333333333333, 0.4833333333333333, 0.4666666666666667, 0.4666666666666667, 0.44999999999999996, 0.44999999999999996, 0.4]"
   ]
  },
  {
   "cell_type": "code",
   "execution_count": 53,
   "metadata": {},
   "outputs": [],
   "source": [
    "eps_noise  = eps_noise[:10]"
   ]
  },
  {
   "cell_type": "code",
   "execution_count": 56,
   "metadata": {},
   "outputs": [],
   "source": [
    "eps_noise = np.linspace(0.0, 250, 50)"
   ]
  },
  {
   "cell_type": "code",
   "execution_count": 74,
   "metadata": {},
   "outputs": [
    {
     "data": {
      "image/png": "[encoded data removed]",
      "text/plain": [
       "<Figure size 432x288 with 1 Axes>"
      ]
     },
     "metadata": {
      "needs_background": "light"
     },
     "output_type": "display_data"
    }
   ],
   "source": [
    "plt.title(\"L-2 Fast Gradient Attack\")\n",
    "plt.xlabel(\"attack radius\")\n",
    "plt.ylabel(\"robust accuracy\")\n",
    "plt.ylim(0.4, 1.0)\n",
    "\n",
    "plt.plot(eps_noise, rob_baseline)\n",
    "\n",
    "plt.plot(eps_noise, rob_noise)\n",
    "plt.plot(eps_noise, rob_label_sm)\n",
    "plt.plot(eps_noise, rob_smoothadv)\n",
    "\n",
    "\n",
    "names = [\"Baseline\", \"Mixup\", \"Label Smoothing\", \"SmoothADV\"]\n",
    "plt.legend(names, loc='upper right')\n",
    "plt.savefig('filename.png', dpi=450)\n",
    "plt.show()\n"
   ]
  },
  {
   "cell_type": "code",
   "execution_count": 4,
   "metadata": {},
   "outputs": [
    {
     "data": {
      "text/plain": [
       "device(type='cuda')"
      ]
     },
     "execution_count": 4,
     "metadata": {},
     "output_type": "execute_result"
    }
   ],
   "source": [
    "device"
   ]
  },
  {
   "cell_type": "code",
   "execution_count": 3,
   "metadata": {},
   "outputs": [
    {
     "name": "stdout",
     "output_type": "stream",
     "text": [
      "cuda\n",
      "{'ATTACK': True, 'CHECKPOINT': {'SAVE_NAME': 'crnn-us8k_fold9_mixup', 'SAVE_PATH': '../weights/us8k', 'SAVE_TOP_K': 1}, 'DATALOADER': {'BATCH_SIZE': 6, 'NUM_WORKERS': 20}, 'DATASET': {'ANNOTATION_PATH': '/nfs/students/winter-term-2020/project-1/datasets/UrbanSound8K/metadata/UrbanSound8K.csv', 'AUGMENTATION': 'none', 'FILE_PATH': '/nfs/students/winter-term-2020/project-1/datasets/UrbanSound8K/audio/', 'NAME': 'UrbanSounds8K', 'NOISE_PATH': '/nfs/students/winter-term-2020/project-1/MUSAN/free-sound/', 'VAL_FOLD': 9, 'WEIGHT': 'NORMAL'}, 'MODEL': {'CRNN': {'INCLUDE_TOP': True, 'INCLUDE_TRANSFORM': False, 'MIXUP': True, 'RANDOMISED_SMOOTHING': False}, 'NAME': 'LitCRNN', 'NUM_CLASSES': 10}, 'SOLVER': {'ALPHA': 0.7608399210841633, 'GAMMA': 0.1, 'LEARNING_RATE': 0.0004881731392294949, 'LOG_PATH': '../logs/crnn_us8k_fold9', 'MAX_EPOCH': 100, 'MIN_EPOCH': 10, 'NUM_GPUS': 1, 'SIGMA': 0.5, 'STEP_SIZE': 7, 'WEIGHT_DECAY': 2.628328526113425e-08}, 'TRANSFORM': {'HOP_LENGTH': 256}}\n",
      "Transformed raw audio into melspectrogram in dataloader.\n",
      "Data augmentation for US8K dataset: none\n",
      "Range of the input data is (-100.000000, 43.114243)\n"
     ]
    },
    {
     "name": "stderr",
     "output_type": "stream",
     "text": [
      "/nfs/homedirs/nikoghos/anaconda3/lib/python3.8/site-packages/foolbox/models/pytorch.py:36: UserWarning: The PyTorch model is in training mode and therefore might not be deterministic. Call the eval() method to set it in evaluation mode if this is not intended.\n",
      "  warnings.warn(\n"
     ]
    },
    {
     "name": "stdout",
     "output_type": "stream",
     "text": [
      "Generated attacks in 451.01 seconds\n",
      "[0.50125, 0.5025, 0.5137499999999999, 0.50125, 0.49624999999999997, 0.5075000000000001, 0.505, 0.505, 0.5037499999999999, 0.50625, 0.5025, 0.48375, 0.49250000000000005, 0.4525, 0.47624999999999995, 0.45375, 0.47, 0.47, 0.45375, 0.45375]\n"
     ]
    }
   ],
   "source": [
    "project=\"UrbanSound8k\"\n",
    "max_rad = 0.1\n",
    "title = 'us8k_mixup'\n",
    "config_path = 'logs/crnn_us8k_fold9/crnn-us8k_fold9_mixup/version_3/hparams.yaml'\n",
    "pretrained_path = 'weights/us8k/crnn-us8k_fold9_mixup-epoch=81-val_acc=0.725.ckpt'\n",
    "eps_1, rob_1 = attack_model(project_dir, config_path, pretrained_path, title, \n",
    "                                     project=project, attack_type = 'linf', max_radius=max_rad, save_folder=save_folder)"
   ]
  },
  {
   "cell_type": "code",
   "execution_count": 52,
   "metadata": {},
   "outputs": [
    {
     "name": "stdout",
     "output_type": "stream",
     "text": [
      "{'ATTACK': True, 'CHECKPOINT': {'SAVE_NAME': 'crnn-us8k_fold9_mixup', 'SAVE_PATH': '../weights/us8k', 'SAVE_TOP_K': 1}, 'DATALOADER': {'BATCH_SIZE': 6, 'NUM_WORKERS': 20}, 'DATASET': {'ANNOTATION_PATH': '/nfs/students/winter-term-2020/project-1/datasets/UrbanSound8K/metadata/UrbanSound8K.csv', 'AUGMENTATION': 'none', 'FILE_PATH': '/nfs/students/winter-term-2020/project-1/datasets/UrbanSound8K/audio/', 'NAME': 'UrbanSounds8K', 'NOISE_PATH': '/nfs/students/winter-term-2020/project-1/MUSAN/free-sound/', 'VAL_FOLD': 9, 'WEIGHT': 'NORMAL'}, 'MODEL': {'CRNN': {'INCLUDE_TOP': True, 'INCLUDE_TRANSFORM': False, 'MIXUP': True, 'RANDOMISED_SMOOTHING': False}, 'NAME': 'LitCRNN', 'NUM_CLASSES': 10}, 'SOLVER': {'ALPHA': 0.7608399210841633, 'GAMMA': 0.1, 'LEARNING_RATE': 0.0004881731392294949, 'LOG_PATH': '../logs/crnn_us8k_fold9', 'MAX_EPOCH': 100, 'MIN_EPOCH': 10, 'NUM_GPUS': 1, 'SIGMA': 0.5, 'STEP_SIZE': 7, 'WEIGHT_DECAY': 2.628328526113425e-08}, 'TRANSFORM': {'HOP_LENGTH': 256}}\n",
      "Transformed raw audio into melspectrogram in dataloader.\n",
      "Range of the input data is (-100.000000, 41.999760)\n"
     ]
    },
    {
     "name": "stderr",
     "output_type": "stream",
     "text": [
      "/nfs/homedirs/nikoghos/anaconda3/lib/python3.8/site-packages/foolbox/models/pytorch.py:36: UserWarning: The PyTorch model is in training mode and therefore might not be deterministic. Call the eval() method to set it in evaluation mode if this is not intended.\n",
      "  warnings.warn(\n"
     ]
    },
    {
     "name": "stdout",
     "output_type": "stream",
     "text": [
      "Generated attacks in 194.51 seconds\n",
      "[0.5583333333333333, 0.5416666666666667, 0.5083333333333333, 0.5041666666666667, 0.47916666666666663, 0.55, 0.49583333333333335, 0.5208333333333333, 0.5208333333333333, 0.4375, 0.4916666666666667, 0.4666666666666667, 0.45833333333333337, 0.4375, 0.4458333333333333, 0.41666666666666663, 0.4375, 0.4208333333333333, 0.4541666666666667, 0.4458333333333333]\n"
     ]
    }
   ],
   "source": [
    "project=\"UrbanSound8k\"\n",
    "max_rad = 0.1\n",
    "title = 'us8k_mixup'\n",
    "config_path = 'logs/crnn_us8k_fold9/crnn-us8k_fold9_mixup/version_3/hparams.yaml'\n",
    "pretrained_path = 'weights/us8k/crnn-us8k_fold9_mixup-epoch=81-val_acc=0.725.ckpt'\n",
    "eps_1, rob_1 = attack_model(project_dir, config_path, pretrained_path, title, \n",
    "                                     project=project, attack_type = 'linf', max_radius=max_rad, save_folder=save_folder)"
   ]
  },
  {
   "cell_type": "code",
   "execution_count": 4,
   "metadata": {},
   "outputs": [],
   "source": [
    "rob_baseline= [0.35250000000000004, 0.22875, 0.1825, 0.16374999999999995, 0.16125, 0.15874999999999995, 0.15249999999999997, 0.15375000000000005, 0.14500000000000002, 0.15249999999999997, 0.14625, 0.15375000000000005, 0.15749999999999997, 0.16625, 0.14625, 0.14625, 0.15500000000000003, 0.15874999999999995, 0.16249999999999998, 0.14749999999999996]"
   ]
  },
  {
   "cell_type": "code",
   "execution_count": 6,
   "metadata": {},
   "outputs": [],
   "source": [
    "import numpy as np\n",
    "eps = np.linspace(0.0, 1.0, 20)"
   ]
  },
  {
   "cell_type": "code",
   "execution_count": 8,
   "metadata": {},
   "outputs": [
    {
     "data": {
      "image/png": "[encoded data removed]",
      "text/plain": [
       "<Figure size 432x288 with 1 Axes>"
      ]
     },
     "metadata": {
      "needs_background": "light"
     },
     "output_type": "display_data"
    }
   ],
   "source": [
    "plt.title(\"L-inf Fast Gradient Attack\")\n",
    "plt.xlabel(\"attack radius\")\n",
    "plt.ylabel(\"robust accuracy\")\n",
    "plt.ylim(0, 1.0)\n",
    "plt.plot(eps, rob_baseline)\n",
    "plt.plot(eps, rob_1)\n",
    "\n",
    "\n",
    "names = [\"Baseline\", \"Mixup\"]\n",
    "plt.legend(names, loc='upper right')\n",
    "plt.savefig('filename.png', dpi=450)\n",
    "\n",
    "plt.show()\n"
   ]
  },
  {
   "cell_type": "code",
   "execution_count": 84,
   "metadata": {},
   "outputs": [
    {
     "data": {
      "image/png": "[encoded data removed]",
      "text/plain": [
       "<Figure size 432x288 with 1 Axes>"
      ]
     },
     "metadata": {
      "needs_background": "light"
     },
     "output_type": "display_data"
    }
   ],
   "source": [
    "plt.title(\"L-inf Fast Gradient Attack\")\n",
    "plt.xlabel(\"attack radius\")\n",
    "plt.ylabel(\"robust accuracy\")\n",
    "plt.ylim(0, 1.0)\n",
    "plt.plot(eps, rob_baseline)\n",
    "plt.plot(eps, rob_1)\n",
    "plt.plot(eps, rob_2)\n",
    "\n",
    "\n",
    "names = [\"Baseline\", \"Mixup\"]\n",
    "plt.legend(names, loc='upper right')\n",
    "plt.savefig('filename.png', dpi=450)\n",
    "\n",
    "plt.show()\n"
   ]
  },
  {
   "cell_type": "code",
   "execution_count": 13,
   "metadata": {},
   "outputs": [
    {
     "name": "stdout",
     "output_type": "stream",
     "text": [
      "cuda\n",
      "{'ATTACK': True, 'CHECKPOINT': {'SAVE_NAME': 'crnn-us8k_fold9_random', 'SAVE_PATH': '../weights/us8k', 'SAVE_TOP_K': 1}, 'DATALOADER': {'BATCH_SIZE': 8, 'NUM_WORKERS': 20}, 'DATASET': {'ANNOTATION_PATH': '/nfs/students/winter-term-2020/project-1/datasets/UrbanSound8K/metadata/UrbanSound8K.csv', 'AUGMENTATION': 'random', 'FILE_PATH': '/nfs/students/winter-term-2020/project-1/datasets/UrbanSound8K/audio/', 'NAME': 'UrbanSounds8K', 'NOISE_PATH': '/nfs/students/winter-term-2020/project-1/MUSAN/free-sound/', 'VAL_FOLD': 9, 'WEIGHT': 'NORMAL'}, 'MODEL': {'CRNN': {'INCLUDE_TOP': True, 'INCLUDE_TRANSFORM': False, 'MIXUP': True, 'RANDOMISED_SMOOTHING': False}, 'NAME': 'LitCRNN', 'NUM_CLASSES': 10}, 'SOLVER': {'ALPHA': 0.7608399210841633, 'GAMMA': 0.1, 'LEARNING_RATE': 0.0004881731392294949, 'LOG_PATH': '../logs/crnn_us8k_fold9_random', 'MAX_EPOCH': 82, 'MIN_EPOCH': 10, 'NUM_GPUS': 1, 'SIGMA': 0.5, 'STEP_SIZE': 7, 'WEIGHT_DECAY': 2.628328526113425e-08}, 'TRANSFORM': {'HOP_LENGTH': 256}}\n",
      "Transformed raw audio into melspectrogram in dataloader.\n",
      "Data augmentation for US8K dataset: none\n",
      "Range of the input data is (-100.000000, 43.114243)\n"
     ]
    },
    {
     "name": "stderr",
     "output_type": "stream",
     "text": [
      "/nfs/homedirs/nikoghos/anaconda3/lib/python3.8/site-packages/foolbox/models/pytorch.py:36: UserWarning: The PyTorch model is in training mode and therefore might not be deterministic. Call the eval() method to set it in evaluation mode if this is not intended.\n",
      "  warnings.warn(\n"
     ]
    },
    {
     "name": "stdout",
     "output_type": "stream",
     "text": [
      "Generated attacks in 1122.26 seconds\n",
      "[0.42874999999999996, 0.40249999999999997, 0.39, 0.37749999999999995, 0.36124999999999996, 0.32875, 0.3225, 0.3225, 0.2925, 0.28874999999999995, 0.2875, 0.27249999999999996, 0.26875000000000004, 0.25, 0.255, 0.24124999999999996, 0.20625000000000004, 0.21999999999999997, 0.22499999999999998, 0.22499999999999998, 0.22750000000000004, 0.21375, 0.19874999999999998, 0.20375, 0.20875, 0.1825, 0.19625000000000004, 0.1925, 0.18125000000000002, 0.19374999999999998, 0.1825, 0.19874999999999998, 0.16625, 0.1725, 0.16125, 0.17500000000000004, 0.15625, 0.16874999999999996, 0.18625000000000003, 0.17125, 0.16874999999999996, 0.17500000000000004, 0.16249999999999998, 0.16374999999999995, 0.16625, 0.17125, 0.17625000000000002, 0.16125, 0.16374999999999995, 0.15375000000000005]\n"
     ]
    }
   ],
   "source": [
    "project=\"UrbanSound8k\"\n",
    "max_rad = 250\n",
    "title = 'us8k_random'\n",
    "config_path = 'logs/crnn_us8k_fold9_random/crnn-us8k_fold9_random/version_2/hparams.yaml'\n",
    "pretrained_path = 'weights/us8k/crnn-us8k_fold9_random-epoch=51-val_acc=0.695.ckpt'\n",
    "_, rob_3 = attack_model(project_dir, config_path, pretrained_path, title, \n",
    "                                     project=project, attack_type = 'l2', max_radius=max_rad, save_folder=save_folder)"
   ]
  },
  {
   "cell_type": "code",
   "execution_count": 75,
   "metadata": {},
   "outputs": [
    {
     "name": "stdout",
     "output_type": "stream",
     "text": [
      "{'ATTACK': True, 'CHECKPOINT': {'SAVE_NAME': 'crnn-us8k_fold9_mixup', 'SAVE_PATH': '../weights/us8k', 'SAVE_TOP_K': 1}, 'DATALOADER': {'BATCH_SIZE': 6, 'NUM_WORKERS': 20}, 'DATASET': {'ANNOTATION_PATH': '/nfs/students/winter-term-2020/project-1/datasets/UrbanSound8K/metadata/UrbanSound8K.csv', 'AUGMENTATION': 'none', 'FILE_PATH': '/nfs/students/winter-term-2020/project-1/datasets/UrbanSound8K/audio/', 'NAME': 'UrbanSounds8K', 'NOISE_PATH': '/nfs/students/winter-term-2020/project-1/MUSAN/free-sound/', 'VAL_FOLD': 9, 'WEIGHT': 'NORMAL'}, 'MODEL': {'CRNN': {'INCLUDE_TOP': True, 'INCLUDE_TRANSFORM': False, 'MIXUP': True, 'RANDOMISED_SMOOTHING': False}, 'NAME': 'LitCRNN', 'NUM_CLASSES': 10}, 'SOLVER': {'ALPHA': 0.7608399210841633, 'GAMMA': 0.1, 'LEARNING_RATE': 0.0004881731392294949, 'LOG_PATH': '../logs/crnn_us8k_fold9', 'MAX_EPOCH': 100, 'MIN_EPOCH': 10, 'NUM_GPUS': 1, 'SIGMA': 0.5, 'STEP_SIZE': 7, 'WEIGHT_DECAY': 2.628328526113425e-08}, 'TRANSFORM': {'HOP_LENGTH': 256}}\n",
      "Transformed raw audio into melspectrogram in dataloader.\n",
      "Range of the input data is (-100.000000, 41.999760)\n"
     ]
    },
    {
     "name": "stderr",
     "output_type": "stream",
     "text": [
      "/nfs/homedirs/nikoghos/anaconda3/lib/python3.8/site-packages/foolbox/models/pytorch.py:36: UserWarning: The PyTorch model is in training mode and therefore might not be deterministic. Call the eval() method to set it in evaluation mode if this is not intended.\n",
      "  warnings.warn(\n"
     ]
    },
    {
     "name": "stdout",
     "output_type": "stream",
     "text": [
      "Generated attacks in 485.84 seconds\n",
      "[0.5375, 0.5291666666666667, 0.44166666666666665, 0.44166666666666665, 0.38749999999999996, 0.3666666666666667, 0.3583333333333333, 0.30833333333333335, 0.3458333333333333, 0.3375, 0.2833333333333333, 0.30000000000000004, 0.26249999999999996, 0.23333333333333328, 0.21666666666666667, 0.21250000000000002, 0.22916666666666663, 0.19999999999999996, 0.1875, 0.19999999999999996, 0.20833333333333337, 0.18333333333333335, 0.15833333333333333, 0.17083333333333328, 0.17500000000000004, 0.17083333333333328, 0.14583333333333337, 0.14583333333333337, 0.1333333333333333, 0.1333333333333333, 0.17500000000000004, 0.12083333333333335, 0.14166666666666672, 0.14166666666666672, 0.13749999999999996, 0.14583333333333337, 0.15000000000000002, 0.09583333333333333, 0.1333333333333333, 0.10416666666666663, 0.1166666666666667, 0.1166666666666667, 0.1333333333333333, 0.125, 0.10416666666666663, 0.1166666666666667, 0.10833333333333328, 0.12083333333333335, 0.10833333333333328, 0.12083333333333335]\n"
     ]
    }
   ],
   "source": [
    "project=\"UrbanSound8k\"\n",
    "max_rad = 250\n",
    "title = 'us8k_mixup'\n",
    "config_path = 'logs/crnn_us8k_fold9/crnn-us8k_fold9_mixup/version_3/hparams.yaml'\n",
    "pretrained_path = 'weights/us8k/crnn-us8k_fold9_mixup-epoch=81-val_acc=0.725.ckpt'\n",
    "_, rob_2 = attack_model(project_dir, config_path, pretrained_path, title, \n",
    "                                     project=project, attack_type = 'l2', max_radius=max_rad, save_folder=save_folder)"
   ]
  },
  {
   "cell_type": "code",
   "execution_count": 82,
   "metadata": {},
   "outputs": [],
   "source": [
    "rob2_baseline = [0.365, 0.35624999999999996, 0.33999999999999997, 0.33125000000000004, 0.30125, 0.30125, 0.29374999999999996, 0.265, 0.27125, 0.26625, 0.26249999999999996, 0.235, 0.24124999999999996, 0.22875, 0.22124999999999995, 0.20625000000000004, 0.21125000000000005, 0.19999999999999996, 0.21125000000000005, 0.21750000000000003, 0.18500000000000005, 0.20499999999999996, 0.20625000000000004, 0.21250000000000002, 0.18125000000000002, 0.19374999999999998, 0.1925, 0.1825, 0.18999999999999995, 0.17625000000000002, 0.18500000000000005, 0.16249999999999998, 0.1875, 0.17125, 0.16874999999999996, 0.17000000000000004, 0.17625000000000002, 0.16625, 0.17000000000000004, 0.16749999999999998, 0.16374999999999995, 0.16500000000000004, 0.1725, 0.15749999999999997, 0.16249999999999998, 0.17374999999999996, 0.16500000000000004, 0.16374999999999995, 0.15375000000000005, 0.16249999999999998]\n"
   ]
  },
  {
   "cell_type": "code",
   "execution_count": 86,
   "metadata": {},
   "outputs": [],
   "source": [
    "rob_2 = [0.42874999999999996, 0.40249999999999997, 0.39, 0.37749999999999995, 0.36124999999999996, 0.32875, 0.3225, 0.3225, 0.2925, 0.28874999999999995, 0.2875, 0.27249999999999996, 0.26875000000000004, 0.25, 0.255, 0.24124999999999996, 0.20625000000000004, 0.21999999999999997, 0.22499999999999998, 0.22499999999999998, 0.22750000000000004, 0.21375, 0.19874999999999998, 0.20375, 0.20875, 0.1825, 0.19625000000000004, 0.1925, 0.18125000000000002, 0.19374999999999998, 0.1825, 0.19874999999999998, 0.16625, 0.1725, 0.16125, 0.17500000000000004, 0.15625, 0.16874999999999996, 0.18625000000000003, 0.17125, 0.16874999999999996, 0.17500000000000004, 0.16249999999999998, 0.16374999999999995, 0.16625, 0.17125, 0.17625000000000002, 0.16125, 0.16374999999999995, 0.15375000000000005]"
   ]
  },
  {
   "cell_type": "code",
   "execution_count": 87,
   "metadata": {},
   "outputs": [],
   "source": [
    "eps = np.linspace(0.0, 250, 50)"
   ]
  },
  {
   "cell_type": "code",
   "execution_count": 89,
   "metadata": {},
   "outputs": [
    {
     "data": {
      "image/png": "[encoded data removed]",
      "text/plain": [
       "<Figure size 432x288 with 1 Axes>"
      ]
     },
     "metadata": {
      "needs_background": "light"
     },
     "output_type": "display_data"
    }
   ],
   "source": [
    "plt.title(\"L-2 Fast Gradient Attack\")\n",
    "plt.xlabel(\"attack radius\")\n",
    "plt.ylabel(\"robust accuracy\")\n",
    "plt.ylim(0, 0.45)\n",
    "plt.plot(eps, rob2_baseline)\n",
    "\n",
    "plt.plot(eps, rob_2)\n",
    "\n",
    "\n",
    "names = [ \"Baseline\", \"Mixup\"]\n",
    "plt.legend(names, loc='upper right')\n",
    "plt.savefig('filename.png', dpi=450)\n",
    "\n",
    "plt.show()\n"
   ]
  },
  {
   "cell_type": "code",
   "execution_count": null,
   "metadata": {},
   "outputs": [],
   "source": []
  }
 ],
 "metadata": {
  "kernelspec": {
   "display_name": "Python 3",
   "language": "python",
   "name": "python3"
  },
  "language_info": {
   "codemirror_mode": {
    "name": "ipython",
    "version": 3
   },
   "file_extension": ".py",
   "mimetype": "text/x-python",
   "name": "python",
   "nbconvert_exporter": "python",
   "pygments_lexer": "ipython3",
   "version": "3.8.3"
  }
 },
 "nbformat": 4,
 "nbformat_minor": 4
}
