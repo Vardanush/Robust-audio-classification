{
 "cells": [
  {
   "cell_type": "code",
   "execution_count": 1,
   "metadata": {},
   "outputs": [],
   "source": [
    "import warnings\n",
    "warnings.filterwarnings('ignore')\n",
    "\n",
    "import sys\n",
    "pkg_path = \"/nfs/homedirs/nikoghos/project-1/\"\n",
    "if pkg_path not in sys.path:\n",
    "    sys.path.append(pkg_path)\n",
    "    \n",
    "import yaml\n",
    "import torch\n",
    "from audio_classification.tools import do_test"
   ]
  },
  {
   "cell_type": "code",
   "execution_count": 2,
   "metadata": {},
   "outputs": [],
   "source": [
    "with open(\"../audio_classification/configs/crnn_urbansound8k.yaml\", \"r\") as config_file:\n",
    "        configs = yaml.load(config_file)\n",
    "        \n",
    "checkpoint_path=\"../weights/crnn-us8k-epoch=17-val_acc=0.755.ckpt\"\n"
   ]
  },
  {
   "cell_type": "code",
   "execution_count": 3,
   "metadata": {},
   "outputs": [
    {
     "name": "stderr",
     "output_type": "stream",
     "text": [
      "GPU available: True, used: True\n",
      "TPU available: False, using: 0 TPU cores\n",
      "LOCAL_RANK: 0 - CUDA_VISIBLE_DEVICES: [0]\n",
      "Set SLURM handle signals.\n"
     ]
    },
    {
     "data": {
      "application/vnd.jupyter.widget-view+json": {
       "model_id": "70d7d4e4d11642d2bd8fdaa47eff6c96",
       "version_major": 2,
       "version_minor": 0
      },
      "text/plain": [
       "HBox(children=(FloatProgress(value=1.0, bar_style='info', description='Testing', layout=Layout(flex='2'), max=…"
      ]
     },
     "metadata": {},
     "output_type": "display_data"
    },
    {
     "name": "stdout",
     "output_type": "stream",
     "text": [
      "Precision and recall per class:\n",
      "              precision    recall  f1-score   support\n",
      "\n",
      "           0       0.94      0.96      0.95       100\n",
      "           1       0.92      1.00      0.96        36\n",
      "           2       0.94      0.98      0.96       100\n",
      "           3       0.96      0.97      0.97       100\n",
      "           4       0.97      0.94      0.95       100\n",
      "           5       0.93      0.97      0.95        96\n",
      "           6       0.92      1.00      0.96        35\n",
      "           7       0.97      0.99      0.98       120\n",
      "           8       0.96      0.95      0.96        86\n",
      "           9       0.93      0.78      0.85       100\n",
      "\n",
      "    accuracy                           0.95       873\n",
      "   macro avg       0.94      0.95      0.95       873\n",
      "weighted avg       0.95      0.95      0.95       873\n",
      "\n",
      "Confusion matrix:\n",
      "[[ 96   0   0   1   0   1   2   0   0   0]\n",
      " [  0  36   0   0   0   0   0   0   0   0]\n",
      " [  0   0  98   1   0   0   0   0   1   0]\n",
      " [  1   0   1  97   0   0   1   0   0   0]\n",
      " [  1   0   0   0  94   1   0   0   0   4]\n",
      " [  1   0   0   2   0  93   0   0   0   0]\n",
      " [  0   0   0   0   0   0  35   0   0   0]\n",
      " [  0   0   0   0   1   0   0 119   0   0]\n",
      " [  0   0   0   0   1   1   0   0  82   2]\n",
      " [  3   3   5   0   1   4   0   4   2  78]]\n",
      "--------------------------------------------------------------------------------\n",
      "DATALOADER:0 TEST RESULTS\n",
      "{'test_acc': tensor(0.9485, device='cuda:0'),\n",
      " 'test_loss': tensor(0.3138, device='cuda:0'),\n",
      " 'test_precision': tensor(0.2331, device='cuda:0'),\n",
      " 'test_recall': tensor(0.2238, device='cuda:0'),\n",
      " 'val_acc': tensor(0.9485, device='cuda:0'),\n",
      " 'val_loss': tensor(0.3138, device='cuda:0')}\n",
      "--------------------------------------------------------------------------------\n",
      "\n"
     ]
    }
   ],
   "source": [
    "do_test(configs, checkpoint_path)"
   ]
  },
  {
   "cell_type": "code",
   "execution_count": null,
   "metadata": {},
   "outputs": [],
   "source": []
  },
  {
   "cell_type": "code",
   "execution_count": null,
   "metadata": {},
   "outputs": [],
   "source": []
  },
  {
   "cell_type": "code",
   "execution_count": null,
   "metadata": {},
   "outputs": [],
   "source": []
  },
  {
   "cell_type": "code",
   "execution_count": null,
   "metadata": {},
   "outputs": [],
   "source": []
  }
 ],
 "metadata": {
  "kernelspec": {
   "display_name": "Python 3",
   "language": "python",
   "name": "python3"
  },
  "language_info": {
   "codemirror_mode": {
    "name": "ipython",
    "version": 3
   },
   "file_extension": ".py",
   "mimetype": "text/x-python",
   "name": "python",
   "nbconvert_exporter": "python",
   "pygments_lexer": "ipython3",
   "version": "3.8.3"
  }
 },
 "nbformat": 4,
 "nbformat_minor": 4
}
