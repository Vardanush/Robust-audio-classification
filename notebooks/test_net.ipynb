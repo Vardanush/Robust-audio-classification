{
 "cells": [
  {
   "cell_type": "code",
   "execution_count": 1,
   "metadata": {},
   "outputs": [],
   "source": [
    "import warnings\n",
    "warnings.filterwarnings('ignore')\n",
    "\n",
    "import sys\n",
    "pkg_path = \"/nfs/students/winter-term-2020/project-1/project-1/audio_classification\"\n",
    "if pkg_path not in sys.path:\n",
    "    sys.path.append(pkg_path)\n",
    "    \n",
    "import yaml\n",
    "import torch\n",
    "from audio_classification.tools import do_test"
   ]
  },
  {
   "cell_type": "code",
   "execution_count": 2,
   "metadata": {},
   "outputs": [],
   "source": [
    "with open(\"/nfs/students/winter-term-2020/project-1/project-1/audio_classification/configs/crnn_bmw.yaml\", \"r\") as config_file:\n",
    "        configs = yaml.load(config_file)\n",
    "        \n",
    "checkpoint_path='/nfs/students/winter-term-2020/project-1/project-1/weights/week-5/crnn-bmw-fold10-epoch=111-val_acc=0.967.ckpt'"
   ]
  },
  {
   "cell_type": "code",
   "execution_count": 3,
   "metadata": {},
   "outputs": [
    {
     "name": "stderr",
     "output_type": "stream",
     "text": [
      "GPU available: True, used: True\n",
      "TPU available: False, using: 0 TPU cores\n",
      "LOCAL_RANK: 0 - CUDA_VISIBLE_DEVICES: [0]\n",
      "Set SLURM handle signals.\n"
     ]
    },
    {
     "data": {
      "application/vnd.jupyter.widget-view+json": {
       "model_id": "22187ad6d7924701b120b118d100bfba",
       "version_major": 2,
       "version_minor": 0
      },
      "text/plain": [
       "HBox(children=(FloatProgress(value=1.0, bar_style='info', description='Testing', layout=Layout(flex='2'), max=…"
      ]
     },
     "metadata": {},
     "output_type": "display_data"
    },
    {
     "name": "stdout",
     "output_type": "stream",
     "text": [
      "Precision and recall per class:\n",
      "              precision    recall  f1-score   support\n",
      "\n",
      "           0       1.00      1.00      1.00         6\n",
      "           1       1.00      0.17      0.29        12\n",
      "           2       0.62      0.97      0.76        29\n",
      "           3       0.96      1.00      0.98        24\n",
      "           4       1.00      0.74      0.85        23\n",
      "           5       1.00      0.80      0.89         5\n",
      "\n",
      "    accuracy                           0.82        99\n",
      "   macro avg       0.93      0.78      0.79        99\n",
      "weighted avg       0.88      0.82      0.80        99\n",
      "\n",
      "Confusion matrix:\n",
      "[[ 6  0  0  0  0  0]\n",
      " [ 0  2 10  0  0  0]\n",
      " [ 0  0 28  1  0  0]\n",
      " [ 0  0  0 24  0  0]\n",
      " [ 0  0  6  0 17  0]\n",
      " [ 0  0  1  0  0  4]]\n",
      "--------------------------------------------------------------------------------\n",
      "DATALOADER:0 TEST RESULTS\n",
      "{'test_acc': tensor(0.8182, device='cuda:0'),\n",
      " 'test_loss': tensor(0.7053, device='cuda:0'),\n",
      " 'test_precision': tensor(0.1902, device='cuda:0'),\n",
      " 'test_recall': tensor(0.1712, device='cuda:0')}\n",
      "--------------------------------------------------------------------------------\n",
      "\n"
     ]
    }
   ],
   "source": [
    "do_test(configs, checkpoint_path)"
   ]
  }
 ],
 "metadata": {
  "kernelspec": {
   "display_name": "Python 3",
   "language": "python",
   "name": "python3"
  },
  "language_info": {
   "codemirror_mode": {
    "name": "ipython",
    "version": 3
   },
   "file_extension": ".py",
   "mimetype": "text/x-python",
   "name": "python",
   "nbconvert_exporter": "python",
   "pygments_lexer": "ipython3",
   "version": "3.8.3"
  }
 },
 "nbformat": 4,
 "nbformat_minor": 4
}
