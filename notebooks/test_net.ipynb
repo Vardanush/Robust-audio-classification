{
 "cells": [
  {
   "cell_type": "code",
   "execution_count": 1,
   "metadata": {},
   "outputs": [],
   "source": [
    "import warnings\n",
    "warnings.filterwarnings('ignore')\n",
    "\n",
    "import sys\n",
    "pkg_path = \"/nfs/students/winter-term-2020/project-1/project-1/audio_classification\"\n",
    "if pkg_path not in sys.path:\n",
    "    sys.path.append(pkg_path)\n",
    "    \n",
    "import yaml\n",
    "import torch\n",
    "from audio_classification.model import lit_m11, lit_m18, LitCRNN, SmoothClassifier\n",
    "from audio_classification.tools import do_test"
   ]
  },
  {
   "cell_type": "code",
   "execution_count": 2,
   "metadata": {},
   "outputs": [],
   "source": [
    "with open(\"/nfs/students/winter-term-2020/project-1/project-1/audio_classification/configs/crnn_bmw.yaml\", \"r\") as config_file:\n",
    "        configs = yaml.load(config_file)\n",
    "        \n",
    "checkpoint_path='/nfs/students/winter-term-2020/project-1/project-1/weights/week-6/randomised-smoothing/crnn-bmw-epoch=02-val_acc=0.754.ckpt'"
   ]
  },
  {
   "cell_type": "code",
   "execution_count": 3,
   "metadata": {},
   "outputs": [
    {
     "data": {
      "application/vnd.jupyter.widget-view+json": {
       "model_id": "928cbf094182431ab7411e88d6e47655",
       "version_major": 2,
       "version_minor": 0
      },
      "text/plain": [
       "HBox(children=(HTML(value=''), FloatProgress(value=0.0, max=60.0), HTML(value='')))"
      ]
     },
     "metadata": {},
     "output_type": "display_data"
    },
    {
     "name": "stdout",
     "output_type": "stream",
     "text": [
      "predictions from _sample_noise_predictions tensor([[ 0.8858,  0.6923,  1.0837, -1.2304,  0.6810, -0.3553],\n",
      "        [ 0.8853,  0.6907,  1.0852, -1.2288,  0.6765, -0.3547],\n",
      "        [ 0.8853,  0.6869,  1.0878, -1.2230,  0.6697, -0.3514],\n",
      "        [ 0.8869,  0.6983,  1.0767, -1.2446,  0.7008, -0.3611],\n",
      "        [ 0.8852,  0.6879,  1.0835, -1.2285,  0.6767, -0.3542],\n",
      "        [ 0.8865,  0.6998,  1.0772, -1.2444,  0.6997, -0.3617],\n",
      "        [ 0.8861,  0.6937,  1.0833, -1.2318,  0.6844, -0.3559],\n",
      "        [ 0.8862,  0.6960,  1.0806, -1.2371,  0.6905, -0.3584],\n",
      "        [ 0.8853,  0.6916,  1.0838, -1.2308,  0.6784, -0.3552],\n",
      "        [ 0.8865,  0.6989,  1.0752, -1.2469,  0.7035, -0.3629],\n",
      "        [ 0.8858,  0.6912,  1.0803, -1.2354,  0.6854, -0.3568],\n",
      "        [ 0.8858,  0.6913,  1.0830, -1.2325,  0.6821, -0.3559],\n",
      "        [ 0.8860,  0.6935,  1.0817, -1.2342,  0.6852, -0.3568],\n",
      "        [ 0.8856,  0.6902,  1.0867, -1.2272,  0.6739, -0.3528],\n",
      "        [ 0.8853,  0.6918,  1.0826, -1.2314,  0.6825, -0.3567],\n",
      "        [ 0.8857,  0.6923,  1.0837, -1.2316,  0.6813, -0.3564],\n",
      "        [ 0.8863,  0.6967,  1.0791, -1.2406,  0.6940, -0.3596],\n",
      "        [ 0.8866,  0.6977,  1.0798, -1.2392,  0.6929, -0.3596],\n",
      "        [ 0.8858,  0.6971,  1.0798, -1.2376,  0.6903, -0.3597],\n",
      "        [ 0.8860,  0.6958,  1.0810, -1.2357,  0.6886, -0.3581],\n",
      "        [ 0.8862,  0.6971,  1.0763, -1.2453,  0.7011, -0.3618],\n",
      "        [ 0.8859,  0.6952,  1.0804, -1.2363,  0.6896, -0.3583],\n",
      "        [ 0.8853,  0.6931,  1.0798, -1.2374,  0.6903, -0.3588],\n",
      "        [ 0.8859,  0.6959,  1.0761, -1.2429,  0.6991, -0.3612],\n",
      "        [ 0.8864,  0.6926,  1.0826, -1.2348,  0.6847, -0.3567],\n",
      "        [ 0.8861,  0.6914,  1.0827, -1.2324,  0.6831, -0.3553],\n",
      "        [ 0.8862,  0.6981,  1.0778, -1.2405,  0.6967, -0.3596],\n",
      "        [ 0.8859,  0.6886,  1.0836, -1.2298,  0.6780, -0.3538],\n",
      "        [ 0.8855,  0.6901,  1.0832, -1.2305,  0.6809, -0.3547],\n",
      "        [ 0.8859,  0.6905,  1.0856, -1.2278,  0.6769, -0.3538],\n",
      "        [ 0.8864,  0.6950,  1.0808, -1.2370,  0.6913, -0.3580],\n",
      "        [ 0.8865,  0.6941,  1.0834, -1.2328,  0.6835, -0.3558],\n",
      "        [ 0.8851,  0.6867,  1.0882, -1.2210,  0.6666, -0.3511],\n",
      "        [ 0.8864,  0.6997,  1.0743, -1.2498,  0.7057, -0.3643],\n",
      "        [ 0.8852,  0.6879,  1.0823, -1.2310,  0.6801, -0.3546],\n",
      "        [ 0.8867,  0.6994,  1.0754, -1.2469,  0.7034, -0.3619],\n",
      "        [ 0.8850,  0.6894,  1.0808, -1.2327,  0.6830, -0.3560],\n",
      "        [ 0.8860,  0.6921,  1.0817, -1.2324,  0.6837, -0.3567],\n",
      "        [ 0.8863,  0.6933,  1.0821, -1.2349,  0.6857, -0.3569],\n",
      "        [ 0.8864,  0.6991,  1.0766, -1.2451,  0.7015, -0.3617],\n",
      "        [ 0.8854,  0.6855,  1.0865, -1.2252,  0.6705, -0.3516],\n",
      "        [ 0.8862,  0.6924,  1.0826, -1.2339,  0.6836, -0.3566],\n",
      "        [ 0.8863,  0.6967,  1.0760, -1.2422,  0.6982, -0.3612],\n",
      "        [ 0.8857,  0.6896,  1.0866, -1.2248,  0.6721, -0.3532],\n",
      "        [ 0.8862,  0.6916,  1.0831, -1.2333,  0.6818, -0.3555],\n",
      "        [ 0.8853,  0.6936,  1.0806, -1.2334,  0.6864, -0.3587],\n",
      "        [ 0.8862,  0.6927,  1.0835, -1.2313,  0.6826, -0.3564],\n",
      "        [ 0.8869,  0.6957,  1.0790, -1.2417,  0.6953, -0.3587],\n",
      "        [ 0.8866,  0.6938,  1.0831, -1.2341,  0.6843, -0.3558],\n",
      "        [ 0.8864,  0.6933,  1.0844, -1.2322,  0.6828, -0.3548],\n",
      "        [ 0.8862,  0.6969,  1.0790, -1.2402,  0.6932, -0.3598],\n",
      "        [ 0.8856,  0.6927,  1.0817, -1.2353,  0.6879, -0.3575],\n",
      "        [ 0.8871,  0.7004,  1.0730, -1.2512,  0.7080, -0.3631],\n",
      "        [ 0.8864,  0.6955,  1.0777, -1.2406,  0.6949, -0.3594],\n",
      "        [ 0.8856,  0.6913,  1.0851, -1.2283,  0.6764, -0.3545],\n",
      "        [ 0.8860,  0.6956,  1.0805, -1.2376,  0.6914, -0.3586],\n",
      "        [ 0.8868,  0.6976,  1.0765, -1.2463,  0.7010, -0.3612],\n",
      "        [ 0.8864,  0.6957,  1.0815, -1.2362,  0.6884, -0.3579],\n",
      "        [ 0.8866,  0.6992,  1.0805, -1.2398,  0.6924, -0.3587],\n",
      "        [ 0.8866,  0.6945,  1.0784, -1.2416,  0.6939, -0.3591],\n",
      "        [ 0.8860,  0.6934,  1.0821, -1.2323,  0.6848, -0.3569],\n",
      "        [ 0.8857,  0.6939,  1.0773, -1.2400,  0.6946, -0.3597],\n",
      "        [ 0.8858,  0.6891,  1.0844, -1.2295,  0.6765, -0.3544],\n",
      "        [ 0.8860,  0.6953,  1.0788, -1.2389,  0.6919, -0.3586],\n",
      "        [ 0.8865,  0.7014,  1.0742, -1.2483,  0.7056, -0.3633],\n",
      "        [ 0.8865,  0.6955,  1.0816, -1.2375,  0.6873, -0.3579],\n",
      "        [ 0.8864,  0.6975,  1.0801, -1.2397,  0.6928, -0.3598],\n",
      "        [ 0.8867,  0.7036,  1.0739, -1.2500,  0.7085, -0.3647],\n",
      "        [ 0.8859,  0.6973,  1.0764, -1.2434,  0.6999, -0.3610],\n",
      "        [ 0.8848,  0.6864,  1.0847, -1.2262,  0.6733, -0.3530],\n",
      "        [ 0.8859,  0.6933,  1.0810, -1.2361,  0.6872, -0.3573],\n",
      "        [ 0.8857,  0.6984,  1.0731, -1.2491,  0.7062, -0.3645],\n",
      "        [ 0.8855,  0.6905,  1.0829, -1.2314,  0.6824, -0.3549],\n",
      "        [ 0.8865,  0.6960,  1.0802, -1.2387,  0.6906, -0.3587],\n",
      "        [ 0.8852,  0.6857,  1.0866, -1.2236,  0.6712, -0.3520],\n",
      "        [ 0.8858,  0.6915,  1.0814, -1.2332,  0.6840, -0.3565],\n",
      "        [ 0.8866,  0.6988,  1.0723, -1.2494,  0.7078, -0.3635],\n",
      "        [ 0.8857,  0.6890,  1.0875, -1.2251,  0.6714, -0.3523],\n",
      "        [ 0.8856,  0.6922,  1.0802, -1.2350,  0.6873, -0.3573],\n",
      "        [ 0.8864,  0.6975,  1.0788, -1.2404,  0.6932, -0.3601],\n",
      "        [ 0.8867,  0.6981,  1.0776, -1.2432,  0.6975, -0.3605],\n",
      "        [ 0.8862,  0.6912,  1.0811, -1.2369,  0.6870, -0.3570],\n",
      "        [ 0.8866,  0.6964,  1.0827, -1.2355,  0.6865, -0.3578],\n",
      "        [ 0.8856,  0.6912,  1.0842, -1.2296,  0.6804, -0.3545],\n",
      "        [ 0.8853,  0.6893,  1.0834, -1.2307,  0.6791, -0.3553],\n",
      "        [ 0.8863,  0.6946,  1.0793, -1.2387,  0.6924, -0.3586],\n",
      "        [ 0.8862,  0.6942,  1.0790, -1.2383,  0.6918, -0.3585],\n",
      "        [ 0.8855,  0.6870,  1.0861, -1.2245,  0.6725, -0.3518],\n",
      "        [ 0.8861,  0.6933,  1.0803, -1.2368,  0.6888, -0.3578],\n",
      "        [ 0.8860,  0.6934,  1.0821, -1.2347,  0.6851, -0.3574],\n",
      "        [ 0.8856,  0.6914,  1.0814, -1.2337,  0.6832, -0.3572],\n",
      "        [ 0.8866,  0.6965,  1.0813, -1.2375,  0.6922, -0.3586],\n",
      "        [ 0.8860,  0.6939,  1.0790, -1.2384,  0.6917, -0.3591],\n",
      "        [ 0.8863,  0.6959,  1.0803, -1.2367,  0.6907, -0.3591],\n",
      "        [ 0.8867,  0.6985,  1.0776, -1.2449,  0.7008, -0.3613],\n",
      "        [ 0.8858,  0.6916,  1.0825, -1.2328,  0.6837, -0.3564],\n",
      "        [ 0.8858,  0.6903,  1.0855, -1.2289,  0.6783, -0.3542],\n",
      "        [ 0.8866,  0.6954,  1.0744, -1.2463,  0.7024, -0.3608],\n",
      "        [ 0.8850,  0.6897,  1.0799, -1.2335,  0.6856, -0.3566],\n",
      "        [ 0.8860,  0.6951,  1.0795, -1.2393,  0.6944, -0.3588]],\n",
      "       device='cuda:0')\n",
      "\n"
     ]
    },
    {
     "ename": "RuntimeError",
     "evalue": "CUDA out of memory. Tried to allocate 44.34 GiB (GPU 0; 10.92 GiB total capacity; 2.08 GiB already allocated; 5.85 GiB free; 4.44 GiB reserved in total by PyTorch)",
     "output_type": "error",
     "traceback": [
      "\u001b[0;31m---------------------------------------------------------------------------\u001b[0m",
      "\u001b[0;31mRuntimeError\u001b[0m                              Traceback (most recent call last)",
      "\u001b[0;32m<ipython-input-3-1d23ecc49a14>\u001b[0m in \u001b[0;36m<module>\u001b[0;34m\u001b[0m\n\u001b[0;32m----> 1\u001b[0;31m \u001b[0mdo_test\u001b[0m\u001b[0;34m(\u001b[0m\u001b[0mconfigs\u001b[0m\u001b[0;34m,\u001b[0m \u001b[0mcheckpoint_path\u001b[0m\u001b[0;34m)\u001b[0m\u001b[0;34m\u001b[0m\u001b[0;34m\u001b[0m\u001b[0m\n\u001b[0m",
      "\u001b[0;32m/nfs/students/winter-term-2020/project-1/project-1/audio_classification/tools/test_net.py\u001b[0m in \u001b[0;36mdo_test\u001b[0;34m(configs, checkpoint_path)\u001b[0m\n\u001b[1;32m    152\u001b[0m \u001b[0;34m\u001b[0m\u001b[0m\n\u001b[1;32m    153\u001b[0m     \u001b[0;32mif\u001b[0m \u001b[0mconfigs\u001b[0m\u001b[0;34m[\u001b[0m\u001b[0;34m\"MODEL\"\u001b[0m\u001b[0;34m]\u001b[0m\u001b[0;34m[\u001b[0m\u001b[0;34m\"CRNN\"\u001b[0m\u001b[0;34m]\u001b[0m\u001b[0;34m[\u001b[0m\u001b[0;34m\"RANDOMISED_SMOOTHING\"\u001b[0m\u001b[0;34m]\u001b[0m \u001b[0;34m==\u001b[0m \u001b[0;32mTrue\u001b[0m\u001b[0;34m:\u001b[0m\u001b[0;34m\u001b[0m\u001b[0;34m\u001b[0m\u001b[0m\n\u001b[0;32m--> 154\u001b[0;31m         \u001b[0mresult\u001b[0m \u001b[0;34m=\u001b[0m \u001b[0mevaluate_robustness_smoothing\u001b[0m\u001b[0;34m(\u001b[0m\u001b[0mmodel\u001b[0m\u001b[0;34m,\u001b[0m \u001b[0mtest_loader\u001b[0m\u001b[0;34m,\u001b[0m\u001b[0mnum_samples_1\u001b[0m\u001b[0;34m=\u001b[0m\u001b[0mint\u001b[0m\u001b[0;34m(\u001b[0m\u001b[0;36m1e2\u001b[0m\u001b[0;34m)\u001b[0m\u001b[0;34m,\u001b[0m \u001b[0mnum_samples_2\u001b[0m\u001b[0;34m=\u001b[0m\u001b[0mint\u001b[0m\u001b[0;34m(\u001b[0m\u001b[0;36m1e3\u001b[0m\u001b[0;34m)\u001b[0m\u001b[0;34m,\u001b[0m \u001b[0malpha\u001b[0m\u001b[0;34m=\u001b[0m\u001b[0;36m0.05\u001b[0m\u001b[0;34m,\u001b[0m \u001b[0mcertification_batch_size\u001b[0m\u001b[0;34m=\u001b[0m\u001b[0mint\u001b[0m\u001b[0;34m(\u001b[0m\u001b[0;36m5e3\u001b[0m\u001b[0;34m)\u001b[0m\u001b[0;34m)\u001b[0m\u001b[0;34m\u001b[0m\u001b[0;34m\u001b[0m\u001b[0m\n\u001b[0m\u001b[1;32m    155\u001b[0m         \u001b[0mprint\u001b[0m\u001b[0;34m(\u001b[0m\u001b[0mresult\u001b[0m\u001b[0;34m)\u001b[0m\u001b[0;34m\u001b[0m\u001b[0;34m\u001b[0m\u001b[0m\n\u001b[1;32m    156\u001b[0m \u001b[0;34m\u001b[0m\u001b[0m\n",
      "\u001b[0;32m/nfs/students/winter-term-2020/project-1/project-1/audio_classification/tools/test_net.py\u001b[0m in \u001b[0;36mevaluate_robustness_smoothing\u001b[0;34m(model, test_loader, num_samples_1, num_samples_2, alpha, certification_batch_size)\u001b[0m\n\u001b[1;32m    123\u001b[0m         \u001b[0mx\u001b[0m \u001b[0;34m=\u001b[0m \u001b[0mx\u001b[0m\u001b[0;34m.\u001b[0m\u001b[0mcuda\u001b[0m\u001b[0;34m(\u001b[0m\u001b[0;34m)\u001b[0m\u001b[0;34m\u001b[0m\u001b[0;34m\u001b[0m\u001b[0m\n\u001b[1;32m    124\u001b[0m         pred_class, radius = model.certify(x, num_samples_1, num_samples_2, alpha=alpha,\n\u001b[0;32m--> 125\u001b[0;31m                                            batch_size=certification_batch_size, seq_len=seq_len)\n\u001b[0m\u001b[1;32m    126\u001b[0m         \u001b[0;32mif\u001b[0m \u001b[0mpred_class\u001b[0m \u001b[0;34m==\u001b[0m \u001b[0my\u001b[0m\u001b[0;34m:\u001b[0m\u001b[0;34m\u001b[0m\u001b[0;34m\u001b[0m\u001b[0m\n\u001b[1;32m    127\u001b[0m             \u001b[0mcorrect_certified\u001b[0m \u001b[0;34m+=\u001b[0m \u001b[0;36m1\u001b[0m\u001b[0;34m\u001b[0m\u001b[0;34m\u001b[0m\u001b[0m\n",
      "\u001b[0;32m/nfs/students/winter-term-2020/project-1/project-1/audio_classification/model/smooth_classifier.py\u001b[0m in \u001b[0;36mcertify\u001b[0;34m(self, inputs, n0, num_samples, alpha, batch_size, seq_len)\u001b[0m\n\u001b[1;32m    175\u001b[0m         \u001b[0mtop_class\u001b[0m \u001b[0;34m=\u001b[0m \u001b[0mclass_counts_selection\u001b[0m\u001b[0;34m.\u001b[0m\u001b[0margmax\u001b[0m\u001b[0;34m(\u001b[0m\u001b[0;34m)\u001b[0m\u001b[0;34m.\u001b[0m\u001b[0mitem\u001b[0m\u001b[0;34m(\u001b[0m\u001b[0;34m)\u001b[0m\u001b[0;34m\u001b[0m\u001b[0;34m\u001b[0m\u001b[0m\n\u001b[1;32m    176\u001b[0m \u001b[0;34m\u001b[0m\u001b[0m\n\u001b[0;32m--> 177\u001b[0;31m         \u001b[0mcounts_estimation\u001b[0m \u001b[0;34m=\u001b[0m \u001b[0mself\u001b[0m\u001b[0;34m.\u001b[0m\u001b[0m_sample_noise_predictions\u001b[0m\u001b[0;34m(\u001b[0m\u001b[0minputs\u001b[0m\u001b[0;34m,\u001b[0m \u001b[0mnum_samples\u001b[0m\u001b[0;34m,\u001b[0m \u001b[0mbatch_size\u001b[0m\u001b[0;34m,\u001b[0m \u001b[0mseq_len\u001b[0m\u001b[0;34m)\u001b[0m\u001b[0;34m\u001b[0m\u001b[0;34m\u001b[0m\u001b[0m\n\u001b[0m\u001b[1;32m    178\u001b[0m         \u001b[0mnum_top_class\u001b[0m \u001b[0;34m=\u001b[0m \u001b[0mcounts_estimation\u001b[0m\u001b[0;34m[\u001b[0m\u001b[0mtop_class\u001b[0m\u001b[0;34m]\u001b[0m\u001b[0;34m.\u001b[0m\u001b[0mitem\u001b[0m\u001b[0;34m(\u001b[0m\u001b[0;34m)\u001b[0m\u001b[0;34m\u001b[0m\u001b[0;34m\u001b[0m\u001b[0m\n\u001b[1;32m    179\u001b[0m         \u001b[0mp_A_lower_bound\u001b[0m \u001b[0;34m=\u001b[0m \u001b[0mlower_confidence_bound\u001b[0m\u001b[0;34m(\u001b[0m\u001b[0mnum_top_class\u001b[0m\u001b[0;34m,\u001b[0m \u001b[0mnum_samples\u001b[0m\u001b[0;34m,\u001b[0m \u001b[0malpha\u001b[0m\u001b[0;34m)\u001b[0m\u001b[0;34m\u001b[0m\u001b[0;34m\u001b[0m\u001b[0m\n",
      "\u001b[0;32m/nfs/students/winter-term-2020/project-1/project-1/audio_classification/model/smooth_classifier.py\u001b[0m in \u001b[0;36m_sample_noise_predictions\u001b[0;34m(self, inputs, num_samples, batch_size, seq_len)\u001b[0m\n\u001b[1;32m    252\u001b[0m                 \u001b[0mseq_lens\u001b[0m \u001b[0;34m=\u001b[0m \u001b[0mseq_len\u001b[0m\u001b[0;34m.\u001b[0m\u001b[0mrepeat\u001b[0m\u001b[0;34m(\u001b[0m\u001b[0mthis_batch_size\u001b[0m\u001b[0;34m)\u001b[0m\u001b[0;34m\u001b[0m\u001b[0;34m\u001b[0m\u001b[0m\n\u001b[1;32m    253\u001b[0m \u001b[0;34m\u001b[0m\u001b[0m\n\u001b[0;32m--> 254\u001b[0;31m                 \u001b[0mpredictions\u001b[0m \u001b[0;34m=\u001b[0m \u001b[0mself\u001b[0m\u001b[0;34m.\u001b[0m\u001b[0mbase_classifier\u001b[0m\u001b[0;34m(\u001b[0m\u001b[0;34m(\u001b[0m\u001b[0mbatch\u001b[0m \u001b[0;34m+\u001b[0m \u001b[0mrandom_noise\u001b[0m\u001b[0;34m)\u001b[0m\u001b[0;34m,\u001b[0m \u001b[0mseq_lens\u001b[0m\u001b[0;34m)\u001b[0m \u001b[0;31m#.clamp(0, 1)\u001b[0m\u001b[0;34m\u001b[0m\u001b[0;34m\u001b[0m\u001b[0m\n\u001b[0m\u001b[1;32m    255\u001b[0m \u001b[0;34m\u001b[0m\u001b[0m\n\u001b[1;32m    256\u001b[0m                 \u001b[0mprint\u001b[0m\u001b[0;34m(\u001b[0m\u001b[0;34m\"predictions from _sample_noise_predictions\"\u001b[0m\u001b[0;34m,\u001b[0m\u001b[0mpredictions\u001b[0m\u001b[0;34m)\u001b[0m\u001b[0;34m\u001b[0m\u001b[0;34m\u001b[0m\u001b[0m\n",
      "\u001b[0;32m~/anaconda3/envs/project_1/lib/python3.7/site-packages/torch/nn/modules/module.py\u001b[0m in \u001b[0;36m_call_impl\u001b[0;34m(self, *input, **kwargs)\u001b[0m\n\u001b[1;32m    725\u001b[0m             \u001b[0mresult\u001b[0m \u001b[0;34m=\u001b[0m \u001b[0mself\u001b[0m\u001b[0;34m.\u001b[0m\u001b[0m_slow_forward\u001b[0m\u001b[0;34m(\u001b[0m\u001b[0;34m*\u001b[0m\u001b[0minput\u001b[0m\u001b[0;34m,\u001b[0m \u001b[0;34m**\u001b[0m\u001b[0mkwargs\u001b[0m\u001b[0;34m)\u001b[0m\u001b[0;34m\u001b[0m\u001b[0;34m\u001b[0m\u001b[0m\n\u001b[1;32m    726\u001b[0m         \u001b[0;32melse\u001b[0m\u001b[0;34m:\u001b[0m\u001b[0;34m\u001b[0m\u001b[0;34m\u001b[0m\u001b[0m\n\u001b[0;32m--> 727\u001b[0;31m             \u001b[0mresult\u001b[0m \u001b[0;34m=\u001b[0m \u001b[0mself\u001b[0m\u001b[0;34m.\u001b[0m\u001b[0mforward\u001b[0m\u001b[0;34m(\u001b[0m\u001b[0;34m*\u001b[0m\u001b[0minput\u001b[0m\u001b[0;34m,\u001b[0m \u001b[0;34m**\u001b[0m\u001b[0mkwargs\u001b[0m\u001b[0;34m)\u001b[0m\u001b[0;34m\u001b[0m\u001b[0;34m\u001b[0m\u001b[0m\n\u001b[0m\u001b[1;32m    728\u001b[0m         for hook in itertools.chain(\n\u001b[1;32m    729\u001b[0m                 \u001b[0m_global_forward_hooks\u001b[0m\u001b[0;34m.\u001b[0m\u001b[0mvalues\u001b[0m\u001b[0;34m(\u001b[0m\u001b[0;34m)\u001b[0m\u001b[0;34m,\u001b[0m\u001b[0;34m\u001b[0m\u001b[0;34m\u001b[0m\u001b[0m\n",
      "\u001b[0;32m/nfs/students/winter-term-2020/project-1/project-1/audio_classification/model/crnn.py\u001b[0m in \u001b[0;36mforward\u001b[0;34m(self, x, seq_lens)\u001b[0m\n\u001b[1;32m     52\u001b[0m \u001b[0;34m\u001b[0m\u001b[0m\n\u001b[1;32m     53\u001b[0m     \u001b[0;32mdef\u001b[0m \u001b[0mforward\u001b[0m\u001b[0;34m(\u001b[0m\u001b[0mself\u001b[0m\u001b[0;34m,\u001b[0m \u001b[0mx\u001b[0m\u001b[0;34m,\u001b[0m \u001b[0mseq_lens\u001b[0m\u001b[0;34m)\u001b[0m\u001b[0;34m:\u001b[0m\u001b[0;34m\u001b[0m\u001b[0;34m\u001b[0m\u001b[0m\n\u001b[0;32m---> 54\u001b[0;31m         \u001b[0mout\u001b[0m \u001b[0;34m=\u001b[0m \u001b[0mF\u001b[0m\u001b[0;34m.\u001b[0m\u001b[0mmax_pool2d\u001b[0m\u001b[0;34m(\u001b[0m\u001b[0mF\u001b[0m\u001b[0;34m.\u001b[0m\u001b[0melu\u001b[0m\u001b[0;34m(\u001b[0m\u001b[0mself\u001b[0m\u001b[0;34m.\u001b[0m\u001b[0mbn1\u001b[0m\u001b[0;34m(\u001b[0m\u001b[0mself\u001b[0m\u001b[0;34m.\u001b[0m\u001b[0mconv1\u001b[0m\u001b[0;34m(\u001b[0m\u001b[0mx\u001b[0m\u001b[0;34m)\u001b[0m\u001b[0;34m)\u001b[0m\u001b[0;34m)\u001b[0m\u001b[0;34m,\u001b[0m \u001b[0;36m2\u001b[0m\u001b[0;34m,\u001b[0m \u001b[0mstride\u001b[0m\u001b[0;34m=\u001b[0m\u001b[0;36m2\u001b[0m\u001b[0;34m)\u001b[0m\u001b[0;34m\u001b[0m\u001b[0;34m\u001b[0m\u001b[0m\n\u001b[0m\u001b[1;32m     55\u001b[0m         \u001b[0mout\u001b[0m \u001b[0;34m=\u001b[0m \u001b[0mself\u001b[0m\u001b[0;34m.\u001b[0m\u001b[0mdropout1\u001b[0m\u001b[0;34m(\u001b[0m\u001b[0mout\u001b[0m\u001b[0;34m)\u001b[0m\u001b[0;34m\u001b[0m\u001b[0;34m\u001b[0m\u001b[0m\n\u001b[1;32m     56\u001b[0m         \u001b[0mout\u001b[0m \u001b[0;34m=\u001b[0m \u001b[0mF\u001b[0m\u001b[0;34m.\u001b[0m\u001b[0mmax_pool2d\u001b[0m\u001b[0;34m(\u001b[0m\u001b[0mF\u001b[0m\u001b[0;34m.\u001b[0m\u001b[0melu\u001b[0m\u001b[0;34m(\u001b[0m\u001b[0mself\u001b[0m\u001b[0;34m.\u001b[0m\u001b[0mbn2\u001b[0m\u001b[0;34m(\u001b[0m\u001b[0mself\u001b[0m\u001b[0;34m.\u001b[0m\u001b[0mconv2\u001b[0m\u001b[0;34m(\u001b[0m\u001b[0mout\u001b[0m\u001b[0;34m)\u001b[0m\u001b[0;34m)\u001b[0m\u001b[0;34m)\u001b[0m\u001b[0;34m,\u001b[0m \u001b[0;36m3\u001b[0m\u001b[0;34m,\u001b[0m \u001b[0mstride\u001b[0m\u001b[0;34m=\u001b[0m\u001b[0;36m3\u001b[0m\u001b[0;34m)\u001b[0m\u001b[0;34m\u001b[0m\u001b[0;34m\u001b[0m\u001b[0m\n",
      "\u001b[0;32m~/anaconda3/envs/project_1/lib/python3.7/site-packages/torch/nn/modules/module.py\u001b[0m in \u001b[0;36m_call_impl\u001b[0;34m(self, *input, **kwargs)\u001b[0m\n\u001b[1;32m    725\u001b[0m             \u001b[0mresult\u001b[0m \u001b[0;34m=\u001b[0m \u001b[0mself\u001b[0m\u001b[0;34m.\u001b[0m\u001b[0m_slow_forward\u001b[0m\u001b[0;34m(\u001b[0m\u001b[0;34m*\u001b[0m\u001b[0minput\u001b[0m\u001b[0;34m,\u001b[0m \u001b[0;34m**\u001b[0m\u001b[0mkwargs\u001b[0m\u001b[0;34m)\u001b[0m\u001b[0;34m\u001b[0m\u001b[0;34m\u001b[0m\u001b[0m\n\u001b[1;32m    726\u001b[0m         \u001b[0;32melse\u001b[0m\u001b[0;34m:\u001b[0m\u001b[0;34m\u001b[0m\u001b[0;34m\u001b[0m\u001b[0m\n\u001b[0;32m--> 727\u001b[0;31m             \u001b[0mresult\u001b[0m \u001b[0;34m=\u001b[0m \u001b[0mself\u001b[0m\u001b[0;34m.\u001b[0m\u001b[0mforward\u001b[0m\u001b[0;34m(\u001b[0m\u001b[0;34m*\u001b[0m\u001b[0minput\u001b[0m\u001b[0;34m,\u001b[0m \u001b[0;34m**\u001b[0m\u001b[0mkwargs\u001b[0m\u001b[0;34m)\u001b[0m\u001b[0;34m\u001b[0m\u001b[0;34m\u001b[0m\u001b[0m\n\u001b[0m\u001b[1;32m    728\u001b[0m         for hook in itertools.chain(\n\u001b[1;32m    729\u001b[0m                 \u001b[0m_global_forward_hooks\u001b[0m\u001b[0;34m.\u001b[0m\u001b[0mvalues\u001b[0m\u001b[0;34m(\u001b[0m\u001b[0;34m)\u001b[0m\u001b[0;34m,\u001b[0m\u001b[0;34m\u001b[0m\u001b[0;34m\u001b[0m\u001b[0m\n",
      "\u001b[0;32m~/anaconda3/envs/project_1/lib/python3.7/site-packages/torch/nn/modules/conv.py\u001b[0m in \u001b[0;36mforward\u001b[0;34m(self, input)\u001b[0m\n\u001b[1;32m    421\u001b[0m \u001b[0;34m\u001b[0m\u001b[0m\n\u001b[1;32m    422\u001b[0m     \u001b[0;32mdef\u001b[0m \u001b[0mforward\u001b[0m\u001b[0;34m(\u001b[0m\u001b[0mself\u001b[0m\u001b[0;34m,\u001b[0m \u001b[0minput\u001b[0m\u001b[0;34m:\u001b[0m \u001b[0mTensor\u001b[0m\u001b[0;34m)\u001b[0m \u001b[0;34m->\u001b[0m \u001b[0mTensor\u001b[0m\u001b[0;34m:\u001b[0m\u001b[0;34m\u001b[0m\u001b[0;34m\u001b[0m\u001b[0m\n\u001b[0;32m--> 423\u001b[0;31m         \u001b[0;32mreturn\u001b[0m \u001b[0mself\u001b[0m\u001b[0;34m.\u001b[0m\u001b[0m_conv_forward\u001b[0m\u001b[0;34m(\u001b[0m\u001b[0minput\u001b[0m\u001b[0;34m,\u001b[0m \u001b[0mself\u001b[0m\u001b[0;34m.\u001b[0m\u001b[0mweight\u001b[0m\u001b[0;34m)\u001b[0m\u001b[0;34m\u001b[0m\u001b[0;34m\u001b[0m\u001b[0m\n\u001b[0m\u001b[1;32m    424\u001b[0m \u001b[0;34m\u001b[0m\u001b[0m\n\u001b[1;32m    425\u001b[0m \u001b[0;32mclass\u001b[0m \u001b[0mConv3d\u001b[0m\u001b[0;34m(\u001b[0m\u001b[0m_ConvNd\u001b[0m\u001b[0;34m)\u001b[0m\u001b[0;34m:\u001b[0m\u001b[0;34m\u001b[0m\u001b[0;34m\u001b[0m\u001b[0m\n",
      "\u001b[0;32m~/anaconda3/envs/project_1/lib/python3.7/site-packages/torch/nn/modules/conv.py\u001b[0m in \u001b[0;36m_conv_forward\u001b[0;34m(self, input, weight)\u001b[0m\n\u001b[1;32m    418\u001b[0m                             _pair(0), self.dilation, self.groups)\n\u001b[1;32m    419\u001b[0m         return F.conv2d(input, weight, self.bias, self.stride,\n\u001b[0;32m--> 420\u001b[0;31m                         self.padding, self.dilation, self.groups)\n\u001b[0m\u001b[1;32m    421\u001b[0m \u001b[0;34m\u001b[0m\u001b[0m\n\u001b[1;32m    422\u001b[0m     \u001b[0;32mdef\u001b[0m \u001b[0mforward\u001b[0m\u001b[0;34m(\u001b[0m\u001b[0mself\u001b[0m\u001b[0;34m,\u001b[0m \u001b[0minput\u001b[0m\u001b[0;34m:\u001b[0m \u001b[0mTensor\u001b[0m\u001b[0;34m)\u001b[0m \u001b[0;34m->\u001b[0m \u001b[0mTensor\u001b[0m\u001b[0;34m:\u001b[0m\u001b[0;34m\u001b[0m\u001b[0;34m\u001b[0m\u001b[0m\n",
      "\u001b[0;31mRuntimeError\u001b[0m: CUDA out of memory. Tried to allocate 44.34 GiB (GPU 0; 10.92 GiB total capacity; 2.08 GiB already allocated; 5.85 GiB free; 4.44 GiB reserved in total by PyTorch)"
     ]
    }
   ],
   "source": [
    "do_test(configs, checkpoint_path)"
   ]
  }
 ],
 "metadata": {
  "kernelspec": {
   "display_name": "project_1",
   "language": "python",
   "name": "project_1"
  },
  "language_info": {
   "codemirror_mode": {
    "name": "ipython",
    "version": 3
   },
   "file_extension": ".py",
   "mimetype": "text/x-python",
   "name": "python",
   "nbconvert_exporter": "python",
   "pygments_lexer": "ipython3",
   "version": "3.7.9"
  }
 },
 "nbformat": 4,
 "nbformat_minor": 4
}
