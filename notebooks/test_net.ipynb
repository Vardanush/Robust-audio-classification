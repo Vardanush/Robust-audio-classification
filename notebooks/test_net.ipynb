{
 "cells": [
  {
   "cell_type": "code",
   "execution_count": 4,
   "metadata": {},
   "outputs": [],
   "source": [
    "import warnings\n",
    "warnings.filterwarnings('ignore')\n",
    "\n",
    "import sys\n",
    "pkg_path = \"/nfs/homedirs/yuny/project-1/audio_classification\"\n",
    "if pkg_path not in sys.path:\n",
    "    sys.path.append(pkg_path)\n",
    "    \n",
    "import yaml\n",
    "import torch\n",
    "from audio_classification.model import lit_m11, lit_m18, LitCRNN, SmoothClassifier\n",
    "from audio_classification.tools import do_test"
   ]
  },
  {
   "cell_type": "code",
   "execution_count": 5,
   "metadata": {},
   "outputs": [],
   "source": [
    "with open(\"/nfs/homedirs/yuny/project-1/audio_classification/configs/crnn_bmw.yaml\", \"r\") as config_file:\n",
    "    configs = yaml.load(config_file)\n",
    "configs['DATASET']['AUGMENTATION'] = 'none'\n",
    "configs['LOSS'] = 'cross_entropy'\n",
    "configs['CHECKPOINT']['SAVE_NAME'] = 'crnn-bmw-trial'        \n",
    "checkpoint_path='/nfs/homedirs/yuny/project-1/weights/bmw/crnn-bmw-trial-epoch=30-val_acc=0.984.ckpt'"
   ]
  },
  {
   "cell_type": "code",
   "execution_count": 6,
   "metadata": {},
   "outputs": [
    {
     "name": "stdout",
     "output_type": "stream",
     "text": [
      "Data augmentation for BMW dataset: none\n",
      "Data augmentation for BMW dataset: None\n",
      "Data augmentation for BMW dataset: none\n",
      "Data augmentation for BMW dataset: none\n"
     ]
    },
    {
     "name": "stderr",
     "output_type": "stream",
     "text": [
      "GPU available: True, used: True\n",
      "TPU available: False, using: 0 TPU cores\n",
      "LOCAL_RANK: 0 - CUDA_VISIBLE_DEVICES: [0]\n",
      "Set SLURM handle signals.\n"
     ]
    },
    {
     "data": {
      "application/vnd.jupyter.widget-view+json": {
       "model_id": "3117d496d4584cf188ee7760ebce4fba",
       "version_major": 2,
       "version_minor": 0
      },
      "text/plain": [
       "HBox(children=(HTML(value='Testing'), FloatProgress(value=1.0, bar_style='info', layout=Layout(flex='2'), max=…"
      ]
     },
     "metadata": {},
     "output_type": "display_data"
    },
    {
     "name": "stdout",
     "output_type": "stream",
     "text": [
      "Precision and recall per class:\n",
      "              precision    recall  f1-score   support\n",
      "\n",
      "           0       1.00      0.50      0.67         2\n",
      "           1       1.00      1.00      1.00         4\n",
      "           2       0.93      1.00      0.96        13\n",
      "           3       1.00      1.00      1.00        24\n",
      "           4       1.00      1.00      1.00        14\n",
      "           5       1.00      1.00      1.00         3\n",
      "\n",
      "    accuracy                           0.98        60\n",
      "   macro avg       0.99      0.92      0.94        60\n",
      "weighted avg       0.98      0.98      0.98        60\n",
      "\n",
      "Confusion matrix:\n",
      "[[ 1  0  1  0  0  0]\n",
      " [ 0  4  0  0  0  0]\n",
      " [ 0  0 13  0  0  0]\n",
      " [ 0  0  0 24  0  0]\n",
      " [ 0  0  0  0 14  0]\n",
      " [ 0  0  0  0  0  3]]\n",
      "--------------------------------------------------------------------------------\n",
      "DATALOADER:0 TEST RESULTS\n",
      "{'test_acc': tensor(0.9833, device='cuda:0'),\n",
      " 'test_loss': tensor(0.0832, device='cuda:0'),\n",
      " 'test_precision': tensor(0.2593, device='cuda:0'),\n",
      " 'test_recall': tensor(0.2556, device='cuda:0')}\n",
      "--------------------------------------------------------------------------------\n",
      "\n"
     ]
    }
   ],
   "source": [
    "do_test(configs, checkpoint_path)"
   ]
  },
  {
   "cell_type": "code",
   "execution_count": null,
   "metadata": {},
   "outputs": [],
   "source": []
  }
 ],
 "metadata": {
  "kernelspec": {
   "display_name": "Python 3",
   "language": "python",
   "name": "python3"
  },
  "language_info": {
   "codemirror_mode": {
    "name": "ipython",
    "version": 3
   },
   "file_extension": ".py",
   "mimetype": "text/x-python",
   "name": "python",
   "nbconvert_exporter": "python",
   "pygments_lexer": "ipython3",
   "version": "3.7.8"
  }
 },
 "nbformat": 4,
 "nbformat_minor": 4
}
