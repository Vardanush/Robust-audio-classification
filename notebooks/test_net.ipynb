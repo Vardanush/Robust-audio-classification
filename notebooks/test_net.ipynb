{
 "cells": [
  {
   "cell_type": "code",
   "execution_count": 7,
   "metadata": {},
   "outputs": [],
   "source": [
    "import warnings\n",
    "warnings.filterwarnings('ignore')\n",
    "\n",
    "import sys\n",
    "pkg_path = \"/nfs/homedirs/nikoghos/project-1/\"\n",
    "if pkg_path not in sys.path:\n",
    "    sys.path.append(pkg_path)\n",
    "    \n",
    "import yaml\n",
    "import torch\n",
    "from audio_classification.tools import do_test"
   ]
  },
  {
   "cell_type": "code",
   "execution_count": 10,
   "metadata": {},
   "outputs": [],
   "source": [
    "\n",
    "with open(\"../logs/crnn_us8k_fold9/crnn-us8k_fold9_mixup/version_3/hparams.yaml\", \"r\") as config_file:\n",
    "        configs = yaml.load(config_file)\n",
    "        \n",
    "checkpoint_path=\"../weights/us8k/crnn-us8k_fold9_mixup-epoch=81-val_acc=0.725.ckpt\""
   ]
  },
  {
   "cell_type": "code",
   "execution_count": 11,
   "metadata": {},
   "outputs": [
    {
     "data": {
      "text/plain": [
       "{'ATTACK': False,\n",
       " 'CHECKPOINT': {'SAVE_NAME': 'crnn-us8k_fold9_mixup',\n",
       "  'SAVE_PATH': '../weights/us8k',\n",
       "  'SAVE_TOP_K': 1},\n",
       " 'DATALOADER': {'BATCH_SIZE': 4, 'NUM_WORKERS': 20},\n",
       " 'DATASET': {'ANNOTATION_PATH': '/nfs/students/winter-term-2020/project-1/datasets/UrbanSound8K/metadata/UrbanSound8K.csv',\n",
       "  'AUGMENTATION': 'none',\n",
       "  'FILE_PATH': '/nfs/students/winter-term-2020/project-1/datasets/UrbanSound8K/audio/',\n",
       "  'NAME': 'UrbanSounds8K',\n",
       "  'NOISE_PATH': '/nfs/students/winter-term-2020/project-1/MUSAN/free-sound/',\n",
       "  'VAL_FOLD': 9,\n",
       "  'WEIGHT': 'NORMAL'},\n",
       " 'MODEL': {'CRNN': {'INCLUDE_TOP': True,\n",
       "   'INCLUDE_TRANSFORM': False,\n",
       "   'MIXUP': True,\n",
       "   'RANDOMISED_SMOOTHING': False},\n",
       "  'NAME': 'LitCRNN',\n",
       "  'NUM_CLASSES': 10},\n",
       " 'SOLVER': {'ALPHA': 0.7608399210841633,\n",
       "  'GAMMA': 0.1,\n",
       "  'LEARNING_RATE': 0.0004881731392294949,\n",
       "  'LOG_PATH': '../logs/crnn_us8k_fold9',\n",
       "  'MAX_EPOCH': 100,\n",
       "  'MIN_EPOCH': 10,\n",
       "  'NUM_GPUS': 1,\n",
       "  'SIGMA': 0.5,\n",
       "  'STEP_SIZE': 7,\n",
       "  'WEIGHT_DECAY': 2.628328526113425e-08},\n",
       " 'TRANSFORM': {'HOP_LENGTH': 256}}"
      ]
     },
     "execution_count": 11,
     "metadata": {},
     "output_type": "execute_result"
    }
   ],
   "source": [
    "configs['DATALOADER']['BATCH_SIZE'] = 4\n",
    "configs"
   ]
  },
  {
   "cell_type": "code",
   "execution_count": 12,
   "metadata": {},
   "outputs": [
    {
     "name": "stdout",
     "output_type": "stream",
     "text": [
      "Transformed raw audio into melspectrogram in dataloader.\n",
      "Data augmentation for US8K dataset: none\n",
      "Data augmentation for US8K dataset: None\n",
      "Data augmentation for US8K dataset: none\n",
      "Data augmentation for US8K dataset: none\n"
     ]
    },
    {
     "name": "stderr",
     "output_type": "stream",
     "text": [
      "GPU available: True, used: True\n",
      "TPU available: False, using: 0 TPU cores\n",
      "LOCAL_RANK: 0 - CUDA_VISIBLE_DEVICES: [0]\n",
      "Set SLURM handle signals.\n"
     ]
    },
    {
     "data": {
      "application/vnd.jupyter.widget-view+json": {
       "model_id": "ba5a1c3e705a45deb3513ac80223f514",
       "version_major": 2,
       "version_minor": 0
      },
      "text/plain": [
       "HBox(children=(FloatProgress(value=1.0, bar_style='info', description='Testing', layout=Layout(flex='2'), max=…"
      ]
     },
     "metadata": {},
     "output_type": "display_data"
    },
    {
     "name": "stdout",
     "output_type": "stream",
     "text": [
      "Precision and recall per class:\n",
      "              precision    recall  f1-score   support\n",
      "\n",
      "           0       0.77      0.68      0.72       100\n",
      "           1       0.91      0.97      0.94        33\n",
      "           2       0.63      0.84      0.72       100\n",
      "           3       0.79      0.74      0.76       100\n",
      "           4       0.85      0.86      0.86       100\n",
      "           5       0.94      0.84      0.89        93\n",
      "           6       0.77      0.94      0.85        32\n",
      "           7       1.00      0.98      0.99        96\n",
      "           8       0.79      0.66      0.72        83\n",
      "           9       0.77      0.77      0.77       100\n",
      "\n",
      "    accuracy                           0.81       837\n",
      "   macro avg       0.82      0.83      0.82       837\n",
      "weighted avg       0.82      0.81      0.81       837\n",
      "\n",
      "Confusion matrix:\n",
      "[[68  0  7  0  3  3  0  0  8 11]\n",
      " [ 0 32  1  0  0  0  0  0  0  0]\n",
      " [ 3  0 84  9  1  1  0  0  2  0]\n",
      " [ 1  1  6 74  4  0  6  0  3  5]\n",
      " [ 7  1  2  2 86  1  1  0  0  0]\n",
      " [ 6  0  0  0  0 78  2  0  0  7]\n",
      " [ 0  0  0  2  0  0 30  0  0  0]\n",
      " [ 0  0  0  0  2  0  0 94  0  0]\n",
      " [ 3  0 18  7  0  0  0  0 55  0]\n",
      " [ 0  1 15  0  5  0  0  0  2 77]]\n",
      "--------------------------------------------------------------------------------\n",
      "DATALOADER:0 TEST RESULTS\n",
      "{'test_acc': tensor(0.8100, device='cuda:0'),\n",
      " 'test_loss': tensor(0.6351, device='cuda:0'),\n",
      " 'test_precision': tensor(0.1184, device='cuda:0'),\n",
      " 'test_recall': tensor(0.1088, device='cuda:0'),\n",
      " 'val_acc': tensor(0.8100, device='cuda:0'),\n",
      " 'val_loss': tensor(0.6351, device='cuda:0')}\n",
      "--------------------------------------------------------------------------------\n",
      "\n"
     ]
    }
   ],
   "source": [
    "do_test(configs, checkpoint_path)"
   ]
  },
  {
   "cell_type": "code",
   "execution_count": 6,
   "metadata": {},
   "outputs": [
    {
     "data": {
      "text/plain": [
       "{'ATTACK': False,\n",
       " 'CHECKPOINT': {'SAVE_NAME': 'crnn-bmw_fold2_smooth',\n",
       "  'SAVE_PATH': '../weights/crnn_bmw',\n",
       "  'SAVE_TOP_K': 1},\n",
       " 'DATALOADER': {'BATCH_SIZE': 1, 'NUM_WORKERS': 20},\n",
       " 'DATASET': {'ANNOTATION_PATH': '/nfs/students/winter-term-2020/project-1/datasets/BMW/meta/bmw.csv',\n",
       "  'AUGMENTATION': 'noise',\n",
       "  'FOLDER_PATH': '/nfs/students/winter-term-2020/project-1/datasets/Brake_Noise',\n",
       "  'NAME': 'BMW',\n",
       "  'NOISE_PATH': '/nfs/students/winter-term-2020/project-1/MUSAN/free-sound/',\n",
       "  'VAL_FOLD': 2,\n",
       "  'WEIGHT': 'NORMAL'},\n",
       " 'MODEL': {'CRNN': {'INCLUDE_TOP': True,\n",
       "   'INCLUDE_TRANSFORM': False,\n",
       "   'MIXUP': True,\n",
       "   'RANDOMISED_SMOOTHING': True},\n",
       "  'NAME': 'LitCRNN',\n",
       "  'NUM_CLASSES': 6},\n",
       " 'SOLVER': {'ALPHA': 1.7522326562381854,\n",
       "  'GAMMA': 0.5,\n",
       "  'LEARNING_RATE': 0.00021701925536763377,\n",
       "  'LOG_PATH': '../logs/fold2_smooth',\n",
       "  'MAX_EPOCH': 150,\n",
       "  'MIN_EPOCH': 10,\n",
       "  'NUM_GPUS': 1,\n",
       "  'SIGMA': 1.0,\n",
       "  'STEP_SIZE': 10,\n",
       "  'WEIGHT_DECAY': 2.9720995669595073e-08},\n",
       " 'TRANSFORM': {'HOP_LENGTH': 256}}"
      ]
     },
     "execution_count": 6,
     "metadata": {},
     "output_type": "execute_result"
    }
   ],
   "source": [
    "configs"
   ]
  },
  {
   "cell_type": "code",
   "execution_count": 5,
   "metadata": {},
   "outputs": [
    {
     "name": "stdout",
     "output_type": "stream",
     "text": [
      "Transformed raw audio into melspectrogram in dataloader.\n",
      "Data augmentation for US8K dataset: none\n",
      "Data augmentation for US8K dataset: None\n",
      "Data augmentation for US8K dataset: none\n",
      "Data augmentation for US8K dataset: none\n"
     ]
    },
    {
     "data": {
      "application/vnd.jupyter.widget-view+json": {
       "model_id": "251a485a63234ed9ba9727e683949793",
       "version_major": 2,
       "version_minor": 0
      },
      "text/plain": [
       "HBox(children=(FloatProgress(value=0.0, max=837.0), HTML(value='')))"
      ]
     },
     "metadata": {},
     "output_type": "display_data"
    },
    {
     "name": "stdout",
     "output_type": "stream",
     "text": [
      "\n",
      "{'abstains': 1, 'false_predictions': 184, 'correct_certified': 652, 'avg_radius': 2.111551421913322}\n"
     ]
    }
   ],
   "source": [
    "with open(\"../logs/crnn_us8k_fold9_smooth/crnn-us8k_fold9_smooth/version_2/hparams.yaml\", \"r\") as config_file:\n",
    "        configs = yaml.load(config_file)\n",
    "        \n",
    "checkpoint_path=\"../weights/us8k/crnn-us8k_fold9_smooth-epoch=46-val_acc=0.715.ckpt\"\n",
    "do_test(configs, checkpoint_path)"
   ]
  }
 ],
 "metadata": {
  "kernelspec": {
   "display_name": "Python 3",
   "language": "python",
   "name": "python3"
  },
  "language_info": {
   "codemirror_mode": {
    "name": "ipython",
    "version": 3
   },
   "file_extension": ".py",
   "mimetype": "text/x-python",
   "name": "python",
   "nbconvert_exporter": "python",
   "pygments_lexer": "ipython3",
   "version": "3.8.3"
  }
 },
 "nbformat": 4,
 "nbformat_minor": 4
}