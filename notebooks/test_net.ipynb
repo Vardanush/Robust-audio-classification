{
 "cells": [
  {
   "cell_type": "code",
   "execution_count": 1,
   "metadata": {},
   "outputs": [],
   "source": [
    "import warnings\n",
    "warnings.filterwarnings('ignore')\n",
    "\n",
    "import sys\n",
    "pkg_path = \"/nfs/homedirs/nikoghos/project-1/\"\n",
    "if pkg_path not in sys.path:\n",
    "    sys.path.append(pkg_path)\n",
    "    \n",
    "import yaml\n",
    "import torch\n",
    "from audio_classification.tools import do_test"
   ]
  },
  {
   "cell_type": "code",
   "execution_count": 2,
   "metadata": {},
   "outputs": [],
   "source": [
    "with open(\"../audio_classification/configs/crnn_bmw.yaml\", \"r\") as config_file:\n",
    "        configs = yaml.load(config_file)\n",
    "        \n",
    "checkpoint_path=\"../weights/crnn_bmw/crnn-bmwmerged-epoch=15-val_acc=0.934.ckpt\""
   ]
  },
  {
   "cell_type": "code",
   "execution_count": 3,
   "metadata": {},
   "outputs": [
    {
     "name": "stderr",
     "output_type": "stream",
     "text": [
      "GPU available: True, used: True\n",
      "TPU available: False, using: 0 TPU cores\n",
      "LOCAL_RANK: 0 - CUDA_VISIBLE_DEVICES: [0]\n",
      "Set SLURM handle signals.\n"
     ]
    },
    {
     "data": {
      "application/vnd.jupyter.widget-view+json": {
       "model_id": "ad4c77d905334fe2a7c43b1628713ca6",
       "version_major": 2,
       "version_minor": 0
      },
      "text/plain": [
       "HBox(children=(FloatProgress(value=1.0, bar_style='info', description='Testing', layout=Layout(flex='2'), max=…"
      ]
     },
     "metadata": {},
     "output_type": "display_data"
    },
    {
     "name": "stdout",
     "output_type": "stream",
     "text": [
      "Precision and recall per class:\n",
      "              precision    recall  f1-score   support\n",
      "\n",
      "           0       0.00      0.00      0.00         6\n",
      "           1       0.86      0.46      0.60        13\n",
      "           2       0.68      0.93      0.79        28\n",
      "           3       1.00      1.00      1.00        25\n",
      "           4       0.84      0.91      0.87        23\n",
      "           5       1.00      1.00      1.00         5\n",
      "\n",
      "    accuracy                           0.83       100\n",
      "   macro avg       0.73      0.72      0.71       100\n",
      "weighted avg       0.80      0.83      0.80       100\n",
      "\n",
      "Confusion matrix:\n",
      "[[ 0  0  5  0  1  0]\n",
      " [ 0  6  5  0  2  0]\n",
      " [ 0  1 26  0  1  0]\n",
      " [ 0  0  0 25  0  0]\n",
      " [ 0  0  2  0 21  0]\n",
      " [ 0  0  0  0  0  5]]\n",
      "--------------------------------------------------------------------------------\n",
      "DATALOADER:0 TEST RESULTS\n",
      "{'test_acc': tensor(0.8300, device='cuda:0'),\n",
      " 'test_loss': tensor(0.8792, device='cuda:0'),\n",
      " 'test_precision': tensor(0.1840, device='cuda:0'),\n",
      " 'test_recall': tensor(0.1718, device='cuda:0'),\n",
      " 'val_acc': tensor(0.8300, device='cuda:0'),\n",
      " 'val_loss': tensor(0.8792, device='cuda:0')}\n",
      "--------------------------------------------------------------------------------\n",
      "\n"
     ]
    }
   ],
   "source": [
    "do_test(configs, checkpoint_path)"
   ]
  },
  {
   "cell_type": "code",
   "execution_count": 11,
   "metadata": {},
   "outputs": [],
   "source": [
    "from audio_classification.data import BMWDataset\n",
    "\n",
    "sets = BMWDataset(configs, list(range(1, 11)), transform=None)"
   ]
  },
  {
   "cell_type": "code",
   "execution_count": 15,
   "metadata": {},
   "outputs": [],
   "source": [
    "def find_classes(directory):\n",
    "        \"\"\"\n",
    "        Finds the class folders in a dataset\n",
    "        :param directory: root directory of the dataset\n",
    "        :returns: (classes, class_to_idx), where\n",
    "          - classes is the list of all classes found\n",
    "          - class_to_idx is a dict that maps class to label\n",
    "        \"\"\"\n",
    "        classes = [d.name for d in os.scandir(directory) if d.is_dir()]\n",
    "        classes.sort()\n",
    "        class_to_idx = {classes[i]: i for i in range(len(classes))}\n",
    "        print(class_to_idx)\n",
    "        return classes, class_to_idx"
   ]
  },
  {
   "cell_type": "code",
   "execution_count": 18,
   "metadata": {},
   "outputs": [
    {
     "name": "stdout",
     "output_type": "stream",
     "text": [
      "{'Hubknarzen': 0, 'Knarzen': 1, 'No brake noise': 2, 'Quietschen': 3, 'Scheibenknacken': 4, 'Schrummknarzen': 5}\n"
     ]
    },
    {
     "data": {
      "text/plain": [
       "(['Hubknarzen',\n",
       "  'Knarzen',\n",
       "  'No brake noise',\n",
       "  'Quietschen',\n",
       "  'Scheibenknacken',\n",
       "  'Schrummknarzen'],\n",
       " {'Hubknarzen': 0,\n",
       "  'Knarzen': 1,\n",
       "  'No brake noise': 2,\n",
       "  'Quietschen': 3,\n",
       "  'Scheibenknacken': 4,\n",
       "  'Schrummknarzen': 5})"
      ]
     },
     "execution_count": 18,
     "metadata": {},
     "output_type": "execute_result"
    }
   ],
   "source": [
    "import os\n",
    "find_classes(\"/nfs/students/winter-term-2020/project-1/datasets/Brake_Noise/\")"
   ]
  },
  {
   "cell_type": "code",
   "execution_count": null,
   "metadata": {},
   "outputs": [],
   "source": []
  }
 ],
 "metadata": {
  "kernelspec": {
   "display_name": "Python 3",
   "language": "python",
   "name": "python3"
  },
  "language_info": {
   "codemirror_mode": {
    "name": "ipython",
    "version": 3
   },
   "file_extension": ".py",
   "mimetype": "text/x-python",
   "name": "python",
   "nbconvert_exporter": "python",
   "pygments_lexer": "ipython3",
   "version": "3.8.3"
  }
 },
 "nbformat": 4,
 "nbformat_minor": 4
}
