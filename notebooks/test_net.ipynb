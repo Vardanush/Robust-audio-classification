{
 "cells": [
  {
   "cell_type": "code",
   "execution_count": 1,
   "metadata": {},
   "outputs": [],
   "source": [
    "import warnings\n",
    "warnings.filterwarnings('ignore')\n",
    "\n",
    "import sys\n",
    "pkg_path = \"/nfs/homedirs/yuny/project-1/audio_classification\"\n",
    "if pkg_path not in sys.path:\n",
    "    sys.path.append(pkg_path)\n",
    "    \n",
    "import yaml\n",
    "import torch\n",
    "from audio_classification.model import lit_m11, lit_m18, LitCRNN, SmoothClassifier\n",
    "from audio_classification.tools import do_test"
   ]
  },
  {
   "cell_type": "code",
   "execution_count": 2,
   "metadata": {},
   "outputs": [],
   "source": [
    "with open(\"/nfs/homedirs/yuny/project-1/audio_classification/configs/crnn_bmw.yaml\", \"r\") as config_file:\n",
    "    configs = yaml.load(config_file)     \n",
    "configs['DATALOADER']['BATCH_SIZE'] = 4\n",
    "checkpoint_path='/nfs/homedirs/yuny/project-1/weights/bmw/crnn-bmw-audi-rs-0.1-epoch=112-val_acc=0.902.ckpt'"
   ]
  },
  {
   "cell_type": "code",
   "execution_count": 3,
   "metadata": {},
   "outputs": [
    {
     "name": "stdout",
     "output_type": "stream",
     "text": [
      "Data augmentation for BMW dataset: none\n",
      "Data augmentation for BMW dataset: None\n",
      "Data augmentation for BMW dataset: none\n",
      "Data augmentation for BMW dataset: none\n"
     ]
    },
    {
     "data": {
      "application/vnd.jupyter.widget-view+json": {
       "model_id": "d7d3e148435240c7bcfeaaef27df89a5",
       "version_major": 2,
       "version_minor": 0
      },
      "text/plain": [
       "HBox(children=(HTML(value=''), FloatProgress(value=0.0, max=60.0), HTML(value='')))"
      ]
     },
     "metadata": {},
     "output_type": "display_data"
    },
    {
     "name": "stdout",
     "output_type": "stream",
     "text": [
      "0 tensor([0]) 0.07463104647772256\n",
      "1 tensor([0]) 0.16575623879551865\n",
      "1 tensor([1]) 0.16575623879551865\n",
      "3 tensor([1]) 0.009129935369977941\n",
      "-1 tensor([1]) 0.0\n",
      "4 tensor([1]) 0.08858195672036989\n",
      "2 tensor([2]) 0.16575623879551865\n",
      "2 tensor([2]) 0.16575623879551865\n",
      "2 tensor([2]) 0.16575623879551865\n",
      "0 tensor([2]) 0.16575623879551865\n",
      "2 tensor([2]) 0.16575623879551865\n",
      "2 tensor([2]) 0.16575623879551865\n",
      "2 tensor([2]) 0.16575623879551865\n",
      "0 tensor([2]) 0.16575623879551865\n",
      "2 tensor([2]) 0.16575623879551865\n",
      "2 tensor([2]) 0.009129935369977941\n",
      "4 tensor([2]) 0.1428041236073994\n",
      "2 tensor([2]) 0.16575623879551865\n",
      "2 tensor([2]) 0.009129935369977941\n",
      "3 tensor([3]) 0.16575623879551865\n",
      "3 tensor([3]) 0.06834556983682104\n",
      "3 tensor([3]) 0.16575623879551865\n",
      "3 tensor([3]) 0.16575623879551865\n",
      "2 tensor([3]) 0.16575623879551865\n",
      "3 tensor([3]) 0.16575623879551865\n",
      "3 tensor([3]) 0.16575623879551865\n",
      "3 tensor([3]) 0.16575623879551865\n",
      "3 tensor([3]) 0.16575623879551865\n",
      "3 tensor([3]) 0.16575623879551865\n",
      "3 tensor([3]) 0.16575623879551865\n",
      "3 tensor([3]) 0.16575623879551865\n",
      "3 tensor([3]) 0.16575623879551865\n",
      "3 tensor([3]) 0.16575623879551865\n",
      "3 tensor([3]) 0.16575623879551865\n",
      "3 tensor([3]) 0.16575623879551865\n",
      "3 tensor([3]) 0.16575623879551865\n",
      "3 tensor([3]) 0.16575623879551865\n",
      "3 tensor([3]) 0.16575623879551865\n",
      "3 tensor([3]) 0.16575623879551865\n",
      "3 tensor([3]) 0.16575623879551865\n",
      "3 tensor([3]) 0.16575623879551865\n",
      "3 tensor([3]) 0.16575623879551865\n",
      "3 tensor([3]) 0.16575623879551865\n",
      "4 tensor([4]) 0.16575623879551865\n",
      "4 tensor([4]) 0.16575623879551865\n",
      "4 tensor([4]) 0.16575623879551865\n",
      "4 tensor([4]) 0.16575623879551865\n",
      "2 tensor([4]) 0.16575623879551865\n",
      "4 tensor([4]) 0.1428041236073994\n",
      "4 tensor([4]) 0.16575623879551865\n",
      "4 tensor([4]) 0.11543067723832806\n",
      "2 tensor([4]) 0.16575623879551865\n",
      "4 tensor([4]) 0.16575623879551865\n",
      "4 tensor([4]) 0.16575623879551865\n",
      "4 tensor([4]) 0.16575623879551865\n",
      "4 tensor([4]) 0.16575623879551865\n",
      "4 tensor([4]) 0.16575623879551865\n",
      "5 tensor([5]) 0.16575623879551865\n",
      "5 tensor([5]) 0.16575623879551865\n",
      "5 tensor([5]) 0.07463104647772256\n",
      "\n",
      "{'abstains': 1, 'false_predictions': 9, 'correct_certified': 50, 'avg_radius': 0.12702701004308753}\n"
     ]
    }
   ],
   "source": [
    "do_test(configs, checkpoint_path)"
   ]
  },
  {
   "cell_type": "code",
   "execution_count": null,
   "metadata": {},
   "outputs": [],
   "source": []
  }
 ],
 "metadata": {
  "kernelspec": {
   "display_name": "Python 3",
   "language": "python",
   "name": "python3"
  },
  "language_info": {
   "codemirror_mode": {
    "name": "ipython",
    "version": 3
   },
   "file_extension": ".py",
   "mimetype": "text/x-python",
   "name": "python",
   "nbconvert_exporter": "python",
   "pygments_lexer": "ipython3",
   "version": "3.7.8"
  }
 },
 "nbformat": 4,
 "nbformat_minor": 4
}
